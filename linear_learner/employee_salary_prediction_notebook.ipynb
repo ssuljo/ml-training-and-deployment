{
 "cells": [
  {
   "cell_type": "markdown",
   "metadata": {
    "colab_type": "text",
    "id": "M27qF7CTrBqc"
   },
   "source": [
    "# THE PROBLEM STATEMENT "
   ]
  },
  {
   "cell_type": "markdown",
   "metadata": {
    "colab_type": "text",
    "id": "xNl52nl3qiyL"
   },
   "source": [
    "The objective of this case study is to predict the employee salary based on the number of years of experience."
   ]
  },
  {
   "cell_type": "markdown",
   "metadata": {
    "colab_type": "text",
    "id": "zKmFmyaGunc7"
   },
   "source": [
    "# IMPORT LIBRARIES AND DATASETS"
   ]
  },
  {
   "cell_type": "code",
   "execution_count": 2,
   "metadata": {
    "tags": []
   },
   "outputs": [],
   "source": [
    "# install seaborn library\n",
    "# !pip install seaborn\n",
    "# !pip install tensorflow\n",
    "import tensorflow as tf\n",
    "import pandas as pd\n",
    "import numpy as np\n",
    "import seaborn as sns\n",
    "import matplotlib.pyplot as plt\n"
   ]
  },
  {
   "cell_type": "code",
   "execution_count": 3,
   "metadata": {
    "colab": {},
    "colab_type": "code",
    "id": "tjIiJdM4u1IE",
    "tags": []
   },
   "outputs": [],
   "source": [
    "# read the csv file \n",
    "salary_df = pd.read_csv('salary.csv')"
   ]
  },
  {
   "cell_type": "code",
   "execution_count": 4,
   "metadata": {
    "colab": {
     "base_uri": "https://localhost:8080/",
     "height": 204
    },
    "colab_type": "code",
    "id": "q4_wPDKCu5Uc",
    "outputId": "886d2aaf-0205-4f46-96a7-629d0f367d2f",
    "tags": []
   },
   "outputs": [
    {
     "data": {
      "text/html": [
       "<div>\n",
       "<style scoped>\n",
       "    .dataframe tbody tr th:only-of-type {\n",
       "        vertical-align: middle;\n",
       "    }\n",
       "\n",
       "    .dataframe tbody tr th {\n",
       "        vertical-align: top;\n",
       "    }\n",
       "\n",
       "    .dataframe thead th {\n",
       "        text-align: right;\n",
       "    }\n",
       "</style>\n",
       "<table border=\"1\" class=\"dataframe\">\n",
       "  <thead>\n",
       "    <tr style=\"text-align: right;\">\n",
       "      <th></th>\n",
       "      <th>YearsExperience</th>\n",
       "      <th>Salary</th>\n",
       "    </tr>\n",
       "  </thead>\n",
       "  <tbody>\n",
       "    <tr>\n",
       "      <th>0</th>\n",
       "      <td>1.1</td>\n",
       "      <td>39343</td>\n",
       "    </tr>\n",
       "    <tr>\n",
       "      <th>1</th>\n",
       "      <td>1.3</td>\n",
       "      <td>46205</td>\n",
       "    </tr>\n",
       "    <tr>\n",
       "      <th>2</th>\n",
       "      <td>1.5</td>\n",
       "      <td>37731</td>\n",
       "    </tr>\n",
       "    <tr>\n",
       "      <th>3</th>\n",
       "      <td>2.0</td>\n",
       "      <td>43525</td>\n",
       "    </tr>\n",
       "    <tr>\n",
       "      <th>4</th>\n",
       "      <td>2.2</td>\n",
       "      <td>39891</td>\n",
       "    </tr>\n",
       "    <tr>\n",
       "      <th>5</th>\n",
       "      <td>2.9</td>\n",
       "      <td>56642</td>\n",
       "    </tr>\n",
       "    <tr>\n",
       "      <th>6</th>\n",
       "      <td>3.0</td>\n",
       "      <td>60150</td>\n",
       "    </tr>\n",
       "    <tr>\n",
       "      <th>7</th>\n",
       "      <td>3.2</td>\n",
       "      <td>54445</td>\n",
       "    </tr>\n",
       "    <tr>\n",
       "      <th>8</th>\n",
       "      <td>3.2</td>\n",
       "      <td>64445</td>\n",
       "    </tr>\n",
       "    <tr>\n",
       "      <th>9</th>\n",
       "      <td>3.7</td>\n",
       "      <td>57189</td>\n",
       "    </tr>\n",
       "    <tr>\n",
       "      <th>10</th>\n",
       "      <td>3.9</td>\n",
       "      <td>63218</td>\n",
       "    </tr>\n",
       "    <tr>\n",
       "      <th>11</th>\n",
       "      <td>4.0</td>\n",
       "      <td>55794</td>\n",
       "    </tr>\n",
       "    <tr>\n",
       "      <th>12</th>\n",
       "      <td>4.0</td>\n",
       "      <td>56957</td>\n",
       "    </tr>\n",
       "    <tr>\n",
       "      <th>13</th>\n",
       "      <td>4.1</td>\n",
       "      <td>57081</td>\n",
       "    </tr>\n",
       "    <tr>\n",
       "      <th>14</th>\n",
       "      <td>4.5</td>\n",
       "      <td>61111</td>\n",
       "    </tr>\n",
       "    <tr>\n",
       "      <th>15</th>\n",
       "      <td>4.9</td>\n",
       "      <td>67938</td>\n",
       "    </tr>\n",
       "    <tr>\n",
       "      <th>16</th>\n",
       "      <td>5.1</td>\n",
       "      <td>66029</td>\n",
       "    </tr>\n",
       "    <tr>\n",
       "      <th>17</th>\n",
       "      <td>5.3</td>\n",
       "      <td>83088</td>\n",
       "    </tr>\n",
       "    <tr>\n",
       "      <th>18</th>\n",
       "      <td>5.9</td>\n",
       "      <td>81363</td>\n",
       "    </tr>\n",
       "    <tr>\n",
       "      <th>19</th>\n",
       "      <td>6.0</td>\n",
       "      <td>93940</td>\n",
       "    </tr>\n",
       "    <tr>\n",
       "      <th>20</th>\n",
       "      <td>6.8</td>\n",
       "      <td>91738</td>\n",
       "    </tr>\n",
       "    <tr>\n",
       "      <th>21</th>\n",
       "      <td>7.1</td>\n",
       "      <td>98273</td>\n",
       "    </tr>\n",
       "    <tr>\n",
       "      <th>22</th>\n",
       "      <td>7.9</td>\n",
       "      <td>101302</td>\n",
       "    </tr>\n",
       "    <tr>\n",
       "      <th>23</th>\n",
       "      <td>8.2</td>\n",
       "      <td>113812</td>\n",
       "    </tr>\n",
       "    <tr>\n",
       "      <th>24</th>\n",
       "      <td>8.7</td>\n",
       "      <td>109431</td>\n",
       "    </tr>\n",
       "    <tr>\n",
       "      <th>25</th>\n",
       "      <td>9.0</td>\n",
       "      <td>105582</td>\n",
       "    </tr>\n",
       "    <tr>\n",
       "      <th>26</th>\n",
       "      <td>9.5</td>\n",
       "      <td>116969</td>\n",
       "    </tr>\n",
       "    <tr>\n",
       "      <th>27</th>\n",
       "      <td>9.6</td>\n",
       "      <td>112635</td>\n",
       "    </tr>\n",
       "    <tr>\n",
       "      <th>28</th>\n",
       "      <td>10.3</td>\n",
       "      <td>122391</td>\n",
       "    </tr>\n",
       "    <tr>\n",
       "      <th>29</th>\n",
       "      <td>10.5</td>\n",
       "      <td>121872</td>\n",
       "    </tr>\n",
       "    <tr>\n",
       "      <th>30</th>\n",
       "      <td>11.2</td>\n",
       "      <td>127345</td>\n",
       "    </tr>\n",
       "    <tr>\n",
       "      <th>31</th>\n",
       "      <td>11.5</td>\n",
       "      <td>126756</td>\n",
       "    </tr>\n",
       "    <tr>\n",
       "      <th>32</th>\n",
       "      <td>12.3</td>\n",
       "      <td>128765</td>\n",
       "    </tr>\n",
       "    <tr>\n",
       "      <th>33</th>\n",
       "      <td>12.9</td>\n",
       "      <td>135675</td>\n",
       "    </tr>\n",
       "    <tr>\n",
       "      <th>34</th>\n",
       "      <td>13.5</td>\n",
       "      <td>139465</td>\n",
       "    </tr>\n",
       "  </tbody>\n",
       "</table>\n",
       "</div>"
      ],
      "text/plain": [
       "    YearsExperience  Salary\n",
       "0               1.1   39343\n",
       "1               1.3   46205\n",
       "2               1.5   37731\n",
       "3               2.0   43525\n",
       "4               2.2   39891\n",
       "5               2.9   56642\n",
       "6               3.0   60150\n",
       "7               3.2   54445\n",
       "8               3.2   64445\n",
       "9               3.7   57189\n",
       "10              3.9   63218\n",
       "11              4.0   55794\n",
       "12              4.0   56957\n",
       "13              4.1   57081\n",
       "14              4.5   61111\n",
       "15              4.9   67938\n",
       "16              5.1   66029\n",
       "17              5.3   83088\n",
       "18              5.9   81363\n",
       "19              6.0   93940\n",
       "20              6.8   91738\n",
       "21              7.1   98273\n",
       "22              7.9  101302\n",
       "23              8.2  113812\n",
       "24              8.7  109431\n",
       "25              9.0  105582\n",
       "26              9.5  116969\n",
       "27              9.6  112635\n",
       "28             10.3  122391\n",
       "29             10.5  121872\n",
       "30             11.2  127345\n",
       "31             11.5  126756\n",
       "32             12.3  128765\n",
       "33             12.9  135675\n",
       "34             13.5  139465"
      ]
     },
     "execution_count": 4,
     "metadata": {},
     "output_type": "execute_result"
    }
   ],
   "source": [
    "salary_df"
   ]
  },
  {
   "cell_type": "code",
   "execution_count": 5,
   "metadata": {
    "tags": []
   },
   "outputs": [
    {
     "data": {
      "text/html": [
       "<div>\n",
       "<style scoped>\n",
       "    .dataframe tbody tr th:only-of-type {\n",
       "        vertical-align: middle;\n",
       "    }\n",
       "\n",
       "    .dataframe tbody tr th {\n",
       "        vertical-align: top;\n",
       "    }\n",
       "\n",
       "    .dataframe thead th {\n",
       "        text-align: right;\n",
       "    }\n",
       "</style>\n",
       "<table border=\"1\" class=\"dataframe\">\n",
       "  <thead>\n",
       "    <tr style=\"text-align: right;\">\n",
       "      <th></th>\n",
       "      <th>YearsExperience</th>\n",
       "      <th>Salary</th>\n",
       "    </tr>\n",
       "  </thead>\n",
       "  <tbody>\n",
       "    <tr>\n",
       "      <th>0</th>\n",
       "      <td>1.1</td>\n",
       "      <td>39343</td>\n",
       "    </tr>\n",
       "    <tr>\n",
       "      <th>1</th>\n",
       "      <td>1.3</td>\n",
       "      <td>46205</td>\n",
       "    </tr>\n",
       "    <tr>\n",
       "      <th>2</th>\n",
       "      <td>1.5</td>\n",
       "      <td>37731</td>\n",
       "    </tr>\n",
       "    <tr>\n",
       "      <th>3</th>\n",
       "      <td>2.0</td>\n",
       "      <td>43525</td>\n",
       "    </tr>\n",
       "    <tr>\n",
       "      <th>4</th>\n",
       "      <td>2.2</td>\n",
       "      <td>39891</td>\n",
       "    </tr>\n",
       "    <tr>\n",
       "      <th>5</th>\n",
       "      <td>2.9</td>\n",
       "      <td>56642</td>\n",
       "    </tr>\n",
       "    <tr>\n",
       "      <th>6</th>\n",
       "      <td>3.0</td>\n",
       "      <td>60150</td>\n",
       "    </tr>\n",
       "  </tbody>\n",
       "</table>\n",
       "</div>"
      ],
      "text/plain": [
       "   YearsExperience  Salary\n",
       "0              1.1   39343\n",
       "1              1.3   46205\n",
       "2              1.5   37731\n",
       "3              2.0   43525\n",
       "4              2.2   39891\n",
       "5              2.9   56642\n",
       "6              3.0   60150"
      ]
     },
     "execution_count": 5,
     "metadata": {},
     "output_type": "execute_result"
    }
   ],
   "source": [
    "salary_df.head(7)"
   ]
  },
  {
   "cell_type": "code",
   "execution_count": 6,
   "metadata": {
    "tags": []
   },
   "outputs": [
    {
     "data": {
      "text/html": [
       "<div>\n",
       "<style scoped>\n",
       "    .dataframe tbody tr th:only-of-type {\n",
       "        vertical-align: middle;\n",
       "    }\n",
       "\n",
       "    .dataframe tbody tr th {\n",
       "        vertical-align: top;\n",
       "    }\n",
       "\n",
       "    .dataframe thead th {\n",
       "        text-align: right;\n",
       "    }\n",
       "</style>\n",
       "<table border=\"1\" class=\"dataframe\">\n",
       "  <thead>\n",
       "    <tr style=\"text-align: right;\">\n",
       "      <th></th>\n",
       "      <th>YearsExperience</th>\n",
       "      <th>Salary</th>\n",
       "    </tr>\n",
       "  </thead>\n",
       "  <tbody>\n",
       "    <tr>\n",
       "      <th>28</th>\n",
       "      <td>10.3</td>\n",
       "      <td>122391</td>\n",
       "    </tr>\n",
       "    <tr>\n",
       "      <th>29</th>\n",
       "      <td>10.5</td>\n",
       "      <td>121872</td>\n",
       "    </tr>\n",
       "    <tr>\n",
       "      <th>30</th>\n",
       "      <td>11.2</td>\n",
       "      <td>127345</td>\n",
       "    </tr>\n",
       "    <tr>\n",
       "      <th>31</th>\n",
       "      <td>11.5</td>\n",
       "      <td>126756</td>\n",
       "    </tr>\n",
       "    <tr>\n",
       "      <th>32</th>\n",
       "      <td>12.3</td>\n",
       "      <td>128765</td>\n",
       "    </tr>\n",
       "    <tr>\n",
       "      <th>33</th>\n",
       "      <td>12.9</td>\n",
       "      <td>135675</td>\n",
       "    </tr>\n",
       "    <tr>\n",
       "      <th>34</th>\n",
       "      <td>13.5</td>\n",
       "      <td>139465</td>\n",
       "    </tr>\n",
       "  </tbody>\n",
       "</table>\n",
       "</div>"
      ],
      "text/plain": [
       "    YearsExperience  Salary\n",
       "28             10.3  122391\n",
       "29             10.5  121872\n",
       "30             11.2  127345\n",
       "31             11.5  126756\n",
       "32             12.3  128765\n",
       "33             12.9  135675\n",
       "34             13.5  139465"
      ]
     },
     "execution_count": 6,
     "metadata": {},
     "output_type": "execute_result"
    }
   ],
   "source": [
    "salary_df.tail(7)"
   ]
  },
  {
   "cell_type": "code",
   "execution_count": 7,
   "metadata": {
    "tags": []
   },
   "outputs": [
    {
     "data": {
      "text/plain": [
       "139465"
      ]
     },
     "execution_count": 7,
     "metadata": {},
     "output_type": "execute_result"
    }
   ],
   "source": [
    "salary_df['Salary'].max()"
   ]
  },
  {
   "cell_type": "markdown",
   "metadata": {
    "colab_type": "text",
    "id": "tMcr7xqMQre2"
   },
   "source": [
    "# EXPLORATORY DATA ANALYSIS AND VISUALIZATION"
   ]
  },
  {
   "cell_type": "code",
   "execution_count": 8,
   "metadata": {
    "tags": []
   },
   "outputs": [
    {
     "data": {
      "text/plain": [
       "<Axes: >"
      ]
     },
     "execution_count": 8,
     "metadata": {},
     "output_type": "execute_result"
    },
    {
     "data": {
      "image/png": "[encoded data removed]",
      "text/plain": [
       "<Figure size 640x480 with 1 Axes>"
      ]
     },
     "metadata": {},
     "output_type": "display_data"
    }
   ],
   "source": [
    "# check if there are any Null values\n",
    "sns.heatmap(salary_df.isnull(), yticklabels = False, cbar = False, cmap=\"Blues\")\n"
   ]
  },
  {
   "cell_type": "code",
   "execution_count": 9,
   "metadata": {
    "colab": {
     "base_uri": "https://localhost:8080/",
     "height": 272
    },
    "colab_type": "code",
    "id": "hMq3-KWOx0e1",
    "outputId": "22a5b184-1f07-46ef-dfc1-f8377fd7042f",
    "scrolled": true,
    "tags": []
   },
   "outputs": [
    {
     "name": "stdout",
     "output_type": "stream",
     "text": [
      "<class 'pandas.core.frame.DataFrame'>\n",
      "RangeIndex: 35 entries, 0 to 34\n",
      "Data columns (total 2 columns):\n",
      " #   Column           Non-Null Count  Dtype  \n",
      "---  ------           --------------  -----  \n",
      " 0   YearsExperience  35 non-null     float64\n",
      " 1   Salary           35 non-null     int64  \n",
      "dtypes: float64(1), int64(1)\n",
      "memory usage: 688.0 bytes\n"
     ]
    }
   ],
   "source": [
    "# Check the dataframe info\n",
    "\n",
    "salary_df.info()"
   ]
  },
  {
   "cell_type": "code",
   "execution_count": 10,
   "metadata": {
    "colab": {
     "base_uri": "https://localhost:8080/",
     "height": 297
    },
    "colab_type": "code",
    "id": "Nn1Oxk2SzPX3",
    "outputId": "95f0265a-5e75-4a32-d771-4b3d15850c3c",
    "tags": []
   },
   "outputs": [
    {
     "data": {
      "text/html": [
       "<div>\n",
       "<style scoped>\n",
       "    .dataframe tbody tr th:only-of-type {\n",
       "        vertical-align: middle;\n",
       "    }\n",
       "\n",
       "    .dataframe tbody tr th {\n",
       "        vertical-align: top;\n",
       "    }\n",
       "\n",
       "    .dataframe thead th {\n",
       "        text-align: right;\n",
       "    }\n",
       "</style>\n",
       "<table border=\"1\" class=\"dataframe\">\n",
       "  <thead>\n",
       "    <tr style=\"text-align: right;\">\n",
       "      <th></th>\n",
       "      <th>YearsExperience</th>\n",
       "      <th>Salary</th>\n",
       "    </tr>\n",
       "  </thead>\n",
       "  <tbody>\n",
       "    <tr>\n",
       "      <th>count</th>\n",
       "      <td>35.000000</td>\n",
       "      <td>35.000000</td>\n",
       "    </tr>\n",
       "    <tr>\n",
       "      <th>mean</th>\n",
       "      <td>6.308571</td>\n",
       "      <td>83945.600000</td>\n",
       "    </tr>\n",
       "    <tr>\n",
       "      <th>std</th>\n",
       "      <td>3.618610</td>\n",
       "      <td>32162.673003</td>\n",
       "    </tr>\n",
       "    <tr>\n",
       "      <th>min</th>\n",
       "      <td>1.100000</td>\n",
       "      <td>37731.000000</td>\n",
       "    </tr>\n",
       "    <tr>\n",
       "      <th>25%</th>\n",
       "      <td>3.450000</td>\n",
       "      <td>57019.000000</td>\n",
       "    </tr>\n",
       "    <tr>\n",
       "      <th>50%</th>\n",
       "      <td>5.300000</td>\n",
       "      <td>81363.000000</td>\n",
       "    </tr>\n",
       "    <tr>\n",
       "      <th>75%</th>\n",
       "      <td>9.250000</td>\n",
       "      <td>113223.500000</td>\n",
       "    </tr>\n",
       "    <tr>\n",
       "      <th>max</th>\n",
       "      <td>13.500000</td>\n",
       "      <td>139465.000000</td>\n",
       "    </tr>\n",
       "  </tbody>\n",
       "</table>\n",
       "</div>"
      ],
      "text/plain": [
       "       YearsExperience         Salary\n",
       "count        35.000000      35.000000\n",
       "mean          6.308571   83945.600000\n",
       "std           3.618610   32162.673003\n",
       "min           1.100000   37731.000000\n",
       "25%           3.450000   57019.000000\n",
       "50%           5.300000   81363.000000\n",
       "75%           9.250000  113223.500000\n",
       "max          13.500000  139465.000000"
      ]
     },
     "execution_count": 10,
     "metadata": {},
     "output_type": "execute_result"
    }
   ],
   "source": [
    "# Statistical summary of the dataframe\n",
    "\n",
    "salary_df.describe()"
   ]
  },
  {
   "cell_type": "code",
   "execution_count": 11,
   "metadata": {
    "tags": []
   },
   "outputs": [
    {
     "data": {
      "text/plain": [
       "array([[<Axes: title={'center': 'YearsExperience'}>,\n",
       "        <Axes: title={'center': 'Salary'}>]], dtype=object)"
      ]
     },
     "execution_count": 11,
     "metadata": {},
     "output_type": "execute_result"
    },
    {
     "data": {
      "image/png": "[encoded data removed]",
      "text/plain": [
       "<Figure size 2000x1000 with 2 Axes>"
      ]
     },
     "metadata": {},
     "output_type": "display_data"
    }
   ],
   "source": [
    "salary_df.hist(bins = 30, figsize = (20,10), color = 'r')\n"
   ]
  },
  {
   "cell_type": "code",
   "execution_count": 12,
   "metadata": {
    "colab": {
     "base_uri": "https://localhost:8080/",
     "height": 1000
    },
    "colab_type": "code",
    "id": "Ka9uFRXSkWHw",
    "outputId": "f42a681e-93d4-4b1f-a29c-f58fc8a6f974",
    "tags": []
   },
   "outputs": [
    {
     "data": {
      "text/plain": [
       "<seaborn.axisgrid.PairGrid at 0x7fb6cb573bb0>"
      ]
     },
     "execution_count": 12,
     "metadata": {},
     "output_type": "execute_result"
    },
    {
     "data": {
      "image/png": "[encoded data removed]",
      "text/plain": [
       "<Figure size 500x500 with 6 Axes>"
      ]
     },
     "metadata": {},
     "output_type": "display_data"
    }
   ],
   "source": [
    "# plot pairplot\n",
    "\n",
    "sns.pairplot(salary_df)"
   ]
  },
  {
   "cell_type": "code",
   "execution_count": 13,
   "metadata": {
    "colab": {
     "base_uri": "https://localhost:8080/",
     "height": 297
    },
    "colab_type": "code",
    "id": "9q-tFxvskWDa",
    "outputId": "8834e9ec-7676-4e86-c5e7-20f4e9eccbcb",
    "tags": []
   },
   "outputs": [
    {
     "data": {
      "image/png": "[encoded data removed]",
      "text/plain": [
       "<Figure size 640x480 with 2 Axes>"
      ]
     },
     "metadata": {},
     "output_type": "display_data"
    }
   ],
   "source": [
    "corr_matrix = salary_df.corr()\n",
    "sns.heatmap(corr_matrix, annot = True)\n",
    "plt.show()"
   ]
  },
  {
   "cell_type": "code",
   "execution_count": 14,
   "metadata": {
    "tags": []
   },
   "outputs": [
    {
     "data": {
      "text/plain": [
       "<Axes: xlabel='YearsExperience', ylabel='Salary'>"
      ]
     },
     "execution_count": 14,
     "metadata": {},
     "output_type": "execute_result"
    },
    {
     "data": {
      "image/png": "[encoded data removed]",
      "text/plain": [
       "<Figure size 640x480 with 1 Axes>"
      ]
     },
     "metadata": {},
     "output_type": "display_data"
    }
   ],
   "source": [
    "sns.regplot(data=salary_df, x=\"YearsExperience\", y=\"Salary\")"
   ]
  },
  {
   "cell_type": "markdown",
   "metadata": {
    "colab_type": "text",
    "id": "53qDZFRn3-S1"
   },
   "source": [
    "# CREATE TRAINING AND TESTING DATASET"
   ]
  },
  {
   "cell_type": "code",
   "execution_count": 15,
   "metadata": {
    "colab": {},
    "colab_type": "code",
    "id": "4OXZB2F21e4H",
    "tags": []
   },
   "outputs": [],
   "source": [
    "X = salary_df[['YearsExperience']]\n",
    "y = salary_df[['Salary']]\n"
   ]
  },
  {
   "cell_type": "code",
   "execution_count": 16,
   "metadata": {
    "scrolled": true,
    "tags": []
   },
   "outputs": [
    {
     "data": {
      "text/html": [
       "<div>\n",
       "<style scoped>\n",
       "    .dataframe tbody tr th:only-of-type {\n",
       "        vertical-align: middle;\n",
       "    }\n",
       "\n",
       "    .dataframe tbody tr th {\n",
       "        vertical-align: top;\n",
       "    }\n",
       "\n",
       "    .dataframe thead th {\n",
       "        text-align: right;\n",
       "    }\n",
       "</style>\n",
       "<table border=\"1\" class=\"dataframe\">\n",
       "  <thead>\n",
       "    <tr style=\"text-align: right;\">\n",
       "      <th></th>\n",
       "      <th>YearsExperience</th>\n",
       "    </tr>\n",
       "  </thead>\n",
       "  <tbody>\n",
       "    <tr>\n",
       "      <th>0</th>\n",
       "      <td>1.1</td>\n",
       "    </tr>\n",
       "    <tr>\n",
       "      <th>1</th>\n",
       "      <td>1.3</td>\n",
       "    </tr>\n",
       "    <tr>\n",
       "      <th>2</th>\n",
       "      <td>1.5</td>\n",
       "    </tr>\n",
       "    <tr>\n",
       "      <th>3</th>\n",
       "      <td>2.0</td>\n",
       "    </tr>\n",
       "    <tr>\n",
       "      <th>4</th>\n",
       "      <td>2.2</td>\n",
       "    </tr>\n",
       "    <tr>\n",
       "      <th>5</th>\n",
       "      <td>2.9</td>\n",
       "    </tr>\n",
       "    <tr>\n",
       "      <th>6</th>\n",
       "      <td>3.0</td>\n",
       "    </tr>\n",
       "    <tr>\n",
       "      <th>7</th>\n",
       "      <td>3.2</td>\n",
       "    </tr>\n",
       "    <tr>\n",
       "      <th>8</th>\n",
       "      <td>3.2</td>\n",
       "    </tr>\n",
       "    <tr>\n",
       "      <th>9</th>\n",
       "      <td>3.7</td>\n",
       "    </tr>\n",
       "    <tr>\n",
       "      <th>10</th>\n",
       "      <td>3.9</td>\n",
       "    </tr>\n",
       "    <tr>\n",
       "      <th>11</th>\n",
       "      <td>4.0</td>\n",
       "    </tr>\n",
       "    <tr>\n",
       "      <th>12</th>\n",
       "      <td>4.0</td>\n",
       "    </tr>\n",
       "    <tr>\n",
       "      <th>13</th>\n",
       "      <td>4.1</td>\n",
       "    </tr>\n",
       "    <tr>\n",
       "      <th>14</th>\n",
       "      <td>4.5</td>\n",
       "    </tr>\n",
       "    <tr>\n",
       "      <th>15</th>\n",
       "      <td>4.9</td>\n",
       "    </tr>\n",
       "    <tr>\n",
       "      <th>16</th>\n",
       "      <td>5.1</td>\n",
       "    </tr>\n",
       "    <tr>\n",
       "      <th>17</th>\n",
       "      <td>5.3</td>\n",
       "    </tr>\n",
       "    <tr>\n",
       "      <th>18</th>\n",
       "      <td>5.9</td>\n",
       "    </tr>\n",
       "    <tr>\n",
       "      <th>19</th>\n",
       "      <td>6.0</td>\n",
       "    </tr>\n",
       "    <tr>\n",
       "      <th>20</th>\n",
       "      <td>6.8</td>\n",
       "    </tr>\n",
       "    <tr>\n",
       "      <th>21</th>\n",
       "      <td>7.1</td>\n",
       "    </tr>\n",
       "    <tr>\n",
       "      <th>22</th>\n",
       "      <td>7.9</td>\n",
       "    </tr>\n",
       "    <tr>\n",
       "      <th>23</th>\n",
       "      <td>8.2</td>\n",
       "    </tr>\n",
       "    <tr>\n",
       "      <th>24</th>\n",
       "      <td>8.7</td>\n",
       "    </tr>\n",
       "    <tr>\n",
       "      <th>25</th>\n",
       "      <td>9.0</td>\n",
       "    </tr>\n",
       "    <tr>\n",
       "      <th>26</th>\n",
       "      <td>9.5</td>\n",
       "    </tr>\n",
       "    <tr>\n",
       "      <th>27</th>\n",
       "      <td>9.6</td>\n",
       "    </tr>\n",
       "    <tr>\n",
       "      <th>28</th>\n",
       "      <td>10.3</td>\n",
       "    </tr>\n",
       "    <tr>\n",
       "      <th>29</th>\n",
       "      <td>10.5</td>\n",
       "    </tr>\n",
       "    <tr>\n",
       "      <th>30</th>\n",
       "      <td>11.2</td>\n",
       "    </tr>\n",
       "    <tr>\n",
       "      <th>31</th>\n",
       "      <td>11.5</td>\n",
       "    </tr>\n",
       "    <tr>\n",
       "      <th>32</th>\n",
       "      <td>12.3</td>\n",
       "    </tr>\n",
       "    <tr>\n",
       "      <th>33</th>\n",
       "      <td>12.9</td>\n",
       "    </tr>\n",
       "    <tr>\n",
       "      <th>34</th>\n",
       "      <td>13.5</td>\n",
       "    </tr>\n",
       "  </tbody>\n",
       "</table>\n",
       "</div>"
      ],
      "text/plain": [
       "    YearsExperience\n",
       "0               1.1\n",
       "1               1.3\n",
       "2               1.5\n",
       "3               2.0\n",
       "4               2.2\n",
       "5               2.9\n",
       "6               3.0\n",
       "7               3.2\n",
       "8               3.2\n",
       "9               3.7\n",
       "10              3.9\n",
       "11              4.0\n",
       "12              4.0\n",
       "13              4.1\n",
       "14              4.5\n",
       "15              4.9\n",
       "16              5.1\n",
       "17              5.3\n",
       "18              5.9\n",
       "19              6.0\n",
       "20              6.8\n",
       "21              7.1\n",
       "22              7.9\n",
       "23              8.2\n",
       "24              8.7\n",
       "25              9.0\n",
       "26              9.5\n",
       "27              9.6\n",
       "28             10.3\n",
       "29             10.5\n",
       "30             11.2\n",
       "31             11.5\n",
       "32             12.3\n",
       "33             12.9\n",
       "34             13.5"
      ]
     },
     "execution_count": 16,
     "metadata": {},
     "output_type": "execute_result"
    }
   ],
   "source": [
    "X"
   ]
  },
  {
   "cell_type": "code",
   "execution_count": 17,
   "metadata": {
    "tags": []
   },
   "outputs": [
    {
     "data": {
      "text/html": [
       "<div>\n",
       "<style scoped>\n",
       "    .dataframe tbody tr th:only-of-type {\n",
       "        vertical-align: middle;\n",
       "    }\n",
       "\n",
       "    .dataframe tbody tr th {\n",
       "        vertical-align: top;\n",
       "    }\n",
       "\n",
       "    .dataframe thead th {\n",
       "        text-align: right;\n",
       "    }\n",
       "</style>\n",
       "<table border=\"1\" class=\"dataframe\">\n",
       "  <thead>\n",
       "    <tr style=\"text-align: right;\">\n",
       "      <th></th>\n",
       "      <th>Salary</th>\n",
       "    </tr>\n",
       "  </thead>\n",
       "  <tbody>\n",
       "    <tr>\n",
       "      <th>0</th>\n",
       "      <td>39343</td>\n",
       "    </tr>\n",
       "    <tr>\n",
       "      <th>1</th>\n",
       "      <td>46205</td>\n",
       "    </tr>\n",
       "    <tr>\n",
       "      <th>2</th>\n",
       "      <td>37731</td>\n",
       "    </tr>\n",
       "    <tr>\n",
       "      <th>3</th>\n",
       "      <td>43525</td>\n",
       "    </tr>\n",
       "    <tr>\n",
       "      <th>4</th>\n",
       "      <td>39891</td>\n",
       "    </tr>\n",
       "    <tr>\n",
       "      <th>5</th>\n",
       "      <td>56642</td>\n",
       "    </tr>\n",
       "    <tr>\n",
       "      <th>6</th>\n",
       "      <td>60150</td>\n",
       "    </tr>\n",
       "    <tr>\n",
       "      <th>7</th>\n",
       "      <td>54445</td>\n",
       "    </tr>\n",
       "    <tr>\n",
       "      <th>8</th>\n",
       "      <td>64445</td>\n",
       "    </tr>\n",
       "    <tr>\n",
       "      <th>9</th>\n",
       "      <td>57189</td>\n",
       "    </tr>\n",
       "    <tr>\n",
       "      <th>10</th>\n",
       "      <td>63218</td>\n",
       "    </tr>\n",
       "    <tr>\n",
       "      <th>11</th>\n",
       "      <td>55794</td>\n",
       "    </tr>\n",
       "    <tr>\n",
       "      <th>12</th>\n",
       "      <td>56957</td>\n",
       "    </tr>\n",
       "    <tr>\n",
       "      <th>13</th>\n",
       "      <td>57081</td>\n",
       "    </tr>\n",
       "    <tr>\n",
       "      <th>14</th>\n",
       "      <td>61111</td>\n",
       "    </tr>\n",
       "    <tr>\n",
       "      <th>15</th>\n",
       "      <td>67938</td>\n",
       "    </tr>\n",
       "    <tr>\n",
       "      <th>16</th>\n",
       "      <td>66029</td>\n",
       "    </tr>\n",
       "    <tr>\n",
       "      <th>17</th>\n",
       "      <td>83088</td>\n",
       "    </tr>\n",
       "    <tr>\n",
       "      <th>18</th>\n",
       "      <td>81363</td>\n",
       "    </tr>\n",
       "    <tr>\n",
       "      <th>19</th>\n",
       "      <td>93940</td>\n",
       "    </tr>\n",
       "    <tr>\n",
       "      <th>20</th>\n",
       "      <td>91738</td>\n",
       "    </tr>\n",
       "    <tr>\n",
       "      <th>21</th>\n",
       "      <td>98273</td>\n",
       "    </tr>\n",
       "    <tr>\n",
       "      <th>22</th>\n",
       "      <td>101302</td>\n",
       "    </tr>\n",
       "    <tr>\n",
       "      <th>23</th>\n",
       "      <td>113812</td>\n",
       "    </tr>\n",
       "    <tr>\n",
       "      <th>24</th>\n",
       "      <td>109431</td>\n",
       "    </tr>\n",
       "    <tr>\n",
       "      <th>25</th>\n",
       "      <td>105582</td>\n",
       "    </tr>\n",
       "    <tr>\n",
       "      <th>26</th>\n",
       "      <td>116969</td>\n",
       "    </tr>\n",
       "    <tr>\n",
       "      <th>27</th>\n",
       "      <td>112635</td>\n",
       "    </tr>\n",
       "    <tr>\n",
       "      <th>28</th>\n",
       "      <td>122391</td>\n",
       "    </tr>\n",
       "    <tr>\n",
       "      <th>29</th>\n",
       "      <td>121872</td>\n",
       "    </tr>\n",
       "    <tr>\n",
       "      <th>30</th>\n",
       "      <td>127345</td>\n",
       "    </tr>\n",
       "    <tr>\n",
       "      <th>31</th>\n",
       "      <td>126756</td>\n",
       "    </tr>\n",
       "    <tr>\n",
       "      <th>32</th>\n",
       "      <td>128765</td>\n",
       "    </tr>\n",
       "    <tr>\n",
       "      <th>33</th>\n",
       "      <td>135675</td>\n",
       "    </tr>\n",
       "    <tr>\n",
       "      <th>34</th>\n",
       "      <td>139465</td>\n",
       "    </tr>\n",
       "  </tbody>\n",
       "</table>\n",
       "</div>"
      ],
      "text/plain": [
       "    Salary\n",
       "0    39343\n",
       "1    46205\n",
       "2    37731\n",
       "3    43525\n",
       "4    39891\n",
       "5    56642\n",
       "6    60150\n",
       "7    54445\n",
       "8    64445\n",
       "9    57189\n",
       "10   63218\n",
       "11   55794\n",
       "12   56957\n",
       "13   57081\n",
       "14   61111\n",
       "15   67938\n",
       "16   66029\n",
       "17   83088\n",
       "18   81363\n",
       "19   93940\n",
       "20   91738\n",
       "21   98273\n",
       "22  101302\n",
       "23  113812\n",
       "24  109431\n",
       "25  105582\n",
       "26  116969\n",
       "27  112635\n",
       "28  122391\n",
       "29  121872\n",
       "30  127345\n",
       "31  126756\n",
       "32  128765\n",
       "33  135675\n",
       "34  139465"
      ]
     },
     "execution_count": 17,
     "metadata": {},
     "output_type": "execute_result"
    }
   ],
   "source": [
    "y"
   ]
  },
  {
   "cell_type": "code",
   "execution_count": 18,
   "metadata": {
    "colab": {
     "base_uri": "https://localhost:8080/",
     "height": 34
    },
    "colab_type": "code",
    "id": "XpGU63Ne1e9P",
    "outputId": "e16c74ca-dc1c-416c-dc44-7f927bb99bc6",
    "tags": []
   },
   "outputs": [
    {
     "data": {
      "text/plain": [
       "(35, 1)"
      ]
     },
     "execution_count": 18,
     "metadata": {},
     "output_type": "execute_result"
    }
   ],
   "source": [
    "X.shape"
   ]
  },
  {
   "cell_type": "code",
   "execution_count": 19,
   "metadata": {
    "colab": {
     "base_uri": "https://localhost:8080/",
     "height": 34
    },
    "colab_type": "code",
    "id": "OjGj0RALA0qZ",
    "outputId": "26559a6c-880b-45b4-a1e8-3c4b92bea889",
    "tags": []
   },
   "outputs": [
    {
     "data": {
      "text/plain": [
       "(35, 1)"
      ]
     },
     "execution_count": 19,
     "metadata": {},
     "output_type": "execute_result"
    }
   ],
   "source": [
    "y.shape"
   ]
  },
  {
   "cell_type": "code",
   "execution_count": 20,
   "metadata": {
    "colab": {},
    "colab_type": "code",
    "id": "jIeiK1maA6mm",
    "tags": []
   },
   "outputs": [],
   "source": [
    "X = np.array(X).astype('float32')\n",
    "y = np.array(y).astype('float32')"
   ]
  },
  {
   "cell_type": "code",
   "execution_count": 21,
   "metadata": {
    "tags": []
   },
   "outputs": [
    {
     "data": {
      "text/plain": [
       "array([[ 1.1],\n",
       "       [ 1.3],\n",
       "       [ 1.5],\n",
       "       [ 2. ],\n",
       "       [ 2.2],\n",
       "       [ 2.9],\n",
       "       [ 3. ],\n",
       "       [ 3.2],\n",
       "       [ 3.2],\n",
       "       [ 3.7],\n",
       "       [ 3.9],\n",
       "       [ 4. ],\n",
       "       [ 4. ],\n",
       "       [ 4.1],\n",
       "       [ 4.5],\n",
       "       [ 4.9],\n",
       "       [ 5.1],\n",
       "       [ 5.3],\n",
       "       [ 5.9],\n",
       "       [ 6. ],\n",
       "       [ 6.8],\n",
       "       [ 7.1],\n",
       "       [ 7.9],\n",
       "       [ 8.2],\n",
       "       [ 8.7],\n",
       "       [ 9. ],\n",
       "       [ 9.5],\n",
       "       [ 9.6],\n",
       "       [10.3],\n",
       "       [10.5],\n",
       "       [11.2],\n",
       "       [11.5],\n",
       "       [12.3],\n",
       "       [12.9],\n",
       "       [13.5]], dtype=float32)"
      ]
     },
     "execution_count": 21,
     "metadata": {},
     "output_type": "execute_result"
    }
   ],
   "source": [
    "# Only take the numerical variables and scale them\n",
    "X "
   ]
  },
  {
   "cell_type": "code",
   "execution_count": 22,
   "metadata": {
    "colab": {},
    "colab_type": "code",
    "id": "GoReLFfnA6uF",
    "tags": []
   },
   "outputs": [],
   "source": [
    "# split the data into test and train sets\n",
    "from sklearn.model_selection import train_test_split\n",
    "\n",
    "X_train, X_test, y_train, y_test = train_test_split(X, y, test_size = 0.2)"
   ]
  },
  {
   "cell_type": "markdown",
   "metadata": {
    "colab_type": "text",
    "id": "idWHLv5alF4C"
   },
   "source": [
    "# TRAIN A LINEAR REGRESSION MODEL IN SK-LEARN (WITHOUT SAGEMAKER BUILT-IN ALGORITHMS)"
   ]
  },
  {
   "cell_type": "code",
   "execution_count": 23,
   "metadata": {
    "colab": {
     "base_uri": "https://localhost:8080/",
     "height": 34
    },
    "colab_type": "code",
    "id": "yHL-6mKwBURs",
    "outputId": "10d71b6d-9c2b-4bab-8b27-d3c5883e6a25",
    "tags": []
   },
   "outputs": [
    {
     "data": {
      "text/html": [
       "<style>#sk-container-id-1 {\n",
       "  /* Definition of color scheme common for light and dark mode */\n",
       "  --sklearn-color-text: black;\n",
       "  --sklearn-color-line: gray;\n",
       "  /* Definition of color scheme for unfitted estimators */\n",
       "  --sklearn-color-unfitted-level-0: #fff5e6;\n",
       "  --sklearn-color-unfitted-level-1: #f6e4d2;\n",
       "  --sklearn-color-unfitted-level-2: #ffe0b3;\n",
       "  --sklearn-color-unfitted-level-3: chocolate;\n",
       "  /* Definition of color scheme for fitted estimators */\n",
       "  --sklearn-color-fitted-level-0: #f0f8ff;\n",
       "  --sklearn-color-fitted-level-1: #d4ebff;\n",
       "  --sklearn-color-fitted-level-2: #b3dbfd;\n",
       "  --sklearn-color-fitted-level-3: cornflowerblue;\n",
       "\n",
       "  /* Specific color for light theme */\n",
       "  --sklearn-color-text-on-default-background: var(--sg-text-color, var(--theme-code-foreground, var(--jp-content-font-color1, black)));\n",
       "  --sklearn-color-background: var(--sg-background-color, var(--theme-background, var(--jp-layout-color0, white)));\n",
       "  --sklearn-color-border-box: var(--sg-text-color, var(--theme-code-foreground, var(--jp-content-font-color1, black)));\n",
       "  --sklearn-color-icon: #696969;\n",
       "\n",
       "  @media (prefers-color-scheme: dark) {\n",
       "    /* Redefinition of color scheme for dark theme */\n",
       "    --sklearn-color-text-on-default-background: var(--sg-text-color, var(--theme-code-foreground, var(--jp-content-font-color1, white)));\n",
       "    --sklearn-color-background: var(--sg-background-color, var(--theme-background, var(--jp-layout-color0, #111)));\n",
       "    --sklearn-color-border-box: var(--sg-text-color, var(--theme-code-foreground, var(--jp-content-font-color1, white)));\n",
       "    --sklearn-color-icon: #878787;\n",
       "  }\n",
       "}\n",
       "\n",
       "#sk-container-id-1 {\n",
       "  color: var(--sklearn-color-text);\n",
       "}\n",
       "\n",
       "#sk-container-id-1 pre {\n",
       "  padding: 0;\n",
       "}\n",
       "\n",
       "#sk-container-id-1 input.sk-hidden--visually {\n",
       "  border: 0;\n",
       "  clip: rect(1px 1px 1px 1px);\n",
       "  clip: rect(1px, 1px, 1px, 1px);\n",
       "  height: 1px;\n",
       "  margin: -1px;\n",
       "  overflow: hidden;\n",
       "  padding: 0;\n",
       "  position: absolute;\n",
       "  width: 1px;\n",
       "}\n",
       "\n",
       "#sk-container-id-1 div.sk-dashed-wrapped {\n",
       "  border: 1px dashed var(--sklearn-color-line);\n",
       "  margin: 0 0.4em 0.5em 0.4em;\n",
       "  box-sizing: border-box;\n",
       "  padding-bottom: 0.4em;\n",
       "  background-color: var(--sklearn-color-background);\n",
       "}\n",
       "\n",
       "#sk-container-id-1 div.sk-container {\n",
       "  /* jupyter's `normalize.less` sets `[hidden] { display: none; }`\n",
       "     but bootstrap.min.css set `[hidden] { display: none !important; }`\n",
       "     so we also need the `!important` here to be able to override the\n",
       "     default hidden behavior on the sphinx rendered scikit-learn.org.\n",
       "     See: https://github.com/scikit-learn/scikit-learn/issues/21755 */\n",
       "  display: inline-block !important;\n",
       "  position: relative;\n",
       "}\n",
       "\n",
       "#sk-container-id-1 div.sk-text-repr-fallback {\n",
       "  display: none;\n",
       "}\n",
       "\n",
       "div.sk-parallel-item,\n",
       "div.sk-serial,\n",
       "div.sk-item {\n",
       "  /* draw centered vertical line to link estimators */\n",
       "  background-image: linear-gradient(var(--sklearn-color-text-on-default-background), var(--sklearn-color-text-on-default-background));\n",
       "  background-size: 2px 100%;\n",
       "  background-repeat: no-repeat;\n",
       "  background-position: center center;\n",
       "}\n",
       "\n",
       "/* Parallel-specific style estimator block */\n",
       "\n",
       "#sk-container-id-1 div.sk-parallel-item::after {\n",
       "  content: \"\";\n",
       "  width: 100%;\n",
       "  border-bottom: 2px solid var(--sklearn-color-text-on-default-background);\n",
       "  flex-grow: 1;\n",
       "}\n",
       "\n",
       "#sk-container-id-1 div.sk-parallel {\n",
       "  display: flex;\n",
       "  align-items: stretch;\n",
       "  justify-content: center;\n",
       "  background-color: var(--sklearn-color-background);\n",
       "  position: relative;\n",
       "}\n",
       "\n",
       "#sk-container-id-1 div.sk-parallel-item {\n",
       "  display: flex;\n",
       "  flex-direction: column;\n",
       "}\n",
       "\n",
       "#sk-container-id-1 div.sk-parallel-item:first-child::after {\n",
       "  align-self: flex-end;\n",
       "  width: 50%;\n",
       "}\n",
       "\n",
       "#sk-container-id-1 div.sk-parallel-item:last-child::after {\n",
       "  align-self: flex-start;\n",
       "  width: 50%;\n",
       "}\n",
       "\n",
       "#sk-container-id-1 div.sk-parallel-item:only-child::after {\n",
       "  width: 0;\n",
       "}\n",
       "\n",
       "/* Serial-specific style estimator block */\n",
       "\n",
       "#sk-container-id-1 div.sk-serial {\n",
       "  display: flex;\n",
       "  flex-direction: column;\n",
       "  align-items: center;\n",
       "  background-color: var(--sklearn-color-background);\n",
       "  padding-right: 1em;\n",
       "  padding-left: 1em;\n",
       "}\n",
       "\n",
       "\n",
       "/* Toggleable style: style used for estimator/Pipeline/ColumnTransformer box that is\n",
       "clickable and can be expanded/collapsed.\n",
       "- Pipeline and ColumnTransformer use this feature and define the default style\n",
       "- Estimators will overwrite some part of the style using the `sk-estimator` class\n",
       "*/\n",
       "\n",
       "/* Pipeline and ColumnTransformer style (default) */\n",
       "\n",
       "#sk-container-id-1 div.sk-toggleable {\n",
       "  /* Default theme specific background. It is overwritten whether we have a\n",
       "  specific estimator or a Pipeline/ColumnTransformer */\n",
       "  background-color: var(--sklearn-color-background);\n",
       "}\n",
       "\n",
       "/* Toggleable label */\n",
       "#sk-container-id-1 label.sk-toggleable__label {\n",
       "  cursor: pointer;\n",
       "  display: block;\n",
       "  width: 100%;\n",
       "  margin-bottom: 0;\n",
       "  padding: 0.5em;\n",
       "  box-sizing: border-box;\n",
       "  text-align: center;\n",
       "}\n",
       "\n",
       "#sk-container-id-1 label.sk-toggleable__label-arrow:before {\n",
       "  /* Arrow on the left of the label */\n",
       "  content: \"▸\";\n",
       "  float: left;\n",
       "  margin-right: 0.25em;\n",
       "  color: var(--sklearn-color-icon);\n",
       "}\n",
       "\n",
       "#sk-container-id-1 label.sk-toggleable__label-arrow:hover:before {\n",
       "  color: var(--sklearn-color-text);\n",
       "}\n",
       "\n",
       "/* Toggleable content - dropdown */\n",
       "\n",
       "#sk-container-id-1 div.sk-toggleable__content {\n",
       "  max-height: 0;\n",
       "  max-width: 0;\n",
       "  overflow: hidden;\n",
       "  text-align: left;\n",
       "  /* unfitted */\n",
       "  background-color: var(--sklearn-color-unfitted-level-0);\n",
       "}\n",
       "\n",
       "#sk-container-id-1 div.sk-toggleable__content.fitted {\n",
       "  /* fitted */\n",
       "  background-color: var(--sklearn-color-fitted-level-0);\n",
       "}\n",
       "\n",
       "#sk-container-id-1 div.sk-toggleable__content pre {\n",
       "  margin: 0.2em;\n",
       "  border-radius: 0.25em;\n",
       "  color: var(--sklearn-color-text);\n",
       "  /* unfitted */\n",
       "  background-color: var(--sklearn-color-unfitted-level-0);\n",
       "}\n",
       "\n",
       "#sk-container-id-1 div.sk-toggleable__content.fitted pre {\n",
       "  /* unfitted */\n",
       "  background-color: var(--sklearn-color-fitted-level-0);\n",
       "}\n",
       "\n",
       "#sk-container-id-1 input.sk-toggleable__control:checked~div.sk-toggleable__content {\n",
       "  /* Expand drop-down */\n",
       "  max-height: 200px;\n",
       "  max-width: 100%;\n",
       "  overflow: auto;\n",
       "}\n",
       "\n",
       "#sk-container-id-1 input.sk-toggleable__control:checked~label.sk-toggleable__label-arrow:before {\n",
       "  content: \"▾\";\n",
       "}\n",
       "\n",
       "/* Pipeline/ColumnTransformer-specific style */\n",
       "\n",
       "#sk-container-id-1 div.sk-label input.sk-toggleable__control:checked~label.sk-toggleable__label {\n",
       "  color: var(--sklearn-color-text);\n",
       "  background-color: var(--sklearn-color-unfitted-level-2);\n",
       "}\n",
       "\n",
       "#sk-container-id-1 div.sk-label.fitted input.sk-toggleable__control:checked~label.sk-toggleable__label {\n",
       "  background-color: var(--sklearn-color-fitted-level-2);\n",
       "}\n",
       "\n",
       "/* Estimator-specific style */\n",
       "\n",
       "/* Colorize estimator box */\n",
       "#sk-container-id-1 div.sk-estimator input.sk-toggleable__control:checked~label.sk-toggleable__label {\n",
       "  /* unfitted */\n",
       "  background-color: var(--sklearn-color-unfitted-level-2);\n",
       "}\n",
       "\n",
       "#sk-container-id-1 div.sk-estimator.fitted input.sk-toggleable__control:checked~label.sk-toggleable__label {\n",
       "  /* fitted */\n",
       "  background-color: var(--sklearn-color-fitted-level-2);\n",
       "}\n",
       "\n",
       "#sk-container-id-1 div.sk-label label.sk-toggleable__label,\n",
       "#sk-container-id-1 div.sk-label label {\n",
       "  /* The background is the default theme color */\n",
       "  color: var(--sklearn-color-text-on-default-background);\n",
       "}\n",
       "\n",
       "/* On hover, darken the color of the background */\n",
       "#sk-container-id-1 div.sk-label:hover label.sk-toggleable__label {\n",
       "  color: var(--sklearn-color-text);\n",
       "  background-color: var(--sklearn-color-unfitted-level-2);\n",
       "}\n",
       "\n",
       "/* Label box, darken color on hover, fitted */\n",
       "#sk-container-id-1 div.sk-label.fitted:hover label.sk-toggleable__label.fitted {\n",
       "  color: var(--sklearn-color-text);\n",
       "  background-color: var(--sklearn-color-fitted-level-2);\n",
       "}\n",
       "\n",
       "/* Estimator label */\n",
       "\n",
       "#sk-container-id-1 div.sk-label label {\n",
       "  font-family: monospace;\n",
       "  font-weight: bold;\n",
       "  display: inline-block;\n",
       "  line-height: 1.2em;\n",
       "}\n",
       "\n",
       "#sk-container-id-1 div.sk-label-container {\n",
       "  text-align: center;\n",
       "}\n",
       "\n",
       "/* Estimator-specific */\n",
       "#sk-container-id-1 div.sk-estimator {\n",
       "  font-family: monospace;\n",
       "  border: 1px dotted var(--sklearn-color-border-box);\n",
       "  border-radius: 0.25em;\n",
       "  box-sizing: border-box;\n",
       "  margin-bottom: 0.5em;\n",
       "  /* unfitted */\n",
       "  background-color: var(--sklearn-color-unfitted-level-0);\n",
       "}\n",
       "\n",
       "#sk-container-id-1 div.sk-estimator.fitted {\n",
       "  /* fitted */\n",
       "  background-color: var(--sklearn-color-fitted-level-0);\n",
       "}\n",
       "\n",
       "/* on hover */\n",
       "#sk-container-id-1 div.sk-estimator:hover {\n",
       "  /* unfitted */\n",
       "  background-color: var(--sklearn-color-unfitted-level-2);\n",
       "}\n",
       "\n",
       "#sk-container-id-1 div.sk-estimator.fitted:hover {\n",
       "  /* fitted */\n",
       "  background-color: var(--sklearn-color-fitted-level-2);\n",
       "}\n",
       "\n",
       "/* Specification for estimator info (e.g. \"i\" and \"?\") */\n",
       "\n",
       "/* Common style for \"i\" and \"?\" */\n",
       "\n",
       ".sk-estimator-doc-link,\n",
       "a:link.sk-estimator-doc-link,\n",
       "a:visited.sk-estimator-doc-link {\n",
       "  float: right;\n",
       "  font-size: smaller;\n",
       "  line-height: 1em;\n",
       "  font-family: monospace;\n",
       "  background-color: var(--sklearn-color-background);\n",
       "  border-radius: 1em;\n",
       "  height: 1em;\n",
       "  width: 1em;\n",
       "  text-decoration: none !important;\n",
       "  margin-left: 1ex;\n",
       "  /* unfitted */\n",
       "  border: var(--sklearn-color-unfitted-level-1) 1pt solid;\n",
       "  color: var(--sklearn-color-unfitted-level-1);\n",
       "}\n",
       "\n",
       ".sk-estimator-doc-link.fitted,\n",
       "a:link.sk-estimator-doc-link.fitted,\n",
       "a:visited.sk-estimator-doc-link.fitted {\n",
       "  /* fitted */\n",
       "  border: var(--sklearn-color-fitted-level-1) 1pt solid;\n",
       "  color: var(--sklearn-color-fitted-level-1);\n",
       "}\n",
       "\n",
       "/* On hover */\n",
       "div.sk-estimator:hover .sk-estimator-doc-link:hover,\n",
       ".sk-estimator-doc-link:hover,\n",
       "div.sk-label-container:hover .sk-estimator-doc-link:hover,\n",
       ".sk-estimator-doc-link:hover {\n",
       "  /* unfitted */\n",
       "  background-color: var(--sklearn-color-unfitted-level-3);\n",
       "  color: var(--sklearn-color-background);\n",
       "  text-decoration: none;\n",
       "}\n",
       "\n",
       "div.sk-estimator.fitted:hover .sk-estimator-doc-link.fitted:hover,\n",
       ".sk-estimator-doc-link.fitted:hover,\n",
       "div.sk-label-container:hover .sk-estimator-doc-link.fitted:hover,\n",
       ".sk-estimator-doc-link.fitted:hover {\n",
       "  /* fitted */\n",
       "  background-color: var(--sklearn-color-fitted-level-3);\n",
       "  color: var(--sklearn-color-background);\n",
       "  text-decoration: none;\n",
       "}\n",
       "\n",
       "/* Span, style for the box shown on hovering the info icon */\n",
       ".sk-estimator-doc-link span {\n",
       "  display: none;\n",
       "  z-index: 9999;\n",
       "  position: relative;\n",
       "  font-weight: normal;\n",
       "  right: .2ex;\n",
       "  padding: .5ex;\n",
       "  margin: .5ex;\n",
       "  width: min-content;\n",
       "  min-width: 20ex;\n",
       "  max-width: 50ex;\n",
       "  color: var(--sklearn-color-text);\n",
       "  box-shadow: 2pt 2pt 4pt #999;\n",
       "  /* unfitted */\n",
       "  background: var(--sklearn-color-unfitted-level-0);\n",
       "  border: .5pt solid var(--sklearn-color-unfitted-level-3);\n",
       "}\n",
       "\n",
       ".sk-estimator-doc-link.fitted span {\n",
       "  /* fitted */\n",
       "  background: var(--sklearn-color-fitted-level-0);\n",
       "  border: var(--sklearn-color-fitted-level-3);\n",
       "}\n",
       "\n",
       ".sk-estimator-doc-link:hover span {\n",
       "  display: block;\n",
       "}\n",
       "\n",
       "/* \"?\"-specific style due to the `<a>` HTML tag */\n",
       "\n",
       "#sk-container-id-1 a.estimator_doc_link {\n",
       "  float: right;\n",
       "  font-size: 1rem;\n",
       "  line-height: 1em;\n",
       "  font-family: monospace;\n",
       "  background-color: var(--sklearn-color-background);\n",
       "  border-radius: 1rem;\n",
       "  height: 1rem;\n",
       "  width: 1rem;\n",
       "  text-decoration: none;\n",
       "  /* unfitted */\n",
       "  color: var(--sklearn-color-unfitted-level-1);\n",
       "  border: var(--sklearn-color-unfitted-level-1) 1pt solid;\n",
       "}\n",
       "\n",
       "#sk-container-id-1 a.estimator_doc_link.fitted {\n",
       "  /* fitted */\n",
       "  border: var(--sklearn-color-fitted-level-1) 1pt solid;\n",
       "  color: var(--sklearn-color-fitted-level-1);\n",
       "}\n",
       "\n",
       "/* On hover */\n",
       "#sk-container-id-1 a.estimator_doc_link:hover {\n",
       "  /* unfitted */\n",
       "  background-color: var(--sklearn-color-unfitted-level-3);\n",
       "  color: var(--sklearn-color-background);\n",
       "  text-decoration: none;\n",
       "}\n",
       "\n",
       "#sk-container-id-1 a.estimator_doc_link.fitted:hover {\n",
       "  /* fitted */\n",
       "  background-color: var(--sklearn-color-fitted-level-3);\n",
       "}\n",
       "</style><div id=\"sk-container-id-1\" class=\"sk-top-container\"><div class=\"sk-text-repr-fallback\"><pre>LinearRegression()</pre><b>In a Jupyter environment, please rerun this cell to show the HTML representation or trust the notebook. <br />On GitHub, the HTML representation is unable to render, please try loading this page with nbviewer.org.</b></div><div class=\"sk-container\" hidden><div class=\"sk-item\"><div class=\"sk-estimator fitted sk-toggleable\"><input class=\"sk-toggleable__control sk-hidden--visually\" id=\"sk-estimator-id-1\" type=\"checkbox\" checked><label for=\"sk-estimator-id-1\" class=\"sk-toggleable__label fitted sk-toggleable__label-arrow fitted\">&nbsp;&nbsp;LinearRegression<a class=\"sk-estimator-doc-link fitted\" rel=\"noreferrer\" target=\"_blank\" href=\"https://scikit-learn.org/1.4/modules/generated/sklearn.linear_model.LinearRegression.html\">?<span>Documentation for LinearRegression</span></a><span class=\"sk-estimator-doc-link fitted\">i<span>Fitted</span></span></label><div class=\"sk-toggleable__content fitted\"><pre>LinearRegression()</pre></div> </div></div></div></div>"
      ],
      "text/plain": [
       "LinearRegression()"
      ]
     },
     "execution_count": 23,
     "metadata": {},
     "output_type": "execute_result"
    }
   ],
   "source": [
    "# using linear regression model\n",
    "from sklearn.linear_model import LinearRegression\n",
    "from sklearn.metrics import mean_squared_error, accuracy_score\n",
    "\n",
    "regresssion_model_sklearn = LinearRegression(fit_intercept = True)\n",
    "regresssion_model_sklearn.fit(X_train, y_train)\n"
   ]
  },
  {
   "cell_type": "code",
   "execution_count": 24,
   "metadata": {
    "colab": {
     "base_uri": "https://localhost:8080/",
     "height": 34
    },
    "colab_type": "code",
    "id": "elD8m5N0BgEY",
    "outputId": "16a1813d-a0f1-4d1f-dc02-d7ad5a445417",
    "tags": []
   },
   "outputs": [
    {
     "data": {
      "text/plain": [
       "0.9728741884187064"
      ]
     },
     "execution_count": 24,
     "metadata": {},
     "output_type": "execute_result"
    }
   ],
   "source": [
    "regresssion_model_sklearn_accuracy = regresssion_model_sklearn.score(X_test, y_test)\n",
    "regresssion_model_sklearn_accuracy"
   ]
  },
  {
   "cell_type": "code",
   "execution_count": 25,
   "metadata": {
    "tags": []
   },
   "outputs": [
    {
     "name": "stdout",
     "output_type": "stream",
     "text": [
      "Linear Model Coefficient (m):  [[8812.051]]\n",
      "Linear Model Coefficient (b):  [29064.902]\n"
     ]
    }
   ],
   "source": [
    "print('Linear Model Coefficient (m): ', regresssion_model_sklearn.coef_)\n",
    "print('Linear Model Coefficient (b): ', regresssion_model_sklearn.intercept_)"
   ]
  },
  {
   "cell_type": "markdown",
   "metadata": {},
   "source": [
    "# EVALUATE TRAINED MODEL PERFORMANCE (WITHOUT  SAGEMAKER BUILT-IN ALGORITHMS)"
   ]
  },
  {
   "cell_type": "code",
   "execution_count": 26,
   "metadata": {
    "tags": []
   },
   "outputs": [],
   "source": [
    "y_predict = regresssion_model_sklearn.predict(X_test)"
   ]
  },
  {
   "cell_type": "code",
   "execution_count": 27,
   "metadata": {
    "scrolled": true,
    "tags": []
   },
   "outputs": [
    {
     "data": {
      "text/plain": [
       "array([[130403.484],\n",
       "       [ 72243.95 ],\n",
       "       [137453.12 ],\n",
       "       [ 88986.84 ],\n",
       "       [ 46689.004],\n",
       "       [ 68719.125],\n",
       "       [ 63431.902]], dtype=float32)"
      ]
     },
     "execution_count": 27,
     "metadata": {},
     "output_type": "execute_result"
    }
   ],
   "source": [
    "y_predict"
   ]
  },
  {
   "cell_type": "code",
   "execution_count": 28,
   "metadata": {
    "tags": []
   },
   "outputs": [
    {
     "data": {
      "text/plain": [
       "Text(0.5, 1.0, 'Salary vs. Years of Experience')"
      ]
     },
     "execution_count": 28,
     "metadata": {},
     "output_type": "execute_result"
    },
    {
     "data": {
      "image/png": "[encoded data removed]",
      "text/plain": [
       "<Figure size 640x480 with 1 Axes>"
      ]
     },
     "metadata": {},
     "output_type": "display_data"
    }
   ],
   "source": [
    "plt.scatter(X_train, y_train, color = 'gray')\n",
    "plt.plot(X_train, regresssion_model_sklearn.predict(X_train), color = 'red')\n",
    "plt.ylabel('Salary')\n",
    "plt.xlabel('Number of Years of Experience')\n",
    "plt.title('Salary vs. Years of Experience')"
   ]
  },
  {
   "cell_type": "markdown",
   "metadata": {},
   "source": [
    "Obtain the salary corresponding to eployees who have years of experience = 5"
   ]
  },
  {
   "cell_type": "code",
   "execution_count": 29,
   "metadata": {
    "tags": []
   },
   "outputs": [
    {
     "data": {
      "text/plain": [
       "array([[73125.15625]])"
      ]
     },
     "execution_count": 29,
     "metadata": {},
     "output_type": "execute_result"
    }
   ],
   "source": [
    "y_predict_5_years = regresssion_model_sklearn.predict([[5]])\n",
    "y_predict_5_years"
   ]
  },
  {
   "cell_type": "markdown",
   "metadata": {},
   "source": [
    "# TRAIN A LINEAR LEARNER MODEL USING SAGEMAKER"
   ]
  },
  {
   "cell_type": "code",
   "execution_count": 30,
   "metadata": {
    "tags": []
   },
   "outputs": [
    {
     "name": "stdout",
     "output_type": "stream",
     "text": [
      "sagemaker.config INFO - Not applying SDK defaults from location: /etc/xdg/sagemaker/config.yaml\n",
      "sagemaker.config INFO - Not applying SDK defaults from location: /home/ec2-user/.config/sagemaker/config.yaml\n",
      "arn:aws:iam::666663911149:role/service-role/AmazonSageMaker-ExecutionRole-20240307T162869\n"
     ]
    }
   ],
   "source": [
    "import sagemaker\n",
    "import boto3\n",
    "from sagemaker import Session\n",
    "\n",
    "# Create a Sagemaker session\n",
    "sagemaker_session = sagemaker.Session()\n",
    "bucket = Session().default_bucket()\n",
    "# Define the S3 bucket and prefix to be used in this session\n",
    "bucket = 'sagemaker-projects-2024'\n",
    "prefix = 'linear_learner'\n",
    "\n",
    "# Get the execution role for the notebook instance. It will be passed to the training job.\n",
    "# This is the IAM role that was created while creating notebook instance.\n",
    "role = sagemaker.get_execution_role()\n",
    "print(role)"
   ]
  },
  {
   "cell_type": "code",
   "execution_count": 31,
   "metadata": {
    "tags": []
   },
   "outputs": [
    {
     "data": {
      "text/plain": [
       "(28, 1)"
      ]
     },
     "execution_count": 31,
     "metadata": {},
     "output_type": "execute_result"
    }
   ],
   "source": [
    "X_train.shape"
   ]
  },
  {
   "cell_type": "code",
   "execution_count": 32,
   "metadata": {
    "tags": []
   },
   "outputs": [],
   "source": [
    "y_train = y_train[:,0]"
   ]
  },
  {
   "cell_type": "code",
   "execution_count": 33,
   "metadata": {
    "tags": []
   },
   "outputs": [
    {
     "data": {
      "text/plain": [
       "(28,)"
      ]
     },
     "execution_count": 33,
     "metadata": {},
     "output_type": "execute_result"
    }
   ],
   "source": [
    "y_train.shape"
   ]
  },
  {
   "cell_type": "code",
   "execution_count": 34,
   "metadata": {
    "tags": []
   },
   "outputs": [
    {
     "data": {
      "text/plain": [
       "0"
      ]
     },
     "execution_count": 34,
     "metadata": {},
     "output_type": "execute_result"
    }
   ],
   "source": [
    "import io # The io module allows for dealing with various types of I/O (text I/O, binary I/O and raw I/O). \n",
    "import numpy as np\n",
    "import sagemaker.amazon.common as smac # sagemaker common libary\n",
    "\n",
    "# Convert the data in numpy array format to RecordIO format (format required by Sagemaker Linear Learner)\n",
    "\n",
    "buf = io.BytesIO() # create an in-memory byte array\n",
    "smac.write_numpy_to_dense_tensor(buf, X_train, y_train)\n",
    "# When writing to in-memory byte arrays, it increments 1 every time the write is performed to it\n",
    "# Reset that back to zero \n",
    "buf.seek(0) "
   ]
  },
  {
   "cell_type": "code",
   "execution_count": 35,
   "metadata": {
    "tags": []
   },
   "outputs": [
    {
     "name": "stdout",
     "output_type": "stream",
     "text": [
      "uploaded training data location: s3://sagemaker-projects-2024/linear_learner/train/linear-train-data\n"
     ]
    }
   ],
   "source": [
    "import os\n",
    "\n",
    "# Code to upload RecordIO data to S3\n",
    " \n",
    "# Key refers to the name of the file\n",
    "key = 'linear-train-data'\n",
    "\n",
    "# Upload the data in record-io format to S3 bucket to be accessed later for training\n",
    "boto3.resource('s3').Bucket(bucket).Object(os.path.join(prefix, 'train', key)).upload_fileobj(buf)\n",
    "\n",
    "s3_train_data = 's3://{}/{}/train/{}'.format(bucket, prefix, key)\n",
    "print('uploaded training data location: {}'.format(s3_train_data))"
   ]
  },
  {
   "cell_type": "code",
   "execution_count": 36,
   "metadata": {
    "tags": []
   },
   "outputs": [
    {
     "data": {
      "text/plain": [
       "(7, 1)"
      ]
     },
     "execution_count": 36,
     "metadata": {},
     "output_type": "execute_result"
    }
   ],
   "source": [
    "X_test.shape"
   ]
  },
  {
   "cell_type": "code",
   "execution_count": 37,
   "metadata": {
    "tags": []
   },
   "outputs": [
    {
     "data": {
      "text/plain": [
       "(7, 1)"
      ]
     },
     "execution_count": 37,
     "metadata": {},
     "output_type": "execute_result"
    }
   ],
   "source": [
    "y_test.shape"
   ]
  },
  {
   "cell_type": "code",
   "execution_count": 38,
   "metadata": {
    "tags": []
   },
   "outputs": [],
   "source": [
    "# Make sure that the target label is a vector\n",
    "y_test = y_test[:,0]"
   ]
  },
  {
   "cell_type": "code",
   "execution_count": 39,
   "metadata": {
    "tags": []
   },
   "outputs": [
    {
     "data": {
      "text/plain": [
       "(7,)"
      ]
     },
     "execution_count": 39,
     "metadata": {},
     "output_type": "execute_result"
    }
   ],
   "source": [
    "y_test.shape"
   ]
  },
  {
   "cell_type": "code",
   "execution_count": 40,
   "metadata": {
    "tags": []
   },
   "outputs": [
    {
     "data": {
      "text/plain": [
       "0"
      ]
     },
     "execution_count": 40,
     "metadata": {},
     "output_type": "execute_result"
    }
   ],
   "source": [
    "# Code to upload RecordIO data to S3\n",
    "\n",
    "buf = io.BytesIO() # create an in-memory byte array\n",
    "smac.write_numpy_to_dense_tensor(buf, X_test, y_test)\n",
    "\n",
    "# When writing to in-memory byte arrays, it increments 1 every time the write is performed to it\n",
    "# Reset that back to zero\n",
    "buf.seek(0)"
   ]
  },
  {
   "cell_type": "code",
   "execution_count": 41,
   "metadata": {
    "tags": []
   },
   "outputs": [
    {
     "name": "stdout",
     "output_type": "stream",
     "text": [
      "uploaded training data location: s3://sagemaker-projects-2024/linear_learner/test/linear-test-data\n"
     ]
    }
   ],
   "source": [
    "# Key refers to the name of the file\n",
    "key = 'linear-test-data'\n",
    "\n",
    "# Upload the data in record-io format to S3 bucket to be accessed later for training\n",
    "boto3.resource('s3').Bucket(bucket).Object(os.path.join(prefix, 'test', key)).upload_fileobj(buf)\n",
    "\n",
    "s3_test_data = 's3://{}/{}/test/{}'.format(bucket, prefix, key)\n",
    "print('uploaded training data location: {}'.format(s3_test_data))"
   ]
  },
  {
   "cell_type": "code",
   "execution_count": 42,
   "metadata": {
    "tags": []
   },
   "outputs": [
    {
     "name": "stdout",
     "output_type": "stream",
     "text": [
      "Training artifacts will be uploaded to: s3://sagemaker-projects-2024/linear_learner/output\n"
     ]
    }
   ],
   "source": [
    "# Create an output placeholder in S3 bucket to store the linear learner output\n",
    "\n",
    "output_location = 's3://{}/{}/output'.format(bucket, prefix)\n",
    "print('Training artifacts will be uploaded to: {}'.format(output_location))"
   ]
  },
  {
   "cell_type": "code",
   "execution_count": null,
   "metadata": {
    "tags": []
   },
   "outputs": [],
   "source": [
    "# This code is used to get the training container of sagemaker built-in algorithms\n",
    "# the name of the algorithm should be specified\n",
    "\n",
    "# Obtain a reference to the linearLearner container image\n",
    "# All regression models are named estimators\n",
    "\n",
    "from sagemaker.image_uris import retrieve\n",
    "\n",
    "container = retrieve(\"linear-learner\", boto3.Session().region_name)"
   ]
  },
  {
   "cell_type": "code",
   "execution_count": 46,
   "metadata": {
    "tags": []
   },
   "outputs": [
    {
     "name": "stderr",
     "output_type": "stream",
     "text": [
      "INFO:sagemaker:Creating training-job with name: linear-learner-2024-03-08-07-29-12-307\n"
     ]
    },
    {
     "name": "stdout",
     "output_type": "stream",
     "text": [
      "2024-03-08 07:29:12 Starting - Starting the training job...\n",
      "2024-03-08 07:29:26 Starting - Preparing the instances for training......\n",
      "2024-03-08 07:30:42 Downloading - Downloading the training image.........\n",
      "2024-03-08 07:32:13 Training - Training image download completed. Training in progress...\u001b[34mDocker entrypoint called with argument(s): train\u001b[0m\n",
      "\u001b[34mRunning default environment configuration script\u001b[0m\n",
      "\u001b[34m[03/08/2024 07:32:19 INFO 140046607693632] Reading default configuration from /opt/amazon/lib/python3.8/site-packages/algorithm/resources/default-input.json: {'mini_batch_size': '1000', 'epochs': '15', 'feature_dim': 'auto', 'use_bias': 'true', 'binary_classifier_model_selection_criteria': 'accuracy', 'f_beta': '1.0', 'target_recall': '0.8', 'target_precision': '0.8', 'num_models': 'auto', 'num_calibration_samples': '10000000', 'init_method': 'uniform', 'init_scale': '0.07', 'init_sigma': '0.01', 'init_bias': '0.0', 'optimizer': 'auto', 'loss': 'auto', 'margin': '1.0', 'quantile': '0.5', 'loss_insensitivity': '0.01', 'huber_delta': '1.0', 'num_classes': '1', 'accuracy_top_k': '3', 'wd': 'auto', 'l1': 'auto', 'momentum': 'auto', 'learning_rate': 'auto', 'beta_1': 'auto', 'beta_2': 'auto', 'bias_lr_mult': 'auto', 'bias_wd_mult': 'auto', 'use_lr_scheduler': 'true', 'lr_scheduler_step': 'auto', 'lr_scheduler_factor': 'auto', 'lr_scheduler_minimum_lr': 'auto', 'positive_example_weight_mult': '1.0', 'balance_multiclass_weights': 'false', 'normalize_data': 'true', 'normalize_label': 'auto', 'unbias_data': 'auto', 'unbias_label': 'auto', 'num_point_for_scaler': '10000', '_kvstore': 'auto', '_num_gpus': 'auto', '_num_kv_servers': 'auto', '_log_level': 'info', '_tuning_objective_metric': '', 'early_stopping_patience': '3', 'early_stopping_tolerance': '0.001', '_enable_profiler': 'false'}\u001b[0m\n",
      "\u001b[34m[03/08/2024 07:32:19 INFO 140046607693632] Merging with provided configuration from /opt/ml/input/config/hyperparameters.json: {'epochs': '50', 'feature_dim': '1', 'loss': 'absolute_loss', 'mini_batch_size': '5', 'num_models': '32', 'predictor_type': 'regressor'}\u001b[0m\n",
      "\u001b[34m[03/08/2024 07:32:19 INFO 140046607693632] Final configuration: {'mini_batch_size': '5', 'epochs': '50', 'feature_dim': '1', 'use_bias': 'true', 'binary_classifier_model_selection_criteria': 'accuracy', 'f_beta': '1.0', 'target_recall': '0.8', 'target_precision': '0.8', 'num_models': '32', 'num_calibration_samples': '10000000', 'init_method': 'uniform', 'init_scale': '0.07', 'init_sigma': '0.01', 'init_bias': '0.0', 'optimizer': 'auto', 'loss': 'absolute_loss', 'margin': '1.0', 'quantile': '0.5', 'loss_insensitivity': '0.01', 'huber_delta': '1.0', 'num_classes': '1', 'accuracy_top_k': '3', 'wd': 'auto', 'l1': 'auto', 'momentum': 'auto', 'learning_rate': 'auto', 'beta_1': 'auto', 'beta_2': 'auto', 'bias_lr_mult': 'auto', 'bias_wd_mult': 'auto', 'use_lr_scheduler': 'true', 'lr_scheduler_step': 'auto', 'lr_scheduler_factor': 'auto', 'lr_scheduler_minimum_lr': 'auto', 'positive_example_weight_mult': '1.0', 'balance_multiclass_weights': 'false', 'normalize_data': 'true', 'normalize_label': 'auto', 'unbias_data': 'auto', 'unbias_label': 'auto', 'num_point_for_scaler': '10000', '_kvstore': 'auto', '_num_gpus': 'auto', '_num_kv_servers': 'auto', '_log_level': 'info', '_tuning_objective_metric': '', 'early_stopping_patience': '3', 'early_stopping_tolerance': '0.001', '_enable_profiler': 'false', 'predictor_type': 'regressor'}\u001b[0m\n",
      "\u001b[34m/opt/amazon/lib/python3.8/site-packages/mxnet/model.py:97: SyntaxWarning: \"is\" with a literal. Did you mean \"==\"?\n",
      "  if num_device is 1 and 'dist' not in kvstore:\u001b[0m\n",
      "\u001b[34m/opt/amazon/lib/python3.8/site-packages/scipy/optimize/_shgo.py:495: SyntaxWarning: \"is\" with a literal. Did you mean \"==\"?\n",
      "  if cons['type'] is 'ineq':\u001b[0m\n",
      "\u001b[34m/opt/amazon/lib/python3.8/site-packages/scipy/optimize/_shgo.py:743: SyntaxWarning: \"is not\" with a literal. Did you mean \"!=\"?\n",
      "  if len(self.X_min) is not 0:\u001b[0m\n",
      "\u001b[34m[03/08/2024 07:32:22 WARNING 140046607693632] Loggers have already been setup.\u001b[0m\n",
      "\u001b[34m[03/08/2024 07:32:22 INFO 140046607693632] Final configuration: {'mini_batch_size': '5', 'epochs': '50', 'feature_dim': '1', 'use_bias': 'true', 'binary_classifier_model_selection_criteria': 'accuracy', 'f_beta': '1.0', 'target_recall': '0.8', 'target_precision': '0.8', 'num_models': '32', 'num_calibration_samples': '10000000', 'init_method': 'uniform', 'init_scale': '0.07', 'init_sigma': '0.01', 'init_bias': '0.0', 'optimizer': 'auto', 'loss': 'absolute_loss', 'margin': '1.0', 'quantile': '0.5', 'loss_insensitivity': '0.01', 'huber_delta': '1.0', 'num_classes': '1', 'accuracy_top_k': '3', 'wd': 'auto', 'l1': 'auto', 'momentum': 'auto', 'learning_rate': 'auto', 'beta_1': 'auto', 'beta_2': 'auto', 'bias_lr_mult': 'auto', 'bias_wd_mult': 'auto', 'use_lr_scheduler': 'true', 'lr_scheduler_step': 'auto', 'lr_scheduler_factor': 'auto', 'lr_scheduler_minimum_lr': 'auto', 'positive_example_weight_mult': '1.0', 'balance_multiclass_weights': 'false', 'normalize_data': 'true', 'normalize_label': 'auto', 'unbias_data': 'auto', 'unbias_label': 'auto', 'num_point_for_scaler': '10000', '_kvstore': 'auto', '_num_gpus': 'auto', '_num_kv_servers': 'auto', '_log_level': 'info', '_tuning_objective_metric': '', 'early_stopping_patience': '3', 'early_stopping_tolerance': '0.001', '_enable_profiler': 'false', 'predictor_type': 'regressor'}\u001b[0m\n",
      "\u001b[34m[03/08/2024 07:32:22 WARNING 140046607693632] Loggers have already been setup.\u001b[0m\n",
      "\u001b[34mProcess 7 is a worker.\u001b[0m\n",
      "\u001b[34m[03/08/2024 07:32:22 INFO 140046607693632] Using default worker.\u001b[0m\n",
      "\u001b[34m[03/08/2024 07:32:22 INFO 140046607693632] Checkpoint loading and saving are disabled.\u001b[0m\n",
      "\u001b[34m[2024-03-08 07:32:22.557] [tensorio] [info] epoch_stats={\"data_pipeline\": \"/opt/ml/input/data/train\", \"epoch\": 0, \"duration\": 12, \"num_examples\": 1, \"num_bytes\": 240}\u001b[0m\n",
      "\u001b[34m[03/08/2024 07:32:22 INFO 140046607693632] Create Store: local\u001b[0m\n",
      "\u001b[34m[2024-03-08 07:32:22.598] [tensorio] [info] epoch_stats={\"data_pipeline\": \"/opt/ml/input/data/train\", \"epoch\": 1, \"duration\": 40, \"num_examples\": 6, \"num_bytes\": 1344}\u001b[0m\n",
      "\u001b[34m[03/08/2024 07:32:22 INFO 140046607693632] Scaler algorithm parameters\n",
      " <algorithm.scaler.ScalerAlgorithmStable object at 0x7f5e93904490>\u001b[0m\n",
      "\u001b[34m[03/08/2024 07:32:22 INFO 140046607693632] Scaling model computed with parameters:\n",
      " {'stdev_label': \u001b[0m\n",
      "\u001b[34m[32823.258]\u001b[0m\n",
      "\u001b[34m<NDArray 1 @cpu(0)>, 'stdev_weight': \u001b[0m\n",
      "\u001b[34m[3.672937]\u001b[0m\n",
      "\u001b[34m<NDArray 1 @cpu(0)>, 'mean_label': \u001b[0m\n",
      "\u001b[34m[83643.195]\u001b[0m\n",
      "\u001b[34m<NDArray 1 @cpu(0)>, 'mean_weight': \u001b[0m\n",
      "\u001b[34m[6.156]\u001b[0m\n",
      "\u001b[34m<NDArray 1 @cpu(0)>}\u001b[0m\n",
      "\u001b[34m/opt/amazon/python3.8/lib/python3.8/subprocess.py:848: RuntimeWarning: line buffering (buffering=1) isn't supported in binary mode, the default buffer size will be used\n",
      "  self.stdout = io.open(c2pread, 'rb', bufsize)\u001b[0m\n",
      "\u001b[34m[03/08/2024 07:32:22 INFO 140046607693632] nvidia-smi: took 0.032 seconds to run.\u001b[0m\n",
      "\u001b[34m[03/08/2024 07:32:22 INFO 140046607693632] nvidia-smi identified 0 GPUs.\u001b[0m\n",
      "\u001b[34m[03/08/2024 07:32:22 INFO 140046607693632] Number of GPUs being used: 0\u001b[0m\n",
      "\u001b[34m#metrics {\"StartTime\": 1709883142.699754, \"EndTime\": 1709883142.699789, \"Dimensions\": {\"Algorithm\": \"Linear Learner\", \"Host\": \"algo-1\", \"Operation\": \"training\", \"Meta\": \"init_train_data_iter\"}, \"Metrics\": {\"Total Records Seen\": {\"sum\": 33.0, \"count\": 1, \"min\": 33, \"max\": 33}, \"Total Batches Seen\": {\"sum\": 7.0, \"count\": 1, \"min\": 7, \"max\": 7}, \"Max Records Seen Between Resets\": {\"sum\": 28.0, \"count\": 1, \"min\": 28, \"max\": 28}, \"Max Batches Seen Between Resets\": {\"sum\": 6.0, \"count\": 1, \"min\": 6, \"max\": 6}, \"Reset Count\": {\"sum\": 2.0, \"count\": 1, \"min\": 2, \"max\": 2}, \"Number of Records Since Last Reset\": {\"sum\": 0.0, \"count\": 1, \"min\": 0, \"max\": 0}, \"Number of Batches Since Last Reset\": {\"sum\": 0.0, \"count\": 1, \"min\": 0, \"max\": 0}}}\u001b[0m\n",
      "\u001b[34m[2024-03-08 07:32:22.817] [tensorio] [info] epoch_stats={\"data_pipeline\": \"/opt/ml/input/data/train\", \"epoch\": 4, \"duration\": 117, \"num_examples\": 6, \"num_bytes\": 1344}\u001b[0m\n",
      "\u001b[34m#metrics {\"StartTime\": 1709883142.8176422, \"EndTime\": 1709883142.8177228, \"Dimensions\": {\"Algorithm\": \"Linear Learner\", \"Host\": \"algo-1\", \"Operation\": \"training\", \"epoch\": 0, \"model\": 0}, \"Metrics\": {\"train_absolute_loss_objective\": {\"sum\": 0.9022388935089112, \"count\": 1, \"min\": 0.9022388935089112, \"max\": 0.9022388935089112}}}\u001b[0m\n",
      "\u001b[34m#metrics {\"StartTime\": 1709883142.8178117, \"EndTime\": 1709883142.8178263, \"Dimensions\": {\"Algorithm\": \"Linear Learner\", \"Host\": \"algo-1\", \"Operation\": \"training\", \"epoch\": 0, \"model\": 1}, \"Metrics\": {\"train_absolute_loss_objective\": {\"sum\": 0.9217576313018799, \"count\": 1, \"min\": 0.9217576313018799, \"max\": 0.9217576313018799}}}\u001b[0m\n",
      "\u001b[34m#metrics {\"StartTime\": 1709883142.8178654, \"EndTime\": 1709883142.8178759, \"Dimensions\": {\"Algorithm\": \"Linear Learner\", \"Host\": \"algo-1\", \"Operation\": \"training\", \"epoch\": 0, \"model\": 2}, \"Metrics\": {\"train_absolute_loss_objective\": {\"sum\": 0.9046033096313476, \"count\": 1, \"min\": 0.9046033096313476, \"max\": 0.9046033096313476}}}\u001b[0m\n",
      "\u001b[34m#metrics {\"StartTime\": 1709883142.817908, \"EndTime\": 1709883142.817917, \"Dimensions\": {\"Algorithm\": \"Linear Learner\", \"Host\": \"algo-1\", \"Operation\": \"training\", \"epoch\": 0, \"model\": 3}, \"Metrics\": {\"train_absolute_loss_objective\": {\"sum\": 0.9207601642608643, \"count\": 1, \"min\": 0.9207601642608643, \"max\": 0.9207601642608643}}}\u001b[0m\n",
      "\u001b[34m#metrics {\"StartTime\": 1709883142.817951, \"EndTime\": 1709883142.8179603, \"Dimensions\": {\"Algorithm\": \"Linear Learner\", \"Host\": \"algo-1\", \"Operation\": \"training\", \"epoch\": 0, \"model\": 4}, \"Metrics\": {\"train_absolute_loss_objective\": {\"sum\": 1.0575713729858398, \"count\": 1, \"min\": 1.0575713729858398, \"max\": 1.0575713729858398}}}\u001b[0m\n",
      "\u001b[34m#metrics {\"StartTime\": 1709883142.8179903, \"EndTime\": 1709883142.8179991, \"Dimensions\": {\"Algorithm\": \"Linear Learner\", \"Host\": \"algo-1\", \"Operation\": \"training\", \"epoch\": 0, \"model\": 5}, \"Metrics\": {\"train_absolute_loss_objective\": {\"sum\": 1.0667322635650636, \"count\": 1, \"min\": 1.0667322635650636, \"max\": 1.0667322635650636}}}\u001b[0m\n",
      "\u001b[34m#metrics {\"StartTime\": 1709883142.8180273, \"EndTime\": 1709883142.8180363, \"Dimensions\": {\"Algorithm\": \"Linear Learner\", \"Host\": \"algo-1\", \"Operation\": \"training\", \"epoch\": 0, \"model\": 6}, \"Metrics\": {\"train_absolute_loss_objective\": {\"sum\": 1.145023183822632, \"count\": 1, \"min\": 1.145023183822632, \"max\": 1.145023183822632}}}\u001b[0m\n",
      "\u001b[34m#metrics {\"StartTime\": 1709883142.8180645, \"EndTime\": 1709883142.818073, \"Dimensions\": {\"Algorithm\": \"Linear Learner\", \"Host\": \"algo-1\", \"Operation\": \"training\", \"epoch\": 0, \"model\": 7}, \"Metrics\": {\"train_absolute_loss_objective\": {\"sum\": 1.1177651405334472, \"count\": 1, \"min\": 1.1177651405334472, \"max\": 1.1177651405334472}}}\u001b[0m\n",
      "\u001b[34m#metrics {\"StartTime\": 1709883142.8181036, \"EndTime\": 1709883142.8181129, \"Dimensions\": {\"Algorithm\": \"Linear Learner\", \"Host\": \"algo-1\", \"Operation\": \"training\", \"epoch\": 0, \"model\": 8}, \"Metrics\": {\"train_absolute_loss_objective\": {\"sum\": 0.9570427227020264, \"count\": 1, \"min\": 0.9570427227020264, \"max\": 0.9570427227020264}}}\u001b[0m\n",
      "\u001b[34m#metrics {\"StartTime\": 1709883142.818142, \"EndTime\": 1709883142.8181508, \"Dimensions\": {\"Algorithm\": \"Linear Learner\", \"Host\": \"algo-1\", \"Operation\": \"training\", \"epoch\": 0, \"model\": 9}, \"Metrics\": {\"train_absolute_loss_objective\": {\"sum\": 0.8904446697235108, \"count\": 1, \"min\": 0.8904446697235108, \"max\": 0.8904446697235108}}}\u001b[0m\n",
      "\u001b[34m#metrics {\"StartTime\": 1709883142.818179, \"EndTime\": 1709883142.8181875, \"Dimensions\": {\"Algorithm\": \"Linear Learner\", \"Host\": \"algo-1\", \"Operation\": \"training\", \"epoch\": 0, \"model\": 10}, \"Metrics\": {\"train_absolute_loss_objective\": {\"sum\": 0.8970122528076172, \"count\": 1, \"min\": 0.8970122528076172, \"max\": 0.8970122528076172}}}\u001b[0m\n",
      "\u001b[34m#metrics {\"StartTime\": 1709883142.8182154, \"EndTime\": 1709883142.818224, \"Dimensions\": {\"Algorithm\": \"Linear Learner\", \"Host\": \"algo-1\", \"Operation\": \"training\", \"epoch\": 0, \"model\": 11}, \"Metrics\": {\"train_absolute_loss_objective\": {\"sum\": 0.8824894046783447, \"count\": 1, \"min\": 0.8824894046783447, \"max\": 0.8824894046783447}}}\u001b[0m\n",
      "\u001b[34m#metrics {\"StartTime\": 1709883142.818255, \"EndTime\": 1709883142.8182638, \"Dimensions\": {\"Algorithm\": \"Linear Learner\", \"Host\": \"algo-1\", \"Operation\": \"training\", \"epoch\": 0, \"model\": 12}, \"Metrics\": {\"train_absolute_loss_objective\": {\"sum\": 1.0659236526489257, \"count\": 1, \"min\": 1.0659236526489257, \"max\": 1.0659236526489257}}}\u001b[0m\n",
      "\u001b[34m#metrics {\"StartTime\": 1709883142.8182926, \"EndTime\": 1709883142.8183012, \"Dimensions\": {\"Algorithm\": \"Linear Learner\", \"Host\": \"algo-1\", \"Operation\": \"training\", \"epoch\": 0, \"model\": 13}, \"Metrics\": {\"train_absolute_loss_objective\": {\"sum\": 1.0906346702575684, \"count\": 1, \"min\": 1.0906346702575684, \"max\": 1.0906346702575684}}}\u001b[0m\n",
      "\u001b[34m#metrics {\"StartTime\": 1709883142.8183327, \"EndTime\": 1709883142.8183415, \"Dimensions\": {\"Algorithm\": \"Linear Learner\", \"Host\": \"algo-1\", \"Operation\": \"training\", \"epoch\": 0, \"model\": 14}, \"Metrics\": {\"train_absolute_loss_objective\": {\"sum\": 1.0645238876342773, \"count\": 1, \"min\": 1.0645238876342773, \"max\": 1.0645238876342773}}}\u001b[0m\n",
      "\u001b[34m#metrics {\"StartTime\": 1709883142.81837, \"EndTime\": 1709883142.8183784, \"Dimensions\": {\"Algorithm\": \"Linear Learner\", \"Host\": \"algo-1\", \"Operation\": \"training\", \"epoch\": 0, \"model\": 15}, \"Metrics\": {\"train_absolute_loss_objective\": {\"sum\": 1.0965570831298828, \"count\": 1, \"min\": 1.0965570831298828, \"max\": 1.0965570831298828}}}\u001b[0m\n",
      "\u001b[34m#metrics {\"StartTime\": 1709883142.8184068, \"EndTime\": 1709883142.8184154, \"Dimensions\": {\"Algorithm\": \"Linear Learner\", \"Host\": \"algo-1\", \"Operation\": \"training\", \"epoch\": 0, \"model\": 16}, \"Metrics\": {\"train_absolute_loss_objective\": {\"sum\": 0.866826457977295, \"count\": 1, \"min\": 0.866826457977295, \"max\": 0.866826457977295}}}\u001b[0m\n",
      "\u001b[34m#metrics {\"StartTime\": 1709883142.818453, \"EndTime\": 1709883142.8184633, \"Dimensions\": {\"Algorithm\": \"Linear Learner\", \"Host\": \"algo-1\", \"Operation\": \"training\", \"epoch\": 0, \"model\": 17}, \"Metrics\": {\"train_absolute_loss_objective\": {\"sum\": 0.9170957565307617, \"count\": 1, \"min\": 0.9170957565307617, \"max\": 0.9170957565307617}}}\u001b[0m\n",
      "\u001b[34m#metrics {\"StartTime\": 1709883142.8185208, \"EndTime\": 1709883142.8185334, \"Dimensions\": {\"Algorithm\": \"Linear Learner\", \"Host\": \"algo-1\", \"Operation\": \"training\", \"epoch\": 0, \"model\": 18}, \"Metrics\": {\"train_absolute_loss_objective\": {\"sum\": 0.8933717155456543, \"count\": 1, \"min\": 0.8933717155456543, \"max\": 0.8933717155456543}}}\u001b[0m\n",
      "\u001b[34m#metrics {\"StartTime\": 1709883142.8185716, \"EndTime\": 1709883142.8185813, \"Dimensions\": {\"Algorithm\": \"Linear Learner\", \"Host\": \"algo-1\", \"Operation\": \"training\", \"epoch\": 0, \"model\": 19}, \"Metrics\": {\"train_absolute_loss_objective\": {\"sum\": 0.8907217121124268, \"count\": 1, \"min\": 0.8907217121124268, \"max\": 0.8907217121124268}}}\u001b[0m\n",
      "\u001b[34m#metrics {\"StartTime\": 1709883142.8186107, \"EndTime\": 1709883142.8186195, \"Dimensions\": {\"Algorithm\": \"Linear Learner\", \"Host\": \"algo-1\", \"Operation\": \"training\", \"epoch\": 0, \"model\": 20}, \"Metrics\": {\"train_absolute_loss_objective\": {\"sum\": 1.1107977867126464, \"count\": 1, \"min\": 1.1107977867126464, \"max\": 1.1107977867126464}}}\u001b[0m\n",
      "\u001b[34m#metrics {\"StartTime\": 1709883142.8186479, \"EndTime\": 1709883142.8186562, \"Dimensions\": {\"Algorithm\": \"Linear Learner\", \"Host\": \"algo-1\", \"Operation\": \"training\", \"epoch\": 0, \"model\": 21}, \"Metrics\": {\"train_absolute_loss_objective\": {\"sum\": 1.1247996139526366, \"count\": 1, \"min\": 1.1247996139526366, \"max\": 1.1247996139526366}}}\u001b[0m\n",
      "\u001b[34m#metrics {\"StartTime\": 1709883142.8186846, \"EndTime\": 1709883142.8186932, \"Dimensions\": {\"Algorithm\": \"Linear Learner\", \"Host\": \"algo-1\", \"Operation\": \"training\", \"epoch\": 0, \"model\": 22}, \"Metrics\": {\"train_absolute_loss_objective\": {\"sum\": 1.0655524444580078, \"count\": 1, \"min\": 1.0655524444580078, \"max\": 1.0655524444580078}}}\u001b[0m\n",
      "\u001b[34m#metrics {\"StartTime\": 1709883142.8187242, \"EndTime\": 1709883142.818733, \"Dimensions\": {\"Algorithm\": \"Linear Learner\", \"Host\": \"algo-1\", \"Operation\": \"training\", \"epoch\": 0, \"model\": 23}, \"Metrics\": {\"train_absolute_loss_objective\": {\"sum\": 1.1489229393005371, \"count\": 1, \"min\": 1.1489229393005371, \"max\": 1.1489229393005371}}}\u001b[0m\n",
      "\u001b[34m#metrics {\"StartTime\": 1709883142.8187625, \"EndTime\": 1709883142.818771, \"Dimensions\": {\"Algorithm\": \"Linear Learner\", \"Host\": \"algo-1\", \"Operation\": \"training\", \"epoch\": 0, \"model\": 24}, \"Metrics\": {\"train_absolute_loss_objective\": {\"sum\": 0.869621057510376, \"count\": 1, \"min\": 0.869621057510376, \"max\": 0.869621057510376}}}\u001b[0m\n",
      "\u001b[34m#metrics {\"StartTime\": 1709883142.8188016, \"EndTime\": 1709883142.8188105, \"Dimensions\": {\"Algorithm\": \"Linear Learner\", \"Host\": \"algo-1\", \"Operation\": \"training\", \"epoch\": 0, \"model\": 25}, \"Metrics\": {\"train_absolute_loss_objective\": {\"sum\": 0.9350023651123047, \"count\": 1, \"min\": 0.9350023651123047, \"max\": 0.9350023651123047}}}\u001b[0m\n",
      "\u001b[34m#metrics {\"StartTime\": 1709883142.8188472, \"EndTime\": 1709883142.818857, \"Dimensions\": {\"Algorithm\": \"Linear Learner\", \"Host\": \"algo-1\", \"Operation\": \"training\", \"epoch\": 0, \"model\": 26}, \"Metrics\": {\"train_absolute_loss_objective\": {\"sum\": 0.9219533443450928, \"count\": 1, \"min\": 0.9219533443450928, \"max\": 0.9219533443450928}}}\u001b[0m\n",
      "\u001b[34m#metrics {\"StartTime\": 1709883142.8188875, \"EndTime\": 1709883142.8188963, \"Dimensions\": {\"Algorithm\": \"Linear Learner\", \"Host\": \"algo-1\", \"Operation\": \"training\", \"epoch\": 0, \"model\": 27}, \"Metrics\": {\"train_absolute_loss_objective\": {\"sum\": 0.9114548015594482, \"count\": 1, \"min\": 0.9114548015594482, \"max\": 0.9114548015594482}}}\u001b[0m\n",
      "\u001b[34m#metrics {\"StartTime\": 1709883142.8189254, \"EndTime\": 1709883142.8189337, \"Dimensions\": {\"Algorithm\": \"Linear Learner\", \"Host\": \"algo-1\", \"Operation\": \"training\", \"epoch\": 0, \"model\": 28}, \"Metrics\": {\"train_absolute_loss_objective\": {\"sum\": 1.2300807571411132, \"count\": 1, \"min\": 1.2300807571411132, \"max\": 1.2300807571411132}}}\u001b[0m\n",
      "\u001b[34m#metrics {\"StartTime\": 1709883142.8189704, \"EndTime\": 1709883142.8189797, \"Dimensions\": {\"Algorithm\": \"Linear Learner\", \"Host\": \"algo-1\", \"Operation\": \"training\", \"epoch\": 0, \"model\": 29}, \"Metrics\": {\"train_absolute_loss_objective\": {\"sum\": 1.2301551055908204, \"count\": 1, \"min\": 1.2301551055908204, \"max\": 1.2301551055908204}}}\u001b[0m\n",
      "\u001b[34m#metrics {\"StartTime\": 1709883142.8190153, \"EndTime\": 1709883142.8190277, \"Dimensions\": {\"Algorithm\": \"Linear Learner\", \"Host\": \"algo-1\", \"Operation\": \"training\", \"epoch\": 0, \"model\": 30}, \"Metrics\": {\"train_absolute_loss_objective\": {\"sum\": 1.2246865463256835, \"count\": 1, \"min\": 1.2246865463256835, \"max\": 1.2246865463256835}}}\u001b[0m\n",
      "\u001b[34m#metrics {\"StartTime\": 1709883142.819072, \"EndTime\": 1709883142.8190858, \"Dimensions\": {\"Algorithm\": \"Linear Learner\", \"Host\": \"algo-1\", \"Operation\": \"training\", \"epoch\": 0, \"model\": 31}, \"Metrics\": {\"train_absolute_loss_objective\": {\"sum\": 1.2332501983642579, \"count\": 1, \"min\": 1.2332501983642579, \"max\": 1.2332501983642579}}}\u001b[0m\n",
      "\u001b[34m[03/08/2024 07:32:22 INFO 140046607693632] #quality_metric: host=algo-1, epoch=0, train absolute_loss_objective <loss>=0.9022388935089112\u001b[0m\n",
      "\u001b[34m[03/08/2024 07:32:22 INFO 140046607693632] #early_stopping_criteria_metric: host=algo-1, epoch=0, criteria=absolute_loss_objective, value=0.866826457977295\u001b[0m\n",
      "\u001b[34m[03/08/2024 07:32:22 INFO 140046607693632] Epoch 0: Loss improved. Updating best model\u001b[0m\n",
      "\u001b[34m[03/08/2024 07:32:22 INFO 140046607693632] Saving model for epoch: 0\u001b[0m\n",
      "\u001b[34m[03/08/2024 07:32:22 INFO 140046607693632] Saved checkpoint to \"/tmp/tmprptevs5w/mx-mod-0000.params\"\u001b[0m\n",
      "\u001b[34m[03/08/2024 07:32:22 INFO 140046607693632] #progress_metric: host=algo-1, completed 2.0 % of epochs\u001b[0m\n",
      "\u001b[34m#metrics {\"StartTime\": 1709883142.7000625, \"EndTime\": 1709883142.828352, \"Dimensions\": {\"Algorithm\": \"Linear Learner\", \"Host\": \"algo-1\", \"Operation\": \"training\", \"epoch\": 0, \"Meta\": \"training_data_iter\"}, \"Metrics\": {\"Total Records Seen\": {\"sum\": 61.0, \"count\": 1, \"min\": 61, \"max\": 61}, \"Total Batches Seen\": {\"sum\": 13.0, \"count\": 1, \"min\": 13, \"max\": 13}, \"Max Records Seen Between Resets\": {\"sum\": 28.0, \"count\": 1, \"min\": 28, \"max\": 28}, \"Max Batches Seen Between Resets\": {\"sum\": 6.0, \"count\": 1, \"min\": 6, \"max\": 6}, \"Reset Count\": {\"sum\": 3.0, \"count\": 1, \"min\": 3, \"max\": 3}, \"Number of Records Since Last Reset\": {\"sum\": 28.0, \"count\": 1, \"min\": 28, \"max\": 28}, \"Number of Batches Since Last Reset\": {\"sum\": 6.0, \"count\": 1, \"min\": 6, \"max\": 6}}}\u001b[0m\n",
      "\u001b[34m[03/08/2024 07:32:22 INFO 140046607693632] #throughput_metric: host=algo-1, train throughput=218.03599880437184 records/second\u001b[0m\n",
      "\u001b[34m[2024-03-08 07:32:22.920] [tensorio] [info] epoch_stats={\"data_pipeline\": \"/opt/ml/input/data/train\", \"epoch\": 6, \"duration\": 91, \"num_examples\": 6, \"num_bytes\": 1344}\u001b[0m\n",
      "\u001b[34m#metrics {\"StartTime\": 1709883142.9204884, \"EndTime\": 1709883142.9205718, \"Dimensions\": {\"Algorithm\": \"Linear Learner\", \"Host\": \"algo-1\", \"Operation\": \"training\", \"epoch\": 1, \"model\": 0}, \"Metrics\": {\"train_absolute_loss_objective\": {\"sum\": 0.8731031131744384, \"count\": 1, \"min\": 0.8731031131744384, \"max\": 0.8731031131744384}}}\u001b[0m\n",
      "\u001b[34m#metrics {\"StartTime\": 1709883142.9206674, \"EndTime\": 1709883142.9206858, \"Dimensions\": {\"Algorithm\": \"Linear Learner\", \"Host\": \"algo-1\", \"Operation\": \"training\", \"epoch\": 1, \"model\": 1}, \"Metrics\": {\"train_absolute_loss_objective\": {\"sum\": 0.8926219081878662, \"count\": 1, \"min\": 0.8926219081878662, \"max\": 0.8926219081878662}}}\u001b[0m\n",
      "\u001b[34m#metrics {\"StartTime\": 1709883142.920733, \"EndTime\": 1709883142.9207494, \"Dimensions\": {\"Algorithm\": \"Linear Learner\", \"Host\": \"algo-1\", \"Operation\": \"training\", \"epoch\": 1, \"model\": 2}, \"Metrics\": {\"train_absolute_loss_objective\": {\"sum\": 0.8754675579071045, \"count\": 1, \"min\": 0.8754675579071045, \"max\": 0.8754675579071045}}}\u001b[0m\n",
      "\u001b[34m#metrics {\"StartTime\": 1709883142.920803, \"EndTime\": 1709883142.9208202, \"Dimensions\": {\"Algorithm\": \"Linear Learner\", \"Host\": \"algo-1\", \"Operation\": \"training\", \"epoch\": 1, \"model\": 3}, \"Metrics\": {\"train_absolute_loss_objective\": {\"sum\": 0.8916244316101074, \"count\": 1, \"min\": 0.8916244316101074, \"max\": 0.8916244316101074}}}\u001b[0m\n",
      "\u001b[34m#metrics {\"StartTime\": 1709883142.9208698, \"EndTime\": 1709883142.9208863, \"Dimensions\": {\"Algorithm\": \"Linear Learner\", \"Host\": \"algo-1\", \"Operation\": \"training\", \"epoch\": 1, \"model\": 4}, \"Metrics\": {\"train_absolute_loss_objective\": {\"sum\": 0.33649381637573245, \"count\": 1, \"min\": 0.33649381637573245, \"max\": 0.33649381637573245}}}\u001b[0m\n",
      "\u001b[34m#metrics {\"StartTime\": 1709883142.920934, \"EndTime\": 1709883142.92095, \"Dimensions\": {\"Algorithm\": \"Linear Learner\", \"Host\": \"algo-1\", \"Operation\": \"training\", \"epoch\": 1, \"model\": 5}, \"Metrics\": {\"train_absolute_loss_objective\": {\"sum\": 0.34392073154449465, \"count\": 1, \"min\": 0.34392073154449465, \"max\": 0.34392073154449465}}}\u001b[0m\n",
      "\u001b[34m#metrics {\"StartTime\": 1709883142.9210057, \"EndTime\": 1709883142.921022, \"Dimensions\": {\"Algorithm\": \"Linear Learner\", \"Host\": \"algo-1\", \"Operation\": \"training\", \"epoch\": 1, \"model\": 6}, \"Metrics\": {\"train_absolute_loss_objective\": {\"sum\": 0.4380293655395508, \"count\": 1, \"min\": 0.4380293655395508, \"max\": 0.4380293655395508}}}\u001b[0m\n",
      "\u001b[34m#metrics {\"StartTime\": 1709883142.9210722, \"EndTime\": 1709883142.921087, \"Dimensions\": {\"Algorithm\": \"Linear Learner\", \"Host\": \"algo-1\", \"Operation\": \"training\", \"epoch\": 1, \"model\": 7}, \"Metrics\": {\"train_absolute_loss_objective\": {\"sum\": 0.39881030082702634, \"count\": 1, \"min\": 0.39881030082702634, \"max\": 0.39881030082702634}}}\u001b[0m\n",
      "\u001b[34m#metrics {\"StartTime\": 1709883142.9211354, \"EndTime\": 1709883142.921151, \"Dimensions\": {\"Algorithm\": \"Linear Learner\", \"Host\": \"algo-1\", \"Operation\": \"training\", \"epoch\": 1, \"model\": 8}, \"Metrics\": {\"train_absolute_loss_objective\": {\"sum\": 0.9279067230224609, \"count\": 1, \"min\": 0.9279067230224609, \"max\": 0.9279067230224609}}}\u001b[0m\n",
      "\u001b[34m#metrics {\"StartTime\": 1709883142.9212043, \"EndTime\": 1709883142.9212198, \"Dimensions\": {\"Algorithm\": \"Linear Learner\", \"Host\": \"algo-1\", \"Operation\": \"training\", \"epoch\": 1, \"model\": 9}, \"Metrics\": {\"train_absolute_loss_objective\": {\"sum\": 0.8613095951080322, \"count\": 1, \"min\": 0.8613095951080322, \"max\": 0.8613095951080322}}}\u001b[0m\n",
      "\u001b[34m#metrics {\"StartTime\": 1709883142.9212675, \"EndTime\": 1709883142.9212816, \"Dimensions\": {\"Algorithm\": \"Linear Learner\", \"Host\": \"algo-1\", \"Operation\": \"training\", \"epoch\": 1, \"model\": 10}, \"Metrics\": {\"train_absolute_loss_objective\": {\"sum\": 0.8678770637512208, \"count\": 1, \"min\": 0.8678770637512208, \"max\": 0.8678770637512208}}}\u001b[0m\n",
      "\u001b[34m#metrics {\"StartTime\": 1709883142.9213283, \"EndTime\": 1709883142.9213438, \"Dimensions\": {\"Algorithm\": \"Linear Learner\", \"Host\": \"algo-1\", \"Operation\": \"training\", \"epoch\": 1, \"model\": 11}, \"Metrics\": {\"train_absolute_loss_objective\": {\"sum\": 0.853354434967041, \"count\": 1, \"min\": 0.853354434967041, \"max\": 0.853354434967041}}}\u001b[0m\n",
      "\u001b[34m#metrics {\"StartTime\": 1709883142.9213986, \"EndTime\": 1709883142.921415, \"Dimensions\": {\"Algorithm\": \"Linear Learner\", \"Host\": \"algo-1\", \"Operation\": \"training\", \"epoch\": 1, \"model\": 12}, \"Metrics\": {\"train_absolute_loss_objective\": {\"sum\": 0.3436452913284302, \"count\": 1, \"min\": 0.3436452913284302, \"max\": 0.3436452913284302}}}\u001b[0m\n",
      "\u001b[34m#metrics {\"StartTime\": 1709883142.9214625, \"EndTime\": 1709883142.9214785, \"Dimensions\": {\"Algorithm\": \"Linear Learner\", \"Host\": \"algo-1\", \"Operation\": \"training\", \"epoch\": 1, \"model\": 13}, \"Metrics\": {\"train_absolute_loss_objective\": {\"sum\": 0.3636532187461853, \"count\": 1, \"min\": 0.3636532187461853, \"max\": 0.3636532187461853}}}\u001b[0m\n",
      "\u001b[34m#metrics {\"StartTime\": 1709883142.9215333, \"EndTime\": 1709883142.9215484, \"Dimensions\": {\"Algorithm\": \"Linear Learner\", \"Host\": \"algo-1\", \"Operation\": \"training\", \"epoch\": 1, \"model\": 14}, \"Metrics\": {\"train_absolute_loss_objective\": {\"sum\": 0.3425119161605835, \"count\": 1, \"min\": 0.3425119161605835, \"max\": 0.3425119161605835}}}\u001b[0m\n",
      "\u001b[34m#metrics {\"StartTime\": 1709883142.921603, \"EndTime\": 1709883142.9216182, \"Dimensions\": {\"Algorithm\": \"Linear Learner\", \"Host\": \"algo-1\", \"Operation\": \"training\", \"epoch\": 1, \"model\": 15}, \"Metrics\": {\"train_absolute_loss_objective\": {\"sum\": 0.3650757169723511, \"count\": 1, \"min\": 0.3650757169723511, \"max\": 0.3650757169723511}}}\u001b[0m\n",
      "\u001b[34m#metrics {\"StartTime\": 1709883142.9216714, \"EndTime\": 1709883142.9216878, \"Dimensions\": {\"Algorithm\": \"Linear Learner\", \"Host\": \"algo-1\", \"Operation\": \"training\", \"epoch\": 1, \"model\": 16}, \"Metrics\": {\"train_absolute_loss_objective\": {\"sum\": 0.8377981948852539, \"count\": 1, \"min\": 0.8377981948852539, \"max\": 0.8377981948852539}}}\u001b[0m\n",
      "\u001b[34m#metrics {\"StartTime\": 1709883142.9217443, \"EndTime\": 1709883142.9217603, \"Dimensions\": {\"Algorithm\": \"Linear Learner\", \"Host\": \"algo-1\", \"Operation\": \"training\", \"epoch\": 1, \"model\": 17}, \"Metrics\": {\"train_absolute_loss_objective\": {\"sum\": 0.8879914474487305, \"count\": 1, \"min\": 0.8879914474487305, \"max\": 0.8879914474487305}}}\u001b[0m\n",
      "\u001b[34m#metrics {\"StartTime\": 1709883142.9218063, \"EndTime\": 1709883142.9218216, \"Dimensions\": {\"Algorithm\": \"Linear Learner\", \"Host\": \"algo-1\", \"Operation\": \"training\", \"epoch\": 1, \"model\": 18}, \"Metrics\": {\"train_absolute_loss_objective\": {\"sum\": 0.8643014335632324, \"count\": 1, \"min\": 0.8643014335632324, \"max\": 0.8643014335632324}}}\u001b[0m\n",
      "\u001b[34m#metrics {\"StartTime\": 1709883142.9218764, \"EndTime\": 1709883142.921893, \"Dimensions\": {\"Algorithm\": \"Linear Learner\", \"Host\": \"algo-1\", \"Operation\": \"training\", \"epoch\": 1, \"model\": 19}, \"Metrics\": {\"train_absolute_loss_objective\": {\"sum\": 0.8616554355621338, \"count\": 1, \"min\": 0.8616554355621338, \"max\": 0.8616554355621338}}}\u001b[0m\n",
      "\u001b[34m#metrics {\"StartTime\": 1709883142.9219394, \"EndTime\": 1709883142.9219534, \"Dimensions\": {\"Algorithm\": \"Linear Learner\", \"Host\": \"algo-1\", \"Operation\": \"training\", \"epoch\": 1, \"model\": 20}, \"Metrics\": {\"train_absolute_loss_objective\": {\"sum\": 0.46630248069763186, \"count\": 1, \"min\": 0.46630248069763186, \"max\": 0.46630248069763186}}}\u001b[0m\n",
      "\u001b[34m#metrics {\"StartTime\": 1709883142.922, \"EndTime\": 1709883142.9220154, \"Dimensions\": {\"Algorithm\": \"Linear Learner\", \"Host\": \"algo-1\", \"Operation\": \"training\", \"epoch\": 1, \"model\": 21}, \"Metrics\": {\"train_absolute_loss_objective\": {\"sum\": 0.4745142698287964, \"count\": 1, \"min\": 0.4745142698287964, \"max\": 0.4745142698287964}}}\u001b[0m\n",
      "\u001b[34m#metrics {\"StartTime\": 1709883142.9220703, \"EndTime\": 1709883142.9220862, \"Dimensions\": {\"Algorithm\": \"Linear Learner\", \"Host\": \"algo-1\", \"Operation\": \"training\", \"epoch\": 1, \"model\": 22}, \"Metrics\": {\"train_absolute_loss_objective\": {\"sum\": 0.4138411331176758, \"count\": 1, \"min\": 0.4138411331176758, \"max\": 0.4138411331176758}}}\u001b[0m\n",
      "\u001b[34m#metrics {\"StartTime\": 1709883142.9221401, \"EndTime\": 1709883142.9221566, \"Dimensions\": {\"Algorithm\": \"Linear Learner\", \"Host\": \"algo-1\", \"Operation\": \"training\", \"epoch\": 1, \"model\": 23}, \"Metrics\": {\"train_absolute_loss_objective\": {\"sum\": 0.5009465026855469, \"count\": 1, \"min\": 0.5009465026855469, \"max\": 0.5009465026855469}}}\u001b[0m\n",
      "\u001b[34m#metrics {\"StartTime\": 1709883142.9221983, \"EndTime\": 1709883142.922213, \"Dimensions\": {\"Algorithm\": \"Linear Learner\", \"Host\": \"algo-1\", \"Operation\": \"training\", \"epoch\": 1, \"model\": 24}, \"Metrics\": {\"train_absolute_loss_objective\": {\"sum\": 0.8814773941040039, \"count\": 1, \"min\": 0.8814773941040039, \"max\": 0.8814773941040039}}}\u001b[0m\n",
      "\u001b[34m#metrics {\"StartTime\": 1709883142.9222538, \"EndTime\": 1709883142.9222674, \"Dimensions\": {\"Algorithm\": \"Linear Learner\", \"Host\": \"algo-1\", \"Operation\": \"training\", \"epoch\": 1, \"model\": 25}, \"Metrics\": {\"train_absolute_loss_objective\": {\"sum\": 0.9070310020446777, \"count\": 1, \"min\": 0.9070310020446777, \"max\": 0.9070310020446777}}}\u001b[0m\n",
      "\u001b[34m#metrics {\"StartTime\": 1709883142.922317, \"EndTime\": 1709883142.9223335, \"Dimensions\": {\"Algorithm\": \"Linear Learner\", \"Host\": \"algo-1\", \"Operation\": \"training\", \"epoch\": 1, \"model\": 26}, \"Metrics\": {\"train_absolute_loss_objective\": {\"sum\": 0.8967593002319336, \"count\": 1, \"min\": 0.8967593002319336, \"max\": 0.8967593002319336}}}\u001b[0m\n",
      "\u001b[34m#metrics {\"StartTime\": 1709883142.9223735, \"EndTime\": 1709883142.9223883, \"Dimensions\": {\"Algorithm\": \"Linear Learner\", \"Host\": \"algo-1\", \"Operation\": \"training\", \"epoch\": 1, \"model\": 27}, \"Metrics\": {\"train_absolute_loss_objective\": {\"sum\": 0.8968008708953857, \"count\": 1, \"min\": 0.8968008708953857, \"max\": 0.8968008708953857}}}\u001b[0m\n",
      "\u001b[34m#metrics {\"StartTime\": 1709883142.9224339, \"EndTime\": 1709883142.922449, \"Dimensions\": {\"Algorithm\": \"Linear Learner\", \"Host\": \"algo-1\", \"Operation\": \"training\", \"epoch\": 1, \"model\": 28}, \"Metrics\": {\"train_absolute_loss_objective\": {\"sum\": 0.9985844421386719, \"count\": 1, \"min\": 0.9985844421386719, \"max\": 0.9985844421386719}}}\u001b[0m\n",
      "\u001b[34m#metrics {\"StartTime\": 1709883142.922516, \"EndTime\": 1709883142.9225345, \"Dimensions\": {\"Algorithm\": \"Linear Learner\", \"Host\": \"algo-1\", \"Operation\": \"training\", \"epoch\": 1, \"model\": 29}, \"Metrics\": {\"train_absolute_loss_objective\": {\"sum\": 0.9978325843811036, \"count\": 1, \"min\": 0.9978325843811036, \"max\": 0.9978325843811036}}}\u001b[0m\n",
      "\u001b[34m#metrics {\"StartTime\": 1709883142.9225914, \"EndTime\": 1709883142.9226072, \"Dimensions\": {\"Algorithm\": \"Linear Learner\", \"Host\": \"algo-1\", \"Operation\": \"training\", \"epoch\": 1, \"model\": 30}, \"Metrics\": {\"train_absolute_loss_objective\": {\"sum\": 0.9925261688232422, \"count\": 1, \"min\": 0.9925261688232422, \"max\": 0.9925261688232422}}}\u001b[0m\n",
      "\u001b[34m#metrics {\"StartTime\": 1709883142.92266, \"EndTime\": 1709883142.9226747, \"Dimensions\": {\"Algorithm\": \"Linear Learner\", \"Host\": \"algo-1\", \"Operation\": \"training\", \"epoch\": 1, \"model\": 31}, \"Metrics\": {\"train_absolute_loss_objective\": {\"sum\": 0.9910883331298828, \"count\": 1, \"min\": 0.9910883331298828, \"max\": 0.9910883331298828}}}\u001b[0m\n",
      "\u001b[34m[03/08/2024 07:32:22 INFO 140046607693632] #quality_metric: host=algo-1, epoch=1, train absolute_loss_objective <loss>=0.8731031131744384\u001b[0m\n",
      "\u001b[34m[03/08/2024 07:32:22 INFO 140046607693632] #early_stopping_criteria_metric: host=algo-1, epoch=1, criteria=absolute_loss_objective, value=0.33649381637573245\u001b[0m\n",
      "\u001b[34m[03/08/2024 07:32:22 INFO 140046607693632] Epoch 1: Loss improved. Updating best model\u001b[0m\n",
      "\u001b[34m[03/08/2024 07:32:22 INFO 140046607693632] Saving model for epoch: 1\u001b[0m\n",
      "\u001b[34m[03/08/2024 07:32:22 INFO 140046607693632] Saved checkpoint to \"/tmp/tmp0zgogdad/mx-mod-0000.params\"\u001b[0m\n",
      "\u001b[34m[03/08/2024 07:32:22 INFO 140046607693632] #progress_metric: host=algo-1, completed 4.0 % of epochs\u001b[0m\n",
      "\u001b[34m#metrics {\"StartTime\": 1709883142.8286467, \"EndTime\": 1709883142.9307039, \"Dimensions\": {\"Algorithm\": \"Linear Learner\", \"Host\": \"algo-1\", \"Operation\": \"training\", \"epoch\": 1, \"Meta\": \"training_data_iter\"}, \"Metrics\": {\"Total Records Seen\": {\"sum\": 89.0, \"count\": 1, \"min\": 89, \"max\": 89}, \"Total Batches Seen\": {\"sum\": 19.0, \"count\": 1, \"min\": 19, \"max\": 19}, \"Max Records Seen Between Resets\": {\"sum\": 28.0, \"count\": 1, \"min\": 28, \"max\": 28}, \"Max Batches Seen Between Resets\": {\"sum\": 6.0, \"count\": 1, \"min\": 6, \"max\": 6}, \"Reset Count\": {\"sum\": 4.0, \"count\": 1, \"min\": 4, \"max\": 4}, \"Number of Records Since Last Reset\": {\"sum\": 28.0, \"count\": 1, \"min\": 28, \"max\": 28}, \"Number of Batches Since Last Reset\": {\"sum\": 6.0, \"count\": 1, \"min\": 6, \"max\": 6}}}\u001b[0m\n",
      "\u001b[34m[03/08/2024 07:32:22 INFO 140046607693632] #throughput_metric: host=algo-1, train throughput=274.0524347016449 records/second\u001b[0m\n",
      "\u001b[34m[2024-03-08 07:32:23.019] [tensorio] [info] epoch_stats={\"data_pipeline\": \"/opt/ml/input/data/train\", \"epoch\": 8, \"duration\": 87, \"num_examples\": 6, \"num_bytes\": 1344}\u001b[0m\n",
      "\u001b[34m#metrics {\"StartTime\": 1709883143.0191424, \"EndTime\": 1709883143.0192137, \"Dimensions\": {\"Algorithm\": \"Linear Learner\", \"Host\": \"algo-1\", \"Operation\": \"training\", \"epoch\": 2, \"model\": 0}, \"Metrics\": {\"train_absolute_loss_objective\": {\"sum\": 0.850861234664917, \"count\": 1, \"min\": 0.850861234664917, \"max\": 0.850861234664917}}}\u001b[0m\n",
      "\u001b[34m#metrics {\"StartTime\": 1709883143.0192988, \"EndTime\": 1709883143.0193174, \"Dimensions\": {\"Algorithm\": \"Linear Learner\", \"Host\": \"algo-1\", \"Operation\": \"training\", \"epoch\": 2, \"model\": 1}, \"Metrics\": {\"train_absolute_loss_objective\": {\"sum\": 0.8703214931488037, \"count\": 1, \"min\": 0.8703214931488037, \"max\": 0.8703214931488037}}}\u001b[0m\n",
      "\u001b[34m#metrics {\"StartTime\": 1709883143.0193648, \"EndTime\": 1709883143.0193787, \"Dimensions\": {\"Algorithm\": \"Linear Learner\", \"Host\": \"algo-1\", \"Operation\": \"training\", \"epoch\": 2, \"model\": 2}, \"Metrics\": {\"train_absolute_loss_objective\": {\"sum\": 0.8532256507873535, \"count\": 1, \"min\": 0.8532256507873535, \"max\": 0.8532256507873535}}}\u001b[0m\n",
      "\u001b[34m#metrics {\"StartTime\": 1709883143.0194223, \"EndTime\": 1709883143.019438, \"Dimensions\": {\"Algorithm\": \"Linear Learner\", \"Host\": \"algo-1\", \"Operation\": \"training\", \"epoch\": 2, \"model\": 3}, \"Metrics\": {\"train_absolute_loss_objective\": {\"sum\": 0.869324016571045, \"count\": 1, \"min\": 0.869324016571045, \"max\": 0.869324016571045}}}\u001b[0m\n",
      "\u001b[34m#metrics {\"StartTime\": 1709883143.019491, \"EndTime\": 1709883143.0195074, \"Dimensions\": {\"Algorithm\": \"Linear Learner\", \"Host\": \"algo-1\", \"Operation\": \"training\", \"epoch\": 2, \"model\": 4}, \"Metrics\": {\"train_absolute_loss_objective\": {\"sum\": 0.3492158603668213, \"count\": 1, \"min\": 0.3492158603668213, \"max\": 0.3492158603668213}}}\u001b[0m\n",
      "\u001b[34m#metrics {\"StartTime\": 1709883143.0195649, \"EndTime\": 1709883143.0195804, \"Dimensions\": {\"Algorithm\": \"Linear Learner\", \"Host\": \"algo-1\", \"Operation\": \"training\", \"epoch\": 2, \"model\": 5}, \"Metrics\": {\"train_absolute_loss_objective\": {\"sum\": 0.3529329776763916, \"count\": 1, \"min\": 0.3529329776763916, \"max\": 0.3529329776763916}}}\u001b[0m\n",
      "\u001b[34m#metrics {\"StartTime\": 1709883143.019635, \"EndTime\": 1709883143.0196514, \"Dimensions\": {\"Algorithm\": \"Linear Learner\", \"Host\": \"algo-1\", \"Operation\": \"training\", \"epoch\": 2, \"model\": 6}, \"Metrics\": {\"train_absolute_loss_objective\": {\"sum\": 0.7054963374137878, \"count\": 1, \"min\": 0.7054963374137878, \"max\": 0.7054963374137878}}}\u001b[0m\n",
      "\u001b[34m#metrics {\"StartTime\": 1709883143.0196974, \"EndTime\": 1709883143.019712, \"Dimensions\": {\"Algorithm\": \"Linear Learner\", \"Host\": \"algo-1\", \"Operation\": \"training\", \"epoch\": 2, \"model\": 7}, \"Metrics\": {\"train_absolute_loss_objective\": {\"sum\": 0.33068482875823973, \"count\": 1, \"min\": 0.33068482875823973, \"max\": 0.33068482875823973}}}\u001b[0m\n",
      "\u001b[34m#metrics {\"StartTime\": 1709883143.0197797, \"EndTime\": 1709883143.0197947, \"Dimensions\": {\"Algorithm\": \"Linear Learner\", \"Host\": \"algo-1\", \"Operation\": \"training\", \"epoch\": 2, \"model\": 8}, \"Metrics\": {\"train_absolute_loss_objective\": {\"sum\": 0.9056654357910157, \"count\": 1, \"min\": 0.9056654357910157, \"max\": 0.9056654357910157}}}\u001b[0m\n",
      "\u001b[34m#metrics {\"StartTime\": 1709883143.0198483, \"EndTime\": 1709883143.0198643, \"Dimensions\": {\"Algorithm\": \"Linear Learner\", \"Host\": \"algo-1\", \"Operation\": \"training\", \"epoch\": 2, \"model\": 9}, \"Metrics\": {\"train_absolute_loss_objective\": {\"sum\": 0.8390107536315918, \"count\": 1, \"min\": 0.8390107536315918, \"max\": 0.8390107536315918}}}\u001b[0m\n",
      "\u001b[34m#metrics {\"StartTime\": 1709883143.019913, \"EndTime\": 1709883143.019928, \"Dimensions\": {\"Algorithm\": \"Linear Learner\", \"Host\": \"algo-1\", \"Operation\": \"training\", \"epoch\": 2, \"model\": 10}, \"Metrics\": {\"train_absolute_loss_objective\": {\"sum\": 0.8456366157531738, \"count\": 1, \"min\": 0.8456366157531738, \"max\": 0.8456366157531738}}}\u001b[0m\n",
      "\u001b[34m#metrics {\"StartTime\": 1709883143.0199804, \"EndTime\": 1709883143.0199966, \"Dimensions\": {\"Algorithm\": \"Linear Learner\", \"Host\": \"algo-1\", \"Operation\": \"training\", \"epoch\": 2, \"model\": 11}, \"Metrics\": {\"train_absolute_loss_objective\": {\"sum\": 0.8310556983947754, \"count\": 1, \"min\": 0.8310556983947754, \"max\": 0.8310556983947754}}}\u001b[0m\n",
      "\u001b[34m#metrics {\"StartTime\": 1709883143.0200474, \"EndTime\": 1709883143.0200627, \"Dimensions\": {\"Algorithm\": \"Linear Learner\", \"Host\": \"algo-1\", \"Operation\": \"training\", \"epoch\": 2, \"model\": 12}, \"Metrics\": {\"train_absolute_loss_objective\": {\"sum\": 0.3510493922233582, \"count\": 1, \"min\": 0.3510493922233582, \"max\": 0.3510493922233582}}}\u001b[0m\n",
      "\u001b[34m#metrics {\"StartTime\": 1709883143.0201166, \"EndTime\": 1709883143.020132, \"Dimensions\": {\"Algorithm\": \"Linear Learner\", \"Host\": \"algo-1\", \"Operation\": \"training\", \"epoch\": 2, \"model\": 13}, \"Metrics\": {\"train_absolute_loss_objective\": {\"sum\": 0.35807816743850707, \"count\": 1, \"min\": 0.35807816743850707, \"max\": 0.35807816743850707}}}\u001b[0m\n",
      "\u001b[34m#metrics {\"StartTime\": 1709883143.0201876, \"EndTime\": 1709883143.0202188, \"Dimensions\": {\"Algorithm\": \"Linear Learner\", \"Host\": \"algo-1\", \"Operation\": \"training\", \"epoch\": 2, \"model\": 14}, \"Metrics\": {\"train_absolute_loss_objective\": {\"sum\": 0.3507508707046509, \"count\": 1, \"min\": 0.3507508707046509, \"max\": 0.3507508707046509}}}\u001b[0m\n",
      "\u001b[34m#metrics {\"StartTime\": 1709883143.0204036, \"EndTime\": 1709883143.020421, \"Dimensions\": {\"Algorithm\": \"Linear Learner\", \"Host\": \"algo-1\", \"Operation\": \"training\", \"epoch\": 2, \"model\": 15}, \"Metrics\": {\"train_absolute_loss_objective\": {\"sum\": 0.5404041218757629, \"count\": 1, \"min\": 0.5404041218757629, \"max\": 0.5404041218757629}}}\u001b[0m\n",
      "\u001b[34m#metrics {\"StartTime\": 1709883143.02048, \"EndTime\": 1709883143.0204966, \"Dimensions\": {\"Algorithm\": \"Linear Learner\", \"Host\": \"algo-1\", \"Operation\": \"training\", \"epoch\": 2, \"model\": 16}, \"Metrics\": {\"train_absolute_loss_objective\": {\"sum\": 0.8157685565948486, \"count\": 1, \"min\": 0.8157685565948486, \"max\": 0.8157685565948486}}}\u001b[0m\n",
      "\u001b[34m#metrics {\"StartTime\": 1709883143.0205522, \"EndTime\": 1709883143.020569, \"Dimensions\": {\"Algorithm\": \"Linear Learner\", \"Host\": \"algo-1\", \"Operation\": \"training\", \"epoch\": 2, \"model\": 17}, \"Metrics\": {\"train_absolute_loss_objective\": {\"sum\": 0.8658148765563964, \"count\": 1, \"min\": 0.8658148765563964, \"max\": 0.8658148765563964}}}\u001b[0m\n",
      "\u001b[34m#metrics {\"StartTime\": 1709883143.0206175, \"EndTime\": 1709883143.0206323, \"Dimensions\": {\"Algorithm\": \"Linear Learner\", \"Host\": \"algo-1\", \"Operation\": \"training\", \"epoch\": 2, \"model\": 18}, \"Metrics\": {\"train_absolute_loss_objective\": {\"sum\": 0.842222490310669, \"count\": 1, \"min\": 0.842222490310669, \"max\": 0.842222490310669}}}\u001b[0m\n",
      "\u001b[34m#metrics {\"StartTime\": 1709883143.0206861, \"EndTime\": 1709883143.0207024, \"Dimensions\": {\"Algorithm\": \"Linear Learner\", \"Host\": \"algo-1\", \"Operation\": \"training\", \"epoch\": 2, \"model\": 19}, \"Metrics\": {\"train_absolute_loss_objective\": {\"sum\": 0.8395235443115234, \"count\": 1, \"min\": 0.8395235443115234, \"max\": 0.8395235443115234}}}\u001b[0m\n",
      "\u001b[34m#metrics {\"StartTime\": 1709883143.0207586, \"EndTime\": 1709883143.0207736, \"Dimensions\": {\"Algorithm\": \"Linear Learner\", \"Host\": \"algo-1\", \"Operation\": \"training\", \"epoch\": 2, \"model\": 20}, \"Metrics\": {\"train_absolute_loss_objective\": {\"sum\": 0.6286955165863037, \"count\": 1, \"min\": 0.6286955165863037, \"max\": 0.6286955165863037}}}\u001b[0m\n",
      "\u001b[34m#metrics {\"StartTime\": 1709883143.0208275, \"EndTime\": 1709883143.0208426, \"Dimensions\": {\"Algorithm\": \"Linear Learner\", \"Host\": \"algo-1\", \"Operation\": \"training\", \"epoch\": 2, \"model\": 21}, \"Metrics\": {\"train_absolute_loss_objective\": {\"sum\": 0.6353458547592163, \"count\": 1, \"min\": 0.6353458547592163, \"max\": 0.6353458547592163}}}\u001b[0m\n",
      "\u001b[34m#metrics {\"StartTime\": 1709883143.020897, \"EndTime\": 1709883143.0209136, \"Dimensions\": {\"Algorithm\": \"Linear Learner\", \"Host\": \"algo-1\", \"Operation\": \"training\", \"epoch\": 2, \"model\": 22}, \"Metrics\": {\"train_absolute_loss_objective\": {\"sum\": 0.4559715747833252, \"count\": 1, \"min\": 0.4559715747833252, \"max\": 0.4559715747833252}}}\u001b[0m\n",
      "\u001b[34m#metrics {\"StartTime\": 1709883143.020971, \"EndTime\": 1709883143.0209875, \"Dimensions\": {\"Algorithm\": \"Linear Learner\", \"Host\": \"algo-1\", \"Operation\": \"training\", \"epoch\": 2, \"model\": 23}, \"Metrics\": {\"train_absolute_loss_objective\": {\"sum\": 0.6174986219406128, \"count\": 1, \"min\": 0.6174986219406128, \"max\": 0.6174986219406128}}}\u001b[0m\n",
      "\u001b[34m#metrics {\"StartTime\": 1709883143.0210438, \"EndTime\": 1709883143.02106, \"Dimensions\": {\"Algorithm\": \"Linear Learner\", \"Host\": \"algo-1\", \"Operation\": \"training\", \"epoch\": 2, \"model\": 24}, \"Metrics\": {\"train_absolute_loss_objective\": {\"sum\": 0.89686767578125, \"count\": 1, \"min\": 0.89686767578125, \"max\": 0.89686767578125}}}\u001b[0m\n",
      "\u001b[34m#metrics {\"StartTime\": 1709883143.021158, \"EndTime\": 1709883143.0211706, \"Dimensions\": {\"Algorithm\": \"Linear Learner\", \"Host\": \"algo-1\", \"Operation\": \"training\", \"epoch\": 2, \"model\": 25}, \"Metrics\": {\"train_absolute_loss_objective\": {\"sum\": 0.8920212459564208, \"count\": 1, \"min\": 0.8920212459564208, \"max\": 0.8920212459564208}}}\u001b[0m\n",
      "\u001b[34m#metrics {\"StartTime\": 1709883143.0212631, \"EndTime\": 1709883143.021281, \"Dimensions\": {\"Algorithm\": \"Linear Learner\", \"Host\": \"algo-1\", \"Operation\": \"training\", \"epoch\": 2, \"model\": 26}, \"Metrics\": {\"train_absolute_loss_objective\": {\"sum\": 0.8912873458862305, \"count\": 1, \"min\": 0.8912873458862305, \"max\": 0.8912873458862305}}}\u001b[0m\n",
      "\u001b[34m#metrics {\"StartTime\": 1709883143.021337, \"EndTime\": 1709883143.0213492, \"Dimensions\": {\"Algorithm\": \"Linear Learner\", \"Host\": \"algo-1\", \"Operation\": \"training\", \"epoch\": 2, \"model\": 27}, \"Metrics\": {\"train_absolute_loss_objective\": {\"sum\": 0.9007311439514161, \"count\": 1, \"min\": 0.9007311439514161, \"max\": 0.9007311439514161}}}\u001b[0m\n",
      "\u001b[34m#metrics {\"StartTime\": 1709883143.0213983, \"EndTime\": 1709883143.0214136, \"Dimensions\": {\"Algorithm\": \"Linear Learner\", \"Host\": \"algo-1\", \"Operation\": \"training\", \"epoch\": 2, \"model\": 28}, \"Metrics\": {\"train_absolute_loss_objective\": {\"sum\": 0.9552811717987061, \"count\": 1, \"min\": 0.9552811717987061, \"max\": 0.9552811717987061}}}\u001b[0m\n",
      "\u001b[34m#metrics {\"StartTime\": 1709883143.0214837, \"EndTime\": 1709883143.0214999, \"Dimensions\": {\"Algorithm\": \"Linear Learner\", \"Host\": \"algo-1\", \"Operation\": \"training\", \"epoch\": 2, \"model\": 29}, \"Metrics\": {\"train_absolute_loss_objective\": {\"sum\": 0.9554981517791749, \"count\": 1, \"min\": 0.9554981517791749, \"max\": 0.9554981517791749}}}\u001b[0m\n",
      "\u001b[34m#metrics {\"StartTime\": 1709883143.0215538, \"EndTime\": 1709883143.0215673, \"Dimensions\": {\"Algorithm\": \"Linear Learner\", \"Host\": \"algo-1\", \"Operation\": \"training\", \"epoch\": 2, \"model\": 30}, \"Metrics\": {\"train_absolute_loss_objective\": {\"sum\": 0.961240472793579, \"count\": 1, \"min\": 0.961240472793579, \"max\": 0.961240472793579}}}\u001b[0m\n",
      "\u001b[34m#metrics {\"StartTime\": 1709883143.0216057, \"EndTime\": 1709883143.0216188, \"Dimensions\": {\"Algorithm\": \"Linear Learner\", \"Host\": \"algo-1\", \"Operation\": \"training\", \"epoch\": 2, \"model\": 31}, \"Metrics\": {\"train_absolute_loss_objective\": {\"sum\": 0.9738066959381103, \"count\": 1, \"min\": 0.9738066959381103, \"max\": 0.9738066959381103}}}\u001b[0m\n",
      "\u001b[34m[03/08/2024 07:32:23 INFO 140046607693632] #quality_metric: host=algo-1, epoch=2, train absolute_loss_objective <loss>=0.850861234664917\u001b[0m\n",
      "\u001b[34m[03/08/2024 07:32:23 INFO 140046607693632] #early_stopping_criteria_metric: host=algo-1, epoch=2, criteria=absolute_loss_objective, value=0.33068482875823973\u001b[0m\n",
      "\u001b[34m[03/08/2024 07:32:23 INFO 140046607693632] Epoch 2: Loss improved. Updating best model\u001b[0m\n",
      "\u001b[34m[03/08/2024 07:32:23 INFO 140046607693632] Saving model for epoch: 2\u001b[0m\n",
      "\u001b[34m[03/08/2024 07:32:23 INFO 140046607693632] Saved checkpoint to \"/tmp/tmpupocwyb3/mx-mod-0000.params\"\u001b[0m\n",
      "\u001b[34m[03/08/2024 07:32:23 INFO 140046607693632] #progress_metric: host=algo-1, completed 6.0 % of epochs\u001b[0m\n",
      "\u001b[34m#metrics {\"StartTime\": 1709883142.930964, \"EndTime\": 1709883143.0298774, \"Dimensions\": {\"Algorithm\": \"Linear Learner\", \"Host\": \"algo-1\", \"Operation\": \"training\", \"epoch\": 2, \"Meta\": \"training_data_iter\"}, \"Metrics\": {\"Total Records Seen\": {\"sum\": 117.0, \"count\": 1, \"min\": 117, \"max\": 117}, \"Total Batches Seen\": {\"sum\": 25.0, \"count\": 1, \"min\": 25, \"max\": 25}, \"Max Records Seen Between Resets\": {\"sum\": 28.0, \"count\": 1, \"min\": 28, \"max\": 28}, \"Max Batches Seen Between Resets\": {\"sum\": 6.0, \"count\": 1, \"min\": 6, \"max\": 6}, \"Reset Count\": {\"sum\": 5.0, \"count\": 1, \"min\": 5, \"max\": 5}, \"Number of Records Since Last Reset\": {\"sum\": 28.0, \"count\": 1, \"min\": 28, \"max\": 28}, \"Number of Batches Since Last Reset\": {\"sum\": 6.0, \"count\": 1, \"min\": 6, \"max\": 6}}}\u001b[0m\n",
      "\u001b[34m[03/08/2024 07:32:23 INFO 140046607693632] #throughput_metric: host=algo-1, train throughput=282.6710954179273 records/second\u001b[0m\n",
      "\u001b[34m[2024-03-08 07:32:23.128] [tensorio] [info] epoch_stats={\"data_pipeline\": \"/opt/ml/input/data/train\", \"epoch\": 10, \"duration\": 98, \"num_examples\": 6, \"num_bytes\": 1344}\u001b[0m\n",
      "\u001b[34m#metrics {\"StartTime\": 1709883143.1289105, \"EndTime\": 1709883143.1289928, \"Dimensions\": {\"Algorithm\": \"Linear Learner\", \"Host\": \"algo-1\", \"Operation\": \"training\", \"epoch\": 3, \"model\": 0}, \"Metrics\": {\"train_absolute_loss_objective\": {\"sum\": 0.8294353580474854, \"count\": 1, \"min\": 0.8294353580474854, \"max\": 0.8294353580474854}}}\u001b[0m\n",
      "\u001b[34m#metrics {\"StartTime\": 1709883143.1290774, \"EndTime\": 1709883143.129097, \"Dimensions\": {\"Algorithm\": \"Linear Learner\", \"Host\": \"algo-1\", \"Operation\": \"training\", \"epoch\": 3, \"model\": 1}, \"Metrics\": {\"train_absolute_loss_objective\": {\"sum\": 0.84867919921875, \"count\": 1, \"min\": 0.84867919921875, \"max\": 0.84867919921875}}}\u001b[0m\n",
      "\u001b[34m#metrics {\"StartTime\": 1709883143.1291451, \"EndTime\": 1709883143.129159, \"Dimensions\": {\"Algorithm\": \"Linear Learner\", \"Host\": \"algo-1\", \"Operation\": \"training\", \"epoch\": 3, \"model\": 2}, \"Metrics\": {\"train_absolute_loss_objective\": {\"sum\": 0.8317997932434082, \"count\": 1, \"min\": 0.8317997932434082, \"max\": 0.8317997932434082}}}\u001b[0m\n",
      "\u001b[34m#metrics {\"StartTime\": 1709883143.1292105, \"EndTime\": 1709883143.1292257, \"Dimensions\": {\"Algorithm\": \"Linear Learner\", \"Host\": \"algo-1\", \"Operation\": \"training\", \"epoch\": 3, \"model\": 3}, \"Metrics\": {\"train_absolute_loss_objective\": {\"sum\": 0.847681713104248, \"count\": 1, \"min\": 0.847681713104248, \"max\": 0.847681713104248}}}\u001b[0m\n",
      "\u001b[34m#metrics {\"StartTime\": 1709883143.1292806, \"EndTime\": 1709883143.1292965, \"Dimensions\": {\"Algorithm\": \"Linear Learner\", \"Host\": \"algo-1\", \"Operation\": \"training\", \"epoch\": 3, \"model\": 4}, \"Metrics\": {\"train_absolute_loss_objective\": {\"sum\": 0.5155587887763977, \"count\": 1, \"min\": 0.5155587887763977, \"max\": 0.5155587887763977}}}\u001b[0m\n",
      "\u001b[34m#metrics {\"StartTime\": 1709883143.1293402, \"EndTime\": 1709883143.129355, \"Dimensions\": {\"Algorithm\": \"Linear Learner\", \"Host\": \"algo-1\", \"Operation\": \"training\", \"epoch\": 3, \"model\": 5}, \"Metrics\": {\"train_absolute_loss_objective\": {\"sum\": 0.5190090107917785, \"count\": 1, \"min\": 0.5190090107917785, \"max\": 0.5190090107917785}}}\u001b[0m\n",
      "\u001b[34m#metrics {\"StartTime\": 1709883143.129406, \"EndTime\": 1709883143.1294217, \"Dimensions\": {\"Algorithm\": \"Linear Learner\", \"Host\": \"algo-1\", \"Operation\": \"training\", \"epoch\": 3, \"model\": 6}, \"Metrics\": {\"train_absolute_loss_objective\": {\"sum\": 0.37487499237060545, \"count\": 1, \"min\": 0.37487499237060545, \"max\": 0.37487499237060545}}}\u001b[0m\n",
      "\u001b[34m#metrics {\"StartTime\": 1709883143.1294694, \"EndTime\": 1709883143.1294847, \"Dimensions\": {\"Algorithm\": \"Linear Learner\", \"Host\": \"algo-1\", \"Operation\": \"training\", \"epoch\": 3, \"model\": 7}, \"Metrics\": {\"train_absolute_loss_objective\": {\"sum\": 0.5025096416473389, \"count\": 1, \"min\": 0.5025096416473389, \"max\": 0.5025096416473389}}}\u001b[0m\n",
      "\u001b[34m#metrics {\"StartTime\": 1709883143.1295388, \"EndTime\": 1709883143.1295536, \"Dimensions\": {\"Algorithm\": \"Linear Learner\", \"Host\": \"algo-1\", \"Operation\": \"training\", \"epoch\": 3, \"model\": 8}, \"Metrics\": {\"train_absolute_loss_objective\": {\"sum\": 0.8842414855957031, \"count\": 1, \"min\": 0.8842414855957031, \"max\": 0.8842414855957031}}}\u001b[0m\n",
      "\u001b[34m#metrics {\"StartTime\": 1709883143.129605, \"EndTime\": 1709883143.1296208, \"Dimensions\": {\"Algorithm\": \"Linear Learner\", \"Host\": \"algo-1\", \"Operation\": \"training\", \"epoch\": 3, \"model\": 9}, \"Metrics\": {\"train_absolute_loss_objective\": {\"sum\": 0.8173713493347168, \"count\": 1, \"min\": 0.8173713493347168, \"max\": 0.8173713493347168}}}\u001b[0m\n",
      "\u001b[34m#metrics {\"StartTime\": 1709883143.129673, \"EndTime\": 1709883143.1296885, \"Dimensions\": {\"Algorithm\": \"Linear Learner\", \"Host\": \"algo-1\", \"Operation\": \"training\", \"epoch\": 3, \"model\": 10}, \"Metrics\": {\"train_absolute_loss_objective\": {\"sum\": 0.8242135143280029, \"count\": 1, \"min\": 0.8242135143280029, \"max\": 0.8242135143280029}}}\u001b[0m\n",
      "\u001b[34m#metrics {\"StartTime\": 1709883143.129743, \"EndTime\": 1709883143.1297581, \"Dimensions\": {\"Algorithm\": \"Linear Learner\", \"Host\": \"algo-1\", \"Operation\": \"training\", \"epoch\": 3, \"model\": 11}, \"Metrics\": {\"train_absolute_loss_objective\": {\"sum\": 0.8094164371490479, \"count\": 1, \"min\": 0.8094164371490479, \"max\": 0.8094164371490479}}}\u001b[0m\n",
      "\u001b[34m#metrics {\"StartTime\": 1709883143.1298127, \"EndTime\": 1709883143.1298277, \"Dimensions\": {\"Algorithm\": \"Linear Learner\", \"Host\": \"algo-1\", \"Operation\": \"training\", \"epoch\": 3, \"model\": 12}, \"Metrics\": {\"train_absolute_loss_objective\": {\"sum\": 0.5108829712867737, \"count\": 1, \"min\": 0.5108829712867737, \"max\": 0.5108829712867737}}}\u001b[0m\n",
      "\u001b[34m#metrics {\"StartTime\": 1709883143.1298754, \"EndTime\": 1709883143.1298904, \"Dimensions\": {\"Algorithm\": \"Linear Learner\", \"Host\": \"algo-1\", \"Operation\": \"training\", \"epoch\": 3, \"model\": 13}, \"Metrics\": {\"train_absolute_loss_objective\": {\"sum\": 0.4595944786071777, \"count\": 1, \"min\": 0.4595944786071777, \"max\": 0.4595944786071777}}}\u001b[0m\n",
      "\u001b[34m#metrics {\"StartTime\": 1709883143.1299448, \"EndTime\": 1709883143.1299598, \"Dimensions\": {\"Algorithm\": \"Linear Learner\", \"Host\": \"algo-1\", \"Operation\": \"training\", \"epoch\": 3, \"model\": 14}, \"Metrics\": {\"train_absolute_loss_objective\": {\"sum\": 0.5115419864654541, \"count\": 1, \"min\": 0.5115419864654541, \"max\": 0.5115419864654541}}}\u001b[0m\n",
      "\u001b[34m#metrics {\"StartTime\": 1709883143.1300144, \"EndTime\": 1709883143.1300304, \"Dimensions\": {\"Algorithm\": \"Linear Learner\", \"Host\": \"algo-1\", \"Operation\": \"training\", \"epoch\": 3, \"model\": 15}, \"Metrics\": {\"train_absolute_loss_objective\": {\"sum\": 0.3998896336555481, \"count\": 1, \"min\": 0.3998896336555481, \"max\": 0.3998896336555481}}}\u001b[0m\n",
      "\u001b[34m#metrics {\"StartTime\": 1709883143.1300793, \"EndTime\": 1709883143.130095, \"Dimensions\": {\"Algorithm\": \"Linear Learner\", \"Host\": \"algo-1\", \"Operation\": \"training\", \"epoch\": 3, \"model\": 16}, \"Metrics\": {\"train_absolute_loss_objective\": {\"sum\": 0.7947083950042725, \"count\": 1, \"min\": 0.7947083950042725, \"max\": 0.7947083950042725}}}\u001b[0m\n",
      "\u001b[34m#metrics {\"StartTime\": 1709883143.13015, \"EndTime\": 1709883143.1301653, \"Dimensions\": {\"Algorithm\": \"Linear Learner\", \"Host\": \"algo-1\", \"Operation\": \"training\", \"epoch\": 3, \"model\": 17}, \"Metrics\": {\"train_absolute_loss_objective\": {\"sum\": 0.844440393447876, \"count\": 1, \"min\": 0.844440393447876, \"max\": 0.844440393447876}}}\u001b[0m\n",
      "\u001b[34m#metrics {\"StartTime\": 1709883143.1302133, \"EndTime\": 1709883143.13023, \"Dimensions\": {\"Algorithm\": \"Linear Learner\", \"Host\": \"algo-1\", \"Operation\": \"training\", \"epoch\": 3, \"model\": 18}, \"Metrics\": {\"train_absolute_loss_objective\": {\"sum\": 0.8211063671112061, \"count\": 1, \"min\": 0.8211063671112061, \"max\": 0.8211063671112061}}}\u001b[0m\n",
      "\u001b[34m#metrics {\"StartTime\": 1709883143.130287, \"EndTime\": 1709883143.1303022, \"Dimensions\": {\"Algorithm\": \"Linear Learner\", \"Host\": \"algo-1\", \"Operation\": \"training\", \"epoch\": 3, \"model\": 19}, \"Metrics\": {\"train_absolute_loss_objective\": {\"sum\": 0.8182002925872802, \"count\": 1, \"min\": 0.8182002925872802, \"max\": 0.8182002925872802}}}\u001b[0m\n",
      "\u001b[34m#metrics {\"StartTime\": 1709883143.1303573, \"EndTime\": 1709883143.1303728, \"Dimensions\": {\"Algorithm\": \"Linear Learner\", \"Host\": \"algo-1\", \"Operation\": \"training\", \"epoch\": 3, \"model\": 20}, \"Metrics\": {\"train_absolute_loss_objective\": {\"sum\": 0.4720004987716675, \"count\": 1, \"min\": 0.4720004987716675, \"max\": 0.4720004987716675}}}\u001b[0m\n",
      "\u001b[34m#metrics {\"StartTime\": 1709883143.1304212, \"EndTime\": 1709883143.1304364, \"Dimensions\": {\"Algorithm\": \"Linear Learner\", \"Host\": \"algo-1\", \"Operation\": \"training\", \"epoch\": 3, \"model\": 21}, \"Metrics\": {\"train_absolute_loss_objective\": {\"sum\": 0.4731044387817383, \"count\": 1, \"min\": 0.4731044387817383, \"max\": 0.4731044387817383}}}\u001b[0m\n",
      "\u001b[34m#metrics {\"StartTime\": 1709883143.1304796, \"EndTime\": 1709883143.1305144, \"Dimensions\": {\"Algorithm\": \"Linear Learner\", \"Host\": \"algo-1\", \"Operation\": \"training\", \"epoch\": 3, \"model\": 22}, \"Metrics\": {\"train_absolute_loss_objective\": {\"sum\": 0.3085585069656372, \"count\": 1, \"min\": 0.3085585069656372, \"max\": 0.3085585069656372}}}\u001b[0m\n",
      "\u001b[34m#metrics {\"StartTime\": 1709883143.130573, \"EndTime\": 1709883143.1305892, \"Dimensions\": {\"Algorithm\": \"Linear Learner\", \"Host\": \"algo-1\", \"Operation\": \"training\", \"epoch\": 3, \"model\": 23}, \"Metrics\": {\"train_absolute_loss_objective\": {\"sum\": 0.3954634404182434, \"count\": 1, \"min\": 0.3954634404182434, \"max\": 0.3954634404182434}}}\u001b[0m\n",
      "\u001b[34m#metrics {\"StartTime\": 1709883143.130645, \"EndTime\": 1709883143.1306608, \"Dimensions\": {\"Algorithm\": \"Linear Learner\", \"Host\": \"algo-1\", \"Operation\": \"training\", \"epoch\": 3, \"model\": 24}, \"Metrics\": {\"train_absolute_loss_objective\": {\"sum\": 0.9065701675415039, \"count\": 1, \"min\": 0.9065701675415039, \"max\": 0.9065701675415039}}}\u001b[0m\n",
      "\u001b[34m#metrics {\"StartTime\": 1709883143.1307626, \"EndTime\": 1709883143.1307812, \"Dimensions\": {\"Algorithm\": \"Linear Learner\", \"Host\": \"algo-1\", \"Operation\": \"training\", \"epoch\": 3, \"model\": 25}, \"Metrics\": {\"train_absolute_loss_objective\": {\"sum\": 0.8877401256561279, \"count\": 1, \"min\": 0.8877401256561279, \"max\": 0.8877401256561279}}}\u001b[0m\n",
      "\u001b[34m#metrics {\"StartTime\": 1709883143.1308694, \"EndTime\": 1709883143.1308866, \"Dimensions\": {\"Algorithm\": \"Linear Learner\", \"Host\": \"algo-1\", \"Operation\": \"training\", \"epoch\": 3, \"model\": 26}, \"Metrics\": {\"train_absolute_loss_objective\": {\"sum\": 0.8961194229125976, \"count\": 1, \"min\": 0.8961194229125976, \"max\": 0.8961194229125976}}}\u001b[0m\n",
      "\u001b[34m#metrics {\"StartTime\": 1709883143.1309452, \"EndTime\": 1709883143.1309612, \"Dimensions\": {\"Algorithm\": \"Linear Learner\", \"Host\": \"algo-1\", \"Operation\": \"training\", \"epoch\": 3, \"model\": 27}, \"Metrics\": {\"train_absolute_loss_objective\": {\"sum\": 0.8998197746276856, \"count\": 1, \"min\": 0.8998197746276856, \"max\": 0.8998197746276856}}}\u001b[0m\n",
      "\u001b[34m#metrics {\"StartTime\": 1709883143.1310132, \"EndTime\": 1709883143.1310296, \"Dimensions\": {\"Algorithm\": \"Linear Learner\", \"Host\": \"algo-1\", \"Operation\": \"training\", \"epoch\": 3, \"model\": 28}, \"Metrics\": {\"train_absolute_loss_objective\": {\"sum\": 0.9638683700561523, \"count\": 1, \"min\": 0.9638683700561523, \"max\": 0.9638683700561523}}}\u001b[0m\n",
      "\u001b[34m#metrics {\"StartTime\": 1709883143.1311226, \"EndTime\": 1709883143.131141, \"Dimensions\": {\"Algorithm\": \"Linear Learner\", \"Host\": \"algo-1\", \"Operation\": \"training\", \"epoch\": 3, \"model\": 29}, \"Metrics\": {\"train_absolute_loss_objective\": {\"sum\": 0.9649349784851075, \"count\": 1, \"min\": 0.9649349784851075, \"max\": 0.9649349784851075}}}\u001b[0m\n",
      "\u001b[34m#metrics {\"StartTime\": 1709883143.131197, \"EndTime\": 1709883143.1312115, \"Dimensions\": {\"Algorithm\": \"Linear Learner\", \"Host\": \"algo-1\", \"Operation\": \"training\", \"epoch\": 3, \"model\": 30}, \"Metrics\": {\"train_absolute_loss_objective\": {\"sum\": 0.9636010551452636, \"count\": 1, \"min\": 0.9636010551452636, \"max\": 0.9636010551452636}}}\u001b[0m\n",
      "\u001b[34m#metrics {\"StartTime\": 1709883143.1312602, \"EndTime\": 1709883143.1312711, \"Dimensions\": {\"Algorithm\": \"Linear Learner\", \"Host\": \"algo-1\", \"Operation\": \"training\", \"epoch\": 3, \"model\": 31}, \"Metrics\": {\"train_absolute_loss_objective\": {\"sum\": 0.9416345596313477, \"count\": 1, \"min\": 0.9416345596313477, \"max\": 0.9416345596313477}}}\u001b[0m\n",
      "\u001b[34m[03/08/2024 07:32:23 INFO 140046607693632] #quality_metric: host=algo-1, epoch=3, train absolute_loss_objective <loss>=0.8294353580474854\u001b[0m\n",
      "\u001b[34m[03/08/2024 07:32:23 INFO 140046607693632] #early_stopping_criteria_metric: host=algo-1, epoch=3, criteria=absolute_loss_objective, value=0.3085585069656372\u001b[0m\n",
      "\u001b[34m[03/08/2024 07:32:23 INFO 140046607693632] Epoch 3: Loss improved. Updating best model\u001b[0m\n",
      "\u001b[34m[03/08/2024 07:32:23 INFO 140046607693632] Saving model for epoch: 3\u001b[0m\n",
      "\u001b[34m[03/08/2024 07:32:23 INFO 140046607693632] Saved checkpoint to \"/tmp/tmp6u83t917/mx-mod-0000.params\"\u001b[0m\n",
      "\u001b[34m[03/08/2024 07:32:23 INFO 140046607693632] #progress_metric: host=algo-1, completed 8.0 % of epochs\u001b[0m\n",
      "\u001b[34m#metrics {\"StartTime\": 1709883143.0301664, \"EndTime\": 1709883143.1387894, \"Dimensions\": {\"Algorithm\": \"Linear Learner\", \"Host\": \"algo-1\", \"Operation\": \"training\", \"epoch\": 3, \"Meta\": \"training_data_iter\"}, \"Metrics\": {\"Total Records Seen\": {\"sum\": 145.0, \"count\": 1, \"min\": 145, \"max\": 145}, \"Total Batches Seen\": {\"sum\": 31.0, \"count\": 1, \"min\": 31, \"max\": 31}, \"Max Records Seen Between Resets\": {\"sum\": 28.0, \"count\": 1, \"min\": 28, \"max\": 28}, \"Max Batches Seen Between Resets\": {\"sum\": 6.0, \"count\": 1, \"min\": 6, \"max\": 6}, \"Reset Count\": {\"sum\": 6.0, \"count\": 1, \"min\": 6, \"max\": 6}, \"Number of Records Since Last Reset\": {\"sum\": 28.0, \"count\": 1, \"min\": 28, \"max\": 28}, \"Number of Batches Since Last Reset\": {\"sum\": 6.0, \"count\": 1, \"min\": 6, \"max\": 6}}}\u001b[0m\n",
      "\u001b[34m[03/08/2024 07:32:23 INFO 140046607693632] #throughput_metric: host=algo-1, train throughput=257.49924245912456 records/second\u001b[0m\n",
      "\u001b[34m[2024-03-08 07:32:23.221] [tensorio] [info] epoch_stats={\"data_pipeline\": \"/opt/ml/input/data/train\", \"epoch\": 12, \"duration\": 82, \"num_examples\": 6, \"num_bytes\": 1344}\u001b[0m\n",
      "\u001b[34m#metrics {\"StartTime\": 1709883143.221941, \"EndTime\": 1709883143.2220445, \"Dimensions\": {\"Algorithm\": \"Linear Learner\", \"Host\": \"algo-1\", \"Operation\": \"training\", \"epoch\": 4, \"model\": 0}, \"Metrics\": {\"train_absolute_loss_objective\": {\"sum\": 0.8082707118988037, \"count\": 1, \"min\": 0.8082707118988037, \"max\": 0.8082707118988037}}}\u001b[0m\n",
      "\u001b[34m#metrics {\"StartTime\": 1709883143.2222025, \"EndTime\": 1709883143.2222242, \"Dimensions\": {\"Algorithm\": \"Linear Learner\", \"Host\": \"algo-1\", \"Operation\": \"training\", \"epoch\": 4, \"model\": 1}, \"Metrics\": {\"train_absolute_loss_objective\": {\"sum\": 0.8272347640991211, \"count\": 1, \"min\": 0.8272347640991211, \"max\": 0.8272347640991211}}}\u001b[0m\n",
      "\u001b[34m#metrics {\"StartTime\": 1709883143.2222853, \"EndTime\": 1709883143.222303, \"Dimensions\": {\"Algorithm\": \"Linear Learner\", \"Host\": \"algo-1\", \"Operation\": \"training\", \"epoch\": 4, \"model\": 2}, \"Metrics\": {\"train_absolute_loss_objective\": {\"sum\": 0.8106351375579834, \"count\": 1, \"min\": 0.8106351375579834, \"max\": 0.8106351375579834}}}\u001b[0m\n",
      "\u001b[34m#metrics {\"StartTime\": 1709883143.2224061, \"EndTime\": 1709883143.2224245, \"Dimensions\": {\"Algorithm\": \"Linear Learner\", \"Host\": \"algo-1\", \"Operation\": \"training\", \"epoch\": 4, \"model\": 3}, \"Metrics\": {\"train_absolute_loss_objective\": {\"sum\": 0.8262372589111329, \"count\": 1, \"min\": 0.8262372589111329, \"max\": 0.8262372589111329}}}\u001b[0m\n",
      "\u001b[34m#metrics {\"StartTime\": 1709883143.2224762, \"EndTime\": 1709883143.2224917, \"Dimensions\": {\"Algorithm\": \"Linear Learner\", \"Host\": \"algo-1\", \"Operation\": \"training\", \"epoch\": 4, \"model\": 4}, \"Metrics\": {\"train_absolute_loss_objective\": {\"sum\": 0.489575080871582, \"count\": 1, \"min\": 0.489575080871582, \"max\": 0.489575080871582}}}\u001b[0m\n",
      "\u001b[34m#metrics {\"StartTime\": 1709883143.222573, \"EndTime\": 1709883143.2225904, \"Dimensions\": {\"Algorithm\": \"Linear Learner\", \"Host\": \"algo-1\", \"Operation\": \"training\", \"epoch\": 4, \"model\": 5}, \"Metrics\": {\"train_absolute_loss_objective\": {\"sum\": 0.4648585748672485, \"count\": 1, \"min\": 0.4648585748672485, \"max\": 0.4648585748672485}}}\u001b[0m\n",
      "\u001b[34m#metrics {\"StartTime\": 1709883143.2226374, \"EndTime\": 1709883143.2226539, \"Dimensions\": {\"Algorithm\": \"Linear Learner\", \"Host\": \"algo-1\", \"Operation\": \"training\", \"epoch\": 4, \"model\": 6}, \"Metrics\": {\"train_absolute_loss_objective\": {\"sum\": 0.38490421295166016, \"count\": 1, \"min\": 0.38490421295166016, \"max\": 0.38490421295166016}}}\u001b[0m\n",
      "\u001b[34m#metrics {\"StartTime\": 1709883143.2227068, \"EndTime\": 1709883143.2227228, \"Dimensions\": {\"Algorithm\": \"Linear Learner\", \"Host\": \"algo-1\", \"Operation\": \"training\", \"epoch\": 4, \"model\": 7}, \"Metrics\": {\"train_absolute_loss_objective\": {\"sum\": 0.45706122875213623, \"count\": 1, \"min\": 0.45706122875213623, \"max\": 0.45706122875213623}}}\u001b[0m\n",
      "\u001b[34m#metrics {\"StartTime\": 1709883143.2227771, \"EndTime\": 1709883143.2228105, \"Dimensions\": {\"Algorithm\": \"Linear Learner\", \"Host\": \"algo-1\", \"Operation\": \"training\", \"epoch\": 4, \"model\": 8}, \"Metrics\": {\"train_absolute_loss_objective\": {\"sum\": 0.8630804920196533, \"count\": 1, \"min\": 0.8630804920196533, \"max\": 0.8630804920196533}}}\u001b[0m\n",
      "\u001b[34m#metrics {\"StartTime\": 1709883143.2228599, \"EndTime\": 1709883143.2228754, \"Dimensions\": {\"Algorithm\": \"Linear Learner\", \"Host\": \"algo-1\", \"Operation\": \"training\", \"epoch\": 4, \"model\": 9}, \"Metrics\": {\"train_absolute_loss_objective\": {\"sum\": 0.7959315681457519, \"count\": 1, \"min\": 0.7959315681457519, \"max\": 0.7959315681457519}}}\u001b[0m\n",
      "\u001b[34m#metrics {\"StartTime\": 1709883143.2229185, \"EndTime\": 1709883143.2229342, \"Dimensions\": {\"Algorithm\": \"Linear Learner\", \"Host\": \"algo-1\", \"Operation\": \"training\", \"epoch\": 4, \"model\": 10}, \"Metrics\": {\"train_absolute_loss_objective\": {\"sum\": 0.8030533409118652, \"count\": 1, \"min\": 0.8030533409118652, \"max\": 0.8030533409118652}}}\u001b[0m\n",
      "\u001b[34m#metrics {\"StartTime\": 1709883143.222982, \"EndTime\": 1709883143.2229986, \"Dimensions\": {\"Algorithm\": \"Linear Learner\", \"Host\": \"algo-1\", \"Operation\": \"training\", \"epoch\": 4, \"model\": 11}, \"Metrics\": {\"train_absolute_loss_objective\": {\"sum\": 0.7879767417907715, \"count\": 1, \"min\": 0.7879767417907715, \"max\": 0.7879767417907715}}}\u001b[0m\n",
      "\u001b[34m#metrics {\"StartTime\": 1709883143.2230535, \"EndTime\": 1709883143.22307, \"Dimensions\": {\"Algorithm\": \"Linear Learner\", \"Host\": \"algo-1\", \"Operation\": \"training\", \"epoch\": 4, \"model\": 12}, \"Metrics\": {\"train_absolute_loss_objective\": {\"sum\": 0.45059688568115236, \"count\": 1, \"min\": 0.45059688568115236, \"max\": 0.45059688568115236}}}\u001b[0m\n",
      "\u001b[34m#metrics {\"StartTime\": 1709883143.2231166, \"EndTime\": 1709883143.223132, \"Dimensions\": {\"Algorithm\": \"Linear Learner\", \"Host\": \"algo-1\", \"Operation\": \"training\", \"epoch\": 4, \"model\": 13}, \"Metrics\": {\"train_absolute_loss_objective\": {\"sum\": 0.41383297443389894, \"count\": 1, \"min\": 0.41383297443389894, \"max\": 0.41383297443389894}}}\u001b[0m\n",
      "\u001b[34m#metrics {\"StartTime\": 1709883143.2231846, \"EndTime\": 1709883143.2232006, \"Dimensions\": {\"Algorithm\": \"Linear Learner\", \"Host\": \"algo-1\", \"Operation\": \"training\", \"epoch\": 4, \"model\": 14}, \"Metrics\": {\"train_absolute_loss_objective\": {\"sum\": 0.45187888145446775, \"count\": 1, \"min\": 0.45187888145446775, \"max\": 0.45187888145446775}}}\u001b[0m\n",
      "\u001b[34m#metrics {\"StartTime\": 1709883143.2232583, \"EndTime\": 1709883143.2232742, \"Dimensions\": {\"Algorithm\": \"Linear Learner\", \"Host\": \"algo-1\", \"Operation\": \"training\", \"epoch\": 4, \"model\": 15}, \"Metrics\": {\"train_absolute_loss_objective\": {\"sum\": 0.4497140550613403, \"count\": 1, \"min\": 0.4497140550613403, \"max\": 0.4497140550613403}}}\u001b[0m\n",
      "\u001b[34m#metrics {\"StartTime\": 1709883143.2233295, \"EndTime\": 1709883143.2233465, \"Dimensions\": {\"Algorithm\": \"Linear Learner\", \"Host\": \"algo-1\", \"Operation\": \"training\", \"epoch\": 4, \"model\": 16}, \"Metrics\": {\"train_absolute_loss_objective\": {\"sum\": 0.7741094493865966, \"count\": 1, \"min\": 0.7741094493865966, \"max\": 0.7741094493865966}}}\u001b[0m\n",
      "\u001b[34m#metrics {\"StartTime\": 1709883143.2234192, \"EndTime\": 1709883143.2234364, \"Dimensions\": {\"Algorithm\": \"Linear Learner\", \"Host\": \"algo-1\", \"Operation\": \"training\", \"epoch\": 4, \"model\": 17}, \"Metrics\": {\"train_absolute_loss_objective\": {\"sum\": 0.8234540462493897, \"count\": 1, \"min\": 0.8234540462493897, \"max\": 0.8234540462493897}}}\u001b[0m\n",
      "\u001b[34m#metrics {\"StartTime\": 1709883143.2234914, \"EndTime\": 1709883143.2235062, \"Dimensions\": {\"Algorithm\": \"Linear Learner\", \"Host\": \"algo-1\", \"Operation\": \"training\", \"epoch\": 4, \"model\": 18}, \"Metrics\": {\"train_absolute_loss_objective\": {\"sum\": 0.8004430294036865, \"count\": 1, \"min\": 0.8004430294036865, \"max\": 0.8004430294036865}}}\u001b[0m\n",
      "\u001b[34m#metrics {\"StartTime\": 1709883143.2235615, \"EndTime\": 1709883143.2235765, \"Dimensions\": {\"Algorithm\": \"Linear Learner\", \"Host\": \"algo-1\", \"Operation\": \"training\", \"epoch\": 4, \"model\": 19}, \"Metrics\": {\"train_absolute_loss_objective\": {\"sum\": 0.7972733783721924, \"count\": 1, \"min\": 0.7972733783721924, \"max\": 0.7972733783721924}}}\u001b[0m\n",
      "\u001b[34m#metrics {\"StartTime\": 1709883143.2236285, \"EndTime\": 1709883143.2236452, \"Dimensions\": {\"Algorithm\": \"Linear Learner\", \"Host\": \"algo-1\", \"Operation\": \"training\", \"epoch\": 4, \"model\": 20}, \"Metrics\": {\"train_absolute_loss_objective\": {\"sum\": 0.533608283996582, \"count\": 1, \"min\": 0.533608283996582, \"max\": 0.533608283996582}}}\u001b[0m\n",
      "\u001b[34m#metrics {\"StartTime\": 1709883143.2236981, \"EndTime\": 1709883143.223713, \"Dimensions\": {\"Algorithm\": \"Linear Learner\", \"Host\": \"algo-1\", \"Operation\": \"training\", \"epoch\": 4, \"model\": 21}, \"Metrics\": {\"train_absolute_loss_objective\": {\"sum\": 0.5342214918136596, \"count\": 1, \"min\": 0.5342214918136596, \"max\": 0.5342214918136596}}}\u001b[0m\n",
      "\u001b[34m#metrics {\"StartTime\": 1709883143.2237613, \"EndTime\": 1709883143.2237773, \"Dimensions\": {\"Algorithm\": \"Linear Learner\", \"Host\": \"algo-1\", \"Operation\": \"training\", \"epoch\": 4, \"model\": 22}, \"Metrics\": {\"train_absolute_loss_objective\": {\"sum\": 0.5049460029602051, \"count\": 1, \"min\": 0.5049460029602051, \"max\": 0.5049460029602051}}}\u001b[0m\n",
      "\u001b[34m#metrics {\"StartTime\": 1709883143.2238317, \"EndTime\": 1709883143.2238467, \"Dimensions\": {\"Algorithm\": \"Linear Learner\", \"Host\": \"algo-1\", \"Operation\": \"training\", \"epoch\": 4, \"model\": 23}, \"Metrics\": {\"train_absolute_loss_objective\": {\"sum\": 0.48718876838684083, \"count\": 1, \"min\": 0.48718876838684083, \"max\": 0.48718876838684083}}}\u001b[0m\n",
      "\u001b[34m#metrics {\"StartTime\": 1709883143.2238967, \"EndTime\": 1709883143.2239122, \"Dimensions\": {\"Algorithm\": \"Linear Learner\", \"Host\": \"algo-1\", \"Operation\": \"training\", \"epoch\": 4, \"model\": 24}, \"Metrics\": {\"train_absolute_loss_objective\": {\"sum\": 0.908712272644043, \"count\": 1, \"min\": 0.908712272644043, \"max\": 0.908712272644043}}}\u001b[0m\n",
      "\u001b[34m#metrics {\"StartTime\": 1709883143.2239656, \"EndTime\": 1709883143.223983, \"Dimensions\": {\"Algorithm\": \"Linear Learner\", \"Host\": \"algo-1\", \"Operation\": \"training\", \"epoch\": 4, \"model\": 25}, \"Metrics\": {\"train_absolute_loss_objective\": {\"sum\": 0.8913424777984619, \"count\": 1, \"min\": 0.8913424777984619, \"max\": 0.8913424777984619}}}\u001b[0m\n",
      "\u001b[34m#metrics {\"StartTime\": 1709883143.224038, \"EndTime\": 1709883143.224054, \"Dimensions\": {\"Algorithm\": \"Linear Learner\", \"Host\": \"algo-1\", \"Operation\": \"training\", \"epoch\": 4, \"model\": 26}, \"Metrics\": {\"train_absolute_loss_objective\": {\"sum\": 0.9007176589965821, \"count\": 1, \"min\": 0.9007176589965821, \"max\": 0.9007176589965821}}}\u001b[0m\n",
      "\u001b[34m#metrics {\"StartTime\": 1709883143.224099, \"EndTime\": 1709883143.2241135, \"Dimensions\": {\"Algorithm\": \"Linear Learner\", \"Host\": \"algo-1\", \"Operation\": \"training\", \"epoch\": 4, \"model\": 27}, \"Metrics\": {\"train_absolute_loss_objective\": {\"sum\": 0.8958140182495117, \"count\": 1, \"min\": 0.8958140182495117, \"max\": 0.8958140182495117}}}\u001b[0m\n",
      "\u001b[34m#metrics {\"StartTime\": 1709883143.2241578, \"EndTime\": 1709883143.2241716, \"Dimensions\": {\"Algorithm\": \"Linear Learner\", \"Host\": \"algo-1\", \"Operation\": \"training\", \"epoch\": 4, \"model\": 28}, \"Metrics\": {\"train_absolute_loss_objective\": {\"sum\": 0.954682912826538, \"count\": 1, \"min\": 0.954682912826538, \"max\": 0.954682912826538}}}\u001b[0m\n",
      "\u001b[34m#metrics {\"StartTime\": 1709883143.2242677, \"EndTime\": 1709883143.2242868, \"Dimensions\": {\"Algorithm\": \"Linear Learner\", \"Host\": \"algo-1\", \"Operation\": \"training\", \"epoch\": 4, \"model\": 29}, \"Metrics\": {\"train_absolute_loss_objective\": {\"sum\": 0.9559747695922851, \"count\": 1, \"min\": 0.9559747695922851, \"max\": 0.9559747695922851}}}\u001b[0m\n",
      "\u001b[34m#metrics {\"StartTime\": 1709883143.224347, \"EndTime\": 1709883143.2243621, \"Dimensions\": {\"Algorithm\": \"Linear Learner\", \"Host\": \"algo-1\", \"Operation\": \"training\", \"epoch\": 4, \"model\": 30}, \"Metrics\": {\"train_absolute_loss_objective\": {\"sum\": 0.9513549137115479, \"count\": 1, \"min\": 0.9513549137115479, \"max\": 0.9513549137115479}}}\u001b[0m\n",
      "\u001b[34m#metrics {\"StartTime\": 1709883143.2244153, \"EndTime\": 1709883143.2244303, \"Dimensions\": {\"Algorithm\": \"Linear Learner\", \"Host\": \"algo-1\", \"Operation\": \"training\", \"epoch\": 4, \"model\": 31}, \"Metrics\": {\"train_absolute_loss_objective\": {\"sum\": 0.9786183357238769, \"count\": 1, \"min\": 0.9786183357238769, \"max\": 0.9786183357238769}}}\u001b[0m\n",
      "\u001b[34m[03/08/2024 07:32:23 INFO 140046607693632] #quality_metric: host=algo-1, epoch=4, train absolute_loss_objective <loss>=0.8082707118988037\u001b[0m\n",
      "\u001b[34m[03/08/2024 07:32:23 INFO 140046607693632] #early_stopping_criteria_metric: host=algo-1, epoch=4, criteria=absolute_loss_objective, value=0.38490421295166016\u001b[0m\n",
      "\u001b[34m[03/08/2024 07:32:23 INFO 140046607693632] Saving model for epoch: 4\u001b[0m\n",
      "\u001b[34m[03/08/2024 07:32:23 INFO 140046607693632] Saved checkpoint to \"/tmp/tmpeeh7edrl/mx-mod-0000.params\"\u001b[0m\n",
      "\u001b[34m[03/08/2024 07:32:23 INFO 140046607693632] #progress_metric: host=algo-1, completed 10.0 % of epochs\u001b[0m\n",
      "\u001b[34m#metrics {\"StartTime\": 1709883143.1390371, \"EndTime\": 1709883143.2316828, \"Dimensions\": {\"Algorithm\": \"Linear Learner\", \"Host\": \"algo-1\", \"Operation\": \"training\", \"epoch\": 4, \"Meta\": \"training_data_iter\"}, \"Metrics\": {\"Total Records Seen\": {\"sum\": 173.0, \"count\": 1, \"min\": 173, \"max\": 173}, \"Total Batches Seen\": {\"sum\": 37.0, \"count\": 1, \"min\": 37, \"max\": 37}, \"Max Records Seen Between Resets\": {\"sum\": 28.0, \"count\": 1, \"min\": 28, \"max\": 28}, \"Max Batches Seen Between Resets\": {\"sum\": 6.0, \"count\": 1, \"min\": 6, \"max\": 6}, \"Reset Count\": {\"sum\": 7.0, \"count\": 1, \"min\": 7, \"max\": 7}, \"Number of Records Since Last Reset\": {\"sum\": 28.0, \"count\": 1, \"min\": 28, \"max\": 28}, \"Number of Batches Since Last Reset\": {\"sum\": 6.0, \"count\": 1, \"min\": 6, \"max\": 6}}}\u001b[0m\n",
      "\u001b[34m[03/08/2024 07:32:23 INFO 140046607693632] #throughput_metric: host=algo-1, train throughput=301.83534830166957 records/second\u001b[0m\n",
      "\u001b[34m[2024-03-08 07:32:23.331] [tensorio] [info] epoch_stats={\"data_pipeline\": \"/opt/ml/input/data/train\", \"epoch\": 14, \"duration\": 99, \"num_examples\": 6, \"num_bytes\": 1344}\u001b[0m\n",
      "\u001b[34m#metrics {\"StartTime\": 1709883143.331289, \"EndTime\": 1709883143.331366, \"Dimensions\": {\"Algorithm\": \"Linear Learner\", \"Host\": \"algo-1\", \"Operation\": \"training\", \"epoch\": 5, \"model\": 0}, \"Metrics\": {\"train_absolute_loss_objective\": {\"sum\": 0.7888249683380127, \"count\": 1, \"min\": 0.7888249683380127, \"max\": 0.7888249683380127}}}\u001b[0m\n",
      "\u001b[34m#metrics {\"StartTime\": 1709883143.3314478, \"EndTime\": 1709883143.3314626, \"Dimensions\": {\"Algorithm\": \"Linear Learner\", \"Host\": \"algo-1\", \"Operation\": \"training\", \"epoch\": 5, \"model\": 1}, \"Metrics\": {\"train_absolute_loss_objective\": {\"sum\": 0.8073180198669434, \"count\": 1, \"min\": 0.8073180198669434, \"max\": 0.8073180198669434}}}\u001b[0m\n",
      "\u001b[34m#metrics {\"StartTime\": 1709883143.331499, \"EndTime\": 1709883143.3315094, \"Dimensions\": {\"Algorithm\": \"Linear Learner\", \"Host\": \"algo-1\", \"Operation\": \"training\", \"epoch\": 5, \"model\": 2}, \"Metrics\": {\"train_absolute_loss_objective\": {\"sum\": 0.7911738395690918, \"count\": 1, \"min\": 0.7911738395690918, \"max\": 0.7911738395690918}}}\u001b[0m\n",
      "\u001b[34m#metrics {\"StartTime\": 1709883143.3315396, \"EndTime\": 1709883143.331549, \"Dimensions\": {\"Algorithm\": \"Linear Learner\", \"Host\": \"algo-1\", \"Operation\": \"training\", \"epoch\": 5, \"model\": 3}, \"Metrics\": {\"train_absolute_loss_objective\": {\"sum\": 0.8063270854949951, \"count\": 1, \"min\": 0.8063270854949951, \"max\": 0.8063270854949951}}}\u001b[0m\n",
      "\u001b[34m#metrics {\"StartTime\": 1709883143.3315783, \"EndTime\": 1709883143.3315873, \"Dimensions\": {\"Algorithm\": \"Linear Learner\", \"Host\": \"algo-1\", \"Operation\": \"training\", \"epoch\": 5, \"model\": 4}, \"Metrics\": {\"train_absolute_loss_objective\": {\"sum\": 0.24690382480621337, \"count\": 1, \"min\": 0.24690382480621337, \"max\": 0.24690382480621337}}}\u001b[0m\n",
      "\u001b[34m#metrics {\"StartTime\": 1709883143.3318539, \"EndTime\": 1709883143.3318713, \"Dimensions\": {\"Algorithm\": \"Linear Learner\", \"Host\": \"algo-1\", \"Operation\": \"training\", \"epoch\": 5, \"model\": 5}, \"Metrics\": {\"train_absolute_loss_objective\": {\"sum\": 0.24126497983932496, \"count\": 1, \"min\": 0.24126497983932496, \"max\": 0.24126497983932496}}}\u001b[0m\n",
      "\u001b[34m#metrics {\"StartTime\": 1709883143.3319225, \"EndTime\": 1709883143.331934, \"Dimensions\": {\"Algorithm\": \"Linear Learner\", \"Host\": \"algo-1\", \"Operation\": \"training\", \"epoch\": 5, \"model\": 6}, \"Metrics\": {\"train_absolute_loss_objective\": {\"sum\": 0.20340426921844482, \"count\": 1, \"min\": 0.20340426921844482, \"max\": 0.20340426921844482}}}\u001b[0m\n",
      "\u001b[34m#metrics {\"StartTime\": 1709883143.331971, \"EndTime\": 1709883143.3319802, \"Dimensions\": {\"Algorithm\": \"Linear Learner\", \"Host\": \"algo-1\", \"Operation\": \"training\", \"epoch\": 5, \"model\": 7}, \"Metrics\": {\"train_absolute_loss_objective\": {\"sum\": 0.2422058367729187, \"count\": 1, \"min\": 0.2422058367729187, \"max\": 0.2422058367729187}}}\u001b[0m\n",
      "\u001b[34m#metrics {\"StartTime\": 1709883143.3320107, \"EndTime\": 1709883143.3320196, \"Dimensions\": {\"Algorithm\": \"Linear Learner\", \"Host\": \"algo-1\", \"Operation\": \"training\", \"epoch\": 5, \"model\": 8}, \"Metrics\": {\"train_absolute_loss_objective\": {\"sum\": 0.8432798385620117, \"count\": 1, \"min\": 0.8432798385620117, \"max\": 0.8432798385620117}}}\u001b[0m\n",
      "\u001b[34m#metrics {\"StartTime\": 1709883143.3320487, \"EndTime\": 1709883143.332057, \"Dimensions\": {\"Algorithm\": \"Linear Learner\", \"Host\": \"algo-1\", \"Operation\": \"training\", \"epoch\": 5, \"model\": 9}, \"Metrics\": {\"train_absolute_loss_objective\": {\"sum\": 0.776227388381958, \"count\": 1, \"min\": 0.776227388381958, \"max\": 0.776227388381958}}}\u001b[0m\n",
      "\u001b[34m#metrics {\"StartTime\": 1709883143.3320856, \"EndTime\": 1709883143.332094, \"Dimensions\": {\"Algorithm\": \"Linear Learner\", \"Host\": \"algo-1\", \"Operation\": \"training\", \"epoch\": 5, \"model\": 10}, \"Metrics\": {\"train_absolute_loss_objective\": {\"sum\": 0.7836482810974121, \"count\": 1, \"min\": 0.7836482810974121, \"max\": 0.7836482810974121}}}\u001b[0m\n",
      "\u001b[34m#metrics {\"StartTime\": 1709883143.3321252, \"EndTime\": 1709883143.3321345, \"Dimensions\": {\"Algorithm\": \"Linear Learner\", \"Host\": \"algo-1\", \"Operation\": \"training\", \"epoch\": 5, \"model\": 11}, \"Metrics\": {\"train_absolute_loss_objective\": {\"sum\": 0.7683249759674072, \"count\": 1, \"min\": 0.7683249759674072, \"max\": 0.7683249759674072}}}\u001b[0m\n",
      "\u001b[34m#metrics {\"StartTime\": 1709883143.3321636, \"EndTime\": 1709883143.332172, \"Dimensions\": {\"Algorithm\": \"Linear Learner\", \"Host\": \"algo-1\", \"Operation\": \"training\", \"epoch\": 5, \"model\": 12}, \"Metrics\": {\"train_absolute_loss_objective\": {\"sum\": 0.22965593338012696, \"count\": 1, \"min\": 0.22965593338012696, \"max\": 0.22965593338012696}}}\u001b[0m\n",
      "\u001b[34m#metrics {\"StartTime\": 1709883143.3322008, \"EndTime\": 1709883143.332209, \"Dimensions\": {\"Algorithm\": \"Linear Learner\", \"Host\": \"algo-1\", \"Operation\": \"training\", \"epoch\": 5, \"model\": 13}, \"Metrics\": {\"train_absolute_loss_objective\": {\"sum\": 0.20570472478866578, \"count\": 1, \"min\": 0.20570472478866578, \"max\": 0.20570472478866578}}}\u001b[0m\n",
      "\u001b[34m#metrics {\"StartTime\": 1709883143.3322423, \"EndTime\": 1709883143.3322513, \"Dimensions\": {\"Algorithm\": \"Linear Learner\", \"Host\": \"algo-1\", \"Operation\": \"training\", \"epoch\": 5, \"model\": 14}, \"Metrics\": {\"train_absolute_loss_objective\": {\"sum\": 0.23065573930740357, \"count\": 1, \"min\": 0.23065573930740357, \"max\": 0.23065573930740357}}}\u001b[0m\n",
      "\u001b[34m#metrics {\"StartTime\": 1709883143.3322806, \"EndTime\": 1709883143.332289, \"Dimensions\": {\"Algorithm\": \"Linear Learner\", \"Host\": \"algo-1\", \"Operation\": \"training\", \"epoch\": 5, \"model\": 15}, \"Metrics\": {\"train_absolute_loss_objective\": {\"sum\": 0.25874781131744384, \"count\": 1, \"min\": 0.25874781131744384, \"max\": 0.25874781131744384}}}\u001b[0m\n",
      "\u001b[34m#metrics {\"StartTime\": 1709883143.332317, \"EndTime\": 1709883143.3323255, \"Dimensions\": {\"Algorithm\": \"Linear Learner\", \"Host\": \"algo-1\", \"Operation\": \"training\", \"epoch\": 5, \"model\": 16}, \"Metrics\": {\"train_absolute_loss_objective\": {\"sum\": 0.7556867408752441, \"count\": 1, \"min\": 0.7556867408752441, \"max\": 0.7556867408752441}}}\u001b[0m\n",
      "\u001b[34m#metrics {\"StartTime\": 1709883143.3323572, \"EndTime\": 1709883143.332366, \"Dimensions\": {\"Algorithm\": \"Linear Learner\", \"Host\": \"algo-1\", \"Operation\": \"training\", \"epoch\": 5, \"model\": 17}, \"Metrics\": {\"train_absolute_loss_objective\": {\"sum\": 0.8042457008361816, \"count\": 1, \"min\": 0.8042457008361816, \"max\": 0.8042457008361816}}}\u001b[0m\n",
      "\u001b[34m#metrics {\"StartTime\": 1709883143.3323975, \"EndTime\": 1709883143.3324065, \"Dimensions\": {\"Algorithm\": \"Linear Learner\", \"Host\": \"algo-1\", \"Operation\": \"training\", \"epoch\": 5, \"model\": 18}, \"Metrics\": {\"train_absolute_loss_objective\": {\"sum\": 0.7817732238769531, \"count\": 1, \"min\": 0.7817732238769531, \"max\": 0.7817732238769531}}}\u001b[0m\n",
      "\u001b[34m#metrics {\"StartTime\": 1709883143.3324354, \"EndTime\": 1709883143.3324442, \"Dimensions\": {\"Algorithm\": \"Linear Learner\", \"Host\": \"algo-1\", \"Operation\": \"training\", \"epoch\": 5, \"model\": 19}, \"Metrics\": {\"train_absolute_loss_objective\": {\"sum\": 0.7783059883117676, \"count\": 1, \"min\": 0.7783059883117676, \"max\": 0.7783059883117676}}}\u001b[0m\n",
      "\u001b[34m#metrics {\"StartTime\": 1709883143.3324754, \"EndTime\": 1709883143.332484, \"Dimensions\": {\"Algorithm\": \"Linear Learner\", \"Host\": \"algo-1\", \"Operation\": \"training\", \"epoch\": 5, \"model\": 20}, \"Metrics\": {\"train_absolute_loss_objective\": {\"sum\": 0.8347744655609131, \"count\": 1, \"min\": 0.8347744655609131, \"max\": 0.8347744655609131}}}\u001b[0m\n",
      "\u001b[34m#metrics {\"StartTime\": 1709883143.332513, \"EndTime\": 1709883143.3325214, \"Dimensions\": {\"Algorithm\": \"Linear Learner\", \"Host\": \"algo-1\", \"Operation\": \"training\", \"epoch\": 5, \"model\": 21}, \"Metrics\": {\"train_absolute_loss_objective\": {\"sum\": 0.8496029138565063, \"count\": 1, \"min\": 0.8496029138565063, \"max\": 0.8496029138565063}}}\u001b[0m\n",
      "\u001b[34m#metrics {\"StartTime\": 1709883143.3325496, \"EndTime\": 1709883143.3325582, \"Dimensions\": {\"Algorithm\": \"Linear Learner\", \"Host\": \"algo-1\", \"Operation\": \"training\", \"epoch\": 5, \"model\": 22}, \"Metrics\": {\"train_absolute_loss_objective\": {\"sum\": 0.5587235641479492, \"count\": 1, \"min\": 0.5587235641479492, \"max\": 0.5587235641479492}}}\u001b[0m\n",
      "\u001b[34m#metrics {\"StartTime\": 1709883143.3325894, \"EndTime\": 1709883143.3325982, \"Dimensions\": {\"Algorithm\": \"Linear Learner\", \"Host\": \"algo-1\", \"Operation\": \"training\", \"epoch\": 5, \"model\": 23}, \"Metrics\": {\"train_absolute_loss_objective\": {\"sum\": 0.557560875415802, \"count\": 1, \"min\": 0.557560875415802, \"max\": 0.557560875415802}}}\u001b[0m\n",
      "\u001b[34m#metrics {\"StartTime\": 1709883143.3326404, \"EndTime\": 1709883143.3326545, \"Dimensions\": {\"Algorithm\": \"Linear Learner\", \"Host\": \"algo-1\", \"Operation\": \"training\", \"epoch\": 5, \"model\": 24}, \"Metrics\": {\"train_absolute_loss_objective\": {\"sum\": 0.905692138671875, \"count\": 1, \"min\": 0.905692138671875, \"max\": 0.905692138671875}}}\u001b[0m\n",
      "\u001b[34m#metrics {\"StartTime\": 1709883143.332703, \"EndTime\": 1709883143.3327186, \"Dimensions\": {\"Algorithm\": \"Linear Learner\", \"Host\": \"algo-1\", \"Operation\": \"training\", \"epoch\": 5, \"model\": 25}, \"Metrics\": {\"train_absolute_loss_objective\": {\"sum\": 0.8978322505950928, \"count\": 1, \"min\": 0.8978322505950928, \"max\": 0.8978322505950928}}}\u001b[0m\n",
      "\u001b[34m#metrics {\"StartTime\": 1709883143.332799, \"EndTime\": 1709883143.3328161, \"Dimensions\": {\"Algorithm\": \"Linear Learner\", \"Host\": \"algo-1\", \"Operation\": \"training\", \"epoch\": 5, \"model\": 26}, \"Metrics\": {\"train_absolute_loss_objective\": {\"sum\": 0.900477237701416, \"count\": 1, \"min\": 0.900477237701416, \"max\": 0.900477237701416}}}\u001b[0m\n",
      "\u001b[34m#metrics {\"StartTime\": 1709883143.3328888, \"EndTime\": 1709883143.3329065, \"Dimensions\": {\"Algorithm\": \"Linear Learner\", \"Host\": \"algo-1\", \"Operation\": \"training\", \"epoch\": 5, \"model\": 27}, \"Metrics\": {\"train_absolute_loss_objective\": {\"sum\": 0.8968170928955078, \"count\": 1, \"min\": 0.8968170928955078, \"max\": 0.8968170928955078}}}\u001b[0m\n",
      "\u001b[34m#metrics {\"StartTime\": 1709883143.3329828, \"EndTime\": 1709883143.332999, \"Dimensions\": {\"Algorithm\": \"Linear Learner\", \"Host\": \"algo-1\", \"Operation\": \"training\", \"epoch\": 5, \"model\": 28}, \"Metrics\": {\"train_absolute_loss_objective\": {\"sum\": 0.9655291748046875, \"count\": 1, \"min\": 0.9655291748046875, \"max\": 0.9655291748046875}}}\u001b[0m\n",
      "\u001b[34m#metrics {\"StartTime\": 1709883143.3330789, \"EndTime\": 1709883143.3330958, \"Dimensions\": {\"Algorithm\": \"Linear Learner\", \"Host\": \"algo-1\", \"Operation\": \"training\", \"epoch\": 5, \"model\": 29}, \"Metrics\": {\"train_absolute_loss_objective\": {\"sum\": 0.9669843673706054, \"count\": 1, \"min\": 0.9669843673706054, \"max\": 0.9669843673706054}}}\u001b[0m\n",
      "\u001b[34m#metrics {\"StartTime\": 1709883143.3331811, \"EndTime\": 1709883143.3331978, \"Dimensions\": {\"Algorithm\": \"Linear Learner\", \"Host\": \"algo-1\", \"Operation\": \"training\", \"epoch\": 5, \"model\": 30}, \"Metrics\": {\"train_absolute_loss_objective\": {\"sum\": 0.9696765327453614, \"count\": 1, \"min\": 0.9696765327453614, \"max\": 0.9696765327453614}}}\u001b[0m\n",
      "\u001b[34m#metrics {\"StartTime\": 1709883143.3332784, \"EndTime\": 1709883143.3332958, \"Dimensions\": {\"Algorithm\": \"Linear Learner\", \"Host\": \"algo-1\", \"Operation\": \"training\", \"epoch\": 5, \"model\": 31}, \"Metrics\": {\"train_absolute_loss_objective\": {\"sum\": 0.9484716701507568, \"count\": 1, \"min\": 0.9484716701507568, \"max\": 0.9484716701507568}}}\u001b[0m\n",
      "\u001b[34m[03/08/2024 07:32:23 INFO 140046607693632] #quality_metric: host=algo-1, epoch=5, train absolute_loss_objective <loss>=0.7888249683380127\u001b[0m\n",
      "\u001b[34m[03/08/2024 07:32:23 INFO 140046607693632] #early_stopping_criteria_metric: host=algo-1, epoch=5, criteria=absolute_loss_objective, value=0.20340426921844482\u001b[0m\n",
      "\u001b[34m[03/08/2024 07:32:23 INFO 140046607693632] Epoch 5: Loss improved. Updating best model\u001b[0m\n",
      "\u001b[34m[03/08/2024 07:32:23 INFO 140046607693632] Saving model for epoch: 5\u001b[0m\n",
      "\u001b[34m[03/08/2024 07:32:23 INFO 140046607693632] Saved checkpoint to \"/tmp/tmpqdj5rpx6/mx-mod-0000.params\"\u001b[0m\n",
      "\u001b[34m[03/08/2024 07:32:23 INFO 140046607693632] #progress_metric: host=algo-1, completed 12.0 % of epochs\u001b[0m\n",
      "\u001b[34m#metrics {\"StartTime\": 1709883143.231953, \"EndTime\": 1709883143.3413303, \"Dimensions\": {\"Algorithm\": \"Linear Learner\", \"Host\": \"algo-1\", \"Operation\": \"training\", \"epoch\": 5, \"Meta\": \"training_data_iter\"}, \"Metrics\": {\"Total Records Seen\": {\"sum\": 201.0, \"count\": 1, \"min\": 201, \"max\": 201}, \"Total Batches Seen\": {\"sum\": 43.0, \"count\": 1, \"min\": 43, \"max\": 43}, \"Max Records Seen Between Resets\": {\"sum\": 28.0, \"count\": 1, \"min\": 28, \"max\": 28}, \"Max Batches Seen Between Resets\": {\"sum\": 6.0, \"count\": 1, \"min\": 6, \"max\": 6}, \"Reset Count\": {\"sum\": 8.0, \"count\": 1, \"min\": 8, \"max\": 8}, \"Number of Records Since Last Reset\": {\"sum\": 28.0, \"count\": 1, \"min\": 28, \"max\": 28}, \"Number of Batches Since Last Reset\": {\"sum\": 6.0, \"count\": 1, \"min\": 6, \"max\": 6}}}\u001b[0m\n",
      "\u001b[34m[03/08/2024 07:32:23 INFO 140046607693632] #throughput_metric: host=algo-1, train throughput=255.67786123266498 records/second\u001b[0m\n",
      "\u001b[34m[2024-03-08 07:32:23.441] [tensorio] [info] epoch_stats={\"data_pipeline\": \"/opt/ml/input/data/train\", \"epoch\": 16, \"duration\": 99, \"num_examples\": 6, \"num_bytes\": 1344}\u001b[0m\n",
      "\u001b[34m#metrics {\"StartTime\": 1709883143.4417443, \"EndTime\": 1709883143.44182, \"Dimensions\": {\"Algorithm\": \"Linear Learner\", \"Host\": \"algo-1\", \"Operation\": \"training\", \"epoch\": 6, \"model\": 0}, \"Metrics\": {\"train_absolute_loss_objective\": {\"sum\": 0.7690532684326172, \"count\": 1, \"min\": 0.7690532684326172, \"max\": 0.7690532684326172}}}\u001b[0m\n",
      "\u001b[34m#metrics {\"StartTime\": 1709883143.4418988, \"EndTime\": 1709883143.4419131, \"Dimensions\": {\"Algorithm\": \"Linear Learner\", \"Host\": \"algo-1\", \"Operation\": \"training\", \"epoch\": 6, \"model\": 1}, \"Metrics\": {\"train_absolute_loss_objective\": {\"sum\": 0.7870940208435059, \"count\": 1, \"min\": 0.7870940208435059, \"max\": 0.7870940208435059}}}\u001b[0m\n",
      "\u001b[34m#metrics {\"StartTime\": 1709883143.4419487, \"EndTime\": 1709883143.4419587, \"Dimensions\": {\"Algorithm\": \"Linear Learner\", \"Host\": \"algo-1\", \"Operation\": \"training\", \"epoch\": 6, \"model\": 2}, \"Metrics\": {\"train_absolute_loss_objective\": {\"sum\": 0.7714021492004395, \"count\": 1, \"min\": 0.7714021492004395, \"max\": 0.7714021492004395}}}\u001b[0m\n",
      "\u001b[34m#metrics {\"StartTime\": 1709883143.4419925, \"EndTime\": 1709883143.442002, \"Dimensions\": {\"Algorithm\": \"Linear Learner\", \"Host\": \"algo-1\", \"Operation\": \"training\", \"epoch\": 6, \"model\": 3}, \"Metrics\": {\"train_absolute_loss_objective\": {\"sum\": 0.7861030864715576, \"count\": 1, \"min\": 0.7861030864715576, \"max\": 0.7861030864715576}}}\u001b[0m\n",
      "\u001b[34m#metrics {\"StartTime\": 1709883143.4420328, \"EndTime\": 1709883143.4420419, \"Dimensions\": {\"Algorithm\": \"Linear Learner\", \"Host\": \"algo-1\", \"Operation\": \"training\", \"epoch\": 6, \"model\": 4}, \"Metrics\": {\"train_absolute_loss_objective\": {\"sum\": 0.2341994285583496, \"count\": 1, \"min\": 0.2341994285583496, \"max\": 0.2341994285583496}}}\u001b[0m\n",
      "\u001b[34m#metrics {\"StartTime\": 1709883143.4420736, \"EndTime\": 1709883143.4420824, \"Dimensions\": {\"Algorithm\": \"Linear Learner\", \"Host\": \"algo-1\", \"Operation\": \"training\", \"epoch\": 6, \"model\": 5}, \"Metrics\": {\"train_absolute_loss_objective\": {\"sum\": 0.23028115510940553, \"count\": 1, \"min\": 0.23028115510940553, \"max\": 0.23028115510940553}}}\u001b[0m\n",
      "\u001b[34m#metrics {\"StartTime\": 1709883143.442115, \"EndTime\": 1709883143.4421241, \"Dimensions\": {\"Algorithm\": \"Linear Learner\", \"Host\": \"algo-1\", \"Operation\": \"training\", \"epoch\": 6, \"model\": 6}, \"Metrics\": {\"train_absolute_loss_objective\": {\"sum\": 0.25177349090576173, \"count\": 1, \"min\": 0.25177349090576173, \"max\": 0.25177349090576173}}}\u001b[0m\n",
      "\u001b[34m#metrics {\"StartTime\": 1709883143.4421532, \"EndTime\": 1709883143.442162, \"Dimensions\": {\"Algorithm\": \"Linear Learner\", \"Host\": \"algo-1\", \"Operation\": \"training\", \"epoch\": 6, \"model\": 7}, \"Metrics\": {\"train_absolute_loss_objective\": {\"sum\": 0.2332398462295532, \"count\": 1, \"min\": 0.2332398462295532, \"max\": 0.2332398462295532}}}\u001b[0m\n",
      "\u001b[34m#metrics {\"StartTime\": 1709883143.4421902, \"EndTime\": 1709883143.4421985, \"Dimensions\": {\"Algorithm\": \"Linear Learner\", \"Host\": \"algo-1\", \"Operation\": \"training\", \"epoch\": 6, \"model\": 8}, \"Metrics\": {\"train_absolute_loss_objective\": {\"sum\": 0.8235159111022949, \"count\": 1, \"min\": 0.8235159111022949, \"max\": 0.8235159111022949}}}\u001b[0m\n",
      "\u001b[34m#metrics {\"StartTime\": 1709883143.442227, \"EndTime\": 1709883143.4422355, \"Dimensions\": {\"Algorithm\": \"Linear Learner\", \"Host\": \"algo-1\", \"Operation\": \"training\", \"epoch\": 6, \"model\": 9}, \"Metrics\": {\"train_absolute_loss_objective\": {\"sum\": 0.7560124111175537, \"count\": 1, \"min\": 0.7560124111175537, \"max\": 0.7560124111175537}}}\u001b[0m\n",
      "\u001b[34m#metrics {\"StartTime\": 1709883143.4422634, \"EndTime\": 1709883143.4422715, \"Dimensions\": {\"Algorithm\": \"Linear Learner\", \"Host\": \"algo-1\", \"Operation\": \"training\", \"epoch\": 6, \"model\": 10}, \"Metrics\": {\"train_absolute_loss_objective\": {\"sum\": 0.7638852405548096, \"count\": 1, \"min\": 0.7638852405548096, \"max\": 0.7638852405548096}}}\u001b[0m\n",
      "\u001b[34m#metrics {\"StartTime\": 1709883143.4422996, \"EndTime\": 1709883143.4423082, \"Dimensions\": {\"Algorithm\": \"Linear Learner\", \"Host\": \"algo-1\", \"Operation\": \"training\", \"epoch\": 6, \"model\": 11}, \"Metrics\": {\"train_absolute_loss_objective\": {\"sum\": 0.7481101417541504, \"count\": 1, \"min\": 0.7481101417541504, \"max\": 0.7481101417541504}}}\u001b[0m\n",
      "\u001b[34m#metrics {\"StartTime\": 1709883143.4423447, \"EndTime\": 1709883143.4423544, \"Dimensions\": {\"Algorithm\": \"Linear Learner\", \"Host\": \"algo-1\", \"Operation\": \"training\", \"epoch\": 6, \"model\": 12}, \"Metrics\": {\"train_absolute_loss_objective\": {\"sum\": 0.2249197244644165, \"count\": 1, \"min\": 0.2249197244644165, \"max\": 0.2249197244644165}}}\u001b[0m\n",
      "\u001b[34m#metrics {\"StartTime\": 1709883143.442387, \"EndTime\": 1709883143.4423962, \"Dimensions\": {\"Algorithm\": \"Linear Learner\", \"Host\": \"algo-1\", \"Operation\": \"training\", \"epoch\": 6, \"model\": 13}, \"Metrics\": {\"train_absolute_loss_objective\": {\"sum\": 0.2552244400978088, \"count\": 1, \"min\": 0.2552244400978088, \"max\": 0.2552244400978088}}}\u001b[0m\n",
      "\u001b[34m#metrics {\"StartTime\": 1709883143.4424276, \"EndTime\": 1709883143.4424367, \"Dimensions\": {\"Algorithm\": \"Linear Learner\", \"Host\": \"algo-1\", \"Operation\": \"training\", \"epoch\": 6, \"model\": 14}, \"Metrics\": {\"train_absolute_loss_objective\": {\"sum\": 0.22424256086349487, \"count\": 1, \"min\": 0.22424256086349487, \"max\": 0.22424256086349487}}}\u001b[0m\n",
      "\u001b[34m#metrics {\"StartTime\": 1709883143.442473, \"EndTime\": 1709883143.4424827, \"Dimensions\": {\"Algorithm\": \"Linear Learner\", \"Host\": \"algo-1\", \"Operation\": \"training\", \"epoch\": 6, \"model\": 15}, \"Metrics\": {\"train_absolute_loss_objective\": {\"sum\": 0.2736391592025757, \"count\": 1, \"min\": 0.2736391592025757, \"max\": 0.2736391592025757}}}\u001b[0m\n",
      "\u001b[34m#metrics {\"StartTime\": 1709883143.4425426, \"EndTime\": 1709883143.4425545, \"Dimensions\": {\"Algorithm\": \"Linear Learner\", \"Host\": \"algo-1\", \"Operation\": \"training\", \"epoch\": 6, \"model\": 16}, \"Metrics\": {\"train_absolute_loss_objective\": {\"sum\": 0.7369911384582519, \"count\": 1, \"min\": 0.7369911384582519, \"max\": 0.7369911384582519}}}\u001b[0m\n",
      "\u001b[34m#metrics {\"StartTime\": 1709883143.4425948, \"EndTime\": 1709883143.4426048, \"Dimensions\": {\"Algorithm\": \"Linear Learner\", \"Host\": \"algo-1\", \"Operation\": \"training\", \"epoch\": 6, \"model\": 17}, \"Metrics\": {\"train_absolute_loss_objective\": {\"sum\": 0.7849730682373047, \"count\": 1, \"min\": 0.7849730682373047, \"max\": 0.7849730682373047}}}\u001b[0m\n",
      "\u001b[34m#metrics {\"StartTime\": 1709883143.4426382, \"EndTime\": 1709883143.442647, \"Dimensions\": {\"Algorithm\": \"Linear Learner\", \"Host\": \"algo-1\", \"Operation\": \"training\", \"epoch\": 6, \"model\": 18}, \"Metrics\": {\"train_absolute_loss_objective\": {\"sum\": 0.7629905319213868, \"count\": 1, \"min\": 0.7629905319213868, \"max\": 0.7629905319213868}}}\u001b[0m\n",
      "\u001b[34m#metrics {\"StartTime\": 1709883143.442683, \"EndTime\": 1709883143.4426928, \"Dimensions\": {\"Algorithm\": \"Linear Learner\", \"Host\": \"algo-1\", \"Operation\": \"training\", \"epoch\": 6, \"model\": 19}, \"Metrics\": {\"train_absolute_loss_objective\": {\"sum\": 0.7591151523590088, \"count\": 1, \"min\": 0.7591151523590088, \"max\": 0.7591151523590088}}}\u001b[0m\n",
      "\u001b[34m#metrics {\"StartTime\": 1709883143.4427295, \"EndTime\": 1709883143.442739, \"Dimensions\": {\"Algorithm\": \"Linear Learner\", \"Host\": \"algo-1\", \"Operation\": \"training\", \"epoch\": 6, \"model\": 20}, \"Metrics\": {\"train_absolute_loss_objective\": {\"sum\": 0.7123798084259033, \"count\": 1, \"min\": 0.7123798084259033, \"max\": 0.7123798084259033}}}\u001b[0m\n",
      "\u001b[34m#metrics {\"StartTime\": 1709883143.4427752, \"EndTime\": 1709883143.4427848, \"Dimensions\": {\"Algorithm\": \"Linear Learner\", \"Host\": \"algo-1\", \"Operation\": \"training\", \"epoch\": 6, \"model\": 21}, \"Metrics\": {\"train_absolute_loss_objective\": {\"sum\": 0.7193506240844727, \"count\": 1, \"min\": 0.7193506240844727, \"max\": 0.7193506240844727}}}\u001b[0m\n",
      "\u001b[34m#metrics {\"StartTime\": 1709883143.4428148, \"EndTime\": 1709883143.4428234, \"Dimensions\": {\"Algorithm\": \"Linear Learner\", \"Host\": \"algo-1\", \"Operation\": \"training\", \"epoch\": 6, \"model\": 22}, \"Metrics\": {\"train_absolute_loss_objective\": {\"sum\": 0.4738191699981689, \"count\": 1, \"min\": 0.4738191699981689, \"max\": 0.4738191699981689}}}\u001b[0m\n",
      "\u001b[34m#metrics {\"StartTime\": 1709883143.4428544, \"EndTime\": 1709883143.4428637, \"Dimensions\": {\"Algorithm\": \"Linear Learner\", \"Host\": \"algo-1\", \"Operation\": \"training\", \"epoch\": 6, \"model\": 23}, \"Metrics\": {\"train_absolute_loss_objective\": {\"sum\": 0.4959189319610596, \"count\": 1, \"min\": 0.4959189319610596, \"max\": 0.4959189319610596}}}\u001b[0m\n",
      "\u001b[34m#metrics {\"StartTime\": 1709883143.4428954, \"EndTime\": 1709883143.4429042, \"Dimensions\": {\"Algorithm\": \"Linear Learner\", \"Host\": \"algo-1\", \"Operation\": \"training\", \"epoch\": 6, \"model\": 24}, \"Metrics\": {\"train_absolute_loss_objective\": {\"sum\": 0.9004766368865966, \"count\": 1, \"min\": 0.9004766368865966, \"max\": 0.9004766368865966}}}\u001b[0m\n",
      "\u001b[34m#metrics {\"StartTime\": 1709883143.4429402, \"EndTime\": 1709883143.4429495, \"Dimensions\": {\"Algorithm\": \"Linear Learner\", \"Host\": \"algo-1\", \"Operation\": \"training\", \"epoch\": 6, \"model\": 25}, \"Metrics\": {\"train_absolute_loss_objective\": {\"sum\": 0.9017505264282226, \"count\": 1, \"min\": 0.9017505264282226, \"max\": 0.9017505264282226}}}\u001b[0m\n",
      "\u001b[34m#metrics {\"StartTime\": 1709883143.4429824, \"EndTime\": 1709883143.4429913, \"Dimensions\": {\"Algorithm\": \"Linear Learner\", \"Host\": \"algo-1\", \"Operation\": \"training\", \"epoch\": 6, \"model\": 26}, \"Metrics\": {\"train_absolute_loss_objective\": {\"sum\": 0.8972672557830811, \"count\": 1, \"min\": 0.8972672557830811, \"max\": 0.8972672557830811}}}\u001b[0m\n",
      "\u001b[34m#metrics {\"StartTime\": 1709883143.4430273, \"EndTime\": 1709883143.443037, \"Dimensions\": {\"Algorithm\": \"Linear Learner\", \"Host\": \"algo-1\", \"Operation\": \"training\", \"epoch\": 6, \"model\": 27}, \"Metrics\": {\"train_absolute_loss_objective\": {\"sum\": 0.8988249588012696, \"count\": 1, \"min\": 0.8988249588012696, \"max\": 0.8988249588012696}}}\u001b[0m\n",
      "\u001b[34m#metrics {\"StartTime\": 1709883143.4430735, \"EndTime\": 1709883143.443083, \"Dimensions\": {\"Algorithm\": \"Linear Learner\", \"Host\": \"algo-1\", \"Operation\": \"training\", \"epoch\": 6, \"model\": 28}, \"Metrics\": {\"train_absolute_loss_objective\": {\"sum\": 0.9482120895385742, \"count\": 1, \"min\": 0.9482120895385742, \"max\": 0.9482120895385742}}}\u001b[0m\n",
      "\u001b[34m#metrics {\"StartTime\": 1709883143.4431293, \"EndTime\": 1709883143.443144, \"Dimensions\": {\"Algorithm\": \"Linear Learner\", \"Host\": \"algo-1\", \"Operation\": \"training\", \"epoch\": 6, \"model\": 29}, \"Metrics\": {\"train_absolute_loss_objective\": {\"sum\": 0.950720443725586, \"count\": 1, \"min\": 0.950720443725586, \"max\": 0.950720443725586}}}\u001b[0m\n",
      "\u001b[34m#metrics {\"StartTime\": 1709883143.4431968, \"EndTime\": 1709883143.443212, \"Dimensions\": {\"Algorithm\": \"Linear Learner\", \"Host\": \"algo-1\", \"Operation\": \"training\", \"epoch\": 6, \"model\": 30}, \"Metrics\": {\"train_absolute_loss_objective\": {\"sum\": 0.9443338775634765, \"count\": 1, \"min\": 0.9443338775634765, \"max\": 0.9443338775634765}}}\u001b[0m\n",
      "\u001b[34m#metrics {\"StartTime\": 1709883143.4432645, \"EndTime\": 1709883143.4432793, \"Dimensions\": {\"Algorithm\": \"Linear Learner\", \"Host\": \"algo-1\", \"Operation\": \"training\", \"epoch\": 6, \"model\": 31}, \"Metrics\": {\"train_absolute_loss_objective\": {\"sum\": 0.9637379169464111, \"count\": 1, \"min\": 0.9637379169464111, \"max\": 0.9637379169464111}}}\u001b[0m\n",
      "\u001b[34m[03/08/2024 07:32:23 INFO 140046607693632] #quality_metric: host=algo-1, epoch=6, train absolute_loss_objective <loss>=0.7690532684326172\u001b[0m\n",
      "\u001b[34m[03/08/2024 07:32:23 INFO 140046607693632] #early_stopping_criteria_metric: host=algo-1, epoch=6, criteria=absolute_loss_objective, value=0.22424256086349487\u001b[0m\n",
      "\u001b[34m[03/08/2024 07:32:23 INFO 140046607693632] Saving model for epoch: 6\u001b[0m\n",
      "\u001b[34m[03/08/2024 07:32:23 INFO 140046607693632] Saved checkpoint to \"/tmp/tmpx0t_v1lm/mx-mod-0000.params\"\u001b[0m\n",
      "\u001b[34m[03/08/2024 07:32:23 INFO 140046607693632] #progress_metric: host=algo-1, completed 14.0 % of epochs\u001b[0m\n",
      "\u001b[34m#metrics {\"StartTime\": 1709883143.3415997, \"EndTime\": 1709883143.4504678, \"Dimensions\": {\"Algorithm\": \"Linear Learner\", \"Host\": \"algo-1\", \"Operation\": \"training\", \"epoch\": 6, \"Meta\": \"training_data_iter\"}, \"Metrics\": {\"Total Records Seen\": {\"sum\": 229.0, \"count\": 1, \"min\": 229, \"max\": 229}, \"Total Batches Seen\": {\"sum\": 49.0, \"count\": 1, \"min\": 49, \"max\": 49}, \"Max Records Seen Between Resets\": {\"sum\": 28.0, \"count\": 1, \"min\": 28, \"max\": 28}, \"Max Batches Seen Between Resets\": {\"sum\": 6.0, \"count\": 1, \"min\": 6, \"max\": 6}, \"Reset Count\": {\"sum\": 9.0, \"count\": 1, \"min\": 9, \"max\": 9}, \"Number of Records Since Last Reset\": {\"sum\": 28.0, \"count\": 1, \"min\": 28, \"max\": 28}, \"Number of Batches Since Last Reset\": {\"sum\": 6.0, \"count\": 1, \"min\": 6, \"max\": 6}}}\u001b[0m\n",
      "\u001b[34m[03/08/2024 07:32:23 INFO 140046607693632] #throughput_metric: host=algo-1, train throughput=256.8178949509175 records/second\u001b[0m\n",
      "\u001b[34m[2024-03-08 07:32:23.550] [tensorio] [info] epoch_stats={\"data_pipeline\": \"/opt/ml/input/data/train\", \"epoch\": 18, \"duration\": 99, \"num_examples\": 6, \"num_bytes\": 1344}\u001b[0m\n",
      "\u001b[34m#metrics {\"StartTime\": 1709883143.5500743, \"EndTime\": 1709883143.5501492, \"Dimensions\": {\"Algorithm\": \"Linear Learner\", \"Host\": \"algo-1\", \"Operation\": \"training\", \"epoch\": 7, \"model\": 0}, \"Metrics\": {\"train_absolute_loss_objective\": {\"sum\": 0.7490897655487061, \"count\": 1, \"min\": 0.7490897655487061, \"max\": 0.7490897655487061}}}\u001b[0m\n",
      "\u001b[34m#metrics {\"StartTime\": 1709883143.5502326, \"EndTime\": 1709883143.5502474, \"Dimensions\": {\"Algorithm\": \"Linear Learner\", \"Host\": \"algo-1\", \"Operation\": \"training\", \"epoch\": 7, \"model\": 1}, \"Metrics\": {\"train_absolute_loss_objective\": {\"sum\": 0.7665194129943848, \"count\": 1, \"min\": 0.7665194129943848, \"max\": 0.7665194129943848}}}\u001b[0m\n",
      "\u001b[34m#metrics {\"StartTime\": 1709883143.550283, \"EndTime\": 1709883143.550293, \"Dimensions\": {\"Algorithm\": \"Linear Learner\", \"Host\": \"algo-1\", \"Operation\": \"training\", \"epoch\": 7, \"model\": 2}, \"Metrics\": {\"train_absolute_loss_objective\": {\"sum\": 0.7514386558532715, \"count\": 1, \"min\": 0.7514386558532715, \"max\": 0.7514386558532715}}}\u001b[0m\n",
      "\u001b[34m#metrics {\"StartTime\": 1709883143.5503235, \"EndTime\": 1709883143.550333, \"Dimensions\": {\"Algorithm\": \"Linear Learner\", \"Host\": \"algo-1\", \"Operation\": \"training\", \"epoch\": 7, \"model\": 3}, \"Metrics\": {\"train_absolute_loss_objective\": {\"sum\": 0.765528507232666, \"count\": 1, \"min\": 0.765528507232666, \"max\": 0.765528507232666}}}\u001b[0m\n",
      "\u001b[34m#metrics {\"StartTime\": 1709883143.550362, \"EndTime\": 1709883143.5503714, \"Dimensions\": {\"Algorithm\": \"Linear Learner\", \"Host\": \"algo-1\", \"Operation\": \"training\", \"epoch\": 7, \"model\": 4}, \"Metrics\": {\"train_absolute_loss_objective\": {\"sum\": 0.2336986231803894, \"count\": 1, \"min\": 0.2336986231803894, \"max\": 0.2336986231803894}}}\u001b[0m\n",
      "\u001b[34m#metrics {\"StartTime\": 1709883143.5504098, \"EndTime\": 1709883143.5504203, \"Dimensions\": {\"Algorithm\": \"Linear Learner\", \"Host\": \"algo-1\", \"Operation\": \"training\", \"epoch\": 7, \"model\": 5}, \"Metrics\": {\"train_absolute_loss_objective\": {\"sum\": 0.2689447784423828, \"count\": 1, \"min\": 0.2689447784423828, \"max\": 0.2689447784423828}}}\u001b[0m\n",
      "\u001b[34m#metrics {\"StartTime\": 1709883143.5504556, \"EndTime\": 1709883143.550465, \"Dimensions\": {\"Algorithm\": \"Linear Learner\", \"Host\": \"algo-1\", \"Operation\": \"training\", \"epoch\": 7, \"model\": 6}, \"Metrics\": {\"train_absolute_loss_objective\": {\"sum\": 0.18199135303497316, \"count\": 1, \"min\": 0.18199135303497316, \"max\": 0.18199135303497316}}}\u001b[0m\n",
      "\u001b[34m#metrics {\"StartTime\": 1709883143.550524, \"EndTime\": 1709883143.5505366, \"Dimensions\": {\"Algorithm\": \"Linear Learner\", \"Host\": \"algo-1\", \"Operation\": \"training\", \"epoch\": 7, \"model\": 7}, \"Metrics\": {\"train_absolute_loss_objective\": {\"sum\": 0.2746619176864624, \"count\": 1, \"min\": 0.2746619176864624, \"max\": 0.2746619176864624}}}\u001b[0m\n",
      "\u001b[34m#metrics {\"StartTime\": 1709883143.5505795, \"EndTime\": 1709883143.55059, \"Dimensions\": {\"Algorithm\": \"Linear Learner\", \"Host\": \"algo-1\", \"Operation\": \"training\", \"epoch\": 7, \"model\": 8}, \"Metrics\": {\"train_absolute_loss_objective\": {\"sum\": 0.8035626220703125, \"count\": 1, \"min\": 0.8035626220703125, \"max\": 0.8035626220703125}}}\u001b[0m\n",
      "\u001b[34m#metrics {\"StartTime\": 1709883143.5506203, \"EndTime\": 1709883143.5506294, \"Dimensions\": {\"Algorithm\": \"Linear Learner\", \"Host\": \"algo-1\", \"Operation\": \"training\", \"epoch\": 7, \"model\": 9}, \"Metrics\": {\"train_absolute_loss_objective\": {\"sum\": 0.7354495048522949, \"count\": 1, \"min\": 0.7354495048522949, \"max\": 0.7354495048522949}}}\u001b[0m\n",
      "\u001b[34m#metrics {\"StartTime\": 1709883143.5506582, \"EndTime\": 1709883143.5506673, \"Dimensions\": {\"Algorithm\": \"Linear Learner\", \"Host\": \"algo-1\", \"Operation\": \"training\", \"epoch\": 7, \"model\": 10}, \"Metrics\": {\"train_absolute_loss_objective\": {\"sum\": 0.7439327812194825, \"count\": 1, \"min\": 0.7439327812194825, \"max\": 0.7439327812194825}}}\u001b[0m\n",
      "\u001b[34m#metrics {\"StartTime\": 1709883143.5507054, \"EndTime\": 1709883143.5507154, \"Dimensions\": {\"Algorithm\": \"Linear Learner\", \"Host\": \"algo-1\", \"Operation\": \"training\", \"epoch\": 7, \"model\": 11}, \"Metrics\": {\"train_absolute_loss_objective\": {\"sum\": 0.7275473403930665, \"count\": 1, \"min\": 0.7275473403930665, \"max\": 0.7275473403930665}}}\u001b[0m\n",
      "\u001b[34m#metrics {\"StartTime\": 1709883143.550753, \"EndTime\": 1709883143.550763, \"Dimensions\": {\"Algorithm\": \"Linear Learner\", \"Host\": \"algo-1\", \"Operation\": \"training\", \"epoch\": 7, \"model\": 12}, \"Metrics\": {\"train_absolute_loss_objective\": {\"sum\": 0.23052257061004638, \"count\": 1, \"min\": 0.23052257061004638, \"max\": 0.23052257061004638}}}\u001b[0m\n",
      "\u001b[34m#metrics {\"StartTime\": 1709883143.5507994, \"EndTime\": 1709883143.5508091, \"Dimensions\": {\"Algorithm\": \"Linear Learner\", \"Host\": \"algo-1\", \"Operation\": \"training\", \"epoch\": 7, \"model\": 13}, \"Metrics\": {\"train_absolute_loss_objective\": {\"sum\": 0.2194879174232483, \"count\": 1, \"min\": 0.2194879174232483, \"max\": 0.2194879174232483}}}\u001b[0m\n",
      "\u001b[34m#metrics {\"StartTime\": 1709883143.55084, \"EndTime\": 1709883143.5508487, \"Dimensions\": {\"Algorithm\": \"Linear Learner\", \"Host\": \"algo-1\", \"Operation\": \"training\", \"epoch\": 7, \"model\": 14}, \"Metrics\": {\"train_absolute_loss_objective\": {\"sum\": 0.22907557010650634, \"count\": 1, \"min\": 0.22907557010650634, \"max\": 0.22907557010650634}}}\u001b[0m\n",
      "\u001b[34m#metrics {\"StartTime\": 1709883143.550884, \"EndTime\": 1709883143.5508935, \"Dimensions\": {\"Algorithm\": \"Linear Learner\", \"Host\": \"algo-1\", \"Operation\": \"training\", \"epoch\": 7, \"model\": 15}, \"Metrics\": {\"train_absolute_loss_objective\": {\"sum\": 0.23545400619506837, \"count\": 1, \"min\": 0.23545400619506837, \"max\": 0.23545400619506837}}}\u001b[0m\n",
      "\u001b[34m#metrics {\"StartTime\": 1709883143.550931, \"EndTime\": 1709883143.5509408, \"Dimensions\": {\"Algorithm\": \"Linear Learner\", \"Host\": \"algo-1\", \"Operation\": \"training\", \"epoch\": 7, \"model\": 16}, \"Metrics\": {\"train_absolute_loss_objective\": {\"sum\": 0.7184029674530029, \"count\": 1, \"min\": 0.7184029674530029, \"max\": 0.7184029674530029}}}\u001b[0m\n",
      "\u001b[34m#metrics {\"StartTime\": 1709883143.5509737, \"EndTime\": 1709883143.5509832, \"Dimensions\": {\"Algorithm\": \"Linear Learner\", \"Host\": \"algo-1\", \"Operation\": \"training\", \"epoch\": 7, \"model\": 17}, \"Metrics\": {\"train_absolute_loss_objective\": {\"sum\": 0.7656446838378906, \"count\": 1, \"min\": 0.7656446838378906, \"max\": 0.7656446838378906}}}\u001b[0m\n",
      "\u001b[34m#metrics {\"StartTime\": 1709883143.5510123, \"EndTime\": 1709883143.551021, \"Dimensions\": {\"Algorithm\": \"Linear Learner\", \"Host\": \"algo-1\", \"Operation\": \"training\", \"epoch\": 7, \"model\": 18}, \"Metrics\": {\"train_absolute_loss_objective\": {\"sum\": 0.7443014812469483, \"count\": 1, \"min\": 0.7443014812469483, \"max\": 0.7443014812469483}}}\u001b[0m\n",
      "\u001b[34m#metrics {\"StartTime\": 1709883143.5510564, \"EndTime\": 1709883143.5510662, \"Dimensions\": {\"Algorithm\": \"Linear Learner\", \"Host\": \"algo-1\", \"Operation\": \"training\", \"epoch\": 7, \"model\": 19}, \"Metrics\": {\"train_absolute_loss_objective\": {\"sum\": 0.7398824119567871, \"count\": 1, \"min\": 0.7398824119567871, \"max\": 0.7398824119567871}}}\u001b[0m\n",
      "\u001b[34m#metrics {\"StartTime\": 1709883143.5511024, \"EndTime\": 1709883143.5511122, \"Dimensions\": {\"Algorithm\": \"Linear Learner\", \"Host\": \"algo-1\", \"Operation\": \"training\", \"epoch\": 7, \"model\": 20}, \"Metrics\": {\"train_absolute_loss_objective\": {\"sum\": 0.6709979009628296, \"count\": 1, \"min\": 0.6709979009628296, \"max\": 0.6709979009628296}}}\u001b[0m\n",
      "\u001b[34m#metrics {\"StartTime\": 1709883143.5511482, \"EndTime\": 1709883143.551158, \"Dimensions\": {\"Algorithm\": \"Linear Learner\", \"Host\": \"algo-1\", \"Operation\": \"training\", \"epoch\": 7, \"model\": 21}, \"Metrics\": {\"train_absolute_loss_objective\": {\"sum\": 0.6803768396377563, \"count\": 1, \"min\": 0.6803768396377563, \"max\": 0.6803768396377563}}}\u001b[0m\n",
      "\u001b[34m#metrics {\"StartTime\": 1709883143.5511882, \"EndTime\": 1709883143.5511973, \"Dimensions\": {\"Algorithm\": \"Linear Learner\", \"Host\": \"algo-1\", \"Operation\": \"training\", \"epoch\": 7, \"model\": 22}, \"Metrics\": {\"train_absolute_loss_objective\": {\"sum\": 0.34773233890533445, \"count\": 1, \"min\": 0.34773233890533445, \"max\": 0.34773233890533445}}}\u001b[0m\n",
      "\u001b[34m#metrics {\"StartTime\": 1709883143.5512326, \"EndTime\": 1709883143.5512424, \"Dimensions\": {\"Algorithm\": \"Linear Learner\", \"Host\": \"algo-1\", \"Operation\": \"training\", \"epoch\": 7, \"model\": 23}, \"Metrics\": {\"train_absolute_loss_objective\": {\"sum\": 0.39536845684051514, \"count\": 1, \"min\": 0.39536845684051514, \"max\": 0.39536845684051514}}}\u001b[0m\n",
      "\u001b[34m#metrics {\"StartTime\": 1709883143.5512817, \"EndTime\": 1709883143.551292, \"Dimensions\": {\"Algorithm\": \"Linear Learner\", \"Host\": \"algo-1\", \"Operation\": \"training\", \"epoch\": 7, \"model\": 24}, \"Metrics\": {\"train_absolute_loss_objective\": {\"sum\": 0.8952898216247559, \"count\": 1, \"min\": 0.8952898216247559, \"max\": 0.8952898216247559}}}\u001b[0m\n",
      "\u001b[34m#metrics {\"StartTime\": 1709883143.5513291, \"EndTime\": 1709883143.5513387, \"Dimensions\": {\"Algorithm\": \"Linear Learner\", \"Host\": \"algo-1\", \"Operation\": \"training\", \"epoch\": 7, \"model\": 25}, \"Metrics\": {\"train_absolute_loss_objective\": {\"sum\": 0.9006496620178223, \"count\": 1, \"min\": 0.9006496620178223, \"max\": 0.9006496620178223}}}\u001b[0m\n",
      "\u001b[34m#metrics {\"StartTime\": 1709883143.5513713, \"EndTime\": 1709883143.5513804, \"Dimensions\": {\"Algorithm\": \"Linear Learner\", \"Host\": \"algo-1\", \"Operation\": \"training\", \"epoch\": 7, \"model\": 26}, \"Metrics\": {\"train_absolute_loss_objective\": {\"sum\": 0.8950233268737793, \"count\": 1, \"min\": 0.8950233268737793, \"max\": 0.8950233268737793}}}\u001b[0m\n",
      "\u001b[34m#metrics {\"StartTime\": 1709883143.5514162, \"EndTime\": 1709883143.5514257, \"Dimensions\": {\"Algorithm\": \"Linear Learner\", \"Host\": \"algo-1\", \"Operation\": \"training\", \"epoch\": 7, \"model\": 27}, \"Metrics\": {\"train_absolute_loss_objective\": {\"sum\": 0.8971209621429443, \"count\": 1, \"min\": 0.8971209621429443, \"max\": 0.8971209621429443}}}\u001b[0m\n",
      "\u001b[34m#metrics {\"StartTime\": 1709883143.551466, \"EndTime\": 1709883143.551479, \"Dimensions\": {\"Algorithm\": \"Linear Learner\", \"Host\": \"algo-1\", \"Operation\": \"training\", \"epoch\": 7, \"model\": 28}, \"Metrics\": {\"train_absolute_loss_objective\": {\"sum\": 0.9334294891357422, \"count\": 1, \"min\": 0.9334294891357422, \"max\": 0.9334294891357422}}}\u001b[0m\n",
      "\u001b[34m#metrics {\"StartTime\": 1709883143.5515277, \"EndTime\": 1709883143.5515423, \"Dimensions\": {\"Algorithm\": \"Linear Learner\", \"Host\": \"algo-1\", \"Operation\": \"training\", \"epoch\": 7, \"model\": 29}, \"Metrics\": {\"train_absolute_loss_objective\": {\"sum\": 0.9330063819885254, \"count\": 1, \"min\": 0.9330063819885254, \"max\": 0.9330063819885254}}}\u001b[0m\n",
      "\u001b[34m#metrics {\"StartTime\": 1709883143.5515888, \"EndTime\": 1709883143.5515988, \"Dimensions\": {\"Algorithm\": \"Linear Learner\", \"Host\": \"algo-1\", \"Operation\": \"training\", \"epoch\": 7, \"model\": 30}, \"Metrics\": {\"train_absolute_loss_objective\": {\"sum\": 0.9369584941864013, \"count\": 1, \"min\": 0.9369584941864013, \"max\": 0.9369584941864013}}}\u001b[0m\n",
      "\u001b[34m#metrics {\"StartTime\": 1709883143.5516434, \"EndTime\": 1709883143.551658, \"Dimensions\": {\"Algorithm\": \"Linear Learner\", \"Host\": \"algo-1\", \"Operation\": \"training\", \"epoch\": 7, \"model\": 31}, \"Metrics\": {\"train_absolute_loss_objective\": {\"sum\": 0.9246865272521972, \"count\": 1, \"min\": 0.9246865272521972, \"max\": 0.9246865272521972}}}\u001b[0m\n",
      "\u001b[34m[03/08/2024 07:32:23 INFO 140046607693632] #quality_metric: host=algo-1, epoch=7, train absolute_loss_objective <loss>=0.7490897655487061\u001b[0m\n",
      "\u001b[34m[03/08/2024 07:32:23 INFO 140046607693632] #early_stopping_criteria_metric: host=algo-1, epoch=7, criteria=absolute_loss_objective, value=0.18199135303497316\u001b[0m\n",
      "\u001b[34m[03/08/2024 07:32:23 INFO 140046607693632] Epoch 7: Loss improved. Updating best model\u001b[0m\n",
      "\u001b[34m[03/08/2024 07:32:23 INFO 140046607693632] Saving model for epoch: 7\u001b[0m\n",
      "\u001b[34m[03/08/2024 07:32:23 INFO 140046607693632] Saved checkpoint to \"/tmp/tmpriz_s99i/mx-mod-0000.params\"\u001b[0m\n",
      "\u001b[34m[03/08/2024 07:32:23 INFO 140046607693632] #progress_metric: host=algo-1, completed 16.0 % of epochs\u001b[0m\n",
      "\u001b[34m#metrics {\"StartTime\": 1709883143.4507658, \"EndTime\": 1709883143.559707, \"Dimensions\": {\"Algorithm\": \"Linear Learner\", \"Host\": \"algo-1\", \"Operation\": \"training\", \"epoch\": 7, \"Meta\": \"training_data_iter\"}, \"Metrics\": {\"Total Records Seen\": {\"sum\": 257.0, \"count\": 1, \"min\": 257, \"max\": 257}, \"Total Batches Seen\": {\"sum\": 55.0, \"count\": 1, \"min\": 55, \"max\": 55}, \"Max Records Seen Between Resets\": {\"sum\": 28.0, \"count\": 1, \"min\": 28, \"max\": 28}, \"Max Batches Seen Between Resets\": {\"sum\": 6.0, \"count\": 1, \"min\": 6, \"max\": 6}, \"Reset Count\": {\"sum\": 10.0, \"count\": 1, \"min\": 10, \"max\": 10}, \"Number of Records Since Last Reset\": {\"sum\": 28.0, \"count\": 1, \"min\": 28, \"max\": 28}, \"Number of Batches Since Last Reset\": {\"sum\": 6.0, \"count\": 1, \"min\": 6, \"max\": 6}}}\u001b[0m\n",
      "\u001b[34m[03/08/2024 07:32:23 INFO 140046607693632] #throughput_metric: host=algo-1, train throughput=256.7028170738105 records/second\u001b[0m\n",
      "\u001b[34m[2024-03-08 07:32:23.659] [tensorio] [info] epoch_stats={\"data_pipeline\": \"/opt/ml/input/data/train\", \"epoch\": 20, \"duration\": 99, \"num_examples\": 6, \"num_bytes\": 1344}\u001b[0m\n",
      "\u001b[34m#metrics {\"StartTime\": 1709883143.6596746, \"EndTime\": 1709883143.6597486, \"Dimensions\": {\"Algorithm\": \"Linear Learner\", \"Host\": \"algo-1\", \"Operation\": \"training\", \"epoch\": 8, \"model\": 0}, \"Metrics\": {\"train_absolute_loss_objective\": {\"sum\": 0.7289836311340332, \"count\": 1, \"min\": 0.7289836311340332, \"max\": 0.7289836311340332}}}\u001b[0m\n",
      "\u001b[34m#metrics {\"StartTime\": 1709883143.6598349, \"EndTime\": 1709883143.65985, \"Dimensions\": {\"Algorithm\": \"Linear Learner\", \"Host\": \"algo-1\", \"Operation\": \"training\", \"epoch\": 8, \"model\": 1}, \"Metrics\": {\"train_absolute_loss_objective\": {\"sum\": 0.7457463073730469, \"count\": 1, \"min\": 0.7457463073730469, \"max\": 0.7457463073730469}}}\u001b[0m\n",
      "\u001b[34m#metrics {\"StartTime\": 1709883143.6598945, \"EndTime\": 1709883143.6599078, \"Dimensions\": {\"Algorithm\": \"Linear Learner\", \"Host\": \"algo-1\", \"Operation\": \"training\", \"epoch\": 8, \"model\": 2}, \"Metrics\": {\"train_absolute_loss_objective\": {\"sum\": 0.7313325023651123, \"count\": 1, \"min\": 0.7313325023651123, \"max\": 0.7313325023651123}}}\u001b[0m\n",
      "\u001b[34m#metrics {\"StartTime\": 1709883143.6599555, \"EndTime\": 1709883143.659968, \"Dimensions\": {\"Algorithm\": \"Linear Learner\", \"Host\": \"algo-1\", \"Operation\": \"training\", \"epoch\": 8, \"model\": 3}, \"Metrics\": {\"train_absolute_loss_objective\": {\"sum\": 0.744755392074585, \"count\": 1, \"min\": 0.744755392074585, \"max\": 0.744755392074585}}}\u001b[0m\n",
      "\u001b[34m#metrics {\"StartTime\": 1709883143.6600091, \"EndTime\": 1709883143.6600199, \"Dimensions\": {\"Algorithm\": \"Linear Learner\", \"Host\": \"algo-1\", \"Operation\": \"training\", \"epoch\": 8, \"model\": 4}, \"Metrics\": {\"train_absolute_loss_objective\": {\"sum\": 0.2742543578147888, \"count\": 1, \"min\": 0.2742543578147888, \"max\": 0.2742543578147888}}}\u001b[0m\n",
      "\u001b[34m#metrics {\"StartTime\": 1709883143.6600673, \"EndTime\": 1709883143.6600792, \"Dimensions\": {\"Algorithm\": \"Linear Learner\", \"Host\": \"algo-1\", \"Operation\": \"training\", \"epoch\": 8, \"model\": 5}, \"Metrics\": {\"train_absolute_loss_objective\": {\"sum\": 0.27534894704818724, \"count\": 1, \"min\": 0.27534894704818724, \"max\": 0.27534894704818724}}}\u001b[0m\n",
      "\u001b[34m#metrics {\"StartTime\": 1709883143.6601224, \"EndTime\": 1709883143.660136, \"Dimensions\": {\"Algorithm\": \"Linear Learner\", \"Host\": \"algo-1\", \"Operation\": \"training\", \"epoch\": 8, \"model\": 6}, \"Metrics\": {\"train_absolute_loss_objective\": {\"sum\": 0.25816123723983764, \"count\": 1, \"min\": 0.25816123723983764, \"max\": 0.25816123723983764}}}\u001b[0m\n",
      "\u001b[34m#metrics {\"StartTime\": 1709883143.6601787, \"EndTime\": 1709883143.6601894, \"Dimensions\": {\"Algorithm\": \"Linear Learner\", \"Host\": \"algo-1\", \"Operation\": \"training\", \"epoch\": 8, \"model\": 7}, \"Metrics\": {\"train_absolute_loss_objective\": {\"sum\": 0.21340916872024537, \"count\": 1, \"min\": 0.21340916872024537, \"max\": 0.21340916872024537}}}\u001b[0m\n",
      "\u001b[34m#metrics {\"StartTime\": 1709883143.6602232, \"EndTime\": 1709883143.6602328, \"Dimensions\": {\"Algorithm\": \"Linear Learner\", \"Host\": \"algo-1\", \"Operation\": \"training\", \"epoch\": 8, \"model\": 8}, \"Metrics\": {\"train_absolute_loss_objective\": {\"sum\": 0.7830325984954833, \"count\": 1, \"min\": 0.7830325984954833, \"max\": 0.7830325984954833}}}\u001b[0m\n",
      "\u001b[34m#metrics {\"StartTime\": 1709883143.6602626, \"EndTime\": 1709883143.6602716, \"Dimensions\": {\"Algorithm\": \"Linear Learner\", \"Host\": \"algo-1\", \"Operation\": \"training\", \"epoch\": 8, \"model\": 9}, \"Metrics\": {\"train_absolute_loss_objective\": {\"sum\": 0.7146907711029052, \"count\": 1, \"min\": 0.7146907711029052, \"max\": 0.7146907711029052}}}\u001b[0m\n",
      "\u001b[34m#metrics {\"StartTime\": 1709883143.6603074, \"EndTime\": 1709883143.6603172, \"Dimensions\": {\"Algorithm\": \"Linear Learner\", \"Host\": \"algo-1\", \"Operation\": \"training\", \"epoch\": 8, \"model\": 10}, \"Metrics\": {\"train_absolute_loss_objective\": {\"sum\": 0.723840217590332, \"count\": 1, \"min\": 0.723840217590332, \"max\": 0.723840217590332}}}\u001b[0m\n",
      "\u001b[34m#metrics {\"StartTime\": 1709883143.6603477, \"EndTime\": 1709883143.6603563, \"Dimensions\": {\"Algorithm\": \"Linear Learner\", \"Host\": \"algo-1\", \"Operation\": \"training\", \"epoch\": 8, \"model\": 11}, \"Metrics\": {\"train_absolute_loss_objective\": {\"sum\": 0.7067886924743653, \"count\": 1, \"min\": 0.7067886924743653, \"max\": 0.7067886924743653}}}\u001b[0m\n",
      "\u001b[34m#metrics {\"StartTime\": 1709883143.660388, \"EndTime\": 1709883143.660397, \"Dimensions\": {\"Algorithm\": \"Linear Learner\", \"Host\": \"algo-1\", \"Operation\": \"training\", \"epoch\": 8, \"model\": 12}, \"Metrics\": {\"train_absolute_loss_objective\": {\"sum\": 0.2827149772644043, \"count\": 1, \"min\": 0.2827149772644043, \"max\": 0.2827149772644043}}}\u001b[0m\n",
      "\u001b[34m#metrics {\"StartTime\": 1709883143.6604269, \"EndTime\": 1709883143.6604354, \"Dimensions\": {\"Algorithm\": \"Linear Learner\", \"Host\": \"algo-1\", \"Operation\": \"training\", \"epoch\": 8, \"model\": 13}, \"Metrics\": {\"train_absolute_loss_objective\": {\"sum\": 0.2443623971939087, \"count\": 1, \"min\": 0.2443623971939087, \"max\": 0.2443623971939087}}}\u001b[0m\n",
      "\u001b[34m#metrics {\"StartTime\": 1709883143.6604707, \"EndTime\": 1709883143.6604805, \"Dimensions\": {\"Algorithm\": \"Linear Learner\", \"Host\": \"algo-1\", \"Operation\": \"training\", \"epoch\": 8, \"model\": 14}, \"Metrics\": {\"train_absolute_loss_objective\": {\"sum\": 0.28307692289352415, \"count\": 1, \"min\": 0.28307692289352415, \"max\": 0.28307692289352415}}}\u001b[0m\n",
      "\u001b[34m#metrics {\"StartTime\": 1709883143.660511, \"EndTime\": 1709883143.6605194, \"Dimensions\": {\"Algorithm\": \"Linear Learner\", \"Host\": \"algo-1\", \"Operation\": \"training\", \"epoch\": 8, \"model\": 15}, \"Metrics\": {\"train_absolute_loss_objective\": {\"sum\": 0.2806954193115234, \"count\": 1, \"min\": 0.2806954193115234, \"max\": 0.2806954193115234}}}\u001b[0m\n",
      "\u001b[34m#metrics {\"StartTime\": 1709883143.6605477, \"EndTime\": 1709883143.6605566, \"Dimensions\": {\"Algorithm\": \"Linear Learner\", \"Host\": \"algo-1\", \"Operation\": \"training\", \"epoch\": 8, \"model\": 16}, \"Metrics\": {\"train_absolute_loss_objective\": {\"sum\": 0.6999881839752198, \"count\": 1, \"min\": 0.6999881839752198, \"max\": 0.6999881839752198}}}\u001b[0m\n",
      "\u001b[34m#metrics {\"StartTime\": 1709883143.6605914, \"EndTime\": 1709883143.660601, \"Dimensions\": {\"Algorithm\": \"Linear Learner\", \"Host\": \"algo-1\", \"Operation\": \"training\", \"epoch\": 8, \"model\": 17}, \"Metrics\": {\"train_absolute_loss_objective\": {\"sum\": 0.7464329051971436, \"count\": 1, \"min\": 0.7464329051971436, \"max\": 0.7464329051971436}}}\u001b[0m\n",
      "\u001b[34m#metrics {\"StartTime\": 1709883143.6606305, \"EndTime\": 1709883143.6606393, \"Dimensions\": {\"Algorithm\": \"Linear Learner\", \"Host\": \"algo-1\", \"Operation\": \"training\", \"epoch\": 8, \"model\": 18}, \"Metrics\": {\"train_absolute_loss_objective\": {\"sum\": 0.7257718181610108, \"count\": 1, \"min\": 0.7257718181610108, \"max\": 0.7257718181610108}}}\u001b[0m\n",
      "\u001b[34m#metrics {\"StartTime\": 1709883143.6606739, \"EndTime\": 1709883143.6606832, \"Dimensions\": {\"Algorithm\": \"Linear Learner\", \"Host\": \"algo-1\", \"Operation\": \"training\", \"epoch\": 8, \"model\": 19}, \"Metrics\": {\"train_absolute_loss_objective\": {\"sum\": 0.7207804584503174, \"count\": 1, \"min\": 0.7207804584503174, \"max\": 0.7207804584503174}}}\u001b[0m\n",
      "\u001b[34m#metrics {\"StartTime\": 1709883143.6607218, \"EndTime\": 1709883143.660731, \"Dimensions\": {\"Algorithm\": \"Linear Learner\", \"Host\": \"algo-1\", \"Operation\": \"training\", \"epoch\": 8, \"model\": 20}, \"Metrics\": {\"train_absolute_loss_objective\": {\"sum\": 0.4894592523574829, \"count\": 1, \"min\": 0.4894592523574829, \"max\": 0.4894592523574829}}}\u001b[0m\n",
      "\u001b[34m#metrics {\"StartTime\": 1709883143.660761, \"EndTime\": 1709883143.6607697, \"Dimensions\": {\"Algorithm\": \"Linear Learner\", \"Host\": \"algo-1\", \"Operation\": \"training\", \"epoch\": 8, \"model\": 21}, \"Metrics\": {\"train_absolute_loss_objective\": {\"sum\": 0.4879810333251953, \"count\": 1, \"min\": 0.4879810333251953, \"max\": 0.4879810333251953}}}\u001b[0m\n",
      "\u001b[34m#metrics {\"StartTime\": 1709883143.6608047, \"EndTime\": 1709883143.6608143, \"Dimensions\": {\"Algorithm\": \"Linear Learner\", \"Host\": \"algo-1\", \"Operation\": \"training\", \"epoch\": 8, \"model\": 22}, \"Metrics\": {\"train_absolute_loss_objective\": {\"sum\": 0.26044044017791745, \"count\": 1, \"min\": 0.26044044017791745, \"max\": 0.26044044017791745}}}\u001b[0m\n",
      "\u001b[34m#metrics {\"StartTime\": 1709883143.6608512, \"EndTime\": 1709883143.6608608, \"Dimensions\": {\"Algorithm\": \"Linear Learner\", \"Host\": \"algo-1\", \"Operation\": \"training\", \"epoch\": 8, \"model\": 23}, \"Metrics\": {\"train_absolute_loss_objective\": {\"sum\": 0.3486849975585937, \"count\": 1, \"min\": 0.3486849975585937, \"max\": 0.3486849975585937}}}\u001b[0m\n",
      "\u001b[34m#metrics {\"StartTime\": 1709883143.660891, \"EndTime\": 1709883143.6608999, \"Dimensions\": {\"Algorithm\": \"Linear Learner\", \"Host\": \"algo-1\", \"Operation\": \"training\", \"epoch\": 8, \"model\": 24}, \"Metrics\": {\"train_absolute_loss_objective\": {\"sum\": 0.8935334110260009, \"count\": 1, \"min\": 0.8935334110260009, \"max\": 0.8935334110260009}}}\u001b[0m\n",
      "\u001b[34m#metrics {\"StartTime\": 1709883143.6609282, \"EndTime\": 1709883143.6609366, \"Dimensions\": {\"Algorithm\": \"Linear Learner\", \"Host\": \"algo-1\", \"Operation\": \"training\", \"epoch\": 8, \"model\": 25}, \"Metrics\": {\"train_absolute_loss_objective\": {\"sum\": 0.8981273078918457, \"count\": 1, \"min\": 0.8981273078918457, \"max\": 0.8981273078918457}}}\u001b[0m\n",
      "\u001b[34m#metrics {\"StartTime\": 1709883143.6609652, \"EndTime\": 1709883143.6609735, \"Dimensions\": {\"Algorithm\": \"Linear Learner\", \"Host\": \"algo-1\", \"Operation\": \"training\", \"epoch\": 8, \"model\": 26}, \"Metrics\": {\"train_absolute_loss_objective\": {\"sum\": 0.8965629386901856, \"count\": 1, \"min\": 0.8965629386901856, \"max\": 0.8965629386901856}}}\u001b[0m\n",
      "\u001b[34m#metrics {\"StartTime\": 1709883143.6610086, \"EndTime\": 1709883143.6610181, \"Dimensions\": {\"Algorithm\": \"Linear Learner\", \"Host\": \"algo-1\", \"Operation\": \"training\", \"epoch\": 8, \"model\": 27}, \"Metrics\": {\"train_absolute_loss_objective\": {\"sum\": 0.8968258666992187, \"count\": 1, \"min\": 0.8968258666992187, \"max\": 0.8968258666992187}}}\u001b[0m\n",
      "\u001b[34m#metrics {\"StartTime\": 1709883143.6610506, \"EndTime\": 1709883143.6610594, \"Dimensions\": {\"Algorithm\": \"Linear Learner\", \"Host\": \"algo-1\", \"Operation\": \"training\", \"epoch\": 8, \"model\": 28}, \"Metrics\": {\"train_absolute_loss_objective\": {\"sum\": 0.9448160552978515, \"count\": 1, \"min\": 0.9448160552978515, \"max\": 0.9448160552978515}}}\u001b[0m\n",
      "\u001b[34m#metrics {\"StartTime\": 1709883143.6610887, \"EndTime\": 1709883143.6610975, \"Dimensions\": {\"Algorithm\": \"Linear Learner\", \"Host\": \"algo-1\", \"Operation\": \"training\", \"epoch\": 8, \"model\": 29}, \"Metrics\": {\"train_absolute_loss_objective\": {\"sum\": 0.9486340522766114, \"count\": 1, \"min\": 0.9486340522766114, \"max\": 0.9486340522766114}}}\u001b[0m\n",
      "\u001b[34m#metrics {\"StartTime\": 1709883143.661133, \"EndTime\": 1709883143.6611445, \"Dimensions\": {\"Algorithm\": \"Linear Learner\", \"Host\": \"algo-1\", \"Operation\": \"training\", \"epoch\": 8, \"model\": 30}, \"Metrics\": {\"train_absolute_loss_objective\": {\"sum\": 0.9412223434448242, \"count\": 1, \"min\": 0.9412223434448242, \"max\": 0.9412223434448242}}}\u001b[0m\n",
      "\u001b[34m#metrics {\"StartTime\": 1709883143.6611876, \"EndTime\": 1709883143.6612015, \"Dimensions\": {\"Algorithm\": \"Linear Learner\", \"Host\": \"algo-1\", \"Operation\": \"training\", \"epoch\": 8, \"model\": 31}, \"Metrics\": {\"train_absolute_loss_objective\": {\"sum\": 0.9524094581604003, \"count\": 1, \"min\": 0.9524094581604003, \"max\": 0.9524094581604003}}}\u001b[0m\n",
      "\u001b[34m[03/08/2024 07:32:23 INFO 140046607693632] #quality_metric: host=algo-1, epoch=8, train absolute_loss_objective <loss>=0.7289836311340332\u001b[0m\n",
      "\u001b[34m[03/08/2024 07:32:23 INFO 140046607693632] #early_stopping_criteria_metric: host=algo-1, epoch=8, criteria=absolute_loss_objective, value=0.21340916872024537\u001b[0m\n",
      "\u001b[34m[03/08/2024 07:32:23 INFO 140046607693632] Saving model for epoch: 8\u001b[0m\n",
      "\u001b[34m[03/08/2024 07:32:23 INFO 140046607693632] Saved checkpoint to \"/tmp/tmpuhy_0d8v/mx-mod-0000.params\"\u001b[0m\n",
      "\u001b[34m[03/08/2024 07:32:23 INFO 140046607693632] #progress_metric: host=algo-1, completed 18.0 % of epochs\u001b[0m\n",
      "\u001b[34m#metrics {\"StartTime\": 1709883143.5599918, \"EndTime\": 1709883143.6688883, \"Dimensions\": {\"Algorithm\": \"Linear Learner\", \"Host\": \"algo-1\", \"Operation\": \"training\", \"epoch\": 8, \"Meta\": \"training_data_iter\"}, \"Metrics\": {\"Total Records Seen\": {\"sum\": 285.0, \"count\": 1, \"min\": 285, \"max\": 285}, \"Total Batches Seen\": {\"sum\": 61.0, \"count\": 1, \"min\": 61, \"max\": 61}, \"Max Records Seen Between Resets\": {\"sum\": 28.0, \"count\": 1, \"min\": 28, \"max\": 28}, \"Max Batches Seen Between Resets\": {\"sum\": 6.0, \"count\": 1, \"min\": 6, \"max\": 6}, \"Reset Count\": {\"sum\": 11.0, \"count\": 1, \"min\": 11, \"max\": 11}, \"Number of Records Since Last Reset\": {\"sum\": 28.0, \"count\": 1, \"min\": 28, \"max\": 28}, \"Number of Batches Since Last Reset\": {\"sum\": 6.0, \"count\": 1, \"min\": 6, \"max\": 6}}}\u001b[0m\n",
      "\u001b[34m[03/08/2024 07:32:23 INFO 140046607693632] #throughput_metric: host=algo-1, train throughput=256.8487870596366 records/second\u001b[0m\n",
      "\u001b[34m[2024-03-08 07:32:23.759] [tensorio] [info] epoch_stats={\"data_pipeline\": \"/opt/ml/input/data/train\", \"epoch\": 22, \"duration\": 90, \"num_examples\": 6, \"num_bytes\": 1344}\u001b[0m\n",
      "\u001b[34m#metrics {\"StartTime\": 1709883143.759714, \"EndTime\": 1709883143.7597883, \"Dimensions\": {\"Algorithm\": \"Linear Learner\", \"Host\": \"algo-1\", \"Operation\": \"training\", \"epoch\": 9, \"model\": 0}, \"Metrics\": {\"train_absolute_loss_objective\": {\"sum\": 0.7088967895507813, \"count\": 1, \"min\": 0.7088967895507813, \"max\": 0.7088967895507813}}}\u001b[0m\n",
      "\u001b[34m#metrics {\"StartTime\": 1709883143.7598605, \"EndTime\": 1709883143.759878, \"Dimensions\": {\"Algorithm\": \"Linear Learner\", \"Host\": \"algo-1\", \"Operation\": \"training\", \"epoch\": 9, \"model\": 1}, \"Metrics\": {\"train_absolute_loss_objective\": {\"sum\": 0.7249202442169189, \"count\": 1, \"min\": 0.7249202442169189, \"max\": 0.7249202442169189}}}\u001b[0m\n",
      "\u001b[34m#metrics {\"StartTime\": 1709883143.7599235, \"EndTime\": 1709883143.759937, \"Dimensions\": {\"Algorithm\": \"Linear Learner\", \"Host\": \"algo-1\", \"Operation\": \"training\", \"epoch\": 9, \"model\": 2}, \"Metrics\": {\"train_absolute_loss_objective\": {\"sum\": 0.7112612247467041, \"count\": 1, \"min\": 0.7112612247467041, \"max\": 0.7112612247467041}}}\u001b[0m\n",
      "\u001b[34m#metrics {\"StartTime\": 1709883143.7599812, \"EndTime\": 1709883143.7599964, \"Dimensions\": {\"Algorithm\": \"Linear Learner\", \"Host\": \"algo-1\", \"Operation\": \"training\", \"epoch\": 9, \"model\": 3}, \"Metrics\": {\"train_absolute_loss_objective\": {\"sum\": 0.7239227676391602, \"count\": 1, \"min\": 0.7239227676391602, \"max\": 0.7239227676391602}}}\u001b[0m\n",
      "\u001b[34m#metrics {\"StartTime\": 1709883143.76005, \"EndTime\": 1709883143.7600665, \"Dimensions\": {\"Algorithm\": \"Linear Learner\", \"Host\": \"algo-1\", \"Operation\": \"training\", \"epoch\": 9, \"model\": 4}, \"Metrics\": {\"train_absolute_loss_objective\": {\"sum\": 0.166576828956604, \"count\": 1, \"min\": 0.166576828956604, \"max\": 0.166576828956604}}}\u001b[0m\n",
      "\u001b[34m#metrics {\"StartTime\": 1709883143.7601075, \"EndTime\": 1709883143.7601223, \"Dimensions\": {\"Algorithm\": \"Linear Learner\", \"Host\": \"algo-1\", \"Operation\": \"training\", \"epoch\": 9, \"model\": 5}, \"Metrics\": {\"train_absolute_loss_objective\": {\"sum\": 0.1795514154434204, \"count\": 1, \"min\": 0.1795514154434204, \"max\": 0.1795514154434204}}}\u001b[0m\n",
      "\u001b[34m#metrics {\"StartTime\": 1709883143.7601619, \"EndTime\": 1709883143.7601757, \"Dimensions\": {\"Algorithm\": \"Linear Learner\", \"Host\": \"algo-1\", \"Operation\": \"training\", \"epoch\": 9, \"model\": 6}, \"Metrics\": {\"train_absolute_loss_objective\": {\"sum\": 0.1755725622177124, \"count\": 1, \"min\": 0.1755725622177124, \"max\": 0.1755725622177124}}}\u001b[0m\n",
      "\u001b[34m#metrics {\"StartTime\": 1709883143.7602177, \"EndTime\": 1709883143.7602317, \"Dimensions\": {\"Algorithm\": \"Linear Learner\", \"Host\": \"algo-1\", \"Operation\": \"training\", \"epoch\": 9, \"model\": 7}, \"Metrics\": {\"train_absolute_loss_objective\": {\"sum\": 0.23302785396575929, \"count\": 1, \"min\": 0.23302785396575929, \"max\": 0.23302785396575929}}}\u001b[0m\n",
      "\u001b[34m#metrics {\"StartTime\": 1709883143.760276, \"EndTime\": 1709883143.760291, \"Dimensions\": {\"Algorithm\": \"Linear Learner\", \"Host\": \"algo-1\", \"Operation\": \"training\", \"epoch\": 9, \"model\": 8}, \"Metrics\": {\"train_absolute_loss_objective\": {\"sum\": 0.763588056564331, \"count\": 1, \"min\": 0.763588056564331, \"max\": 0.763588056564331}}}\u001b[0m\n",
      "\u001b[34m#metrics {\"StartTime\": 1709883143.7603312, \"EndTime\": 1709883143.760346, \"Dimensions\": {\"Algorithm\": \"Linear Learner\", \"Host\": \"algo-1\", \"Operation\": \"training\", \"epoch\": 9, \"model\": 9}, \"Metrics\": {\"train_absolute_loss_objective\": {\"sum\": 0.6936764812469483, \"count\": 1, \"min\": 0.6936764812469483, \"max\": 0.6936764812469483}}}\u001b[0m\n",
      "\u001b[34m#metrics {\"StartTime\": 1709883143.760392, \"EndTime\": 1709883143.7604065, \"Dimensions\": {\"Algorithm\": \"Linear Learner\", \"Host\": \"algo-1\", \"Operation\": \"training\", \"epoch\": 9, \"model\": 10}, \"Metrics\": {\"train_absolute_loss_objective\": {\"sum\": 0.7037356185913086, \"count\": 1, \"min\": 0.7037356185913086, \"max\": 0.7037356185913086}}}\u001b[0m\n",
      "\u001b[34m#metrics {\"StartTime\": 1709883143.7604487, \"EndTime\": 1709883143.7604625, \"Dimensions\": {\"Algorithm\": \"Linear Learner\", \"Host\": \"algo-1\", \"Operation\": \"training\", \"epoch\": 9, \"model\": 11}, \"Metrics\": {\"train_absolute_loss_objective\": {\"sum\": 0.6857222080230713, \"count\": 1, \"min\": 0.6857222080230713, \"max\": 0.6857222080230713}}}\u001b[0m\n",
      "\u001b[34m#metrics {\"StartTime\": 1709883143.7605011, \"EndTime\": 1709883143.7605135, \"Dimensions\": {\"Algorithm\": \"Linear Learner\", \"Host\": \"algo-1\", \"Operation\": \"training\", \"epoch\": 9, \"model\": 12}, \"Metrics\": {\"train_absolute_loss_objective\": {\"sum\": 0.17388467073440553, \"count\": 1, \"min\": 0.17388467073440553, \"max\": 0.17388467073440553}}}\u001b[0m\n",
      "\u001b[34m#metrics {\"StartTime\": 1709883143.7605512, \"EndTime\": 1709883143.7605634, \"Dimensions\": {\"Algorithm\": \"Linear Learner\", \"Host\": \"algo-1\", \"Operation\": \"training\", \"epoch\": 9, \"model\": 13}, \"Metrics\": {\"train_absolute_loss_objective\": {\"sum\": 0.18191229820251464, \"count\": 1, \"min\": 0.18191229820251464, \"max\": 0.18191229820251464}}}\u001b[0m\n",
      "\u001b[34m#metrics {\"StartTime\": 1709883143.760599, \"EndTime\": 1709883143.7606103, \"Dimensions\": {\"Algorithm\": \"Linear Learner\", \"Host\": \"algo-1\", \"Operation\": \"training\", \"epoch\": 9, \"model\": 14}, \"Metrics\": {\"train_absolute_loss_objective\": {\"sum\": 0.17433808326721192, \"count\": 1, \"min\": 0.17433808326721192, \"max\": 0.17433808326721192}}}\u001b[0m\n",
      "\u001b[34m#metrics {\"StartTime\": 1709883143.7606475, \"EndTime\": 1709883143.7606587, \"Dimensions\": {\"Algorithm\": \"Linear Learner\", \"Host\": \"algo-1\", \"Operation\": \"training\", \"epoch\": 9, \"model\": 15}, \"Metrics\": {\"train_absolute_loss_objective\": {\"sum\": 0.17284410953521728, \"count\": 1, \"min\": 0.17284410953521728, \"max\": 0.17284410953521728}}}\u001b[0m\n",
      "\u001b[34m#metrics {\"StartTime\": 1709883143.7606938, \"EndTime\": 1709883143.7607071, \"Dimensions\": {\"Algorithm\": \"Linear Learner\", \"Host\": \"algo-1\", \"Operation\": \"training\", \"epoch\": 9, \"model\": 16}, \"Metrics\": {\"train_absolute_loss_objective\": {\"sum\": 0.6817396259307862, \"count\": 1, \"min\": 0.6817396259307862, \"max\": 0.6817396259307862}}}\u001b[0m\n",
      "\u001b[34m#metrics {\"StartTime\": 1709883143.7607467, \"EndTime\": 1709883143.7607598, \"Dimensions\": {\"Algorithm\": \"Linear Learner\", \"Host\": \"algo-1\", \"Operation\": \"training\", \"epoch\": 9, \"model\": 17}, \"Metrics\": {\"train_absolute_loss_objective\": {\"sum\": 0.7275181198120118, \"count\": 1, \"min\": 0.7275181198120118, \"max\": 0.7275181198120118}}}\u001b[0m\n",
      "\u001b[34m#metrics {\"StartTime\": 1709883143.7607975, \"EndTime\": 1709883143.7608094, \"Dimensions\": {\"Algorithm\": \"Linear Learner\", \"Host\": \"algo-1\", \"Operation\": \"training\", \"epoch\": 9, \"model\": 18}, \"Metrics\": {\"train_absolute_loss_objective\": {\"sum\": 0.7075642776489258, \"count\": 1, \"min\": 0.7075642776489258, \"max\": 0.7075642776489258}}}\u001b[0m\n",
      "\u001b[34m#metrics {\"StartTime\": 1709883143.7608514, \"EndTime\": 1709883143.7608652, \"Dimensions\": {\"Algorithm\": \"Linear Learner\", \"Host\": \"algo-1\", \"Operation\": \"training\", \"epoch\": 9, \"model\": 19}, \"Metrics\": {\"train_absolute_loss_objective\": {\"sum\": 0.7018211078643799, \"count\": 1, \"min\": 0.7018211078643799, \"max\": 0.7018211078643799}}}\u001b[0m\n",
      "\u001b[34m#metrics {\"StartTime\": 1709883143.7609172, \"EndTime\": 1709883143.760933, \"Dimensions\": {\"Algorithm\": \"Linear Learner\", \"Host\": \"algo-1\", \"Operation\": \"training\", \"epoch\": 9, \"model\": 20}, \"Metrics\": {\"train_absolute_loss_objective\": {\"sum\": 0.47821048736572264, \"count\": 1, \"min\": 0.47821048736572264, \"max\": 0.47821048736572264}}}\u001b[0m\n",
      "\u001b[34m#metrics {\"StartTime\": 1709883143.760968, \"EndTime\": 1709883143.7609823, \"Dimensions\": {\"Algorithm\": \"Linear Learner\", \"Host\": \"algo-1\", \"Operation\": \"training\", \"epoch\": 9, \"model\": 21}, \"Metrics\": {\"train_absolute_loss_objective\": {\"sum\": 0.46358456134796144, \"count\": 1, \"min\": 0.46358456134796144, \"max\": 0.46358456134796144}}}\u001b[0m\n",
      "\u001b[34m#metrics {\"StartTime\": 1709883143.7610333, \"EndTime\": 1709883143.7610486, \"Dimensions\": {\"Algorithm\": \"Linear Learner\", \"Host\": \"algo-1\", \"Operation\": \"training\", \"epoch\": 9, \"model\": 22}, \"Metrics\": {\"train_absolute_loss_objective\": {\"sum\": 0.24912450313568116, \"count\": 1, \"min\": 0.24912450313568116, \"max\": 0.24912450313568116}}}\u001b[0m\n",
      "\u001b[34m#metrics {\"StartTime\": 1709883143.7611015, \"EndTime\": 1709883143.7611172, \"Dimensions\": {\"Algorithm\": \"Linear Learner\", \"Host\": \"algo-1\", \"Operation\": \"training\", \"epoch\": 9, \"model\": 23}, \"Metrics\": {\"train_absolute_loss_objective\": {\"sum\": 0.3294914150238037, \"count\": 1, \"min\": 0.3294914150238037, \"max\": 0.3294914150238037}}}\u001b[0m\n",
      "\u001b[34m#metrics {\"StartTime\": 1709883143.761167, \"EndTime\": 1709883143.7611816, \"Dimensions\": {\"Algorithm\": \"Linear Learner\", \"Host\": \"algo-1\", \"Operation\": \"training\", \"epoch\": 9, \"model\": 24}, \"Metrics\": {\"train_absolute_loss_objective\": {\"sum\": 0.8938582229614258, \"count\": 1, \"min\": 0.8938582229614258, \"max\": 0.8938582229614258}}}\u001b[0m\n",
      "\u001b[34m#metrics {\"StartTime\": 1709883143.7612348, \"EndTime\": 1709883143.76125, \"Dimensions\": {\"Algorithm\": \"Linear Learner\", \"Host\": \"algo-1\", \"Operation\": \"training\", \"epoch\": 9, \"model\": 25}, \"Metrics\": {\"train_absolute_loss_objective\": {\"sum\": 0.8954912567138672, \"count\": 1, \"min\": 0.8954912567138672, \"max\": 0.8954912567138672}}}\u001b[0m\n",
      "\u001b[34m#metrics {\"StartTime\": 1709883143.7613032, \"EndTime\": 1709883143.7613187, \"Dimensions\": {\"Algorithm\": \"Linear Learner\", \"Host\": \"algo-1\", \"Operation\": \"training\", \"epoch\": 9, \"model\": 26}, \"Metrics\": {\"train_absolute_loss_objective\": {\"sum\": 0.8979593086242675, \"count\": 1, \"min\": 0.8979593086242675, \"max\": 0.8979593086242675}}}\u001b[0m\n",
      "\u001b[34m#metrics {\"StartTime\": 1709883143.7613614, \"EndTime\": 1709883143.7613752, \"Dimensions\": {\"Algorithm\": \"Linear Learner\", \"Host\": \"algo-1\", \"Operation\": \"training\", \"epoch\": 9, \"model\": 27}, \"Metrics\": {\"train_absolute_loss_objective\": {\"sum\": 0.8974546623229981, \"count\": 1, \"min\": 0.8974546623229981, \"max\": 0.8974546623229981}}}\u001b[0m\n",
      "\u001b[34m#metrics {\"StartTime\": 1709883143.7614172, \"EndTime\": 1709883143.7614312, \"Dimensions\": {\"Algorithm\": \"Linear Learner\", \"Host\": \"algo-1\", \"Operation\": \"training\", \"epoch\": 9, \"model\": 28}, \"Metrics\": {\"train_absolute_loss_objective\": {\"sum\": 0.9503269767761231, \"count\": 1, \"min\": 0.9503269767761231, \"max\": 0.9503269767761231}}}\u001b[0m\n",
      "\u001b[34m#metrics {\"StartTime\": 1709883143.761474, \"EndTime\": 1709883143.7614882, \"Dimensions\": {\"Algorithm\": \"Linear Learner\", \"Host\": \"algo-1\", \"Operation\": \"training\", \"epoch\": 9, \"model\": 29}, \"Metrics\": {\"train_absolute_loss_objective\": {\"sum\": 0.9514699935913086, \"count\": 1, \"min\": 0.9514699935913086, \"max\": 0.9514699935913086}}}\u001b[0m\n",
      "\u001b[34m#metrics {\"StartTime\": 1709883143.761533, \"EndTime\": 1709883143.7615473, \"Dimensions\": {\"Algorithm\": \"Linear Learner\", \"Host\": \"algo-1\", \"Operation\": \"training\", \"epoch\": 9, \"model\": 30}, \"Metrics\": {\"train_absolute_loss_objective\": {\"sum\": 0.9540973281860352, \"count\": 1, \"min\": 0.9540973281860352, \"max\": 0.9540973281860352}}}\u001b[0m\n",
      "\u001b[34m#metrics {\"StartTime\": 1709883143.76159, \"EndTime\": 1709883143.7616043, \"Dimensions\": {\"Algorithm\": \"Linear Learner\", \"Host\": \"algo-1\", \"Operation\": \"training\", \"epoch\": 9, \"model\": 31}, \"Metrics\": {\"train_absolute_loss_objective\": {\"sum\": 0.9501547813415527, \"count\": 1, \"min\": 0.9501547813415527, \"max\": 0.9501547813415527}}}\u001b[0m\n",
      "\u001b[34m[03/08/2024 07:32:23 INFO 140046607693632] #quality_metric: host=algo-1, epoch=9, train absolute_loss_objective <loss>=0.7088967895507813\u001b[0m\n",
      "\u001b[34m[03/08/2024 07:32:23 INFO 140046607693632] #early_stopping_criteria_metric: host=algo-1, epoch=9, criteria=absolute_loss_objective, value=0.166576828956604\u001b[0m\n",
      "\u001b[34m[03/08/2024 07:32:23 INFO 140046607693632] Epoch 9: Loss improved. Updating best model\u001b[0m\n",
      "\u001b[34m[03/08/2024 07:32:23 INFO 140046607693632] Saving model for epoch: 9\u001b[0m\n",
      "\u001b[34m[03/08/2024 07:32:23 INFO 140046607693632] Saved checkpoint to \"/tmp/tmpe_bg0zog/mx-mod-0000.params\"\u001b[0m\n",
      "\u001b[34m[03/08/2024 07:32:23 INFO 140046607693632] #progress_metric: host=algo-1, completed 20.0 % of epochs\u001b[0m\n",
      "\u001b[34m#metrics {\"StartTime\": 1709883143.6691358, \"EndTime\": 1709883143.7710803, \"Dimensions\": {\"Algorithm\": \"Linear Learner\", \"Host\": \"algo-1\", \"Operation\": \"training\", \"epoch\": 9, \"Meta\": \"training_data_iter\"}, \"Metrics\": {\"Total Records Seen\": {\"sum\": 313.0, \"count\": 1, \"min\": 313, \"max\": 313}, \"Total Batches Seen\": {\"sum\": 67.0, \"count\": 1, \"min\": 67, \"max\": 67}, \"Max Records Seen Between Resets\": {\"sum\": 28.0, \"count\": 1, \"min\": 28, \"max\": 28}, \"Max Batches Seen Between Resets\": {\"sum\": 6.0, \"count\": 1, \"min\": 6, \"max\": 6}, \"Reset Count\": {\"sum\": 12.0, \"count\": 1, \"min\": 12, \"max\": 12}, \"Number of Records Since Last Reset\": {\"sum\": 28.0, \"count\": 1, \"min\": 28, \"max\": 28}, \"Number of Batches Since Last Reset\": {\"sum\": 6.0, \"count\": 1, \"min\": 6, \"max\": 6}}}\u001b[0m\n",
      "\u001b[34m[03/08/2024 07:32:23 INFO 140046607693632] #throughput_metric: host=algo-1, train throughput=274.2828529589675 records/second\u001b[0m\n",
      "\u001b[34m[2024-03-08 07:32:23.871] [tensorio] [info] epoch_stats={\"data_pipeline\": \"/opt/ml/input/data/train\", \"epoch\": 24, \"duration\": 99, \"num_examples\": 6, \"num_bytes\": 1344}\u001b[0m\n",
      "\u001b[34m#metrics {\"StartTime\": 1709883143.8712149, \"EndTime\": 1709883143.871299, \"Dimensions\": {\"Algorithm\": \"Linear Learner\", \"Host\": \"algo-1\", \"Operation\": \"training\", \"epoch\": 10, \"model\": 0}, \"Metrics\": {\"train_absolute_loss_objective\": {\"sum\": 0.6889177513122559, \"count\": 1, \"min\": 0.6889177513122559, \"max\": 0.6889177513122559}}}\u001b[0m\n",
      "\u001b[34m#metrics {\"StartTime\": 1709883143.8714817, \"EndTime\": 1709883143.8715048, \"Dimensions\": {\"Algorithm\": \"Linear Learner\", \"Host\": \"algo-1\", \"Operation\": \"training\", \"epoch\": 10, \"model\": 1}, \"Metrics\": {\"train_absolute_loss_objective\": {\"sum\": 0.7040597248077393, \"count\": 1, \"min\": 0.7040597248077393, \"max\": 0.7040597248077393}}}\u001b[0m\n",
      "\u001b[34m#metrics {\"StartTime\": 1709883143.8716261, \"EndTime\": 1709883143.8716483, \"Dimensions\": {\"Algorithm\": \"Linear Learner\", \"Host\": \"algo-1\", \"Operation\": \"training\", \"epoch\": 10, \"model\": 2}, \"Metrics\": {\"train_absolute_loss_objective\": {\"sum\": 0.6912821769714356, \"count\": 1, \"min\": 0.6912821769714356, \"max\": 0.6912821769714356}}}\u001b[0m\n",
      "\u001b[34m#metrics {\"StartTime\": 1709883143.8717782, \"EndTime\": 1709883143.8718004, \"Dimensions\": {\"Algorithm\": \"Linear Learner\", \"Host\": \"algo-1\", \"Operation\": \"training\", \"epoch\": 10, \"model\": 3}, \"Metrics\": {\"train_absolute_loss_objective\": {\"sum\": 0.7030622100830078, \"count\": 1, \"min\": 0.7030622100830078, \"max\": 0.7030622100830078}}}\u001b[0m\n",
      "\u001b[34m#metrics {\"StartTime\": 1709883143.8719537, \"EndTime\": 1709883143.871976, \"Dimensions\": {\"Algorithm\": \"Linear Learner\", \"Host\": \"algo-1\", \"Operation\": \"training\", \"epoch\": 10, \"model\": 4}, \"Metrics\": {\"train_absolute_loss_objective\": {\"sum\": 0.2421494507789612, \"count\": 1, \"min\": 0.2421494507789612, \"max\": 0.2421494507789612}}}\u001b[0m\n",
      "\u001b[34m#metrics {\"StartTime\": 1709883143.8720717, \"EndTime\": 1709883143.872121, \"Dimensions\": {\"Algorithm\": \"Linear Learner\", \"Host\": \"algo-1\", \"Operation\": \"training\", \"epoch\": 10, \"model\": 5}, \"Metrics\": {\"train_absolute_loss_objective\": {\"sum\": 0.2960978364944458, \"count\": 1, \"min\": 0.2960978364944458, \"max\": 0.2960978364944458}}}\u001b[0m\n",
      "\u001b[34m#metrics {\"StartTime\": 1709883143.8722417, \"EndTime\": 1709883143.8722625, \"Dimensions\": {\"Algorithm\": \"Linear Learner\", \"Host\": \"algo-1\", \"Operation\": \"training\", \"epoch\": 10, \"model\": 6}, \"Metrics\": {\"train_absolute_loss_objective\": {\"sum\": 0.20041996479034424, \"count\": 1, \"min\": 0.20041996479034424, \"max\": 0.20041996479034424}}}\u001b[0m\n",
      "\u001b[34m#metrics {\"StartTime\": 1709883143.872327, \"EndTime\": 1709883143.8723443, \"Dimensions\": {\"Algorithm\": \"Linear Learner\", \"Host\": \"algo-1\", \"Operation\": \"training\", \"epoch\": 10, \"model\": 7}, \"Metrics\": {\"train_absolute_loss_objective\": {\"sum\": 0.20201847553253174, \"count\": 1, \"min\": 0.20201847553253174, \"max\": 0.20201847553253174}}}\u001b[0m\n",
      "\u001b[34m#metrics {\"StartTime\": 1709883143.8724396, \"EndTime\": 1709883143.8724585, \"Dimensions\": {\"Algorithm\": \"Linear Learner\", \"Host\": \"algo-1\", \"Operation\": \"training\", \"epoch\": 10, \"model\": 8}, \"Metrics\": {\"train_absolute_loss_objective\": {\"sum\": 0.7436071395874023, \"count\": 1, \"min\": 0.7436071395874023, \"max\": 0.7436071395874023}}}\u001b[0m\n",
      "\u001b[34m#metrics {\"StartTime\": 1709883143.87251, \"EndTime\": 1709883143.8725262, \"Dimensions\": {\"Algorithm\": \"Linear Learner\", \"Host\": \"algo-1\", \"Operation\": \"training\", \"epoch\": 10, \"model\": 9}, \"Metrics\": {\"train_absolute_loss_objective\": {\"sum\": 0.6728360748291016, \"count\": 1, \"min\": 0.6728360748291016, \"max\": 0.6728360748291016}}}\u001b[0m\n",
      "\u001b[34m#metrics {\"StartTime\": 1709883143.872572, \"EndTime\": 1709883143.8725877, \"Dimensions\": {\"Algorithm\": \"Linear Learner\", \"Host\": \"algo-1\", \"Operation\": \"training\", \"epoch\": 10, \"model\": 10}, \"Metrics\": {\"train_absolute_loss_objective\": {\"sum\": 0.6837753105163574, \"count\": 1, \"min\": 0.6837753105163574, \"max\": 0.6837753105163574}}}\u001b[0m\n",
      "\u001b[34m#metrics {\"StartTime\": 1709883143.872637, \"EndTime\": 1709883143.8726525, \"Dimensions\": {\"Algorithm\": \"Linear Learner\", \"Host\": \"algo-1\", \"Operation\": \"training\", \"epoch\": 10, \"model\": 11}, \"Metrics\": {\"train_absolute_loss_objective\": {\"sum\": 0.6648819065093994, \"count\": 1, \"min\": 0.6648819065093994, \"max\": 0.6648819065093994}}}\u001b[0m\n",
      "\u001b[34m#metrics {\"StartTime\": 1709883143.8726966, \"EndTime\": 1709883143.8727121, \"Dimensions\": {\"Algorithm\": \"Linear Learner\", \"Host\": \"algo-1\", \"Operation\": \"training\", \"epoch\": 10, \"model\": 12}, \"Metrics\": {\"train_absolute_loss_objective\": {\"sum\": 0.2276710796356201, \"count\": 1, \"min\": 0.2276710796356201, \"max\": 0.2276710796356201}}}\u001b[0m\n",
      "\u001b[34m#metrics {\"StartTime\": 1709883143.8727667, \"EndTime\": 1709883143.8727832, \"Dimensions\": {\"Algorithm\": \"Linear Learner\", \"Host\": \"algo-1\", \"Operation\": \"training\", \"epoch\": 10, \"model\": 13}, \"Metrics\": {\"train_absolute_loss_objective\": {\"sum\": 0.20575206279754638, \"count\": 1, \"min\": 0.20575206279754638, \"max\": 0.20575206279754638}}}\u001b[0m\n",
      "\u001b[34m#metrics {\"StartTime\": 1709883143.8728294, \"EndTime\": 1709883143.8728456, \"Dimensions\": {\"Algorithm\": \"Linear Learner\", \"Host\": \"algo-1\", \"Operation\": \"training\", \"epoch\": 10, \"model\": 14}, \"Metrics\": {\"train_absolute_loss_objective\": {\"sum\": 0.22822728157043456, \"count\": 1, \"min\": 0.22822728157043456, \"max\": 0.22822728157043456}}}\u001b[0m\n",
      "\u001b[34m#metrics {\"StartTime\": 1709883143.8728988, \"EndTime\": 1709883143.872914, \"Dimensions\": {\"Algorithm\": \"Linear Learner\", \"Host\": \"algo-1\", \"Operation\": \"training\", \"epoch\": 10, \"model\": 15}, \"Metrics\": {\"train_absolute_loss_objective\": {\"sum\": 0.3050523591041565, \"count\": 1, \"min\": 0.3050523591041565, \"max\": 0.3050523591041565}}}\u001b[0m\n",
      "\u001b[34m#metrics {\"StartTime\": 1709883143.8729641, \"EndTime\": 1709883143.8729792, \"Dimensions\": {\"Algorithm\": \"Linear Learner\", \"Host\": \"algo-1\", \"Operation\": \"training\", \"epoch\": 10, \"model\": 16}, \"Metrics\": {\"train_absolute_loss_objective\": {\"sum\": 0.6641128540039063, \"count\": 1, \"min\": 0.6641128540039063, \"max\": 0.6641128540039063}}}\u001b[0m\n",
      "\u001b[34m#metrics {\"StartTime\": 1709883143.8730266, \"EndTime\": 1709883143.8730419, \"Dimensions\": {\"Algorithm\": \"Linear Learner\", \"Host\": \"algo-1\", \"Operation\": \"training\", \"epoch\": 10, \"model\": 17}, \"Metrics\": {\"train_absolute_loss_objective\": {\"sum\": 0.7088995647430419, \"count\": 1, \"min\": 0.7088995647430419, \"max\": 0.7088995647430419}}}\u001b[0m\n",
      "\u001b[34m#metrics {\"StartTime\": 1709883143.8730867, \"EndTime\": 1709883143.873101, \"Dimensions\": {\"Algorithm\": \"Linear Learner\", \"Host\": \"algo-1\", \"Operation\": \"training\", \"epoch\": 10, \"model\": 18}, \"Metrics\": {\"train_absolute_loss_objective\": {\"sum\": 0.6897957515716553, \"count\": 1, \"min\": 0.6897957515716553, \"max\": 0.6897957515716553}}}\u001b[0m\n",
      "\u001b[34m#metrics {\"StartTime\": 1709883143.8731565, \"EndTime\": 1709883143.8731728, \"Dimensions\": {\"Algorithm\": \"Linear Learner\", \"Host\": \"algo-1\", \"Operation\": \"training\", \"epoch\": 10, \"model\": 19}, \"Metrics\": {\"train_absolute_loss_objective\": {\"sum\": 0.6833404922485351, \"count\": 1, \"min\": 0.6833404922485351, \"max\": 0.6833404922485351}}}\u001b[0m\n",
      "\u001b[34m#metrics {\"StartTime\": 1709883143.8732255, \"EndTime\": 1709883143.873241, \"Dimensions\": {\"Algorithm\": \"Linear Learner\", \"Host\": \"algo-1\", \"Operation\": \"training\", \"epoch\": 10, \"model\": 20}, \"Metrics\": {\"train_absolute_loss_objective\": {\"sum\": 0.3396800947189331, \"count\": 1, \"min\": 0.3396800947189331, \"max\": 0.3396800947189331}}}\u001b[0m\n",
      "\u001b[34m#metrics {\"StartTime\": 1709883143.8732886, \"EndTime\": 1709883143.8733048, \"Dimensions\": {\"Algorithm\": \"Linear Learner\", \"Host\": \"algo-1\", \"Operation\": \"training\", \"epoch\": 10, \"model\": 21}, \"Metrics\": {\"train_absolute_loss_objective\": {\"sum\": 0.3392556953430176, \"count\": 1, \"min\": 0.3392556953430176, \"max\": 0.3392556953430176}}}\u001b[0m\n",
      "\u001b[34m#metrics {\"StartTime\": 1709883143.8733528, \"EndTime\": 1709883143.8733683, \"Dimensions\": {\"Algorithm\": \"Linear Learner\", \"Host\": \"algo-1\", \"Operation\": \"training\", \"epoch\": 10, \"model\": 22}, \"Metrics\": {\"train_absolute_loss_objective\": {\"sum\": 0.3169719362258911, \"count\": 1, \"min\": 0.3169719362258911, \"max\": 0.3169719362258911}}}\u001b[0m\n",
      "\u001b[34m#metrics {\"StartTime\": 1709883143.873422, \"EndTime\": 1709883143.8734376, \"Dimensions\": {\"Algorithm\": \"Linear Learner\", \"Host\": \"algo-1\", \"Operation\": \"training\", \"epoch\": 10, \"model\": 23}, \"Metrics\": {\"train_absolute_loss_objective\": {\"sum\": 0.2763147187232971, \"count\": 1, \"min\": 0.2763147187232971, \"max\": 0.2763147187232971}}}\u001b[0m\n",
      "\u001b[34m#metrics {\"StartTime\": 1709883143.8734822, \"EndTime\": 1709883143.8734972, \"Dimensions\": {\"Algorithm\": \"Linear Learner\", \"Host\": \"algo-1\", \"Operation\": \"training\", \"epoch\": 10, \"model\": 24}, \"Metrics\": {\"train_absolute_loss_objective\": {\"sum\": 0.8955526733398438, \"count\": 1, \"min\": 0.8955526733398438, \"max\": 0.8955526733398438}}}\u001b[0m\n",
      "\u001b[34m#metrics {\"StartTime\": 1709883143.873546, \"EndTime\": 1709883143.8735623, \"Dimensions\": {\"Algorithm\": \"Linear Learner\", \"Host\": \"algo-1\", \"Operation\": \"training\", \"epoch\": 10, \"model\": 25}, \"Metrics\": {\"train_absolute_loss_objective\": {\"sum\": 0.8956860446929932, \"count\": 1, \"min\": 0.8956860446929932, \"max\": 0.8956860446929932}}}\u001b[0m\n",
      "\u001b[34m#metrics {\"StartTime\": 1709883143.873615, \"EndTime\": 1709883143.8736312, \"Dimensions\": {\"Algorithm\": \"Linear Learner\", \"Host\": \"algo-1\", \"Operation\": \"training\", \"epoch\": 10, \"model\": 26}, \"Metrics\": {\"train_absolute_loss_objective\": {\"sum\": 0.8975171279907227, \"count\": 1, \"min\": 0.8975171279907227, \"max\": 0.8975171279907227}}}\u001b[0m\n",
      "\u001b[34m#metrics {\"StartTime\": 1709883143.8736753, \"EndTime\": 1709883143.8736904, \"Dimensions\": {\"Algorithm\": \"Linear Learner\", \"Host\": \"algo-1\", \"Operation\": \"training\", \"epoch\": 10, \"model\": 27}, \"Metrics\": {\"train_absolute_loss_objective\": {\"sum\": 0.8976364994049072, \"count\": 1, \"min\": 0.8976364994049072, \"max\": 0.8976364994049072}}}\u001b[0m\n",
      "\u001b[34m#metrics {\"StartTime\": 1709883143.8737385, \"EndTime\": 1709883143.8737547, \"Dimensions\": {\"Algorithm\": \"Linear Learner\", \"Host\": \"algo-1\", \"Operation\": \"training\", \"epoch\": 10, \"model\": 28}, \"Metrics\": {\"train_absolute_loss_objective\": {\"sum\": 0.939506254196167, \"count\": 1, \"min\": 0.939506254196167, \"max\": 0.939506254196167}}}\u001b[0m\n",
      "\u001b[34m#metrics {\"StartTime\": 1709883143.873808, \"EndTime\": 1709883143.8738244, \"Dimensions\": {\"Algorithm\": \"Linear Learner\", \"Host\": \"algo-1\", \"Operation\": \"training\", \"epoch\": 10, \"model\": 29}, \"Metrics\": {\"train_absolute_loss_objective\": {\"sum\": 0.9421286964416504, \"count\": 1, \"min\": 0.9421286964416504, \"max\": 0.9421286964416504}}}\u001b[0m\n",
      "\u001b[34m#metrics {\"StartTime\": 1709883143.8738823, \"EndTime\": 1709883143.873898, \"Dimensions\": {\"Algorithm\": \"Linear Learner\", \"Host\": \"algo-1\", \"Operation\": \"training\", \"epoch\": 10, \"model\": 30}, \"Metrics\": {\"train_absolute_loss_objective\": {\"sum\": 0.9355523109436035, \"count\": 1, \"min\": 0.9355523109436035, \"max\": 0.9355523109436035}}}\u001b[0m\n",
      "\u001b[34m#metrics {\"StartTime\": 1709883143.873945, \"EndTime\": 1709883143.873962, \"Dimensions\": {\"Algorithm\": \"Linear Learner\", \"Host\": \"algo-1\", \"Operation\": \"training\", \"epoch\": 10, \"model\": 31}, \"Metrics\": {\"train_absolute_loss_objective\": {\"sum\": 0.9424445629119873, \"count\": 1, \"min\": 0.9424445629119873, \"max\": 0.9424445629119873}}}\u001b[0m\n",
      "\u001b[34m[03/08/2024 07:32:23 INFO 140046607693632] #quality_metric: host=algo-1, epoch=10, train absolute_loss_objective <loss>=0.6889177513122559\u001b[0m\n",
      "\u001b[34m[03/08/2024 07:32:23 INFO 140046607693632] #early_stopping_criteria_metric: host=algo-1, epoch=10, criteria=absolute_loss_objective, value=0.20041996479034424\u001b[0m\n",
      "\u001b[34m[03/08/2024 07:32:23 INFO 140046607693632] Saving model for epoch: 10\u001b[0m\n",
      "\u001b[34m[03/08/2024 07:32:23 INFO 140046607693632] Saved checkpoint to \"/tmp/tmp4iaai7rq/mx-mod-0000.params\"\u001b[0m\n",
      "\u001b[34m[03/08/2024 07:32:23 INFO 140046607693632] #progress_metric: host=algo-1, completed 22.0 % of epochs\u001b[0m\n",
      "\u001b[34m#metrics {\"StartTime\": 1709883143.7713747, \"EndTime\": 1709883143.8862832, \"Dimensions\": {\"Algorithm\": \"Linear Learner\", \"Host\": \"algo-1\", \"Operation\": \"training\", \"epoch\": 10, \"Meta\": \"training_data_iter\"}, \"Metrics\": {\"Total Records Seen\": {\"sum\": 341.0, \"count\": 1, \"min\": 341, \"max\": 341}, \"Total Batches Seen\": {\"sum\": 73.0, \"count\": 1, \"min\": 73, \"max\": 73}, \"Max Records Seen Between Resets\": {\"sum\": 28.0, \"count\": 1, \"min\": 28, \"max\": 28}, \"Max Batches Seen Between Resets\": {\"sum\": 6.0, \"count\": 1, \"min\": 6, \"max\": 6}, \"Reset Count\": {\"sum\": 13.0, \"count\": 1, \"min\": 13, \"max\": 13}, \"Number of Records Since Last Reset\": {\"sum\": 28.0, \"count\": 1, \"min\": 28, \"max\": 28}, \"Number of Batches Since Last Reset\": {\"sum\": 6.0, \"count\": 1, \"min\": 6, \"max\": 6}}}\u001b[0m\n",
      "\u001b[34m[03/08/2024 07:32:23 INFO 140046607693632] #throughput_metric: host=algo-1, train throughput=243.33900099664126 records/second\u001b[0m\n",
      "\u001b[34m[2024-03-08 07:32:23.983] [tensorio] [info] epoch_stats={\"data_pipeline\": \"/opt/ml/input/data/train\", \"epoch\": 26, \"duration\": 96, \"num_examples\": 6, \"num_bytes\": 1344}\u001b[0m\n",
      "\u001b[34m#metrics {\"StartTime\": 1709883143.98317, \"EndTime\": 1709883143.9832575, \"Dimensions\": {\"Algorithm\": \"Linear Learner\", \"Host\": \"algo-1\", \"Operation\": \"training\", \"epoch\": 11, \"model\": 0}, \"Metrics\": {\"train_absolute_loss_objective\": {\"sum\": 0.669561996459961, \"count\": 1, \"min\": 0.669561996459961, \"max\": 0.669561996459961}}}\u001b[0m\n",
      "\u001b[34m#metrics {\"StartTime\": 1709883143.983364, \"EndTime\": 1709883143.983384, \"Dimensions\": {\"Algorithm\": \"Linear Learner\", \"Host\": \"algo-1\", \"Operation\": \"training\", \"epoch\": 11, \"model\": 1}, \"Metrics\": {\"train_absolute_loss_objective\": {\"sum\": 0.6836305713653564, \"count\": 1, \"min\": 0.6836305713653564, \"max\": 0.6836305713653564}}}\u001b[0m\n",
      "\u001b[34m#metrics {\"StartTime\": 1709883143.9834263, \"EndTime\": 1709883143.9834402, \"Dimensions\": {\"Algorithm\": \"Linear Learner\", \"Host\": \"algo-1\", \"Operation\": \"training\", \"epoch\": 11, \"model\": 2}, \"Metrics\": {\"train_absolute_loss_objective\": {\"sum\": 0.6719108867645264, \"count\": 1, \"min\": 0.6719108867645264, \"max\": 0.6719108867645264}}}\u001b[0m\n",
      "\u001b[34m#metrics {\"StartTime\": 1709883143.9834914, \"EndTime\": 1709883143.983507, \"Dimensions\": {\"Algorithm\": \"Linear Learner\", \"Host\": \"algo-1\", \"Operation\": \"training\", \"epoch\": 11, \"model\": 3}, \"Metrics\": {\"train_absolute_loss_objective\": {\"sum\": 0.6826396369934082, \"count\": 1, \"min\": 0.6826396369934082, \"max\": 0.6826396369934082}}}\u001b[0m\n",
      "\u001b[34m#metrics {\"StartTime\": 1709883143.9835548, \"EndTime\": 1709883143.9835699, \"Dimensions\": {\"Algorithm\": \"Linear Learner\", \"Host\": \"algo-1\", \"Operation\": \"training\", \"epoch\": 11, \"model\": 4}, \"Metrics\": {\"train_absolute_loss_objective\": {\"sum\": 0.19621385812759398, \"count\": 1, \"min\": 0.19621385812759398, \"max\": 0.19621385812759398}}}\u001b[0m\n",
      "\u001b[34m#metrics {\"StartTime\": 1709883143.9836206, \"EndTime\": 1709883143.983637, \"Dimensions\": {\"Algorithm\": \"Linear Learner\", \"Host\": \"algo-1\", \"Operation\": \"training\", \"epoch\": 11, \"model\": 5}, \"Metrics\": {\"train_absolute_loss_objective\": {\"sum\": 0.16633009910583496, \"count\": 1, \"min\": 0.16633009910583496, \"max\": 0.16633009910583496}}}\u001b[0m\n",
      "\u001b[34m#metrics {\"StartTime\": 1709883143.9836793, \"EndTime\": 1709883143.9836943, \"Dimensions\": {\"Algorithm\": \"Linear Learner\", \"Host\": \"algo-1\", \"Operation\": \"training\", \"epoch\": 11, \"model\": 6}, \"Metrics\": {\"train_absolute_loss_objective\": {\"sum\": 0.18698845386505128, \"count\": 1, \"min\": 0.18698845386505128, \"max\": 0.18698845386505128}}}\u001b[0m\n",
      "\u001b[34m#metrics {\"StartTime\": 1709883143.9837415, \"EndTime\": 1709883143.9837563, \"Dimensions\": {\"Algorithm\": \"Linear Learner\", \"Host\": \"algo-1\", \"Operation\": \"training\", \"epoch\": 11, \"model\": 7}, \"Metrics\": {\"train_absolute_loss_objective\": {\"sum\": 0.21220447063446046, \"count\": 1, \"min\": 0.21220447063446046, \"max\": 0.21220447063446046}}}\u001b[0m\n",
      "\u001b[34m#metrics {\"StartTime\": 1709883143.9837995, \"EndTime\": 1709883143.9838302, \"Dimensions\": {\"Algorithm\": \"Linear Learner\", \"Host\": \"algo-1\", \"Operation\": \"training\", \"epoch\": 11, \"model\": 8}, \"Metrics\": {\"train_absolute_loss_objective\": {\"sum\": 0.7243253517150879, \"count\": 1, \"min\": 0.7243253517150879, \"max\": 0.7243253517150879}}}\u001b[0m\n",
      "\u001b[34m#metrics {\"StartTime\": 1709883143.9838872, \"EndTime\": 1709883143.9839027, \"Dimensions\": {\"Algorithm\": \"Linear Learner\", \"Host\": \"algo-1\", \"Operation\": \"training\", \"epoch\": 11, \"model\": 9}, \"Metrics\": {\"train_absolute_loss_objective\": {\"sum\": 0.6526350975036621, \"count\": 1, \"min\": 0.6526350975036621, \"max\": 0.6526350975036621}}}\u001b[0m\n",
      "\u001b[34m#metrics {\"StartTime\": 1709883143.9839509, \"EndTime\": 1709883143.9839659, \"Dimensions\": {\"Algorithm\": \"Linear Learner\", \"Host\": \"algo-1\", \"Operation\": \"training\", \"epoch\": 11, \"model\": 10}, \"Metrics\": {\"train_absolute_loss_objective\": {\"sum\": 0.6644744873046875, \"count\": 1, \"min\": 0.6644744873046875, \"max\": 0.6644744873046875}}}\u001b[0m\n",
      "\u001b[34m#metrics {\"StartTime\": 1709883143.9840136, \"EndTime\": 1709883143.9840279, \"Dimensions\": {\"Algorithm\": \"Linear Learner\", \"Host\": \"algo-1\", \"Operation\": \"training\", \"epoch\": 11, \"model\": 11}, \"Metrics\": {\"train_absolute_loss_objective\": {\"sum\": 0.6447333717346191, \"count\": 1, \"min\": 0.6447333717346191, \"max\": 0.6447333717346191}}}\u001b[0m\n",
      "\u001b[34m#metrics {\"StartTime\": 1709883143.9840755, \"EndTime\": 1709883143.9840908, \"Dimensions\": {\"Algorithm\": \"Linear Learner\", \"Host\": \"algo-1\", \"Operation\": \"training\", \"epoch\": 11, \"model\": 12}, \"Metrics\": {\"train_absolute_loss_objective\": {\"sum\": 0.18440111398696898, \"count\": 1, \"min\": 0.18440111398696898, \"max\": 0.18440111398696898}}}\u001b[0m\n",
      "\u001b[34m#metrics {\"StartTime\": 1709883143.9841282, \"EndTime\": 1709883143.984144, \"Dimensions\": {\"Algorithm\": \"Linear Learner\", \"Host\": \"algo-1\", \"Operation\": \"training\", \"epoch\": 11, \"model\": 13}, \"Metrics\": {\"train_absolute_loss_objective\": {\"sum\": 0.2052377200126648, \"count\": 1, \"min\": 0.2052377200126648, \"max\": 0.2052377200126648}}}\u001b[0m\n",
      "\u001b[34m#metrics {\"StartTime\": 1709883143.9841897, \"EndTime\": 1709883143.9842048, \"Dimensions\": {\"Algorithm\": \"Linear Learner\", \"Host\": \"algo-1\", \"Operation\": \"training\", \"epoch\": 11, \"model\": 14}, \"Metrics\": {\"train_absolute_loss_objective\": {\"sum\": 0.18422234535217286, \"count\": 1, \"min\": 0.18422234535217286, \"max\": 0.18422234535217286}}}\u001b[0m\n",
      "\u001b[34m#metrics {\"StartTime\": 1709883143.984248, \"EndTime\": 1709883143.9842625, \"Dimensions\": {\"Algorithm\": \"Linear Learner\", \"Host\": \"algo-1\", \"Operation\": \"training\", \"epoch\": 11, \"model\": 15}, \"Metrics\": {\"train_absolute_loss_objective\": {\"sum\": 0.16180732250213622, \"count\": 1, \"min\": 0.16180732250213622, \"max\": 0.16180732250213622}}}\u001b[0m\n",
      "\u001b[34m#metrics {\"StartTime\": 1709883143.984305, \"EndTime\": 1709883143.9843209, \"Dimensions\": {\"Algorithm\": \"Linear Learner\", \"Host\": \"algo-1\", \"Operation\": \"training\", \"epoch\": 11, \"model\": 16}, \"Metrics\": {\"train_absolute_loss_objective\": {\"sum\": 0.647576093673706, \"count\": 1, \"min\": 0.647576093673706, \"max\": 0.647576093673706}}}\u001b[0m\n",
      "\u001b[34m#metrics {\"StartTime\": 1709883143.9843917, \"EndTime\": 1709883143.9844077, \"Dimensions\": {\"Algorithm\": \"Linear Learner\", \"Host\": \"algo-1\", \"Operation\": \"training\", \"epoch\": 11, \"model\": 17}, \"Metrics\": {\"train_absolute_loss_objective\": {\"sum\": 0.6904506587982178, \"count\": 1, \"min\": 0.6904506587982178, \"max\": 0.6904506587982178}}}\u001b[0m\n",
      "\u001b[34m#metrics {\"StartTime\": 1709883143.9844573, \"EndTime\": 1709883143.984472, \"Dimensions\": {\"Algorithm\": \"Linear Learner\", \"Host\": \"algo-1\", \"Operation\": \"training\", \"epoch\": 11, \"model\": 18}, \"Metrics\": {\"train_absolute_loss_objective\": {\"sum\": 0.6729372215270996, \"count\": 1, \"min\": 0.6729372215270996, \"max\": 0.6729372215270996}}}\u001b[0m\n",
      "\u001b[34m#metrics {\"StartTime\": 1709883143.9845142, \"EndTime\": 1709883143.9845285, \"Dimensions\": {\"Algorithm\": \"Linear Learner\", \"Host\": \"algo-1\", \"Operation\": \"training\", \"epoch\": 11, \"model\": 19}, \"Metrics\": {\"train_absolute_loss_objective\": {\"sum\": 0.6657663059234619, \"count\": 1, \"min\": 0.6657663059234619, \"max\": 0.6657663059234619}}}\u001b[0m\n",
      "\u001b[34m#metrics {\"StartTime\": 1709883143.984578, \"EndTime\": 1709883143.9845972, \"Dimensions\": {\"Algorithm\": \"Linear Learner\", \"Host\": \"algo-1\", \"Operation\": \"training\", \"epoch\": 11, \"model\": 20}, \"Metrics\": {\"train_absolute_loss_objective\": {\"sum\": 0.3155819916725159, \"count\": 1, \"min\": 0.3155819916725159, \"max\": 0.3155819916725159}}}\u001b[0m\n",
      "\u001b[34m#metrics {\"StartTime\": 1709883143.9846442, \"EndTime\": 1709883143.9846592, \"Dimensions\": {\"Algorithm\": \"Linear Learner\", \"Host\": \"algo-1\", \"Operation\": \"training\", \"epoch\": 11, \"model\": 21}, \"Metrics\": {\"train_absolute_loss_objective\": {\"sum\": 0.32127532958984373, \"count\": 1, \"min\": 0.32127532958984373, \"max\": 0.32127532958984373}}}\u001b[0m\n",
      "\u001b[34m#metrics {\"StartTime\": 1709883143.9847147, \"EndTime\": 1709883143.984729, \"Dimensions\": {\"Algorithm\": \"Linear Learner\", \"Host\": \"algo-1\", \"Operation\": \"training\", \"epoch\": 11, \"model\": 22}, \"Metrics\": {\"train_absolute_loss_objective\": {\"sum\": 0.34061801195144653, \"count\": 1, \"min\": 0.34061801195144653, \"max\": 0.34061801195144653}}}\u001b[0m\n",
      "\u001b[34m#metrics {\"StartTime\": 1709883143.984777, \"EndTime\": 1709883143.9847922, \"Dimensions\": {\"Algorithm\": \"Linear Learner\", \"Host\": \"algo-1\", \"Operation\": \"training\", \"epoch\": 11, \"model\": 23}, \"Metrics\": {\"train_absolute_loss_objective\": {\"sum\": 0.2858270168304443, \"count\": 1, \"min\": 0.2858270168304443, \"max\": 0.2858270168304443}}}\u001b[0m\n",
      "\u001b[34m#metrics {\"StartTime\": 1709883143.984831, \"EndTime\": 1709883143.9848459, \"Dimensions\": {\"Algorithm\": \"Linear Learner\", \"Host\": \"algo-1\", \"Operation\": \"training\", \"epoch\": 11, \"model\": 24}, \"Metrics\": {\"train_absolute_loss_objective\": {\"sum\": 0.8981402111053467, \"count\": 1, \"min\": 0.8981402111053467, \"max\": 0.8981402111053467}}}\u001b[0m\n",
      "\u001b[34m#metrics {\"StartTime\": 1709883143.9848828, \"EndTime\": 1709883143.9848967, \"Dimensions\": {\"Algorithm\": \"Linear Learner\", \"Host\": \"algo-1\", \"Operation\": \"training\", \"epoch\": 11, \"model\": 25}, \"Metrics\": {\"train_absolute_loss_objective\": {\"sum\": 0.8967297172546387, \"count\": 1, \"min\": 0.8967297172546387, \"max\": 0.8967297172546387}}}\u001b[0m\n",
      "\u001b[34m#metrics {\"StartTime\": 1709883143.9849381, \"EndTime\": 1709883143.9849527, \"Dimensions\": {\"Algorithm\": \"Linear Learner\", \"Host\": \"algo-1\", \"Operation\": \"training\", \"epoch\": 11, \"model\": 26}, \"Metrics\": {\"train_absolute_loss_objective\": {\"sum\": 0.8971614646911621, \"count\": 1, \"min\": 0.8971614646911621, \"max\": 0.8971614646911621}}}\u001b[0m\n",
      "\u001b[34m#metrics {\"StartTime\": 1709883143.985007, \"EndTime\": 1709883143.9850202, \"Dimensions\": {\"Algorithm\": \"Linear Learner\", \"Host\": \"algo-1\", \"Operation\": \"training\", \"epoch\": 11, \"model\": 27}, \"Metrics\": {\"train_absolute_loss_objective\": {\"sum\": 0.8968253517150879, \"count\": 1, \"min\": 0.8968253517150879, \"max\": 0.8968253517150879}}}\u001b[0m\n",
      "\u001b[34m#metrics {\"StartTime\": 1709883143.9850605, \"EndTime\": 1709883143.985075, \"Dimensions\": {\"Algorithm\": \"Linear Learner\", \"Host\": \"algo-1\", \"Operation\": \"training\", \"epoch\": 11, \"model\": 28}, \"Metrics\": {\"train_absolute_loss_objective\": {\"sum\": 0.9438039207458496, \"count\": 1, \"min\": 0.9438039207458496, \"max\": 0.9438039207458496}}}\u001b[0m\n",
      "\u001b[34m#metrics {\"StartTime\": 1709883143.985121, \"EndTime\": 1709883143.9851341, \"Dimensions\": {\"Algorithm\": \"Linear Learner\", \"Host\": \"algo-1\", \"Operation\": \"training\", \"epoch\": 11, \"model\": 29}, \"Metrics\": {\"train_absolute_loss_objective\": {\"sum\": 0.9470023059844971, \"count\": 1, \"min\": 0.9470023059844971, \"max\": 0.9470023059844971}}}\u001b[0m\n",
      "\u001b[34m#metrics {\"StartTime\": 1709883143.9851863, \"EndTime\": 1709883143.9852026, \"Dimensions\": {\"Algorithm\": \"Linear Learner\", \"Host\": \"algo-1\", \"Operation\": \"training\", \"epoch\": 11, \"model\": 30}, \"Metrics\": {\"train_absolute_loss_objective\": {\"sum\": 0.9471046352386474, \"count\": 1, \"min\": 0.9471046352386474, \"max\": 0.9471046352386474}}}\u001b[0m\n",
      "\u001b[34m#metrics {\"StartTime\": 1709883143.985252, \"EndTime\": 1709883143.9852664, \"Dimensions\": {\"Algorithm\": \"Linear Learner\", \"Host\": \"algo-1\", \"Operation\": \"training\", \"epoch\": 11, \"model\": 31}, \"Metrics\": {\"train_absolute_loss_objective\": {\"sum\": 0.9461434173583985, \"count\": 1, \"min\": 0.9461434173583985, \"max\": 0.9461434173583985}}}\u001b[0m\n",
      "\u001b[34m[03/08/2024 07:32:23 INFO 140046607693632] #quality_metric: host=algo-1, epoch=11, train absolute_loss_objective <loss>=0.669561996459961\u001b[0m\n",
      "\u001b[34m[03/08/2024 07:32:23 INFO 140046607693632] #early_stopping_criteria_metric: host=algo-1, epoch=11, criteria=absolute_loss_objective, value=0.16180732250213622\u001b[0m\n",
      "\u001b[34m[03/08/2024 07:32:23 INFO 140046607693632] Epoch 11: Loss improved. Updating best model\u001b[0m\n",
      "\u001b[34m[03/08/2024 07:32:23 INFO 140046607693632] Saving model for epoch: 11\u001b[0m\n",
      "\u001b[34m[03/08/2024 07:32:23 INFO 140046607693632] Saved checkpoint to \"/tmp/tmpbf_lad5g/mx-mod-0000.params\"\u001b[0m\n",
      "\u001b[34m[03/08/2024 07:32:23 INFO 140046607693632] #progress_metric: host=algo-1, completed 24.0 % of epochs\u001b[0m\n",
      "\u001b[34m#metrics {\"StartTime\": 1709883143.8866513, \"EndTime\": 1709883143.994605, \"Dimensions\": {\"Algorithm\": \"Linear Learner\", \"Host\": \"algo-1\", \"Operation\": \"training\", \"epoch\": 11, \"Meta\": \"training_data_iter\"}, \"Metrics\": {\"Total Records Seen\": {\"sum\": 369.0, \"count\": 1, \"min\": 369, \"max\": 369}, \"Total Batches Seen\": {\"sum\": 79.0, \"count\": 1, \"min\": 79, \"max\": 79}, \"Max Records Seen Between Resets\": {\"sum\": 28.0, \"count\": 1, \"min\": 28, \"max\": 28}, \"Max Batches Seen Between Resets\": {\"sum\": 6.0, \"count\": 1, \"min\": 6, \"max\": 6}, \"Reset Count\": {\"sum\": 14.0, \"count\": 1, \"min\": 14, \"max\": 14}, \"Number of Records Since Last Reset\": {\"sum\": 28.0, \"count\": 1, \"min\": 28, \"max\": 28}, \"Number of Batches Since Last Reset\": {\"sum\": 6.0, \"count\": 1, \"min\": 6, \"max\": 6}}}\u001b[0m\n",
      "\u001b[34m[03/08/2024 07:32:23 INFO 140046607693632] #throughput_metric: host=algo-1, train throughput=258.9978696283097 records/second\u001b[0m\n",
      "\u001b[34m[2024-03-08 07:32:24.105] [tensorio] [info] epoch_stats={\"data_pipeline\": \"/opt/ml/input/data/train\", \"epoch\": 28, \"duration\": 110, \"num_examples\": 6, \"num_bytes\": 1344}\u001b[0m\n",
      "\u001b[34m#metrics {\"StartTime\": 1709883144.1057236, \"EndTime\": 1709883144.1058116, \"Dimensions\": {\"Algorithm\": \"Linear Learner\", \"Host\": \"algo-1\", \"Operation\": \"training\", \"epoch\": 12, \"model\": 0}, \"Metrics\": {\"train_absolute_loss_objective\": {\"sum\": 0.6496477508544922, \"count\": 1, \"min\": 0.6496477508544922, \"max\": 0.6496477508544922}}}\u001b[0m\n",
      "\u001b[34m#metrics {\"StartTime\": 1709883144.1059113, \"EndTime\": 1709883144.1059294, \"Dimensions\": {\"Algorithm\": \"Linear Learner\", \"Host\": \"algo-1\", \"Operation\": \"training\", \"epoch\": 12, \"model\": 1}, \"Metrics\": {\"train_absolute_loss_objective\": {\"sum\": 0.6627048301696777, \"count\": 1, \"min\": 0.6627048301696777, \"max\": 0.6627048301696777}}}\u001b[0m\n",
      "\u001b[34m#metrics {\"StartTime\": 1709883144.1059792, \"EndTime\": 1709883144.1059952, \"Dimensions\": {\"Algorithm\": \"Linear Learner\", \"Host\": \"algo-1\", \"Operation\": \"training\", \"epoch\": 12, \"model\": 2}, \"Metrics\": {\"train_absolute_loss_objective\": {\"sum\": 0.652012186050415, \"count\": 1, \"min\": 0.652012186050415, \"max\": 0.652012186050415}}}\u001b[0m\n",
      "\u001b[34m#metrics {\"StartTime\": 1709883144.1060412, \"EndTime\": 1709883144.1060567, \"Dimensions\": {\"Algorithm\": \"Linear Learner\", \"Host\": \"algo-1\", \"Operation\": \"training\", \"epoch\": 12, \"model\": 3}, \"Metrics\": {\"train_absolute_loss_objective\": {\"sum\": 0.6617073249816895, \"count\": 1, \"min\": 0.6617073249816895, \"max\": 0.6617073249816895}}}\u001b[0m\n",
      "\u001b[34m#metrics {\"StartTime\": 1709883144.1061032, \"EndTime\": 1709883144.1061184, \"Dimensions\": {\"Algorithm\": \"Linear Learner\", \"Host\": \"algo-1\", \"Operation\": \"training\", \"epoch\": 12, \"model\": 4}, \"Metrics\": {\"train_absolute_loss_objective\": {\"sum\": 0.20994883060455322, \"count\": 1, \"min\": 0.20994883060455322, \"max\": 0.20994883060455322}}}\u001b[0m\n",
      "\u001b[34m#metrics {\"StartTime\": 1709883144.106163, \"EndTime\": 1709883144.1061776, \"Dimensions\": {\"Algorithm\": \"Linear Learner\", \"Host\": \"algo-1\", \"Operation\": \"training\", \"epoch\": 12, \"model\": 5}, \"Metrics\": {\"train_absolute_loss_objective\": {\"sum\": 0.252662935256958, \"count\": 1, \"min\": 0.252662935256958, \"max\": 0.252662935256958}}}\u001b[0m\n",
      "\u001b[34m#metrics {\"StartTime\": 1709883144.106223, \"EndTime\": 1709883144.1062374, \"Dimensions\": {\"Algorithm\": \"Linear Learner\", \"Host\": \"algo-1\", \"Operation\": \"training\", \"epoch\": 12, \"model\": 6}, \"Metrics\": {\"train_absolute_loss_objective\": {\"sum\": 0.2188173508644104, \"count\": 1, \"min\": 0.2188173508644104, \"max\": 0.2188173508644104}}}\u001b[0m\n",
      "\u001b[34m#metrics {\"StartTime\": 1709883144.1062887, \"EndTime\": 1709883144.1063025, \"Dimensions\": {\"Algorithm\": \"Linear Learner\", \"Host\": \"algo-1\", \"Operation\": \"training\", \"epoch\": 12, \"model\": 7}, \"Metrics\": {\"train_absolute_loss_objective\": {\"sum\": 0.20702310800552368, \"count\": 1, \"min\": 0.20702310800552368, \"max\": 0.20702310800552368}}}\u001b[0m\n",
      "\u001b[34m#metrics {\"StartTime\": 1709883144.1063476, \"EndTime\": 1709883144.106361, \"Dimensions\": {\"Algorithm\": \"Linear Learner\", \"Host\": \"algo-1\", \"Operation\": \"training\", \"epoch\": 12, \"model\": 8}, \"Metrics\": {\"train_absolute_loss_objective\": {\"sum\": 0.7045055866241455, \"count\": 1, \"min\": 0.7045055866241455, \"max\": 0.7045055866241455}}}\u001b[0m\n",
      "\u001b[34m#metrics {\"StartTime\": 1709883144.1063979, \"EndTime\": 1709883144.1064095, \"Dimensions\": {\"Algorithm\": \"Linear Learner\", \"Host\": \"algo-1\", \"Operation\": \"training\", \"epoch\": 12, \"model\": 9}, \"Metrics\": {\"train_absolute_loss_objective\": {\"sum\": 0.6322493457794189, \"count\": 1, \"min\": 0.6322493457794189, \"max\": 0.6322493457794189}}}\u001b[0m\n",
      "\u001b[34m#metrics {\"StartTime\": 1709883144.1064434, \"EndTime\": 1709883144.1064541, \"Dimensions\": {\"Algorithm\": \"Linear Learner\", \"Host\": \"algo-1\", \"Operation\": \"training\", \"epoch\": 12, \"model\": 10}, \"Metrics\": {\"train_absolute_loss_objective\": {\"sum\": 0.6451366806030273, \"count\": 1, \"min\": 0.6451366806030273, \"max\": 0.6451366806030273}}}\u001b[0m\n",
      "\u001b[34m#metrics {\"StartTime\": 1709883144.1064894, \"EndTime\": 1709883144.1065283, \"Dimensions\": {\"Algorithm\": \"Linear Learner\", \"Host\": \"algo-1\", \"Operation\": \"training\", \"epoch\": 12, \"model\": 11}, \"Metrics\": {\"train_absolute_loss_objective\": {\"sum\": 0.6243477249145508, \"count\": 1, \"min\": 0.6243477249145508, \"max\": 0.6243477249145508}}}\u001b[0m\n",
      "\u001b[34m#metrics {\"StartTime\": 1709883144.1065736, \"EndTime\": 1709883144.1065862, \"Dimensions\": {\"Algorithm\": \"Linear Learner\", \"Host\": \"algo-1\", \"Operation\": \"training\", \"epoch\": 12, \"model\": 12}, \"Metrics\": {\"train_absolute_loss_objective\": {\"sum\": 0.2661640381813049, \"count\": 1, \"min\": 0.2661640381813049, \"max\": 0.2661640381813049}}}\u001b[0m\n",
      "\u001b[34m#metrics {\"StartTime\": 1709883144.1066222, \"EndTime\": 1709883144.106633, \"Dimensions\": {\"Algorithm\": \"Linear Learner\", \"Host\": \"algo-1\", \"Operation\": \"training\", \"epoch\": 12, \"model\": 13}, \"Metrics\": {\"train_absolute_loss_objective\": {\"sum\": 0.17755658626556398, \"count\": 1, \"min\": 0.17755658626556398, \"max\": 0.17755658626556398}}}\u001b[0m\n",
      "\u001b[34m#metrics {\"StartTime\": 1709883144.1066666, \"EndTime\": 1709883144.1066775, \"Dimensions\": {\"Algorithm\": \"Linear Learner\", \"Host\": \"algo-1\", \"Operation\": \"training\", \"epoch\": 12, \"model\": 14}, \"Metrics\": {\"train_absolute_loss_objective\": {\"sum\": 0.2652840256690979, \"count\": 1, \"min\": 0.2652840256690979, \"max\": 0.2652840256690979}}}\u001b[0m\n",
      "\u001b[34m#metrics {\"StartTime\": 1709883144.1067123, \"EndTime\": 1709883144.106725, \"Dimensions\": {\"Algorithm\": \"Linear Learner\", \"Host\": \"algo-1\", \"Operation\": \"training\", \"epoch\": 12, \"model\": 15}, \"Metrics\": {\"train_absolute_loss_objective\": {\"sum\": 0.2917884206771851, \"count\": 1, \"min\": 0.2917884206771851, \"max\": 0.2917884206771851}}}\u001b[0m\n",
      "\u001b[34m#metrics {\"StartTime\": 1709883144.1067612, \"EndTime\": 1709883144.106774, \"Dimensions\": {\"Algorithm\": \"Linear Learner\", \"Host\": \"algo-1\", \"Operation\": \"training\", \"epoch\": 12, \"model\": 16}, \"Metrics\": {\"train_absolute_loss_objective\": {\"sum\": 0.6312168407440185, \"count\": 1, \"min\": 0.6312168407440185, \"max\": 0.6312168407440185}}}\u001b[0m\n",
      "\u001b[34m#metrics {\"StartTime\": 1709883144.1068146, \"EndTime\": 1709883144.1068292, \"Dimensions\": {\"Algorithm\": \"Linear Learner\", \"Host\": \"algo-1\", \"Operation\": \"training\", \"epoch\": 12, \"model\": 17}, \"Metrics\": {\"train_absolute_loss_objective\": {\"sum\": 0.673687391281128, \"count\": 1, \"min\": 0.673687391281128, \"max\": 0.673687391281128}}}\u001b[0m\n",
      "\u001b[34m#metrics {\"StartTime\": 1709883144.1068697, \"EndTime\": 1709883144.1068833, \"Dimensions\": {\"Algorithm\": \"Linear Learner\", \"Host\": \"algo-1\", \"Operation\": \"training\", \"epoch\": 12, \"model\": 18}, \"Metrics\": {\"train_absolute_loss_objective\": {\"sum\": 0.6559011173248291, \"count\": 1, \"min\": 0.6559011173248291, \"max\": 0.6559011173248291}}}\u001b[0m\n",
      "\u001b[34m#metrics {\"StartTime\": 1709883144.106925, \"EndTime\": 1709883144.1069388, \"Dimensions\": {\"Algorithm\": \"Linear Learner\", \"Host\": \"algo-1\", \"Operation\": \"training\", \"epoch\": 12, \"model\": 19}, \"Metrics\": {\"train_absolute_loss_objective\": {\"sum\": 0.6484550380706787, \"count\": 1, \"min\": 0.6484550380706787, \"max\": 0.6484550380706787}}}\u001b[0m\n",
      "\u001b[34m#metrics {\"StartTime\": 1709883144.1069803, \"EndTime\": 1709883144.1069918, \"Dimensions\": {\"Algorithm\": \"Linear Learner\", \"Host\": \"algo-1\", \"Operation\": \"training\", \"epoch\": 12, \"model\": 20}, \"Metrics\": {\"train_absolute_loss_objective\": {\"sum\": 0.37257492303848266, \"count\": 1, \"min\": 0.37257492303848266, \"max\": 0.37257492303848266}}}\u001b[0m\n",
      "\u001b[34m#metrics {\"StartTime\": 1709883144.1070256, \"EndTime\": 1709883144.107037, \"Dimensions\": {\"Algorithm\": \"Linear Learner\", \"Host\": \"algo-1\", \"Operation\": \"training\", \"epoch\": 12, \"model\": 21}, \"Metrics\": {\"train_absolute_loss_objective\": {\"sum\": 0.42660346508026126, \"count\": 1, \"min\": 0.42660346508026126, \"max\": 0.42660346508026126}}}\u001b[0m\n",
      "\u001b[34m#metrics {\"StartTime\": 1709883144.1070752, \"EndTime\": 1709883144.1070876, \"Dimensions\": {\"Algorithm\": \"Linear Learner\", \"Host\": \"algo-1\", \"Operation\": \"training\", \"epoch\": 12, \"model\": 22}, \"Metrics\": {\"train_absolute_loss_objective\": {\"sum\": 0.3315884017944336, \"count\": 1, \"min\": 0.3315884017944336, \"max\": 0.3315884017944336}}}\u001b[0m\n",
      "\u001b[34m#metrics {\"StartTime\": 1709883144.107122, \"EndTime\": 1709883144.1071327, \"Dimensions\": {\"Algorithm\": \"Linear Learner\", \"Host\": \"algo-1\", \"Operation\": \"training\", \"epoch\": 12, \"model\": 23}, \"Metrics\": {\"train_absolute_loss_objective\": {\"sum\": 0.3311622619628906, \"count\": 1, \"min\": 0.3311622619628906, \"max\": 0.3311622619628906}}}\u001b[0m\n",
      "\u001b[34m#metrics {\"StartTime\": 1709883144.107166, \"EndTime\": 1709883144.1072326, \"Dimensions\": {\"Algorithm\": \"Linear Learner\", \"Host\": \"algo-1\", \"Operation\": \"training\", \"epoch\": 12, \"model\": 24}, \"Metrics\": {\"train_absolute_loss_objective\": {\"sum\": 0.8990100288391113, \"count\": 1, \"min\": 0.8990100288391113, \"max\": 0.8990100288391113}}}\u001b[0m\n",
      "\u001b[34m#metrics {\"StartTime\": 1709883144.1072764, \"EndTime\": 1709883144.1072884, \"Dimensions\": {\"Algorithm\": \"Linear Learner\", \"Host\": \"algo-1\", \"Operation\": \"training\", \"epoch\": 12, \"model\": 25}, \"Metrics\": {\"train_absolute_loss_objective\": {\"sum\": 0.8981249618530274, \"count\": 1, \"min\": 0.8981249618530274, \"max\": 0.8981249618530274}}}\u001b[0m\n",
      "\u001b[34m#metrics {\"StartTime\": 1709883144.107323, \"EndTime\": 1709883144.1073337, \"Dimensions\": {\"Algorithm\": \"Linear Learner\", \"Host\": \"algo-1\", \"Operation\": \"training\", \"epoch\": 12, \"model\": 26}, \"Metrics\": {\"train_absolute_loss_objective\": {\"sum\": 0.8970214176177979, \"count\": 1, \"min\": 0.8970214176177979, \"max\": 0.8970214176177979}}}\u001b[0m\n",
      "\u001b[34m#metrics {\"StartTime\": 1709883144.1073675, \"EndTime\": 1709883144.107379, \"Dimensions\": {\"Algorithm\": \"Linear Learner\", \"Host\": \"algo-1\", \"Operation\": \"training\", \"epoch\": 12, \"model\": 27}, \"Metrics\": {\"train_absolute_loss_objective\": {\"sum\": 0.897419204711914, \"count\": 1, \"min\": 0.897419204711914, \"max\": 0.897419204711914}}}\u001b[0m\n",
      "\u001b[34m#metrics {\"StartTime\": 1709883144.107416, \"EndTime\": 1709883144.1074271, \"Dimensions\": {\"Algorithm\": \"Linear Learner\", \"Host\": \"algo-1\", \"Operation\": \"training\", \"epoch\": 12, \"model\": 28}, \"Metrics\": {\"train_absolute_loss_objective\": {\"sum\": 0.9398981094360351, \"count\": 1, \"min\": 0.9398981094360351, \"max\": 0.9398981094360351}}}\u001b[0m\n",
      "\u001b[34m#metrics {\"StartTime\": 1709883144.1074631, \"EndTime\": 1709883144.1074736, \"Dimensions\": {\"Algorithm\": \"Linear Learner\", \"Host\": \"algo-1\", \"Operation\": \"training\", \"epoch\": 12, \"model\": 29}, \"Metrics\": {\"train_absolute_loss_objective\": {\"sum\": 0.9414747714996338, \"count\": 1, \"min\": 0.9414747714996338, \"max\": 0.9414747714996338}}}\u001b[0m\n",
      "\u001b[34m#metrics {\"StartTime\": 1709883144.107506, \"EndTime\": 1709883144.1075172, \"Dimensions\": {\"Algorithm\": \"Linear Learner\", \"Host\": \"algo-1\", \"Operation\": \"training\", \"epoch\": 12, \"model\": 30}, \"Metrics\": {\"train_absolute_loss_objective\": {\"sum\": 0.9375057411193848, \"count\": 1, \"min\": 0.9375057411193848, \"max\": 0.9375057411193848}}}\u001b[0m\n",
      "\u001b[34m#metrics {\"StartTime\": 1709883144.107554, \"EndTime\": 1709883144.1075652, \"Dimensions\": {\"Algorithm\": \"Linear Learner\", \"Host\": \"algo-1\", \"Operation\": \"training\", \"epoch\": 12, \"model\": 31}, \"Metrics\": {\"train_absolute_loss_objective\": {\"sum\": 0.9430280685424804, \"count\": 1, \"min\": 0.9430280685424804, \"max\": 0.9430280685424804}}}\u001b[0m\n",
      "\u001b[34m[03/08/2024 07:32:24 INFO 140046607693632] #quality_metric: host=algo-1, epoch=12, train absolute_loss_objective <loss>=0.6496477508544922\u001b[0m\n",
      "\u001b[34m[03/08/2024 07:32:24 INFO 140046607693632] #early_stopping_criteria_metric: host=algo-1, epoch=12, criteria=absolute_loss_objective, value=0.17755658626556398\u001b[0m\n",
      "\u001b[34m[03/08/2024 07:32:24 INFO 140046607693632] Saving model for epoch: 12\u001b[0m\n",
      "\u001b[34m[03/08/2024 07:32:24 INFO 140046607693632] Saved checkpoint to \"/tmp/tmp1er3tknp/mx-mod-0000.params\"\u001b[0m\n",
      "\u001b[34m[03/08/2024 07:32:24 INFO 140046607693632] #progress_metric: host=algo-1, completed 26.0 % of epochs\u001b[0m\n",
      "\u001b[34m#metrics {\"StartTime\": 1709883143.9949145, \"EndTime\": 1709883144.1179998, \"Dimensions\": {\"Algorithm\": \"Linear Learner\", \"Host\": \"algo-1\", \"Operation\": \"training\", \"epoch\": 12, \"Meta\": \"training_data_iter\"}, \"Metrics\": {\"Total Records Seen\": {\"sum\": 397.0, \"count\": 1, \"min\": 397, \"max\": 397}, \"Total Batches Seen\": {\"sum\": 85.0, \"count\": 1, \"min\": 85, \"max\": 85}, \"Max Records Seen Between Resets\": {\"sum\": 28.0, \"count\": 1, \"min\": 28, \"max\": 28}, \"Max Batches Seen Between Resets\": {\"sum\": 6.0, \"count\": 1, \"min\": 6, \"max\": 6}, \"Reset Count\": {\"sum\": 15.0, \"count\": 1, \"min\": 15, \"max\": 15}, \"Number of Records Since Last Reset\": {\"sum\": 28.0, \"count\": 1, \"min\": 28, \"max\": 28}, \"Number of Batches Since Last Reset\": {\"sum\": 6.0, \"count\": 1, \"min\": 6, \"max\": 6}}}\u001b[0m\n",
      "\u001b[34m[03/08/2024 07:32:24 INFO 140046607693632] #throughput_metric: host=algo-1, train throughput=226.69725316089182 records/second\u001b[0m\n",
      "\u001b[34m[2024-03-08 07:32:24.246] [tensorio] [info] epoch_stats={\"data_pipeline\": \"/opt/ml/input/data/train\", \"epoch\": 30, \"duration\": 127, \"num_examples\": 6, \"num_bytes\": 1344}\u001b[0m\n",
      "\u001b[34m#metrics {\"StartTime\": 1709883144.2463434, \"EndTime\": 1709883144.2464445, \"Dimensions\": {\"Algorithm\": \"Linear Learner\", \"Host\": \"algo-1\", \"Operation\": \"training\", \"epoch\": 13, \"model\": 0}, \"Metrics\": {\"train_absolute_loss_objective\": {\"sum\": 0.6308924770355224, \"count\": 1, \"min\": 0.6308924770355224, \"max\": 0.6308924770355224}}}\u001b[0m\n",
      "\u001b[34m#metrics {\"StartTime\": 1709883144.2465198, \"EndTime\": 1709883144.2465568, \"Dimensions\": {\"Algorithm\": \"Linear Learner\", \"Host\": \"algo-1\", \"Operation\": \"training\", \"epoch\": 13, \"model\": 1}, \"Metrics\": {\"train_absolute_loss_objective\": {\"sum\": 0.6427108764648437, \"count\": 1, \"min\": 0.6427108764648437, \"max\": 0.6427108764648437}}}\u001b[0m\n",
      "\u001b[34m#metrics {\"StartTime\": 1709883144.2466087, \"EndTime\": 1709883144.246624, \"Dimensions\": {\"Algorithm\": \"Linear Learner\", \"Host\": \"algo-1\", \"Operation\": \"training\", \"epoch\": 13, \"model\": 2}, \"Metrics\": {\"train_absolute_loss_objective\": {\"sum\": 0.6332413578033447, \"count\": 1, \"min\": 0.6332413578033447, \"max\": 0.6332413578033447}}}\u001b[0m\n",
      "\u001b[34m#metrics {\"StartTime\": 1709883144.2466571, \"EndTime\": 1709883144.2466698, \"Dimensions\": {\"Algorithm\": \"Linear Learner\", \"Host\": \"algo-1\", \"Operation\": \"training\", \"epoch\": 13, \"model\": 3}, \"Metrics\": {\"train_absolute_loss_objective\": {\"sum\": 0.6417199325561523, \"count\": 1, \"min\": 0.6417199325561523, \"max\": 0.6417199325561523}}}\u001b[0m\n",
      "\u001b[34m#metrics {\"StartTime\": 1709883144.2467105, \"EndTime\": 1709883144.2467244, \"Dimensions\": {\"Algorithm\": \"Linear Learner\", \"Host\": \"algo-1\", \"Operation\": \"training\", \"epoch\": 13, \"model\": 4}, \"Metrics\": {\"train_absolute_loss_objective\": {\"sum\": 0.23376290798187255, \"count\": 1, \"min\": 0.23376290798187255, \"max\": 0.23376290798187255}}}\u001b[0m\n",
      "\u001b[34m#metrics {\"StartTime\": 1709883144.2467682, \"EndTime\": 1709883144.2467825, \"Dimensions\": {\"Algorithm\": \"Linear Learner\", \"Host\": \"algo-1\", \"Operation\": \"training\", \"epoch\": 13, \"model\": 5}, \"Metrics\": {\"train_absolute_loss_objective\": {\"sum\": 0.17840559244155885, \"count\": 1, \"min\": 0.17840559244155885, \"max\": 0.17840559244155885}}}\u001b[0m\n",
      "\u001b[34m#metrics {\"StartTime\": 1709883144.2468257, \"EndTime\": 1709883144.2468412, \"Dimensions\": {\"Algorithm\": \"Linear Learner\", \"Host\": \"algo-1\", \"Operation\": \"training\", \"epoch\": 13, \"model\": 6}, \"Metrics\": {\"train_absolute_loss_objective\": {\"sum\": 0.2184630513191223, \"count\": 1, \"min\": 0.2184630513191223, \"max\": 0.2184630513191223}}}\u001b[0m\n",
      "\u001b[34m#metrics {\"StartTime\": 1709883144.2468934, \"EndTime\": 1709883144.2469082, \"Dimensions\": {\"Algorithm\": \"Linear Learner\", \"Host\": \"algo-1\", \"Operation\": \"training\", \"epoch\": 13, \"model\": 7}, \"Metrics\": {\"train_absolute_loss_objective\": {\"sum\": 0.18213719606399537, \"count\": 1, \"min\": 0.18213719606399537, \"max\": 0.18213719606399537}}}\u001b[0m\n",
      "\u001b[34m#metrics {\"StartTime\": 1709883144.2469678, \"EndTime\": 1709883144.2469828, \"Dimensions\": {\"Algorithm\": \"Linear Learner\", \"Host\": \"algo-1\", \"Operation\": \"training\", \"epoch\": 13, \"model\": 8}, \"Metrics\": {\"train_absolute_loss_objective\": {\"sum\": 0.6855666255950927, \"count\": 1, \"min\": 0.6855666255950927, \"max\": 0.6855666255950927}}}\u001b[0m\n",
      "\u001b[34m#metrics {\"StartTime\": 1709883144.2470267, \"EndTime\": 1709883144.2470417, \"Dimensions\": {\"Algorithm\": \"Linear Learner\", \"Host\": \"algo-1\", \"Operation\": \"training\", \"epoch\": 13, \"model\": 9}, \"Metrics\": {\"train_absolute_loss_objective\": {\"sum\": 0.6113765621185303, \"count\": 1, \"min\": 0.6113765621185303, \"max\": 0.6113765621185303}}}\u001b[0m\n",
      "\u001b[34m#metrics {\"StartTime\": 1709883144.2470894, \"EndTime\": 1709883144.2471044, \"Dimensions\": {\"Algorithm\": \"Linear Learner\", \"Host\": \"algo-1\", \"Operation\": \"training\", \"epoch\": 13, \"model\": 10}, \"Metrics\": {\"train_absolute_loss_objective\": {\"sum\": 0.625575246810913, \"count\": 1, \"min\": 0.625575246810913, \"max\": 0.625575246810913}}}\u001b[0m\n",
      "\u001b[34m#metrics {\"StartTime\": 1709883144.247147, \"EndTime\": 1709883144.2471623, \"Dimensions\": {\"Algorithm\": \"Linear Learner\", \"Host\": \"algo-1\", \"Operation\": \"training\", \"epoch\": 13, \"model\": 11}, \"Metrics\": {\"train_absolute_loss_objective\": {\"sum\": 0.6034227657318115, \"count\": 1, \"min\": 0.6034227657318115, \"max\": 0.6034227657318115}}}\u001b[0m\n",
      "\u001b[34m#metrics {\"StartTime\": 1709883144.2472095, \"EndTime\": 1709883144.247224, \"Dimensions\": {\"Algorithm\": \"Linear Learner\", \"Host\": \"algo-1\", \"Operation\": \"training\", \"epoch\": 13, \"model\": 12}, \"Metrics\": {\"train_absolute_loss_objective\": {\"sum\": 0.17716681003570556, \"count\": 1, \"min\": 0.17716681003570556, \"max\": 0.17716681003570556}}}\u001b[0m\n",
      "\u001b[34m#metrics {\"StartTime\": 1709883144.2473114, \"EndTime\": 1709883144.247329, \"Dimensions\": {\"Algorithm\": \"Linear Learner\", \"Host\": \"algo-1\", \"Operation\": \"training\", \"epoch\": 13, \"model\": 13}, \"Metrics\": {\"train_absolute_loss_objective\": {\"sum\": 0.217011137008667, \"count\": 1, \"min\": 0.217011137008667, \"max\": 0.217011137008667}}}\u001b[0m\n",
      "\u001b[34m#metrics {\"StartTime\": 1709883144.2473757, \"EndTime\": 1709883144.2473912, \"Dimensions\": {\"Algorithm\": \"Linear Learner\", \"Host\": \"algo-1\", \"Operation\": \"training\", \"epoch\": 13, \"model\": 14}, \"Metrics\": {\"train_absolute_loss_objective\": {\"sum\": 0.1771363162994385, \"count\": 1, \"min\": 0.1771363162994385, \"max\": 0.1771363162994385}}}\u001b[0m\n",
      "\u001b[34m#metrics {\"StartTime\": 1709883144.2474864, \"EndTime\": 1709883144.247506, \"Dimensions\": {\"Algorithm\": \"Linear Learner\", \"Host\": \"algo-1\", \"Operation\": \"training\", \"epoch\": 13, \"model\": 15}, \"Metrics\": {\"train_absolute_loss_objective\": {\"sum\": 0.23335771083831788, \"count\": 1, \"min\": 0.23335771083831788, \"max\": 0.23335771083831788}}}\u001b[0m\n",
      "\u001b[34m#metrics {\"StartTime\": 1709883144.2475636, \"EndTime\": 1709883144.2475796, \"Dimensions\": {\"Algorithm\": \"Linear Learner\", \"Host\": \"algo-1\", \"Operation\": \"training\", \"epoch\": 13, \"model\": 16}, \"Metrics\": {\"train_absolute_loss_objective\": {\"sum\": 0.6149043750762939, \"count\": 1, \"min\": 0.6149043750762939, \"max\": 0.6149043750762939}}}\u001b[0m\n",
      "\u001b[34m#metrics {\"StartTime\": 1709883144.2476923, \"EndTime\": 1709883144.2477098, \"Dimensions\": {\"Algorithm\": \"Linear Learner\", \"Host\": \"algo-1\", \"Operation\": \"training\", \"epoch\": 13, \"model\": 17}, \"Metrics\": {\"train_absolute_loss_objective\": {\"sum\": 0.656690845489502, \"count\": 1, \"min\": 0.656690845489502, \"max\": 0.656690845489502}}}\u001b[0m\n",
      "\u001b[34m#metrics {\"StartTime\": 1709883144.2477605, \"EndTime\": 1709883144.2478125, \"Dimensions\": {\"Algorithm\": \"Linear Learner\", \"Host\": \"algo-1\", \"Operation\": \"training\", \"epoch\": 13, \"model\": 18}, \"Metrics\": {\"train_absolute_loss_objective\": {\"sum\": 0.6402486419677734, \"count\": 1, \"min\": 0.6402486419677734, \"max\": 0.6402486419677734}}}\u001b[0m\n",
      "\u001b[34m#metrics {\"StartTime\": 1709883144.2478747, \"EndTime\": 1709883144.2478914, \"Dimensions\": {\"Algorithm\": \"Linear Learner\", \"Host\": \"algo-1\", \"Operation\": \"training\", \"epoch\": 13, \"model\": 19}, \"Metrics\": {\"train_absolute_loss_objective\": {\"sum\": 0.6311738681793213, \"count\": 1, \"min\": 0.6311738681793213, \"max\": 0.6311738681793213}}}\u001b[0m\n",
      "\u001b[34m#metrics {\"StartTime\": 1709883144.24798, \"EndTime\": 1709883144.2480001, \"Dimensions\": {\"Algorithm\": \"Linear Learner\", \"Host\": \"algo-1\", \"Operation\": \"training\", \"epoch\": 13, \"model\": 20}, \"Metrics\": {\"train_absolute_loss_objective\": {\"sum\": 0.34168558597564697, \"count\": 1, \"min\": 0.34168558597564697, \"max\": 0.34168558597564697}}}\u001b[0m\n",
      "\u001b[34m#metrics {\"StartTime\": 1709883144.248046, \"EndTime\": 1709883144.2480614, \"Dimensions\": {\"Algorithm\": \"Linear Learner\", \"Host\": \"algo-1\", \"Operation\": \"training\", \"epoch\": 13, \"model\": 21}, \"Metrics\": {\"train_absolute_loss_objective\": {\"sum\": 0.3904959917068481, \"count\": 1, \"min\": 0.3904959917068481, \"max\": 0.3904959917068481}}}\u001b[0m\n",
      "\u001b[34m#metrics {\"StartTime\": 1709883144.2481043, \"EndTime\": 1709883144.2481482, \"Dimensions\": {\"Algorithm\": \"Linear Learner\", \"Host\": \"algo-1\", \"Operation\": \"training\", \"epoch\": 13, \"model\": 22}, \"Metrics\": {\"train_absolute_loss_objective\": {\"sum\": 0.3523928356170654, \"count\": 1, \"min\": 0.3523928356170654, \"max\": 0.3523928356170654}}}\u001b[0m\n",
      "\u001b[34m#metrics {\"StartTime\": 1709883144.248201, \"EndTime\": 1709883144.2482176, \"Dimensions\": {\"Algorithm\": \"Linear Learner\", \"Host\": \"algo-1\", \"Operation\": \"training\", \"epoch\": 13, \"model\": 23}, \"Metrics\": {\"train_absolute_loss_objective\": {\"sum\": 0.34489739418029786, \"count\": 1, \"min\": 0.34489739418029786, \"max\": 0.34489739418029786}}}\u001b[0m\n",
      "\u001b[34m#metrics {\"StartTime\": 1709883144.2482646, \"EndTime\": 1709883144.2482805, \"Dimensions\": {\"Algorithm\": \"Linear Learner\", \"Host\": \"algo-1\", \"Operation\": \"training\", \"epoch\": 13, \"model\": 24}, \"Metrics\": {\"train_absolute_loss_objective\": {\"sum\": 0.8979723072052002, \"count\": 1, \"min\": 0.8979723072052002, \"max\": 0.8979723072052002}}}\u001b[0m\n",
      "\u001b[34m#metrics {\"StartTime\": 1709883144.2483644, \"EndTime\": 1709883144.248383, \"Dimensions\": {\"Algorithm\": \"Linear Learner\", \"Host\": \"algo-1\", \"Operation\": \"training\", \"epoch\": 13, \"model\": 25}, \"Metrics\": {\"train_absolute_loss_objective\": {\"sum\": 0.8978860092163086, \"count\": 1, \"min\": 0.8978860092163086, \"max\": 0.8978860092163086}}}\u001b[0m\n",
      "\u001b[34m#metrics {\"StartTime\": 1709883144.2484279, \"EndTime\": 1709883144.2484946, \"Dimensions\": {\"Algorithm\": \"Linear Learner\", \"Host\": \"algo-1\", \"Operation\": \"training\", \"epoch\": 13, \"model\": 26}, \"Metrics\": {\"train_absolute_loss_objective\": {\"sum\": 0.896954460144043, \"count\": 1, \"min\": 0.896954460144043, \"max\": 0.896954460144043}}}\u001b[0m\n",
      "\u001b[34m#metrics {\"StartTime\": 1709883144.2485535, \"EndTime\": 1709883144.2485707, \"Dimensions\": {\"Algorithm\": \"Linear Learner\", \"Host\": \"algo-1\", \"Operation\": \"training\", \"epoch\": 13, \"model\": 27}, \"Metrics\": {\"train_absolute_loss_objective\": {\"sum\": 0.8972943878173828, \"count\": 1, \"min\": 0.8972943878173828, \"max\": 0.8972943878173828}}}\u001b[0m\n",
      "\u001b[34m#metrics {\"StartTime\": 1709883144.248614, \"EndTime\": 1709883144.248664, \"Dimensions\": {\"Algorithm\": \"Linear Learner\", \"Host\": \"algo-1\", \"Operation\": \"training\", \"epoch\": 13, \"model\": 28}, \"Metrics\": {\"train_absolute_loss_objective\": {\"sum\": 0.9331385993957519, \"count\": 1, \"min\": 0.9331385993957519, \"max\": 0.9331385993957519}}}\u001b[0m\n",
      "\u001b[34m#metrics {\"StartTime\": 1709883144.248722, \"EndTime\": 1709883144.2487376, \"Dimensions\": {\"Algorithm\": \"Linear Learner\", \"Host\": \"algo-1\", \"Operation\": \"training\", \"epoch\": 13, \"model\": 29}, \"Metrics\": {\"train_absolute_loss_objective\": {\"sum\": 0.9359327983856202, \"count\": 1, \"min\": 0.9359327983856202, \"max\": 0.9359327983856202}}}\u001b[0m\n",
      "\u001b[34m#metrics {\"StartTime\": 1709883144.248808, \"EndTime\": 1709883144.2488253, \"Dimensions\": {\"Algorithm\": \"Linear Learner\", \"Host\": \"algo-1\", \"Operation\": \"training\", \"epoch\": 13, \"model\": 30}, \"Metrics\": {\"train_absolute_loss_objective\": {\"sum\": 0.934228286743164, \"count\": 1, \"min\": 0.934228286743164, \"max\": 0.934228286743164}}}\u001b[0m\n",
      "\u001b[34m#metrics {\"StartTime\": 1709883144.2488773, \"EndTime\": 1709883144.248892, \"Dimensions\": {\"Algorithm\": \"Linear Learner\", \"Host\": \"algo-1\", \"Operation\": \"training\", \"epoch\": 13, \"model\": 31}, \"Metrics\": {\"train_absolute_loss_objective\": {\"sum\": 0.9339552879333496, \"count\": 1, \"min\": 0.9339552879333496, \"max\": 0.9339552879333496}}}\u001b[0m\n",
      "\u001b[34m[03/08/2024 07:32:24 INFO 140046607693632] #quality_metric: host=algo-1, epoch=13, train absolute_loss_objective <loss>=0.6308924770355224\u001b[0m\n",
      "\u001b[34m[03/08/2024 07:32:24 INFO 140046607693632] #early_stopping_criteria_metric: host=algo-1, epoch=13, criteria=absolute_loss_objective, value=0.1771363162994385\u001b[0m\n",
      "\u001b[34m[03/08/2024 07:32:24 INFO 140046607693632] Saving model for epoch: 13\u001b[0m\n",
      "\u001b[34m[03/08/2024 07:32:24 INFO 140046607693632] Saved checkpoint to \"/tmp/tmp2llnykzz/mx-mod-0000.params\"\u001b[0m\n",
      "\u001b[34m[03/08/2024 07:32:24 INFO 140046607693632] #progress_metric: host=algo-1, completed 28.0 % of epochs\u001b[0m\n",
      "\u001b[34m#metrics {\"StartTime\": 1709883144.1187232, \"EndTime\": 1709883144.2567751, \"Dimensions\": {\"Algorithm\": \"Linear Learner\", \"Host\": \"algo-1\", \"Operation\": \"training\", \"epoch\": 13, \"Meta\": \"training_data_iter\"}, \"Metrics\": {\"Total Records Seen\": {\"sum\": 425.0, \"count\": 1, \"min\": 425, \"max\": 425}, \"Total Batches Seen\": {\"sum\": 91.0, \"count\": 1, \"min\": 91, \"max\": 91}, \"Max Records Seen Between Resets\": {\"sum\": 28.0, \"count\": 1, \"min\": 28, \"max\": 28}, \"Max Batches Seen Between Resets\": {\"sum\": 6.0, \"count\": 1, \"min\": 6, \"max\": 6}, \"Reset Count\": {\"sum\": 16.0, \"count\": 1, \"min\": 16, \"max\": 16}, \"Number of Records Since Last Reset\": {\"sum\": 28.0, \"count\": 1, \"min\": 28, \"max\": 28}, \"Number of Batches Since Last Reset\": {\"sum\": 6.0, \"count\": 1, \"min\": 6, \"max\": 6}}}\u001b[0m\n",
      "\u001b[34m[03/08/2024 07:32:24 INFO 140046607693632] #throughput_metric: host=algo-1, train throughput=202.6135935462055 records/second\u001b[0m\n",
      "\u001b[34m[2024-03-08 07:32:24.365] [tensorio] [info] epoch_stats={\"data_pipeline\": \"/opt/ml/input/data/train\", \"epoch\": 32, \"duration\": 107, \"num_examples\": 6, \"num_bytes\": 1344}\u001b[0m\n",
      "\u001b[34m#metrics {\"StartTime\": 1709883144.3652139, \"EndTime\": 1709883144.3652968, \"Dimensions\": {\"Algorithm\": \"Linear Learner\", \"Host\": \"algo-1\", \"Operation\": \"training\", \"epoch\": 14, \"model\": 0}, \"Metrics\": {\"train_absolute_loss_objective\": {\"sum\": 0.6116907596588135, \"count\": 1, \"min\": 0.6116907596588135, \"max\": 0.6116907596588135}}}\u001b[0m\n",
      "\u001b[34m#metrics {\"StartTime\": 1709883144.3653843, \"EndTime\": 1709883144.3654006, \"Dimensions\": {\"Algorithm\": \"Linear Learner\", \"Host\": \"algo-1\", \"Operation\": \"training\", \"epoch\": 14, \"model\": 1}, \"Metrics\": {\"train_absolute_loss_objective\": {\"sum\": 0.6222633171081543, \"count\": 1, \"min\": 0.6222633171081543, \"max\": 0.6222633171081543}}}\u001b[0m\n",
      "\u001b[34m#metrics {\"StartTime\": 1709883144.365509, \"EndTime\": 1709883144.3655255, \"Dimensions\": {\"Algorithm\": \"Linear Learner\", \"Host\": \"algo-1\", \"Operation\": \"training\", \"epoch\": 14, \"model\": 2}, \"Metrics\": {\"train_absolute_loss_objective\": {\"sum\": 0.6140396308898926, \"count\": 1, \"min\": 0.6140396308898926, \"max\": 0.6140396308898926}}}\u001b[0m\n",
      "\u001b[34m#metrics {\"StartTime\": 1709883144.3655667, \"EndTime\": 1709883144.3656106, \"Dimensions\": {\"Algorithm\": \"Linear Learner\", \"Host\": \"algo-1\", \"Operation\": \"training\", \"epoch\": 14, \"model\": 3}, \"Metrics\": {\"train_absolute_loss_objective\": {\"sum\": 0.6212723922729492, \"count\": 1, \"min\": 0.6212723922729492, \"max\": 0.6212723922729492}}}\u001b[0m\n",
      "\u001b[34m#metrics {\"StartTime\": 1709883144.365663, \"EndTime\": 1709883144.3656757, \"Dimensions\": {\"Algorithm\": \"Linear Learner\", \"Host\": \"algo-1\", \"Operation\": \"training\", \"epoch\": 14, \"model\": 4}, \"Metrics\": {\"train_absolute_loss_objective\": {\"sum\": 0.17583794832229616, \"count\": 1, \"min\": 0.17583794832229616, \"max\": 0.17583794832229616}}}\u001b[0m\n",
      "\u001b[34m#metrics {\"StartTime\": 1709883144.3657498, \"EndTime\": 1709883144.3657634, \"Dimensions\": {\"Algorithm\": \"Linear Learner\", \"Host\": \"algo-1\", \"Operation\": \"training\", \"epoch\": 14, \"model\": 5}, \"Metrics\": {\"train_absolute_loss_objective\": {\"sum\": 0.20683735370635986, \"count\": 1, \"min\": 0.20683735370635986, \"max\": 0.20683735370635986}}}\u001b[0m\n",
      "\u001b[34m#metrics {\"StartTime\": 1709883144.3658032, \"EndTime\": 1709883144.3658504, \"Dimensions\": {\"Algorithm\": \"Linear Learner\", \"Host\": \"algo-1\", \"Operation\": \"training\", \"epoch\": 14, \"model\": 6}, \"Metrics\": {\"train_absolute_loss_objective\": {\"sum\": 0.19654795169830322, \"count\": 1, \"min\": 0.19654795169830322, \"max\": 0.19654795169830322}}}\u001b[0m\n",
      "\u001b[34m#metrics {\"StartTime\": 1709883144.3659244, \"EndTime\": 1709883144.3659403, \"Dimensions\": {\"Algorithm\": \"Linear Learner\", \"Host\": \"algo-1\", \"Operation\": \"training\", \"epoch\": 14, \"model\": 7}, \"Metrics\": {\"train_absolute_loss_objective\": {\"sum\": 0.2050196933746338, \"count\": 1, \"min\": 0.2050196933746338, \"max\": 0.2050196933746338}}}\u001b[0m\n",
      "\u001b[34m#metrics {\"StartTime\": 1709883144.3659878, \"EndTime\": 1709883144.366001, \"Dimensions\": {\"Algorithm\": \"Linear Learner\", \"Host\": \"algo-1\", \"Operation\": \"training\", \"epoch\": 14, \"model\": 8}, \"Metrics\": {\"train_absolute_loss_objective\": {\"sum\": 0.666362886428833, \"count\": 1, \"min\": 0.666362886428833, \"max\": 0.666362886428833}}}\u001b[0m\n",
      "\u001b[34m#metrics {\"StartTime\": 1709883144.3660736, \"EndTime\": 1709883144.366087, \"Dimensions\": {\"Algorithm\": \"Linear Learner\", \"Host\": \"algo-1\", \"Operation\": \"training\", \"epoch\": 14, \"model\": 9}, \"Metrics\": {\"train_absolute_loss_objective\": {\"sum\": 0.5904868125915528, \"count\": 1, \"min\": 0.5904868125915528, \"max\": 0.5904868125915528}}}\u001b[0m\n",
      "\u001b[34m#metrics {\"StartTime\": 1709883144.366178, \"EndTime\": 1709883144.3662193, \"Dimensions\": {\"Algorithm\": \"Linear Learner\", \"Host\": \"algo-1\", \"Operation\": \"training\", \"epoch\": 14, \"model\": 10}, \"Metrics\": {\"train_absolute_loss_objective\": {\"sum\": 0.6059662437438965, \"count\": 1, \"min\": 0.6059662437438965, \"max\": 0.6059662437438965}}}\u001b[0m\n",
      "\u001b[34m#metrics {\"StartTime\": 1709883144.3662672, \"EndTime\": 1709883144.3662808, \"Dimensions\": {\"Algorithm\": \"Linear Learner\", \"Host\": \"algo-1\", \"Operation\": \"training\", \"epoch\": 14, \"model\": 11}, \"Metrics\": {\"train_absolute_loss_objective\": {\"sum\": 0.5825331497192383, \"count\": 1, \"min\": 0.5825331497192383, \"max\": 0.5825331497192383}}}\u001b[0m\n",
      "\u001b[34m#metrics {\"StartTime\": 1709883144.3663545, \"EndTime\": 1709883144.3663695, \"Dimensions\": {\"Algorithm\": \"Linear Learner\", \"Host\": \"algo-1\", \"Operation\": \"training\", \"epoch\": 14, \"model\": 12}, \"Metrics\": {\"train_absolute_loss_objective\": {\"sum\": 0.19508392810821534, \"count\": 1, \"min\": 0.19508392810821534, \"max\": 0.19508392810821534}}}\u001b[0m\n",
      "\u001b[34m#metrics {\"StartTime\": 1709883144.366443, \"EndTime\": 1709883144.366457, \"Dimensions\": {\"Algorithm\": \"Linear Learner\", \"Host\": \"algo-1\", \"Operation\": \"training\", \"epoch\": 14, \"model\": 13}, \"Metrics\": {\"train_absolute_loss_objective\": {\"sum\": 0.17586968421936036, \"count\": 1, \"min\": 0.17586968421936036, \"max\": 0.17586968421936036}}}\u001b[0m\n",
      "\u001b[34m#metrics {\"StartTime\": 1709883144.3665588, \"EndTime\": 1709883144.3665729, \"Dimensions\": {\"Algorithm\": \"Linear Learner\", \"Host\": \"algo-1\", \"Operation\": \"training\", \"epoch\": 14, \"model\": 14}, \"Metrics\": {\"train_absolute_loss_objective\": {\"sum\": 0.1955311131477356, \"count\": 1, \"min\": 0.1955311131477356, \"max\": 0.1955311131477356}}}\u001b[0m\n",
      "\u001b[34m#metrics {\"StartTime\": 1709883144.3666108, \"EndTime\": 1709883144.3666215, \"Dimensions\": {\"Algorithm\": \"Linear Learner\", \"Host\": \"algo-1\", \"Operation\": \"training\", \"epoch\": 14, \"model\": 15}, \"Metrics\": {\"train_absolute_loss_objective\": {\"sum\": 0.23420571088790892, \"count\": 1, \"min\": 0.23420571088790892, \"max\": 0.23420571088790892}}}\u001b[0m\n",
      "\u001b[34m#metrics {\"StartTime\": 1709883144.366729, \"EndTime\": 1709883144.366744, \"Dimensions\": {\"Algorithm\": \"Linear Learner\", \"Host\": \"algo-1\", \"Operation\": \"training\", \"epoch\": 14, \"model\": 16}, \"Metrics\": {\"train_absolute_loss_objective\": {\"sum\": 0.5989601039886474, \"count\": 1, \"min\": 0.5989601039886474, \"max\": 0.5989601039886474}}}\u001b[0m\n",
      "\u001b[34m#metrics {\"StartTime\": 1709883144.3667824, \"EndTime\": 1709883144.3668513, \"Dimensions\": {\"Algorithm\": \"Linear Learner\", \"Host\": \"algo-1\", \"Operation\": \"training\", \"epoch\": 14, \"model\": 17}, \"Metrics\": {\"train_absolute_loss_objective\": {\"sum\": 0.639759578704834, \"count\": 1, \"min\": 0.639759578704834, \"max\": 0.639759578704834}}}\u001b[0m\n",
      "\u001b[34m#metrics {\"StartTime\": 1709883144.3669033, \"EndTime\": 1709883144.3669164, \"Dimensions\": {\"Algorithm\": \"Linear Learner\", \"Host\": \"algo-1\", \"Operation\": \"training\", \"epoch\": 14, \"model\": 18}, \"Metrics\": {\"train_absolute_loss_objective\": {\"sum\": 0.6245223617553711, \"count\": 1, \"min\": 0.6245223617553711, \"max\": 0.6245223617553711}}}\u001b[0m\n",
      "\u001b[34m#metrics {\"StartTime\": 1709883144.3670967, \"EndTime\": 1709883144.3671143, \"Dimensions\": {\"Algorithm\": \"Linear Learner\", \"Host\": \"algo-1\", \"Operation\": \"training\", \"epoch\": 14, \"model\": 19}, \"Metrics\": {\"train_absolute_loss_objective\": {\"sum\": 0.6141396045684815, \"count\": 1, \"min\": 0.6141396045684815, \"max\": 0.6141396045684815}}}\u001b[0m\n",
      "\u001b[34m#metrics {\"StartTime\": 1709883144.3671658, \"EndTime\": 1709883144.367179, \"Dimensions\": {\"Algorithm\": \"Linear Learner\", \"Host\": \"algo-1\", \"Operation\": \"training\", \"epoch\": 14, \"model\": 20}, \"Metrics\": {\"train_absolute_loss_objective\": {\"sum\": 0.3684248399734497, \"count\": 1, \"min\": 0.3684248399734497, \"max\": 0.3684248399734497}}}\u001b[0m\n",
      "\u001b[34m#metrics {\"StartTime\": 1709883144.367258, \"EndTime\": 1709883144.3672721, \"Dimensions\": {\"Algorithm\": \"Linear Learner\", \"Host\": \"algo-1\", \"Operation\": \"training\", \"epoch\": 14, \"model\": 21}, \"Metrics\": {\"train_absolute_loss_objective\": {\"sum\": 0.36004673957824707, \"count\": 1, \"min\": 0.36004673957824707, \"max\": 0.36004673957824707}}}\u001b[0m\n",
      "\u001b[34m#metrics {\"StartTime\": 1709883144.3675754, \"EndTime\": 1709883144.3675945, \"Dimensions\": {\"Algorithm\": \"Linear Learner\", \"Host\": \"algo-1\", \"Operation\": \"training\", \"epoch\": 14, \"model\": 22}, \"Metrics\": {\"train_absolute_loss_objective\": {\"sum\": 0.29679787158966064, \"count\": 1, \"min\": 0.29679787158966064, \"max\": 0.29679787158966064}}}\u001b[0m\n",
      "\u001b[34m#metrics {\"StartTime\": 1709883144.367652, \"EndTime\": 1709883144.3676653, \"Dimensions\": {\"Algorithm\": \"Linear Learner\", \"Host\": \"algo-1\", \"Operation\": \"training\", \"epoch\": 14, \"model\": 23}, \"Metrics\": {\"train_absolute_loss_objective\": {\"sum\": 0.30729797840118406, \"count\": 1, \"min\": 0.30729797840118406, \"max\": 0.30729797840118406}}}\u001b[0m\n",
      "\u001b[34m#metrics {\"StartTime\": 1709883144.3677545, \"EndTime\": 1709883144.3677702, \"Dimensions\": {\"Algorithm\": \"Linear Learner\", \"Host\": \"algo-1\", \"Operation\": \"training\", \"epoch\": 14, \"model\": 24}, \"Metrics\": {\"train_absolute_loss_objective\": {\"sum\": 0.8974821186065673, \"count\": 1, \"min\": 0.8974821186065673, \"max\": 0.8974821186065673}}}\u001b[0m\n",
      "\u001b[34m#metrics {\"StartTime\": 1709883144.3678439, \"EndTime\": 1709883144.3678572, \"Dimensions\": {\"Algorithm\": \"Linear Learner\", \"Host\": \"algo-1\", \"Operation\": \"training\", \"epoch\": 14, \"model\": 25}, \"Metrics\": {\"train_absolute_loss_objective\": {\"sum\": 0.896833438873291, \"count\": 1, \"min\": 0.896833438873291, \"max\": 0.896833438873291}}}\u001b[0m\n",
      "\u001b[34m#metrics {\"StartTime\": 1709883144.3679037, \"EndTime\": 1709883144.3679159, \"Dimensions\": {\"Algorithm\": \"Linear Learner\", \"Host\": \"algo-1\", \"Operation\": \"training\", \"epoch\": 14, \"model\": 26}, \"Metrics\": {\"train_absolute_loss_objective\": {\"sum\": 0.8976202774047851, \"count\": 1, \"min\": 0.8976202774047851, \"max\": 0.8976202774047851}}}\u001b[0m\n",
      "\u001b[34m#metrics {\"StartTime\": 1709883144.3679507, \"EndTime\": 1709883144.3679616, \"Dimensions\": {\"Algorithm\": \"Linear Learner\", \"Host\": \"algo-1\", \"Operation\": \"training\", \"epoch\": 14, \"model\": 27}, \"Metrics\": {\"train_absolute_loss_objective\": {\"sum\": 0.8966243267059326, \"count\": 1, \"min\": 0.8966243267059326, \"max\": 0.8966243267059326}}}\u001b[0m\n",
      "\u001b[34m#metrics {\"StartTime\": 1709883144.3680363, \"EndTime\": 1709883144.3680515, \"Dimensions\": {\"Algorithm\": \"Linear Learner\", \"Host\": \"algo-1\", \"Operation\": \"training\", \"epoch\": 14, \"model\": 28}, \"Metrics\": {\"train_absolute_loss_objective\": {\"sum\": 0.9457098960876464, \"count\": 1, \"min\": 0.9457098960876464, \"max\": 0.9457098960876464}}}\u001b[0m\n",
      "\u001b[34m#metrics {\"StartTime\": 1709883144.368128, \"EndTime\": 1709883144.3681421, \"Dimensions\": {\"Algorithm\": \"Linear Learner\", \"Host\": \"algo-1\", \"Operation\": \"training\", \"epoch\": 14, \"model\": 29}, \"Metrics\": {\"train_absolute_loss_objective\": {\"sum\": 0.9498578548431397, \"count\": 1, \"min\": 0.9498578548431397, \"max\": 0.9498578548431397}}}\u001b[0m\n",
      "\u001b[34m#metrics {\"StartTime\": 1709883144.3683522, \"EndTime\": 1709883144.3683698, \"Dimensions\": {\"Algorithm\": \"Linear Learner\", \"Host\": \"algo-1\", \"Operation\": \"training\", \"epoch\": 14, \"model\": 30}, \"Metrics\": {\"train_absolute_loss_objective\": {\"sum\": 0.9453121757507325, \"count\": 1, \"min\": 0.9453121757507325, \"max\": 0.9453121757507325}}}\u001b[0m\n",
      "\u001b[34m#metrics {\"StartTime\": 1709883144.3684206, \"EndTime\": 1709883144.3684335, \"Dimensions\": {\"Algorithm\": \"Linear Learner\", \"Host\": \"algo-1\", \"Operation\": \"training\", \"epoch\": 14, \"model\": 31}, \"Metrics\": {\"train_absolute_loss_objective\": {\"sum\": 0.951115083694458, \"count\": 1, \"min\": 0.951115083694458, \"max\": 0.951115083694458}}}\u001b[0m\n",
      "\u001b[34m[03/08/2024 07:32:24 INFO 140046607693632] #quality_metric: host=algo-1, epoch=14, train absolute_loss_objective <loss>=0.6116907596588135\u001b[0m\n",
      "\u001b[34m[03/08/2024 07:32:24 INFO 140046607693632] #early_stopping_criteria_metric: host=algo-1, epoch=14, criteria=absolute_loss_objective, value=0.17583794832229616\u001b[0m\n",
      "\u001b[34m[03/08/2024 07:32:24 INFO 140046607693632] Saving model for epoch: 14\u001b[0m\n",
      "\u001b[34m[03/08/2024 07:32:24 INFO 140046607693632] Saved checkpoint to \"/tmp/tmp5wate4jr/mx-mod-0000.params\"\u001b[0m\n",
      "\u001b[34m[03/08/2024 07:32:24 INFO 140046607693632] #progress_metric: host=algo-1, completed 30.0 % of epochs\u001b[0m\n",
      "\u001b[34m#metrics {\"StartTime\": 1709883144.2570498, \"EndTime\": 1709883144.3779519, \"Dimensions\": {\"Algorithm\": \"Linear Learner\", \"Host\": \"algo-1\", \"Operation\": \"training\", \"epoch\": 14, \"Meta\": \"training_data_iter\"}, \"Metrics\": {\"Total Records Seen\": {\"sum\": 453.0, \"count\": 1, \"min\": 453, \"max\": 453}, \"Total Batches Seen\": {\"sum\": 97.0, \"count\": 1, \"min\": 97, \"max\": 97}, \"Max Records Seen Between Resets\": {\"sum\": 28.0, \"count\": 1, \"min\": 28, \"max\": 28}, \"Max Batches Seen Between Resets\": {\"sum\": 6.0, \"count\": 1, \"min\": 6, \"max\": 6}, \"Reset Count\": {\"sum\": 17.0, \"count\": 1, \"min\": 17, \"max\": 17}, \"Number of Records Since Last Reset\": {\"sum\": 28.0, \"count\": 1, \"min\": 28, \"max\": 28}, \"Number of Batches Since Last Reset\": {\"sum\": 6.0, \"count\": 1, \"min\": 6, \"max\": 6}}}\u001b[0m\n",
      "\u001b[34m[03/08/2024 07:32:24 INFO 140046607693632] #throughput_metric: host=algo-1, train throughput=231.35243663642132 records/second\u001b[0m\n",
      "\u001b[34m[2024-03-08 07:32:24.489] [tensorio] [info] epoch_stats={\"data_pipeline\": \"/opt/ml/input/data/train\", \"epoch\": 34, \"duration\": 111, \"num_examples\": 6, \"num_bytes\": 1344}\u001b[0m\n",
      "\u001b[34m#metrics {\"StartTime\": 1709883144.4895918, \"EndTime\": 1709883144.4896822, \"Dimensions\": {\"Algorithm\": \"Linear Learner\", \"Host\": \"algo-1\", \"Operation\": \"training\", \"epoch\": 15, \"model\": 0}, \"Metrics\": {\"train_absolute_loss_objective\": {\"sum\": 0.5920198822021484, \"count\": 1, \"min\": 0.5920198822021484, \"max\": 0.5920198822021484}}}\u001b[0m\n",
      "\u001b[34m#metrics {\"StartTime\": 1709883144.4897778, \"EndTime\": 1709883144.4897957, \"Dimensions\": {\"Algorithm\": \"Linear Learner\", \"Host\": \"algo-1\", \"Operation\": \"training\", \"epoch\": 15, \"model\": 1}, \"Metrics\": {\"train_absolute_loss_objective\": {\"sum\": 0.6012324905395507, \"count\": 1, \"min\": 0.6012324905395507, \"max\": 0.6012324905395507}}}\u001b[0m\n",
      "\u001b[34m#metrics {\"StartTime\": 1709883144.48984, \"EndTime\": 1709883144.4898531, \"Dimensions\": {\"Algorithm\": \"Linear Learner\", \"Host\": \"algo-1\", \"Operation\": \"training\", \"epoch\": 15, \"model\": 2}, \"Metrics\": {\"train_absolute_loss_objective\": {\"sum\": 0.5943843078613281, \"count\": 1, \"min\": 0.5943843078613281, \"max\": 0.5943843078613281}}}\u001b[0m\n",
      "\u001b[34m#metrics {\"StartTime\": 1709883144.4898932, \"EndTime\": 1709883144.4899054, \"Dimensions\": {\"Algorithm\": \"Linear Learner\", \"Host\": \"algo-1\", \"Operation\": \"training\", \"epoch\": 15, \"model\": 3}, \"Metrics\": {\"train_absolute_loss_objective\": {\"sum\": 0.600234956741333, \"count\": 1, \"min\": 0.600234956741333, \"max\": 0.600234956741333}}}\u001b[0m\n",
      "\u001b[34m#metrics {\"StartTime\": 1709883144.4899538, \"EndTime\": 1709883144.4899669, \"Dimensions\": {\"Algorithm\": \"Linear Learner\", \"Host\": \"algo-1\", \"Operation\": \"training\", \"epoch\": 15, \"model\": 4}, \"Metrics\": {\"train_absolute_loss_objective\": {\"sum\": 0.22517280101776124, \"count\": 1, \"min\": 0.22517280101776124, \"max\": 0.22517280101776124}}}\u001b[0m\n",
      "\u001b[34m#metrics {\"StartTime\": 1709883144.4900138, \"EndTime\": 1709883144.4900267, \"Dimensions\": {\"Algorithm\": \"Linear Learner\", \"Host\": \"algo-1\", \"Operation\": \"training\", \"epoch\": 15, \"model\": 5}, \"Metrics\": {\"train_absolute_loss_objective\": {\"sum\": 0.2513444900512695, \"count\": 1, \"min\": 0.2513444900512695, \"max\": 0.2513444900512695}}}\u001b[0m\n",
      "\u001b[34m#metrics {\"StartTime\": 1709883144.4900646, \"EndTime\": 1709883144.4900763, \"Dimensions\": {\"Algorithm\": \"Linear Learner\", \"Host\": \"algo-1\", \"Operation\": \"training\", \"epoch\": 15, \"model\": 6}, \"Metrics\": {\"train_absolute_loss_objective\": {\"sum\": 0.20677351474761962, \"count\": 1, \"min\": 0.20677351474761962, \"max\": 0.20677351474761962}}}\u001b[0m\n",
      "\u001b[34m#metrics {\"StartTime\": 1709883144.4901218, \"EndTime\": 1709883144.490134, \"Dimensions\": {\"Algorithm\": \"Linear Learner\", \"Host\": \"algo-1\", \"Operation\": \"training\", \"epoch\": 15, \"model\": 7}, \"Metrics\": {\"train_absolute_loss_objective\": {\"sum\": 0.17031538486480713, \"count\": 1, \"min\": 0.17031538486480713, \"max\": 0.17031538486480713}}}\u001b[0m\n",
      "\u001b[34m#metrics {\"StartTime\": 1709883144.4901752, \"EndTime\": 1709883144.4901872, \"Dimensions\": {\"Algorithm\": \"Linear Learner\", \"Host\": \"algo-1\", \"Operation\": \"training\", \"epoch\": 15, \"model\": 8}, \"Metrics\": {\"train_absolute_loss_objective\": {\"sum\": 0.6470142078399658, \"count\": 1, \"min\": 0.6470142078399658, \"max\": 0.6470142078399658}}}\u001b[0m\n",
      "\u001b[34m#metrics {\"StartTime\": 1709883144.4902322, \"EndTime\": 1709883144.4902446, \"Dimensions\": {\"Algorithm\": \"Linear Learner\", \"Host\": \"algo-1\", \"Operation\": \"training\", \"epoch\": 15, \"model\": 9}, \"Metrics\": {\"train_absolute_loss_objective\": {\"sum\": 0.5706300830841065, \"count\": 1, \"min\": 0.5706300830841065, \"max\": 0.5706300830841065}}}\u001b[0m\n",
      "\u001b[34m#metrics {\"StartTime\": 1709883144.4902823, \"EndTime\": 1709883144.4902937, \"Dimensions\": {\"Algorithm\": \"Linear Learner\", \"Host\": \"algo-1\", \"Operation\": \"training\", \"epoch\": 15, \"model\": 10}, \"Metrics\": {\"train_absolute_loss_objective\": {\"sum\": 0.5873609066009522, \"count\": 1, \"min\": 0.5873609066009522, \"max\": 0.5873609066009522}}}\u001b[0m\n",
      "\u001b[34m#metrics {\"StartTime\": 1709883144.4903383, \"EndTime\": 1709883144.4903505, \"Dimensions\": {\"Algorithm\": \"Linear Learner\", \"Host\": \"algo-1\", \"Operation\": \"training\", \"epoch\": 15, \"model\": 11}, \"Metrics\": {\"train_absolute_loss_objective\": {\"sum\": 0.5627288818359375, \"count\": 1, \"min\": 0.5627288818359375, \"max\": 0.5627288818359375}}}\u001b[0m\n",
      "\u001b[34m#metrics {\"StartTime\": 1709883144.490397, \"EndTime\": 1709883144.4904091, \"Dimensions\": {\"Algorithm\": \"Linear Learner\", \"Host\": \"algo-1\", \"Operation\": \"training\", \"epoch\": 15, \"model\": 12}, \"Metrics\": {\"train_absolute_loss_objective\": {\"sum\": 0.19585636138916016, \"count\": 1, \"min\": 0.19585636138916016, \"max\": 0.19585636138916016}}}\u001b[0m\n",
      "\u001b[34m#metrics {\"StartTime\": 1709883144.4904482, \"EndTime\": 1709883144.4904597, \"Dimensions\": {\"Algorithm\": \"Linear Learner\", \"Host\": \"algo-1\", \"Operation\": \"training\", \"epoch\": 15, \"model\": 13}, \"Metrics\": {\"train_absolute_loss_objective\": {\"sum\": 0.23579029321670533, \"count\": 1, \"min\": 0.23579029321670533, \"max\": 0.23579029321670533}}}\u001b[0m\n",
      "\u001b[34m#metrics {\"StartTime\": 1709883144.4905257, \"EndTime\": 1709883144.49054, \"Dimensions\": {\"Algorithm\": \"Linear Learner\", \"Host\": \"algo-1\", \"Operation\": \"training\", \"epoch\": 15, \"model\": 14}, \"Metrics\": {\"train_absolute_loss_objective\": {\"sum\": 0.19597790241241456, \"count\": 1, \"min\": 0.19597790241241456, \"max\": 0.19597790241241456}}}\u001b[0m\n",
      "\u001b[34m#metrics {\"StartTime\": 1709883144.49058, \"EndTime\": 1709883144.4905918, \"Dimensions\": {\"Algorithm\": \"Linear Learner\", \"Host\": \"algo-1\", \"Operation\": \"training\", \"epoch\": 15, \"model\": 15}, \"Metrics\": {\"train_absolute_loss_objective\": {\"sum\": 0.15873356580734252, \"count\": 1, \"min\": 0.15873356580734252, \"max\": 0.15873356580734252}}}\u001b[0m\n",
      "\u001b[34m#metrics {\"StartTime\": 1709883144.4906387, \"EndTime\": 1709883144.4906511, \"Dimensions\": {\"Algorithm\": \"Linear Learner\", \"Host\": \"algo-1\", \"Operation\": \"training\", \"epoch\": 15, \"model\": 16}, \"Metrics\": {\"train_absolute_loss_objective\": {\"sum\": 0.5843523216247558, \"count\": 1, \"min\": 0.5843523216247558, \"max\": 0.5843523216247558}}}\u001b[0m\n",
      "\u001b[34m#metrics {\"StartTime\": 1709883144.4906976, \"EndTime\": 1709883144.4907098, \"Dimensions\": {\"Algorithm\": \"Linear Learner\", \"Host\": \"algo-1\", \"Operation\": \"training\", \"epoch\": 15, \"model\": 17}, \"Metrics\": {\"train_absolute_loss_objective\": {\"sum\": 0.6226235294342041, \"count\": 1, \"min\": 0.6226235294342041, \"max\": 0.6226235294342041}}}\u001b[0m\n",
      "\u001b[34m#metrics {\"StartTime\": 1709883144.4907558, \"EndTime\": 1709883144.4907682, \"Dimensions\": {\"Algorithm\": \"Linear Learner\", \"Host\": \"algo-1\", \"Operation\": \"training\", \"epoch\": 15, \"model\": 18}, \"Metrics\": {\"train_absolute_loss_objective\": {\"sum\": 0.6087620353698731, \"count\": 1, \"min\": 0.6087620353698731, \"max\": 0.6087620353698731}}}\u001b[0m\n",
      "\u001b[34m#metrics {\"StartTime\": 1709883144.4908137, \"EndTime\": 1709883144.4908261, \"Dimensions\": {\"Algorithm\": \"Linear Learner\", \"Host\": \"algo-1\", \"Operation\": \"training\", \"epoch\": 15, \"model\": 19}, \"Metrics\": {\"train_absolute_loss_objective\": {\"sum\": 0.5983275413513184, \"count\": 1, \"min\": 0.5983275413513184, \"max\": 0.5983275413513184}}}\u001b[0m\n",
      "\u001b[34m#metrics {\"StartTime\": 1709883144.4908712, \"EndTime\": 1709883144.4908836, \"Dimensions\": {\"Algorithm\": \"Linear Learner\", \"Host\": \"algo-1\", \"Operation\": \"training\", \"epoch\": 15, \"model\": 20}, \"Metrics\": {\"train_absolute_loss_objective\": {\"sum\": 0.3949258613586426, \"count\": 1, \"min\": 0.3949258613586426, \"max\": 0.3949258613586426}}}\u001b[0m\n",
      "\u001b[34m#metrics {\"StartTime\": 1709883144.4909244, \"EndTime\": 1709883144.4909358, \"Dimensions\": {\"Algorithm\": \"Linear Learner\", \"Host\": \"algo-1\", \"Operation\": \"training\", \"epoch\": 15, \"model\": 21}, \"Metrics\": {\"train_absolute_loss_objective\": {\"sum\": 0.3183843469619751, \"count\": 1, \"min\": 0.3183843469619751, \"max\": 0.3183843469619751}}}\u001b[0m\n",
      "\u001b[34m#metrics {\"StartTime\": 1709883144.4909801, \"EndTime\": 1709883144.490992, \"Dimensions\": {\"Algorithm\": \"Linear Learner\", \"Host\": \"algo-1\", \"Operation\": \"training\", \"epoch\": 15, \"model\": 22}, \"Metrics\": {\"train_absolute_loss_objective\": {\"sum\": 0.28717236042022704, \"count\": 1, \"min\": 0.28717236042022704, \"max\": 0.28717236042022704}}}\u001b[0m\n",
      "\u001b[34m#metrics {\"StartTime\": 1709883144.4910376, \"EndTime\": 1709883144.4910498, \"Dimensions\": {\"Algorithm\": \"Linear Learner\", \"Host\": \"algo-1\", \"Operation\": \"training\", \"epoch\": 15, \"model\": 23}, \"Metrics\": {\"train_absolute_loss_objective\": {\"sum\": 0.27942065715789793, \"count\": 1, \"min\": 0.27942065715789793, \"max\": 0.27942065715789793}}}\u001b[0m\n",
      "\u001b[34m#metrics {\"StartTime\": 1709883144.4910953, \"EndTime\": 1709883144.4911077, \"Dimensions\": {\"Algorithm\": \"Linear Learner\", \"Host\": \"algo-1\", \"Operation\": \"training\", \"epoch\": 15, \"model\": 24}, \"Metrics\": {\"train_absolute_loss_objective\": {\"sum\": 0.8964991569519043, \"count\": 1, \"min\": 0.8964991569519043, \"max\": 0.8964991569519043}}}\u001b[0m\n",
      "\u001b[34m#metrics {\"StartTime\": 1709883144.4911532, \"EndTime\": 1709883144.4911652, \"Dimensions\": {\"Algorithm\": \"Linear Learner\", \"Host\": \"algo-1\", \"Operation\": \"training\", \"epoch\": 15, \"model\": 25}, \"Metrics\": {\"train_absolute_loss_objective\": {\"sum\": 0.8971358299255371, \"count\": 1, \"min\": 0.8971358299255371, \"max\": 0.8971358299255371}}}\u001b[0m\n",
      "\u001b[34m#metrics {\"StartTime\": 1709883144.4912126, \"EndTime\": 1709883144.4912245, \"Dimensions\": {\"Algorithm\": \"Linear Learner\", \"Host\": \"algo-1\", \"Operation\": \"training\", \"epoch\": 15, \"model\": 26}, \"Metrics\": {\"train_absolute_loss_objective\": {\"sum\": 0.8970009231567383, \"count\": 1, \"min\": 0.8970009231567383, \"max\": 0.8970009231567383}}}\u001b[0m\n",
      "\u001b[34m#metrics {\"StartTime\": 1709883144.4912698, \"EndTime\": 1709883144.4912822, \"Dimensions\": {\"Algorithm\": \"Linear Learner\", \"Host\": \"algo-1\", \"Operation\": \"training\", \"epoch\": 15, \"model\": 27}, \"Metrics\": {\"train_absolute_loss_objective\": {\"sum\": 0.8975607967376709, \"count\": 1, \"min\": 0.8975607967376709, \"max\": 0.8975607967376709}}}\u001b[0m\n",
      "\u001b[34m#metrics {\"StartTime\": 1709883144.491327, \"EndTime\": 1709883144.491339, \"Dimensions\": {\"Algorithm\": \"Linear Learner\", \"Host\": \"algo-1\", \"Operation\": \"training\", \"epoch\": 15, \"model\": 28}, \"Metrics\": {\"train_absolute_loss_objective\": {\"sum\": 0.9496150875091552, \"count\": 1, \"min\": 0.9496150875091552, \"max\": 0.9496150875091552}}}\u001b[0m\n",
      "\u001b[34m#metrics {\"StartTime\": 1709883144.4913769, \"EndTime\": 1709883144.4913883, \"Dimensions\": {\"Algorithm\": \"Linear Learner\", \"Host\": \"algo-1\", \"Operation\": \"training\", \"epoch\": 15, \"model\": 29}, \"Metrics\": {\"train_absolute_loss_objective\": {\"sum\": 0.9532949638366699, \"count\": 1, \"min\": 0.9532949638366699, \"max\": 0.9532949638366699}}}\u001b[0m\n",
      "\u001b[34m#metrics {\"StartTime\": 1709883144.4914334, \"EndTime\": 1709883144.4914455, \"Dimensions\": {\"Algorithm\": \"Linear Learner\", \"Host\": \"algo-1\", \"Operation\": \"training\", \"epoch\": 15, \"model\": 30}, \"Metrics\": {\"train_absolute_loss_objective\": {\"sum\": 0.9496109008789062, \"count\": 1, \"min\": 0.9496109008789062, \"max\": 0.9496109008789062}}}\u001b[0m\n",
      "\u001b[34m#metrics {\"StartTime\": 1709883144.4915466, \"EndTime\": 1709883144.4915617, \"Dimensions\": {\"Algorithm\": \"Linear Learner\", \"Host\": \"algo-1\", \"Operation\": \"training\", \"epoch\": 15, \"model\": 31}, \"Metrics\": {\"train_absolute_loss_objective\": {\"sum\": 0.9525801086425781, \"count\": 1, \"min\": 0.9525801086425781, \"max\": 0.9525801086425781}}}\u001b[0m\n",
      "\u001b[34m[03/08/2024 07:32:24 INFO 140046607693632] #quality_metric: host=algo-1, epoch=15, train absolute_loss_objective <loss>=0.5920198822021484\u001b[0m\n",
      "\u001b[34m[03/08/2024 07:32:24 INFO 140046607693632] #early_stopping_criteria_metric: host=algo-1, epoch=15, criteria=absolute_loss_objective, value=0.15873356580734252\u001b[0m\n",
      "\u001b[34m[03/08/2024 07:32:24 INFO 140046607693632] Epoch 15: Loss improved. Updating best model\u001b[0m\n",
      "\u001b[34m[03/08/2024 07:32:24 INFO 140046607693632] Saving model for epoch: 15\u001b[0m\n",
      "\u001b[34m[03/08/2024 07:32:24 INFO 140046607693632] Saved checkpoint to \"/tmp/tmpfz8adjyw/mx-mod-0000.params\"\u001b[0m\n",
      "\u001b[34m[03/08/2024 07:32:24 INFO 140046607693632] #progress_metric: host=algo-1, completed 32.0 % of epochs\u001b[0m\n",
      "\u001b[34m#metrics {\"StartTime\": 1709883144.3782089, \"EndTime\": 1709883144.502895, \"Dimensions\": {\"Algorithm\": \"Linear Learner\", \"Host\": \"algo-1\", \"Operation\": \"training\", \"epoch\": 15, \"Meta\": \"training_data_iter\"}, \"Metrics\": {\"Total Records Seen\": {\"sum\": 481.0, \"count\": 1, \"min\": 481, \"max\": 481}, \"Total Batches Seen\": {\"sum\": 103.0, \"count\": 1, \"min\": 103, \"max\": 103}, \"Max Records Seen Between Resets\": {\"sum\": 28.0, \"count\": 1, \"min\": 28, \"max\": 28}, \"Max Batches Seen Between Resets\": {\"sum\": 6.0, \"count\": 1, \"min\": 6, \"max\": 6}, \"Reset Count\": {\"sum\": 18.0, \"count\": 1, \"min\": 18, \"max\": 18}, \"Number of Records Since Last Reset\": {\"sum\": 28.0, \"count\": 1, \"min\": 28, \"max\": 28}, \"Number of Batches Since Last Reset\": {\"sum\": 6.0, \"count\": 1, \"min\": 6, \"max\": 6}}}\u001b[0m\n",
      "\u001b[34m[03/08/2024 07:32:24 INFO 140046607693632] #throughput_metric: host=algo-1, train throughput=224.30804021636158 records/second\u001b[0m\n",
      "\u001b[34m[2024-03-08 07:32:24.618] [tensorio] [info] epoch_stats={\"data_pipeline\": \"/opt/ml/input/data/train\", \"epoch\": 36, \"duration\": 115, \"num_examples\": 6, \"num_bytes\": 1344}\u001b[0m\n",
      "\u001b[34m#metrics {\"StartTime\": 1709883144.618938, \"EndTime\": 1709883144.6190295, \"Dimensions\": {\"Algorithm\": \"Linear Learner\", \"Host\": \"algo-1\", \"Operation\": \"training\", \"epoch\": 16, \"model\": 0}, \"Metrics\": {\"train_absolute_loss_objective\": {\"sum\": 0.5731791877746581, \"count\": 1, \"min\": 0.5731791877746581, \"max\": 0.5731791877746581}}}\u001b[0m\n",
      "\u001b[34m#metrics {\"StartTime\": 1709883144.6191862, \"EndTime\": 1709883144.6192074, \"Dimensions\": {\"Algorithm\": \"Linear Learner\", \"Host\": \"algo-1\", \"Operation\": \"training\", \"epoch\": 16, \"model\": 1}, \"Metrics\": {\"train_absolute_loss_objective\": {\"sum\": 0.5803168296813965, \"count\": 1, \"min\": 0.5803168296813965, \"max\": 0.5803168296813965}}}\u001b[0m\n",
      "\u001b[34m#metrics {\"StartTime\": 1709883144.6193113, \"EndTime\": 1709883144.6193295, \"Dimensions\": {\"Algorithm\": \"Linear Learner\", \"Host\": \"algo-1\", \"Operation\": \"training\", \"epoch\": 16, \"model\": 2}, \"Metrics\": {\"train_absolute_loss_objective\": {\"sum\": 0.5755281257629394, \"count\": 1, \"min\": 0.5755281257629394, \"max\": 0.5755281257629394}}}\u001b[0m\n",
      "\u001b[34m#metrics {\"StartTime\": 1709883144.6194253, \"EndTime\": 1709883144.6194432, \"Dimensions\": {\"Algorithm\": \"Linear Learner\", \"Host\": \"algo-1\", \"Operation\": \"training\", \"epoch\": 16, \"model\": 3}, \"Metrics\": {\"train_absolute_loss_objective\": {\"sum\": 0.5793193054199218, \"count\": 1, \"min\": 0.5793193054199218, \"max\": 0.5793193054199218}}}\u001b[0m\n",
      "\u001b[34m#metrics {\"StartTime\": 1709883144.6195421, \"EndTime\": 1709883144.6195602, \"Dimensions\": {\"Algorithm\": \"Linear Learner\", \"Host\": \"algo-1\", \"Operation\": \"training\", \"epoch\": 16, \"model\": 4}, \"Metrics\": {\"train_absolute_loss_objective\": {\"sum\": 0.16843865633010865, \"count\": 1, \"min\": 0.16843865633010865, \"max\": 0.16843865633010865}}}\u001b[0m\n",
      "\u001b[34m#metrics {\"StartTime\": 1709883144.619648, \"EndTime\": 1709883144.6196659, \"Dimensions\": {\"Algorithm\": \"Linear Learner\", \"Host\": \"algo-1\", \"Operation\": \"training\", \"epoch\": 16, \"model\": 5}, \"Metrics\": {\"train_absolute_loss_objective\": {\"sum\": 0.17285561800003052, \"count\": 1, \"min\": 0.17285561800003052, \"max\": 0.17285561800003052}}}\u001b[0m\n",
      "\u001b[34m#metrics {\"StartTime\": 1709883144.6197681, \"EndTime\": 1709883144.619789, \"Dimensions\": {\"Algorithm\": \"Linear Learner\", \"Host\": \"algo-1\", \"Operation\": \"training\", \"epoch\": 16, \"model\": 6}, \"Metrics\": {\"train_absolute_loss_objective\": {\"sum\": 0.17894166946411133, \"count\": 1, \"min\": 0.17894166946411133, \"max\": 0.17894166946411133}}}\u001b[0m\n",
      "\u001b[34m#metrics {\"StartTime\": 1709883144.6198993, \"EndTime\": 1709883144.6199172, \"Dimensions\": {\"Algorithm\": \"Linear Learner\", \"Host\": \"algo-1\", \"Operation\": \"training\", \"epoch\": 16, \"model\": 7}, \"Metrics\": {\"train_absolute_loss_objective\": {\"sum\": 0.25506126403808593, \"count\": 1, \"min\": 0.25506126403808593, \"max\": 0.25506126403808593}}}\u001b[0m\n",
      "\u001b[34m#metrics {\"StartTime\": 1709883144.6199958, \"EndTime\": 1709883144.6200106, \"Dimensions\": {\"Algorithm\": \"Linear Learner\", \"Host\": \"algo-1\", \"Operation\": \"training\", \"epoch\": 16, \"model\": 8}, \"Metrics\": {\"train_absolute_loss_objective\": {\"sum\": 0.6276166915893555, \"count\": 1, \"min\": 0.6276166915893555, \"max\": 0.6276166915893555}}}\u001b[0m\n",
      "\u001b[34m#metrics {\"StartTime\": 1709883144.620102, \"EndTime\": 1709883144.6201193, \"Dimensions\": {\"Algorithm\": \"Linear Learner\", \"Host\": \"algo-1\", \"Operation\": \"training\", \"epoch\": 16, \"model\": 9}, \"Metrics\": {\"train_absolute_loss_objective\": {\"sum\": 0.5502984237670898, \"count\": 1, \"min\": 0.5502984237670898, \"max\": 0.5502984237670898}}}\u001b[0m\n",
      "\u001b[34m#metrics {\"StartTime\": 1709883144.620193, \"EndTime\": 1709883144.6202097, \"Dimensions\": {\"Algorithm\": \"Linear Learner\", \"Host\": \"algo-1\", \"Operation\": \"training\", \"epoch\": 16, \"model\": 10}, \"Metrics\": {\"train_absolute_loss_objective\": {\"sum\": 0.5684576797485351, \"count\": 1, \"min\": 0.5684576797485351, \"max\": 0.5684576797485351}}}\u001b[0m\n",
      "\u001b[34m#metrics {\"StartTime\": 1709883144.6203117, \"EndTime\": 1709883144.620331, \"Dimensions\": {\"Algorithm\": \"Linear Learner\", \"Host\": \"algo-1\", \"Operation\": \"training\", \"epoch\": 16, \"model\": 11}, \"Metrics\": {\"train_absolute_loss_objective\": {\"sum\": 0.5423973608016968, \"count\": 1, \"min\": 0.5423973608016968, \"max\": 0.5423973608016968}}}\u001b[0m\n",
      "\u001b[34m#metrics {\"StartTime\": 1709883144.6204154, \"EndTime\": 1709883144.6204326, \"Dimensions\": {\"Algorithm\": \"Linear Learner\", \"Host\": \"algo-1\", \"Operation\": \"training\", \"epoch\": 16, \"model\": 12}, \"Metrics\": {\"train_absolute_loss_objective\": {\"sum\": 0.19248771905899048, \"count\": 1, \"min\": 0.19248771905899048, \"max\": 0.19248771905899048}}}\u001b[0m\n",
      "\u001b[34m#metrics {\"StartTime\": 1709883144.6204898, \"EndTime\": 1709883144.6205072, \"Dimensions\": {\"Algorithm\": \"Linear Learner\", \"Host\": \"algo-1\", \"Operation\": \"training\", \"epoch\": 16, \"model\": 13}, \"Metrics\": {\"train_absolute_loss_objective\": {\"sum\": 0.170289089679718, \"count\": 1, \"min\": 0.170289089679718, \"max\": 0.170289089679718}}}\u001b[0m\n",
      "\u001b[34m#metrics {\"StartTime\": 1709883144.620589, \"EndTime\": 1709883144.6206055, \"Dimensions\": {\"Algorithm\": \"Linear Learner\", \"Host\": \"algo-1\", \"Operation\": \"training\", \"epoch\": 16, \"model\": 14}, \"Metrics\": {\"train_absolute_loss_objective\": {\"sum\": 0.19229440689086913, \"count\": 1, \"min\": 0.19229440689086913, \"max\": 0.19229440689086913}}}\u001b[0m\n",
      "\u001b[34m#metrics {\"StartTime\": 1709883144.620688, \"EndTime\": 1709883144.6207032, \"Dimensions\": {\"Algorithm\": \"Linear Learner\", \"Host\": \"algo-1\", \"Operation\": \"training\", \"epoch\": 16, \"model\": 15}, \"Metrics\": {\"train_absolute_loss_objective\": {\"sum\": 0.23517328023910522, \"count\": 1, \"min\": 0.23517328023910522, \"max\": 0.23517328023910522}}}\u001b[0m\n",
      "\u001b[34m#metrics {\"StartTime\": 1709883144.6207879, \"EndTime\": 1709883144.6208043, \"Dimensions\": {\"Algorithm\": \"Linear Learner\", \"Host\": \"algo-1\", \"Operation\": \"training\", \"epoch\": 16, \"model\": 16}, \"Metrics\": {\"train_absolute_loss_objective\": {\"sum\": 0.5697427749633789, \"count\": 1, \"min\": 0.5697427749633789, \"max\": 0.5697427749633789}}}\u001b[0m\n",
      "\u001b[34m#metrics {\"StartTime\": 1709883144.6208467, \"EndTime\": 1709883144.6208594, \"Dimensions\": {\"Algorithm\": \"Linear Learner\", \"Host\": \"algo-1\", \"Operation\": \"training\", \"epoch\": 16, \"model\": 17}, \"Metrics\": {\"train_absolute_loss_objective\": {\"sum\": 0.6061781311035156, \"count\": 1, \"min\": 0.6061781311035156, \"max\": 0.6061781311035156}}}\u001b[0m\n",
      "\u001b[34m#metrics {\"StartTime\": 1709883144.620897, \"EndTime\": 1709883144.620909, \"Dimensions\": {\"Algorithm\": \"Linear Learner\", \"Host\": \"algo-1\", \"Operation\": \"training\", \"epoch\": 16, \"model\": 18}, \"Metrics\": {\"train_absolute_loss_objective\": {\"sum\": 0.5934589290618897, \"count\": 1, \"min\": 0.5934589290618897, \"max\": 0.5934589290618897}}}\u001b[0m\n",
      "\u001b[34m#metrics {\"StartTime\": 1709883144.6209562, \"EndTime\": 1709883144.62097, \"Dimensions\": {\"Algorithm\": \"Linear Learner\", \"Host\": \"algo-1\", \"Operation\": \"training\", \"epoch\": 16, \"model\": 19}, \"Metrics\": {\"train_absolute_loss_objective\": {\"sum\": 0.5825954532623291, \"count\": 1, \"min\": 0.5825954532623291, \"max\": 0.5825954532623291}}}\u001b[0m\n",
      "\u001b[34m#metrics {\"StartTime\": 1709883144.6210487, \"EndTime\": 1709883144.6210637, \"Dimensions\": {\"Algorithm\": \"Linear Learner\", \"Host\": \"algo-1\", \"Operation\": \"training\", \"epoch\": 16, \"model\": 20}, \"Metrics\": {\"train_absolute_loss_objective\": {\"sum\": 0.3735618543624878, \"count\": 1, \"min\": 0.3735618543624878, \"max\": 0.3735618543624878}}}\u001b[0m\n",
      "\u001b[34m#metrics {\"StartTime\": 1709883144.6211538, \"EndTime\": 1709883144.6211724, \"Dimensions\": {\"Algorithm\": \"Linear Learner\", \"Host\": \"algo-1\", \"Operation\": \"training\", \"epoch\": 16, \"model\": 21}, \"Metrics\": {\"train_absolute_loss_objective\": {\"sum\": 0.2800429940223694, \"count\": 1, \"min\": 0.2800429940223694, \"max\": 0.2800429940223694}}}\u001b[0m\n",
      "\u001b[34m#metrics {\"StartTime\": 1709883144.6212506, \"EndTime\": 1709883144.6212673, \"Dimensions\": {\"Algorithm\": \"Linear Learner\", \"Host\": \"algo-1\", \"Operation\": \"training\", \"epoch\": 16, \"model\": 22}, \"Metrics\": {\"train_absolute_loss_objective\": {\"sum\": 0.2930996704101563, \"count\": 1, \"min\": 0.2930996704101563, \"max\": 0.2930996704101563}}}\u001b[0m\n",
      "\u001b[34m#metrics {\"StartTime\": 1709883144.6213229, \"EndTime\": 1709883144.6213384, \"Dimensions\": {\"Algorithm\": \"Linear Learner\", \"Host\": \"algo-1\", \"Operation\": \"training\", \"epoch\": 16, \"model\": 23}, \"Metrics\": {\"train_absolute_loss_objective\": {\"sum\": 0.27387901544570925, \"count\": 1, \"min\": 0.27387901544570925, \"max\": 0.27387901544570925}}}\u001b[0m\n",
      "\u001b[34m#metrics {\"StartTime\": 1709883144.6213906, \"EndTime\": 1709883144.621405, \"Dimensions\": {\"Algorithm\": \"Linear Learner\", \"Host\": \"algo-1\", \"Operation\": \"training\", \"epoch\": 16, \"model\": 24}, \"Metrics\": {\"train_absolute_loss_objective\": {\"sum\": 0.8960567092895508, \"count\": 1, \"min\": 0.8960567092895508, \"max\": 0.8960567092895508}}}\u001b[0m\n",
      "\u001b[34m#metrics {\"StartTime\": 1709883144.6214845, \"EndTime\": 1709883144.6215005, \"Dimensions\": {\"Algorithm\": \"Linear Learner\", \"Host\": \"algo-1\", \"Operation\": \"training\", \"epoch\": 16, \"model\": 25}, \"Metrics\": {\"train_absolute_loss_objective\": {\"sum\": 0.8974434471130371, \"count\": 1, \"min\": 0.8974434471130371, \"max\": 0.8974434471130371}}}\u001b[0m\n",
      "\u001b[34m#metrics {\"StartTime\": 1709883144.621544, \"EndTime\": 1709883144.6215568, \"Dimensions\": {\"Algorithm\": \"Linear Learner\", \"Host\": \"algo-1\", \"Operation\": \"training\", \"epoch\": 16, \"model\": 26}, \"Metrics\": {\"train_absolute_loss_objective\": {\"sum\": 0.8964181137084961, \"count\": 1, \"min\": 0.8964181137084961, \"max\": 0.8964181137084961}}}\u001b[0m\n",
      "\u001b[34m#metrics {\"StartTime\": 1709883144.6216056, \"EndTime\": 1709883144.6216197, \"Dimensions\": {\"Algorithm\": \"Linear Learner\", \"Host\": \"algo-1\", \"Operation\": \"training\", \"epoch\": 16, \"model\": 27}, \"Metrics\": {\"train_absolute_loss_objective\": {\"sum\": 0.897926082611084, \"count\": 1, \"min\": 0.897926082611084, \"max\": 0.897926082611084}}}\u001b[0m\n",
      "\u001b[34m#metrics {\"StartTime\": 1709883144.6216671, \"EndTime\": 1709883144.6216798, \"Dimensions\": {\"Algorithm\": \"Linear Learner\", \"Host\": \"algo-1\", \"Operation\": \"training\", \"epoch\": 16, \"model\": 28}, \"Metrics\": {\"train_absolute_loss_objective\": {\"sum\": 0.9371236705780029, \"count\": 1, \"min\": 0.9371236705780029, \"max\": 0.9371236705780029}}}\u001b[0m\n",
      "\u001b[34m#metrics {\"StartTime\": 1709883144.621725, \"EndTime\": 1709883144.6217372, \"Dimensions\": {\"Algorithm\": \"Linear Learner\", \"Host\": \"algo-1\", \"Operation\": \"training\", \"epoch\": 16, \"model\": 29}, \"Metrics\": {\"train_absolute_loss_objective\": {\"sum\": 0.9406943511962891, \"count\": 1, \"min\": 0.9406943511962891, \"max\": 0.9406943511962891}}}\u001b[0m\n",
      "\u001b[34m#metrics {\"StartTime\": 1709883144.6217735, \"EndTime\": 1709883144.621785, \"Dimensions\": {\"Algorithm\": \"Linear Learner\", \"Host\": \"algo-1\", \"Operation\": \"training\", \"epoch\": 16, \"model\": 30}, \"Metrics\": {\"train_absolute_loss_objective\": {\"sum\": 0.9369430732727051, \"count\": 1, \"min\": 0.9369430732727051, \"max\": 0.9369430732727051}}}\u001b[0m\n",
      "\u001b[34m#metrics {\"StartTime\": 1709883144.621821, \"EndTime\": 1709883144.621834, \"Dimensions\": {\"Algorithm\": \"Linear Learner\", \"Host\": \"algo-1\", \"Operation\": \"training\", \"epoch\": 16, \"model\": 31}, \"Metrics\": {\"train_absolute_loss_objective\": {\"sum\": 0.9409236717224121, \"count\": 1, \"min\": 0.9409236717224121, \"max\": 0.9409236717224121}}}\u001b[0m\n",
      "\u001b[34m[03/08/2024 07:32:24 INFO 140046607693632] #quality_metric: host=algo-1, epoch=16, train absolute_loss_objective <loss>=0.5731791877746581\u001b[0m\n",
      "\u001b[34m[03/08/2024 07:32:24 INFO 140046607693632] #early_stopping_criteria_metric: host=algo-1, epoch=16, criteria=absolute_loss_objective, value=0.16843865633010865\u001b[0m\n",
      "\u001b[34m[03/08/2024 07:32:24 INFO 140046607693632] Saving model for epoch: 16\u001b[0m\n",
      "\u001b[34m[03/08/2024 07:32:24 INFO 140046607693632] Saved checkpoint to \"/tmp/tmpmto985vo/mx-mod-0000.params\"\u001b[0m\n",
      "\u001b[34m[03/08/2024 07:32:24 INFO 140046607693632] #progress_metric: host=algo-1, completed 34.0 % of epochs\u001b[0m\n",
      "\u001b[34m#metrics {\"StartTime\": 1709883144.5031774, \"EndTime\": 1709883144.6329358, \"Dimensions\": {\"Algorithm\": \"Linear Learner\", \"Host\": \"algo-1\", \"Operation\": \"training\", \"epoch\": 16, \"Meta\": \"training_data_iter\"}, \"Metrics\": {\"Total Records Seen\": {\"sum\": 509.0, \"count\": 1, \"min\": 509, \"max\": 509}, \"Total Batches Seen\": {\"sum\": 109.0, \"count\": 1, \"min\": 109, \"max\": 109}, \"Max Records Seen Between Resets\": {\"sum\": 28.0, \"count\": 1, \"min\": 28, \"max\": 28}, \"Max Batches Seen Between Resets\": {\"sum\": 6.0, \"count\": 1, \"min\": 6, \"max\": 6}, \"Reset Count\": {\"sum\": 19.0, \"count\": 1, \"min\": 19, \"max\": 19}, \"Number of Records Since Last Reset\": {\"sum\": 28.0, \"count\": 1, \"min\": 28, \"max\": 28}, \"Number of Batches Since Last Reset\": {\"sum\": 6.0, \"count\": 1, \"min\": 6, \"max\": 6}}}\u001b[0m\n",
      "\u001b[34m[03/08/2024 07:32:24 INFO 140046607693632] #throughput_metric: host=algo-1, train throughput=215.5251420433691 records/second\u001b[0m\n",
      "\u001b[34m[2024-03-08 07:32:24.770] [tensorio] [info] epoch_stats={\"data_pipeline\": \"/opt/ml/input/data/train\", \"epoch\": 38, \"duration\": 137, \"num_examples\": 6, \"num_bytes\": 1344}\u001b[0m\n",
      "\u001b[34m#metrics {\"StartTime\": 1709883144.770712, \"EndTime\": 1709883144.7708042, \"Dimensions\": {\"Algorithm\": \"Linear Learner\", \"Host\": \"algo-1\", \"Operation\": \"training\", \"epoch\": 17, \"model\": 0}, \"Metrics\": {\"train_absolute_loss_objective\": {\"sum\": 0.5538978958129883, \"count\": 1, \"min\": 0.5538978958129883, \"max\": 0.5538978958129883}}}\u001b[0m\n",
      "\u001b[34m#metrics {\"StartTime\": 1709883144.7709012, \"EndTime\": 1709883144.7709203, \"Dimensions\": {\"Algorithm\": \"Linear Learner\", \"Host\": \"algo-1\", \"Operation\": \"training\", \"epoch\": 17, \"model\": 1}, \"Metrics\": {\"train_absolute_loss_objective\": {\"sum\": 0.5605054092407227, \"count\": 1, \"min\": 0.5605054092407227, \"max\": 0.5605054092407227}}}\u001b[0m\n",
      "\u001b[34m#metrics {\"StartTime\": 1709883144.7710197, \"EndTime\": 1709883144.7710416, \"Dimensions\": {\"Algorithm\": \"Linear Learner\", \"Host\": \"algo-1\", \"Operation\": \"training\", \"epoch\": 17, \"model\": 2}, \"Metrics\": {\"train_absolute_loss_objective\": {\"sum\": 0.5562623691558838, \"count\": 1, \"min\": 0.5562623691558838, \"max\": 0.5562623691558838}}}\u001b[0m\n",
      "\u001b[34m#metrics {\"StartTime\": 1709883144.7711053, \"EndTime\": 1709883144.7711241, \"Dimensions\": {\"Algorithm\": \"Linear Learner\", \"Host\": \"algo-1\", \"Operation\": \"training\", \"epoch\": 17, \"model\": 3}, \"Metrics\": {\"train_absolute_loss_objective\": {\"sum\": 0.5595144653320312, \"count\": 1, \"min\": 0.5595144653320312, \"max\": 0.5595144653320312}}}\u001b[0m\n",
      "\u001b[34m#metrics {\"StartTime\": 1709883144.771174, \"EndTime\": 1709883144.771188, \"Dimensions\": {\"Algorithm\": \"Linear Learner\", \"Host\": \"algo-1\", \"Operation\": \"training\", \"epoch\": 17, \"model\": 4}, \"Metrics\": {\"train_absolute_loss_objective\": {\"sum\": 0.2489318299293518, \"count\": 1, \"min\": 0.2489318299293518, \"max\": 0.2489318299293518}}}\u001b[0m\n",
      "\u001b[34m#metrics {\"StartTime\": 1709883144.771229, \"EndTime\": 1709883144.771242, \"Dimensions\": {\"Algorithm\": \"Linear Learner\", \"Host\": \"algo-1\", \"Operation\": \"training\", \"epoch\": 17, \"model\": 5}, \"Metrics\": {\"train_absolute_loss_objective\": {\"sum\": 0.2017091202735901, \"count\": 1, \"min\": 0.2017091202735901, \"max\": 0.2017091202735901}}}\u001b[0m\n",
      "\u001b[34m#metrics {\"StartTime\": 1709883144.7712853, \"EndTime\": 1709883144.771299, \"Dimensions\": {\"Algorithm\": \"Linear Learner\", \"Host\": \"algo-1\", \"Operation\": \"training\", \"epoch\": 17, \"model\": 6}, \"Metrics\": {\"train_absolute_loss_objective\": {\"sum\": 0.21430354356765746, \"count\": 1, \"min\": 0.21430354356765746, \"max\": 0.21430354356765746}}}\u001b[0m\n",
      "\u001b[34m#metrics {\"StartTime\": 1709883144.771344, \"EndTime\": 1709883144.7713566, \"Dimensions\": {\"Algorithm\": \"Linear Learner\", \"Host\": \"algo-1\", \"Operation\": \"training\", \"epoch\": 17, \"model\": 7}, \"Metrics\": {\"train_absolute_loss_objective\": {\"sum\": 0.2055065417289734, \"count\": 1, \"min\": 0.2055065417289734, \"max\": 0.2055065417289734}}}\u001b[0m\n",
      "\u001b[34m#metrics {\"StartTime\": 1709883144.7714028, \"EndTime\": 1709883144.7714171, \"Dimensions\": {\"Algorithm\": \"Linear Learner\", \"Host\": \"algo-1\", \"Operation\": \"training\", \"epoch\": 17, \"model\": 8}, \"Metrics\": {\"train_absolute_loss_objective\": {\"sum\": 0.6091038990020752, \"count\": 1, \"min\": 0.6091038990020752, \"max\": 0.6091038990020752}}}\u001b[0m\n",
      "\u001b[34m#metrics {\"StartTime\": 1709883144.771461, \"EndTime\": 1709883144.771476, \"Dimensions\": {\"Algorithm\": \"Linear Learner\", \"Host\": \"algo-1\", \"Operation\": \"training\", \"epoch\": 17, \"model\": 9}, \"Metrics\": {\"train_absolute_loss_objective\": {\"sum\": 0.5296924877166748, \"count\": 1, \"min\": 0.5296924877166748, \"max\": 0.5296924877166748}}}\u001b[0m\n",
      "\u001b[34m#metrics {\"StartTime\": 1709883144.7715304, \"EndTime\": 1709883144.7715442, \"Dimensions\": {\"Algorithm\": \"Linear Learner\", \"Host\": \"algo-1\", \"Operation\": \"training\", \"epoch\": 17, \"model\": 10}, \"Metrics\": {\"train_absolute_loss_objective\": {\"sum\": 0.549441909790039, \"count\": 1, \"min\": 0.549441909790039, \"max\": 0.549441909790039}}}\u001b[0m\n",
      "\u001b[34m#metrics {\"StartTime\": 1709883144.7715836, \"EndTime\": 1709883144.771597, \"Dimensions\": {\"Algorithm\": \"Linear Learner\", \"Host\": \"algo-1\", \"Operation\": \"training\", \"epoch\": 17, \"model\": 11}, \"Metrics\": {\"train_absolute_loss_objective\": {\"sum\": 0.5217915630340576, \"count\": 1, \"min\": 0.5217915630340576, \"max\": 0.5217915630340576}}}\u001b[0m\n",
      "\u001b[34m#metrics {\"StartTime\": 1709883144.7716503, \"EndTime\": 1709883144.7716665, \"Dimensions\": {\"Algorithm\": \"Linear Learner\", \"Host\": \"algo-1\", \"Operation\": \"training\", \"epoch\": 17, \"model\": 12}, \"Metrics\": {\"train_absolute_loss_objective\": {\"sum\": 0.20318862199783325, \"count\": 1, \"min\": 0.20318862199783325, \"max\": 0.20318862199783325}}}\u001b[0m\n",
      "\u001b[34m#metrics {\"StartTime\": 1709883144.7717087, \"EndTime\": 1709883144.7717223, \"Dimensions\": {\"Algorithm\": \"Linear Learner\", \"Host\": \"algo-1\", \"Operation\": \"training\", \"epoch\": 17, \"model\": 13}, \"Metrics\": {\"train_absolute_loss_objective\": {\"sum\": 0.23990119218826295, \"count\": 1, \"min\": 0.23990119218826295, \"max\": 0.23990119218826295}}}\u001b[0m\n",
      "\u001b[34m#metrics {\"StartTime\": 1709883144.7717767, \"EndTime\": 1709883144.7717924, \"Dimensions\": {\"Algorithm\": \"Linear Learner\", \"Host\": \"algo-1\", \"Operation\": \"training\", \"epoch\": 17, \"model\": 14}, \"Metrics\": {\"train_absolute_loss_objective\": {\"sum\": 0.20299682140350342, \"count\": 1, \"min\": 0.20299682140350342, \"max\": 0.20299682140350342}}}\u001b[0m\n",
      "\u001b[34m#metrics {\"StartTime\": 1709883144.7718492, \"EndTime\": 1709883144.7718642, \"Dimensions\": {\"Algorithm\": \"Linear Learner\", \"Host\": \"algo-1\", \"Operation\": \"training\", \"epoch\": 17, \"model\": 15}, \"Metrics\": {\"train_absolute_loss_objective\": {\"sum\": 0.24524760007858276, \"count\": 1, \"min\": 0.24524760007858276, \"max\": 0.24524760007858276}}}\u001b[0m\n",
      "\u001b[34m#metrics {\"StartTime\": 1709883144.7719033, \"EndTime\": 1709883144.7719147, \"Dimensions\": {\"Algorithm\": \"Linear Learner\", \"Host\": \"algo-1\", \"Operation\": \"training\", \"epoch\": 17, \"model\": 16}, \"Metrics\": {\"train_absolute_loss_objective\": {\"sum\": 0.5548360824584961, \"count\": 1, \"min\": 0.5548360824584961, \"max\": 0.5548360824584961}}}\u001b[0m\n",
      "\u001b[34m#metrics {\"StartTime\": 1709883144.7719605, \"EndTime\": 1709883144.7719734, \"Dimensions\": {\"Algorithm\": \"Linear Learner\", \"Host\": \"algo-1\", \"Operation\": \"training\", \"epoch\": 17, \"model\": 17}, \"Metrics\": {\"train_absolute_loss_objective\": {\"sum\": 0.591062650680542, \"count\": 1, \"min\": 0.591062650680542, \"max\": 0.591062650680542}}}\u001b[0m\n",
      "\u001b[34m#metrics {\"StartTime\": 1709883144.7720265, \"EndTime\": 1709883144.7720418, \"Dimensions\": {\"Algorithm\": \"Linear Learner\", \"Host\": \"algo-1\", \"Operation\": \"training\", \"epoch\": 17, \"model\": 18}, \"Metrics\": {\"train_absolute_loss_objective\": {\"sum\": 0.5795030975341797, \"count\": 1, \"min\": 0.5795030975341797, \"max\": 0.5795030975341797}}}\u001b[0m\n",
      "\u001b[34m#metrics {\"StartTime\": 1709883144.7720854, \"EndTime\": 1709883144.7721004, \"Dimensions\": {\"Algorithm\": \"Linear Learner\", \"Host\": \"algo-1\", \"Operation\": \"training\", \"epoch\": 17, \"model\": 19}, \"Metrics\": {\"train_absolute_loss_objective\": {\"sum\": 0.5665351009368896, \"count\": 1, \"min\": 0.5665351009368896, \"max\": 0.5665351009368896}}}\u001b[0m\n",
      "\u001b[34m#metrics {\"StartTime\": 1709883144.7721484, \"EndTime\": 1709883144.7721632, \"Dimensions\": {\"Algorithm\": \"Linear Learner\", \"Host\": \"algo-1\", \"Operation\": \"training\", \"epoch\": 17, \"model\": 20}, \"Metrics\": {\"train_absolute_loss_objective\": {\"sum\": 0.30930285453796386, \"count\": 1, \"min\": 0.30930285453796386, \"max\": 0.30930285453796386}}}\u001b[0m\n",
      "\u001b[34m#metrics {\"StartTime\": 1709883144.7722049, \"EndTime\": 1709883144.7722173, \"Dimensions\": {\"Algorithm\": \"Linear Learner\", \"Host\": \"algo-1\", \"Operation\": \"training\", \"epoch\": 17, \"model\": 21}, \"Metrics\": {\"train_absolute_loss_objective\": {\"sum\": 0.2688520860671997, \"count\": 1, \"min\": 0.2688520860671997, \"max\": 0.2688520860671997}}}\u001b[0m\n",
      "\u001b[34m#metrics {\"StartTime\": 1709883144.7723057, \"EndTime\": 1709883144.7723255, \"Dimensions\": {\"Algorithm\": \"Linear Learner\", \"Host\": \"algo-1\", \"Operation\": \"training\", \"epoch\": 17, \"model\": 22}, \"Metrics\": {\"train_absolute_loss_objective\": {\"sum\": 0.2874732995033264, \"count\": 1, \"min\": 0.2874732995033264, \"max\": 0.2874732995033264}}}\u001b[0m\n",
      "\u001b[34m#metrics {\"StartTime\": 1709883144.7723753, \"EndTime\": 1709883144.7723897, \"Dimensions\": {\"Algorithm\": \"Linear Learner\", \"Host\": \"algo-1\", \"Operation\": \"training\", \"epoch\": 17, \"model\": 23}, \"Metrics\": {\"train_absolute_loss_objective\": {\"sum\": 0.3349360990524292, \"count\": 1, \"min\": 0.3349360990524292, \"max\": 0.3349360990524292}}}\u001b[0m\n",
      "\u001b[34m#metrics {\"StartTime\": 1709883144.7724457, \"EndTime\": 1709883144.772461, \"Dimensions\": {\"Algorithm\": \"Linear Learner\", \"Host\": \"algo-1\", \"Operation\": \"training\", \"epoch\": 17, \"model\": 24}, \"Metrics\": {\"train_absolute_loss_objective\": {\"sum\": 0.8970556449890137, \"count\": 1, \"min\": 0.8970556449890137, \"max\": 0.8970556449890137}}}\u001b[0m\n",
      "\u001b[34m#metrics {\"StartTime\": 1709883144.772511, \"EndTime\": 1709883144.772526, \"Dimensions\": {\"Algorithm\": \"Linear Learner\", \"Host\": \"algo-1\", \"Operation\": \"training\", \"epoch\": 17, \"model\": 25}, \"Metrics\": {\"train_absolute_loss_objective\": {\"sum\": 0.897711706161499, \"count\": 1, \"min\": 0.897711706161499, \"max\": 0.897711706161499}}}\u001b[0m\n",
      "\u001b[34m#metrics {\"StartTime\": 1709883144.772571, \"EndTime\": 1709883144.7725835, \"Dimensions\": {\"Algorithm\": \"Linear Learner\", \"Host\": \"algo-1\", \"Operation\": \"training\", \"epoch\": 17, \"model\": 26}, \"Metrics\": {\"train_absolute_loss_objective\": {\"sum\": 0.8972586059570312, \"count\": 1, \"min\": 0.8972586059570312, \"max\": 0.8972586059570312}}}\u001b[0m\n",
      "\u001b[34m#metrics {\"StartTime\": 1709883144.7726252, \"EndTime\": 1709883144.7726376, \"Dimensions\": {\"Algorithm\": \"Linear Learner\", \"Host\": \"algo-1\", \"Operation\": \"training\", \"epoch\": 17, \"model\": 27}, \"Metrics\": {\"train_absolute_loss_objective\": {\"sum\": 0.897604808807373, \"count\": 1, \"min\": 0.897604808807373, \"max\": 0.897604808807373}}}\u001b[0m\n",
      "\u001b[34m#metrics {\"StartTime\": 1709883144.7726843, \"EndTime\": 1709883144.7726982, \"Dimensions\": {\"Algorithm\": \"Linear Learner\", \"Host\": \"algo-1\", \"Operation\": \"training\", \"epoch\": 17, \"model\": 28}, \"Metrics\": {\"train_absolute_loss_objective\": {\"sum\": 0.9433680629730224, \"count\": 1, \"min\": 0.9433680629730224, \"max\": 0.9433680629730224}}}\u001b[0m\n",
      "\u001b[34m#metrics {\"StartTime\": 1709883144.772744, \"EndTime\": 1709883144.7727575, \"Dimensions\": {\"Algorithm\": \"Linear Learner\", \"Host\": \"algo-1\", \"Operation\": \"training\", \"epoch\": 17, \"model\": 29}, \"Metrics\": {\"train_absolute_loss_objective\": {\"sum\": 0.9479960441589356, \"count\": 1, \"min\": 0.9479960441589356, \"max\": 0.9479960441589356}}}\u001b[0m\n",
      "\u001b[34m#metrics {\"StartTime\": 1709883144.7728016, \"EndTime\": 1709883144.772816, \"Dimensions\": {\"Algorithm\": \"Linear Learner\", \"Host\": \"algo-1\", \"Operation\": \"training\", \"epoch\": 17, \"model\": 30}, \"Metrics\": {\"train_absolute_loss_objective\": {\"sum\": 0.9433566761016846, \"count\": 1, \"min\": 0.9433566761016846, \"max\": 0.9433566761016846}}}\u001b[0m\n",
      "\u001b[34m#metrics {\"StartTime\": 1709883144.7728612, \"EndTime\": 1709883144.7728744, \"Dimensions\": {\"Algorithm\": \"Linear Learner\", \"Host\": \"algo-1\", \"Operation\": \"training\", \"epoch\": 17, \"model\": 31}, \"Metrics\": {\"train_absolute_loss_objective\": {\"sum\": 0.9474391651153564, \"count\": 1, \"min\": 0.9474391651153564, \"max\": 0.9474391651153564}}}\u001b[0m\n",
      "\u001b[34m[03/08/2024 07:32:24 INFO 140046607693632] #quality_metric: host=algo-1, epoch=17, train absolute_loss_objective <loss>=0.5538978958129883\u001b[0m\n",
      "\u001b[34m[03/08/2024 07:32:24 INFO 140046607693632] #early_stopping_criteria_metric: host=algo-1, epoch=17, criteria=absolute_loss_objective, value=0.2017091202735901\u001b[0m\n",
      "\u001b[34m[03/08/2024 07:32:24 INFO 140046607693632] Saving model for epoch: 17\u001b[0m\n",
      "\u001b[34m[03/08/2024 07:32:24 INFO 140046607693632] Saved checkpoint to \"/tmp/tmpm6gfwm2_/mx-mod-0000.params\"\u001b[0m\n",
      "\u001b[34m[03/08/2024 07:32:24 INFO 140046607693632] #progress_metric: host=algo-1, completed 36.0 % of epochs\u001b[0m\n",
      "\u001b[34m#metrics {\"StartTime\": 1709883144.6332624, \"EndTime\": 1709883144.7834036, \"Dimensions\": {\"Algorithm\": \"Linear Learner\", \"Host\": \"algo-1\", \"Operation\": \"training\", \"epoch\": 17, \"Meta\": \"training_data_iter\"}, \"Metrics\": {\"Total Records Seen\": {\"sum\": 537.0, \"count\": 1, \"min\": 537, \"max\": 537}, \"Total Batches Seen\": {\"sum\": 115.0, \"count\": 1, \"min\": 115, \"max\": 115}, \"Max Records Seen Between Resets\": {\"sum\": 28.0, \"count\": 1, \"min\": 28, \"max\": 28}, \"Max Batches Seen Between Resets\": {\"sum\": 6.0, \"count\": 1, \"min\": 6, \"max\": 6}, \"Reset Count\": {\"sum\": 20.0, \"count\": 1, \"min\": 20, \"max\": 20}, \"Number of Records Since Last Reset\": {\"sum\": 28.0, \"count\": 1, \"min\": 28, \"max\": 28}, \"Number of Batches Since Last Reset\": {\"sum\": 6.0, \"count\": 1, \"min\": 6, \"max\": 6}}}\u001b[0m\n",
      "\u001b[34m[03/08/2024 07:32:24 INFO 140046607693632] #throughput_metric: host=algo-1, train throughput=186.29256879264096 records/second\u001b[0m\n",
      "\u001b[34m[2024-03-08 07:32:24.918] [tensorio] [info] epoch_stats={\"data_pipeline\": \"/opt/ml/input/data/train\", \"epoch\": 40, \"duration\": 135, \"num_examples\": 6, \"num_bytes\": 1344}\u001b[0m\n",
      "\u001b[34m#metrics {\"StartTime\": 1709883144.9190085, \"EndTime\": 1709883144.9191282, \"Dimensions\": {\"Algorithm\": \"Linear Learner\", \"Host\": \"algo-1\", \"Operation\": \"training\", \"epoch\": 18, \"model\": 0}, \"Metrics\": {\"train_absolute_loss_objective\": {\"sum\": 0.5352660465240479, \"count\": 1, \"min\": 0.5352660465240479, \"max\": 0.5352660465240479}}}\u001b[0m\n",
      "\u001b[34m#metrics {\"StartTime\": 1709883144.9192245, \"EndTime\": 1709883144.9193385, \"Dimensions\": {\"Algorithm\": \"Linear Learner\", \"Host\": \"algo-1\", \"Operation\": \"training\", \"epoch\": 18, \"model\": 1}, \"Metrics\": {\"train_absolute_loss_objective\": {\"sum\": 0.5401313018798828, \"count\": 1, \"min\": 0.5401313018798828, \"max\": 0.5401313018798828}}}\u001b[0m\n",
      "\u001b[34m#metrics {\"StartTime\": 1709883144.9194348, \"EndTime\": 1709883144.9194546, \"Dimensions\": {\"Algorithm\": \"Linear Learner\", \"Host\": \"algo-1\", \"Operation\": \"training\", \"epoch\": 18, \"model\": 2}, \"Metrics\": {\"train_absolute_loss_objective\": {\"sum\": 0.5376149463653564, \"count\": 1, \"min\": 0.5376149463653564, \"max\": 0.5376149463653564}}}\u001b[0m\n",
      "\u001b[34m#metrics {\"StartTime\": 1709883144.9195826, \"EndTime\": 1709883144.9196026, \"Dimensions\": {\"Algorithm\": \"Linear Learner\", \"Host\": \"algo-1\", \"Operation\": \"training\", \"epoch\": 18, \"model\": 3}, \"Metrics\": {\"train_absolute_loss_objective\": {\"sum\": 0.5391403484344482, \"count\": 1, \"min\": 0.5391403484344482, \"max\": 0.5391403484344482}}}\u001b[0m\n",
      "\u001b[34m#metrics {\"StartTime\": 1709883144.919691, \"EndTime\": 1709883144.919709, \"Dimensions\": {\"Algorithm\": \"Linear Learner\", \"Host\": \"algo-1\", \"Operation\": \"training\", \"epoch\": 18, \"model\": 4}, \"Metrics\": {\"train_absolute_loss_objective\": {\"sum\": 0.18038875579833985, \"count\": 1, \"min\": 0.18038875579833985, \"max\": 0.18038875579833985}}}\u001b[0m\n",
      "\u001b[34m#metrics {\"StartTime\": 1709883144.9198475, \"EndTime\": 1709883144.9198666, \"Dimensions\": {\"Algorithm\": \"Linear Learner\", \"Host\": \"algo-1\", \"Operation\": \"training\", \"epoch\": 18, \"model\": 5}, \"Metrics\": {\"train_absolute_loss_objective\": {\"sum\": 0.21769235849380494, \"count\": 1, \"min\": 0.21769235849380494, \"max\": 0.21769235849380494}}}\u001b[0m\n",
      "\u001b[34m#metrics {\"StartTime\": 1709883144.9199138, \"EndTime\": 1709883144.919955, \"Dimensions\": {\"Algorithm\": \"Linear Learner\", \"Host\": \"algo-1\", \"Operation\": \"training\", \"epoch\": 18, \"model\": 6}, \"Metrics\": {\"train_absolute_loss_objective\": {\"sum\": 0.17684633731842042, \"count\": 1, \"min\": 0.17684633731842042, \"max\": 0.17684633731842042}}}\u001b[0m\n",
      "\u001b[34m#metrics {\"StartTime\": 1709883144.920008, \"EndTime\": 1709883144.9200628, \"Dimensions\": {\"Algorithm\": \"Linear Learner\", \"Host\": \"algo-1\", \"Operation\": \"training\", \"epoch\": 18, \"model\": 7}, \"Metrics\": {\"train_absolute_loss_objective\": {\"sum\": 0.17428954124450682, \"count\": 1, \"min\": 0.17428954124450682, \"max\": 0.17428954124450682}}}\u001b[0m\n",
      "\u001b[34m#metrics {\"StartTime\": 1709883144.9201283, \"EndTime\": 1709883144.920146, \"Dimensions\": {\"Algorithm\": \"Linear Learner\", \"Host\": \"algo-1\", \"Operation\": \"training\", \"epoch\": 18, \"model\": 8}, \"Metrics\": {\"train_absolute_loss_objective\": {\"sum\": 0.5903860473632813, \"count\": 1, \"min\": 0.5903860473632813, \"max\": 0.5903860473632813}}}\u001b[0m\n",
      "\u001b[34m#metrics {\"StartTime\": 1709883144.9202013, \"EndTime\": 1709883144.920216, \"Dimensions\": {\"Algorithm\": \"Linear Learner\", \"Host\": \"algo-1\", \"Operation\": \"training\", \"epoch\": 18, \"model\": 9}, \"Metrics\": {\"train_absolute_loss_objective\": {\"sum\": 0.508919734954834, \"count\": 1, \"min\": 0.508919734954834, \"max\": 0.508919734954834}}}\u001b[0m\n",
      "\u001b[34m#metrics {\"StartTime\": 1709883144.920271, \"EndTime\": 1709883144.9202864, \"Dimensions\": {\"Algorithm\": \"Linear Learner\", \"Host\": \"algo-1\", \"Operation\": \"training\", \"epoch\": 18, \"model\": 10}, \"Metrics\": {\"train_absolute_loss_objective\": {\"sum\": 0.5304191064834595, \"count\": 1, \"min\": 0.5304191064834595, \"max\": 0.5304191064834595}}}\u001b[0m\n",
      "\u001b[34m#metrics {\"StartTime\": 1709883144.9203403, \"EndTime\": 1709883144.9203558, \"Dimensions\": {\"Algorithm\": \"Linear Learner\", \"Host\": \"algo-1\", \"Operation\": \"training\", \"epoch\": 18, \"model\": 11}, \"Metrics\": {\"train_absolute_loss_objective\": {\"sum\": 0.5009666156768798, \"count\": 1, \"min\": 0.5009666156768798, \"max\": 0.5009666156768798}}}\u001b[0m\n",
      "\u001b[34m#metrics {\"StartTime\": 1709883144.9204037, \"EndTime\": 1709883144.920419, \"Dimensions\": {\"Algorithm\": \"Linear Learner\", \"Host\": \"algo-1\", \"Operation\": \"training\", \"epoch\": 18, \"model\": 12}, \"Metrics\": {\"train_absolute_loss_objective\": {\"sum\": 0.1788068175315857, \"count\": 1, \"min\": 0.1788068175315857, \"max\": 0.1788068175315857}}}\u001b[0m\n",
      "\u001b[34m#metrics {\"StartTime\": 1709883144.9204733, \"EndTime\": 1709883144.9204884, \"Dimensions\": {\"Algorithm\": \"Linear Learner\", \"Host\": \"algo-1\", \"Operation\": \"training\", \"epoch\": 18, \"model\": 13}, \"Metrics\": {\"train_absolute_loss_objective\": {\"sum\": 0.16462515830993651, \"count\": 1, \"min\": 0.16462515830993651, \"max\": 0.16462515830993651}}}\u001b[0m\n",
      "\u001b[34m#metrics {\"StartTime\": 1709883144.9205368, \"EndTime\": 1709883144.920552, \"Dimensions\": {\"Algorithm\": \"Linear Learner\", \"Host\": \"algo-1\", \"Operation\": \"training\", \"epoch\": 18, \"model\": 14}, \"Metrics\": {\"train_absolute_loss_objective\": {\"sum\": 0.17892557621002197, \"count\": 1, \"min\": 0.17892557621002197, \"max\": 0.17892557621002197}}}\u001b[0m\n",
      "\u001b[34m#metrics {\"StartTime\": 1709883144.9205987, \"EndTime\": 1709883144.9206142, \"Dimensions\": {\"Algorithm\": \"Linear Learner\", \"Host\": \"algo-1\", \"Operation\": \"training\", \"epoch\": 18, \"model\": 15}, \"Metrics\": {\"train_absolute_loss_objective\": {\"sum\": 0.19071091175079347, \"count\": 1, \"min\": 0.19071091175079347, \"max\": 0.19071091175079347}}}\u001b[0m\n",
      "\u001b[34m#metrics {\"StartTime\": 1709883144.9206662, \"EndTime\": 1709883144.9206812, \"Dimensions\": {\"Algorithm\": \"Linear Learner\", \"Host\": \"algo-1\", \"Operation\": \"training\", \"epoch\": 18, \"model\": 16}, \"Metrics\": {\"train_absolute_loss_objective\": {\"sum\": 0.5413101196289063, \"count\": 1, \"min\": 0.5413101196289063, \"max\": 0.5413101196289063}}}\u001b[0m\n",
      "\u001b[34m#metrics {\"StartTime\": 1709883144.9207292, \"EndTime\": 1709883144.920744, \"Dimensions\": {\"Algorithm\": \"Linear Learner\", \"Host\": \"algo-1\", \"Operation\": \"training\", \"epoch\": 18, \"model\": 17}, \"Metrics\": {\"train_absolute_loss_objective\": {\"sum\": 0.5758328247070312, \"count\": 1, \"min\": 0.5758328247070312, \"max\": 0.5758328247070312}}}\u001b[0m\n",
      "\u001b[34m#metrics {\"StartTime\": 1709883144.9207911, \"EndTime\": 1709883144.9208062, \"Dimensions\": {\"Algorithm\": \"Linear Learner\", \"Host\": \"algo-1\", \"Operation\": \"training\", \"epoch\": 18, \"model\": 18}, \"Metrics\": {\"train_absolute_loss_objective\": {\"sum\": 0.565473804473877, \"count\": 1, \"min\": 0.565473804473877, \"max\": 0.565473804473877}}}\u001b[0m\n",
      "\u001b[34m#metrics {\"StartTime\": 1709883144.9208593, \"EndTime\": 1709883144.9208746, \"Dimensions\": {\"Algorithm\": \"Linear Learner\", \"Host\": \"algo-1\", \"Operation\": \"training\", \"epoch\": 18, \"model\": 19}, \"Metrics\": {\"train_absolute_loss_objective\": {\"sum\": 0.5517555618286133, \"count\": 1, \"min\": 0.5517555618286133, \"max\": 0.5517555618286133}}}\u001b[0m\n",
      "\u001b[34m#metrics {\"StartTime\": 1709883144.9209294, \"EndTime\": 1709883144.920944, \"Dimensions\": {\"Algorithm\": \"Linear Learner\", \"Host\": \"algo-1\", \"Operation\": \"training\", \"epoch\": 18, \"model\": 20}, \"Metrics\": {\"train_absolute_loss_objective\": {\"sum\": 0.32363965272903444, \"count\": 1, \"min\": 0.32363965272903444, \"max\": 0.32363965272903444}}}\u001b[0m\n",
      "\u001b[34m#metrics {\"StartTime\": 1709883144.9209983, \"EndTime\": 1709883144.9210136, \"Dimensions\": {\"Algorithm\": \"Linear Learner\", \"Host\": \"algo-1\", \"Operation\": \"training\", \"epoch\": 18, \"model\": 21}, \"Metrics\": {\"train_absolute_loss_objective\": {\"sum\": 0.28716047763824465, \"count\": 1, \"min\": 0.28716047763824465, \"max\": 0.28716047763824465}}}\u001b[0m\n",
      "\u001b[34m#metrics {\"StartTime\": 1709883144.921069, \"EndTime\": 1709883144.921084, \"Dimensions\": {\"Algorithm\": \"Linear Learner\", \"Host\": \"algo-1\", \"Operation\": \"training\", \"epoch\": 18, \"model\": 22}, \"Metrics\": {\"train_absolute_loss_objective\": {\"sum\": 0.29456701278686526, \"count\": 1, \"min\": 0.29456701278686526, \"max\": 0.29456701278686526}}}\u001b[0m\n",
      "\u001b[34m#metrics {\"StartTime\": 1709883144.9211314, \"EndTime\": 1709883144.9211462, \"Dimensions\": {\"Algorithm\": \"Linear Learner\", \"Host\": \"algo-1\", \"Operation\": \"training\", \"epoch\": 18, \"model\": 23}, \"Metrics\": {\"train_absolute_loss_objective\": {\"sum\": 0.3336253571510315, \"count\": 1, \"min\": 0.3336253571510315, \"max\": 0.3336253571510315}}}\u001b[0m\n",
      "\u001b[34m#metrics {\"StartTime\": 1709883144.921202, \"EndTime\": 1709883144.921217, \"Dimensions\": {\"Algorithm\": \"Linear Learner\", \"Host\": \"algo-1\", \"Operation\": \"training\", \"epoch\": 18, \"model\": 24}, \"Metrics\": {\"train_absolute_loss_objective\": {\"sum\": 0.8975428009033203, \"count\": 1, \"min\": 0.8975428009033203, \"max\": 0.8975428009033203}}}\u001b[0m\n",
      "\u001b[34m#metrics {\"StartTime\": 1709883144.9213278, \"EndTime\": 1709883144.9213467, \"Dimensions\": {\"Algorithm\": \"Linear Learner\", \"Host\": \"algo-1\", \"Operation\": \"training\", \"epoch\": 18, \"model\": 25}, \"Metrics\": {\"train_absolute_loss_objective\": {\"sum\": 0.8977535247802735, \"count\": 1, \"min\": 0.8977535247802735, \"max\": 0.8977535247802735}}}\u001b[0m\n",
      "\u001b[34m#metrics {\"StartTime\": 1709883144.9214458, \"EndTime\": 1709883144.9214642, \"Dimensions\": {\"Algorithm\": \"Linear Learner\", \"Host\": \"algo-1\", \"Operation\": \"training\", \"epoch\": 18, \"model\": 26}, \"Metrics\": {\"train_absolute_loss_objective\": {\"sum\": 0.8976103591918946, \"count\": 1, \"min\": 0.8976103591918946, \"max\": 0.8976103591918946}}}\u001b[0m\n",
      "\u001b[34m#metrics {\"StartTime\": 1709883144.9215639, \"EndTime\": 1709883144.9215817, \"Dimensions\": {\"Algorithm\": \"Linear Learner\", \"Host\": \"algo-1\", \"Operation\": \"training\", \"epoch\": 18, \"model\": 27}, \"Metrics\": {\"train_absolute_loss_objective\": {\"sum\": 0.8974892330169678, \"count\": 1, \"min\": 0.8974892330169678, \"max\": 0.8974892330169678}}}\u001b[0m\n",
      "\u001b[34m#metrics {\"StartTime\": 1709883144.9216797, \"EndTime\": 1709883144.9216983, \"Dimensions\": {\"Algorithm\": \"Linear Learner\", \"Host\": \"algo-1\", \"Operation\": \"training\", \"epoch\": 18, \"model\": 28}, \"Metrics\": {\"train_absolute_loss_objective\": {\"sum\": 0.9380723381042481, \"count\": 1, \"min\": 0.9380723381042481, \"max\": 0.9380723381042481}}}\u001b[0m\n",
      "\u001b[34m#metrics {\"StartTime\": 1709883144.9217527, \"EndTime\": 1709883144.921768, \"Dimensions\": {\"Algorithm\": \"Linear Learner\", \"Host\": \"algo-1\", \"Operation\": \"training\", \"epoch\": 18, \"model\": 29}, \"Metrics\": {\"train_absolute_loss_objective\": {\"sum\": 0.941576156616211, \"count\": 1, \"min\": 0.941576156616211, \"max\": 0.941576156616211}}}\u001b[0m\n",
      "\u001b[34m#metrics {\"StartTime\": 1709883144.9218223, \"EndTime\": 1709883144.9218385, \"Dimensions\": {\"Algorithm\": \"Linear Learner\", \"Host\": \"algo-1\", \"Operation\": \"training\", \"epoch\": 18, \"model\": 30}, \"Metrics\": {\"train_absolute_loss_objective\": {\"sum\": 0.9381449127197266, \"count\": 1, \"min\": 0.9381449127197266, \"max\": 0.9381449127197266}}}\u001b[0m\n",
      "\u001b[34m#metrics {\"StartTime\": 1709883144.921888, \"EndTime\": 1709883144.9219034, \"Dimensions\": {\"Algorithm\": \"Linear Learner\", \"Host\": \"algo-1\", \"Operation\": \"training\", \"epoch\": 18, \"model\": 31}, \"Metrics\": {\"train_absolute_loss_objective\": {\"sum\": 0.9418058967590333, \"count\": 1, \"min\": 0.9418058967590333, \"max\": 0.9418058967590333}}}\u001b[0m\n",
      "\u001b[34m[03/08/2024 07:32:24 INFO 140046607693632] #quality_metric: host=algo-1, epoch=18, train absolute_loss_objective <loss>=0.5352660465240479\u001b[0m\n",
      "\u001b[34m[03/08/2024 07:32:24 INFO 140046607693632] #early_stopping_criteria_metric: host=algo-1, epoch=18, criteria=absolute_loss_objective, value=0.16462515830993651\u001b[0m\n",
      "\u001b[34m[03/08/2024 07:32:24 INFO 140046607693632] Saving model for epoch: 18\u001b[0m\n",
      "\u001b[34m[03/08/2024 07:32:24 INFO 140046607693632] Saved checkpoint to \"/tmp/tmpujmu5tqq/mx-mod-0000.params\"\u001b[0m\n",
      "\u001b[34m[03/08/2024 07:32:24 INFO 140046607693632] #progress_metric: host=algo-1, completed 38.0 % of epochs\u001b[0m\n",
      "\u001b[34m#metrics {\"StartTime\": 1709883144.783713, \"EndTime\": 1709883144.9299452, \"Dimensions\": {\"Algorithm\": \"Linear Learner\", \"Host\": \"algo-1\", \"Operation\": \"training\", \"epoch\": 18, \"Meta\": \"training_data_iter\"}, \"Metrics\": {\"Total Records Seen\": {\"sum\": 565.0, \"count\": 1, \"min\": 565, \"max\": 565}, \"Total Batches Seen\": {\"sum\": 121.0, \"count\": 1, \"min\": 121, \"max\": 121}, \"Max Records Seen Between Resets\": {\"sum\": 28.0, \"count\": 1, \"min\": 28, \"max\": 28}, \"Max Batches Seen Between Resets\": {\"sum\": 6.0, \"count\": 1, \"min\": 6, \"max\": 6}, \"Reset Count\": {\"sum\": 21.0, \"count\": 1, \"min\": 21, \"max\": 21}, \"Number of Records Since Last Reset\": {\"sum\": 28.0, \"count\": 1, \"min\": 28, \"max\": 28}, \"Number of Batches Since Last Reset\": {\"sum\": 6.0, \"count\": 1, \"min\": 6, \"max\": 6}}}\u001b[0m\n",
      "\u001b[34m[03/08/2024 07:32:24 INFO 140046607693632] #throughput_metric: host=algo-1, train throughput=191.2926892435795 records/second\u001b[0m\n",
      "\u001b[34m[2024-03-08 07:32:25.043] [tensorio] [info] epoch_stats={\"data_pipeline\": \"/opt/ml/input/data/train\", \"epoch\": 42, \"duration\": 113, \"num_examples\": 6, \"num_bytes\": 1344}\u001b[0m\n",
      "\u001b[34m#metrics {\"StartTime\": 1709883145.0440948, \"EndTime\": 1709883145.044186, \"Dimensions\": {\"Algorithm\": \"Linear Learner\", \"Host\": \"algo-1\", \"Operation\": \"training\", \"epoch\": 19, \"model\": 0}, \"Metrics\": {\"train_absolute_loss_objective\": {\"sum\": 0.5160884284973144, \"count\": 1, \"min\": 0.5160884284973144, \"max\": 0.5160884284973144}}}\u001b[0m\n",
      "\u001b[34m#metrics {\"StartTime\": 1709883145.04434, \"EndTime\": 1709883145.044362, \"Dimensions\": {\"Algorithm\": \"Linear Learner\", \"Host\": \"algo-1\", \"Operation\": \"training\", \"epoch\": 19, \"model\": 1}, \"Metrics\": {\"train_absolute_loss_objective\": {\"sum\": 0.5194821357727051, \"count\": 1, \"min\": 0.5194821357727051, \"max\": 0.5194821357727051}}}\u001b[0m\n",
      "\u001b[34m#metrics {\"StartTime\": 1709883145.0444567, \"EndTime\": 1709883145.0444758, \"Dimensions\": {\"Algorithm\": \"Linear Learner\", \"Host\": \"algo-1\", \"Operation\": \"training\", \"epoch\": 19, \"model\": 2}, \"Metrics\": {\"train_absolute_loss_objective\": {\"sum\": 0.5184528875350952, \"count\": 1, \"min\": 0.5184528875350952, \"max\": 0.5184528875350952}}}\u001b[0m\n",
      "\u001b[34m#metrics {\"StartTime\": 1709883145.0445845, \"EndTime\": 1709883145.0446038, \"Dimensions\": {\"Algorithm\": \"Linear Learner\", \"Host\": \"algo-1\", \"Operation\": \"training\", \"epoch\": 19, \"model\": 3}, \"Metrics\": {\"train_absolute_loss_objective\": {\"sum\": 0.518491177558899, \"count\": 1, \"min\": 0.518491177558899, \"max\": 0.518491177558899}}}\u001b[0m\n",
      "\u001b[34m#metrics {\"StartTime\": 1709883145.044695, \"EndTime\": 1709883145.0447137, \"Dimensions\": {\"Algorithm\": \"Linear Learner\", \"Host\": \"algo-1\", \"Operation\": \"training\", \"epoch\": 19, \"model\": 4}, \"Metrics\": {\"train_absolute_loss_objective\": {\"sum\": 0.28634875774383545, \"count\": 1, \"min\": 0.28634875774383545, \"max\": 0.28634875774383545}}}\u001b[0m\n",
      "\u001b[34m#metrics {\"StartTime\": 1709883145.0448117, \"EndTime\": 1709883145.044831, \"Dimensions\": {\"Algorithm\": \"Linear Learner\", \"Host\": \"algo-1\", \"Operation\": \"training\", \"epoch\": 19, \"model\": 5}, \"Metrics\": {\"train_absolute_loss_objective\": {\"sum\": 0.1758337926864624, \"count\": 1, \"min\": 0.1758337926864624, \"max\": 0.1758337926864624}}}\u001b[0m\n",
      "\u001b[34m#metrics {\"StartTime\": 1709883145.0449126, \"EndTime\": 1709883145.0449278, \"Dimensions\": {\"Algorithm\": \"Linear Learner\", \"Host\": \"algo-1\", \"Operation\": \"training\", \"epoch\": 19, \"model\": 6}, \"Metrics\": {\"train_absolute_loss_objective\": {\"sum\": 0.21750343322753907, \"count\": 1, \"min\": 0.21750343322753907, \"max\": 0.21750343322753907}}}\u001b[0m\n",
      "\u001b[34m#metrics {\"StartTime\": 1709883145.0450282, \"EndTime\": 1709883145.045042, \"Dimensions\": {\"Algorithm\": \"Linear Learner\", \"Host\": \"algo-1\", \"Operation\": \"training\", \"epoch\": 19, \"model\": 7}, \"Metrics\": {\"train_absolute_loss_objective\": {\"sum\": 0.24134066820144653, \"count\": 1, \"min\": 0.24134066820144653, \"max\": 0.24134066820144653}}}\u001b[0m\n",
      "\u001b[34m#metrics {\"StartTime\": 1709883145.0450847, \"EndTime\": 1709883145.045099, \"Dimensions\": {\"Algorithm\": \"Linear Learner\", \"Host\": \"algo-1\", \"Operation\": \"training\", \"epoch\": 19, \"model\": 8}, \"Metrics\": {\"train_absolute_loss_objective\": {\"sum\": 0.5711309242248536, \"count\": 1, \"min\": 0.5711309242248536, \"max\": 0.5711309242248536}}}\u001b[0m\n",
      "\u001b[34m#metrics {\"StartTime\": 1709883145.0451455, \"EndTime\": 1709883145.0451605, \"Dimensions\": {\"Algorithm\": \"Linear Learner\", \"Host\": \"algo-1\", \"Operation\": \"training\", \"epoch\": 19, \"model\": 9}, \"Metrics\": {\"train_absolute_loss_objective\": {\"sum\": 0.48808549880981444, \"count\": 1, \"min\": 0.48808549880981444, \"max\": 0.48808549880981444}}}\u001b[0m\n",
      "\u001b[34m#metrics {\"StartTime\": 1709883145.0452, \"EndTime\": 1709883145.045215, \"Dimensions\": {\"Algorithm\": \"Linear Learner\", \"Host\": \"algo-1\", \"Operation\": \"training\", \"epoch\": 19, \"model\": 10}, \"Metrics\": {\"train_absolute_loss_objective\": {\"sum\": 0.5113844013214112, \"count\": 1, \"min\": 0.5113844013214112, \"max\": 0.5113844013214112}}}\u001b[0m\n",
      "\u001b[34m#metrics {\"StartTime\": 1709883145.045255, \"EndTime\": 1709883145.0452693, \"Dimensions\": {\"Algorithm\": \"Linear Learner\", \"Host\": \"algo-1\", \"Operation\": \"training\", \"epoch\": 19, \"model\": 11}, \"Metrics\": {\"train_absolute_loss_objective\": {\"sum\": 0.48013251781463623, \"count\": 1, \"min\": 0.48013251781463623, \"max\": 0.48013251781463623}}}\u001b[0m\n",
      "\u001b[34m#metrics {\"StartTime\": 1709883145.0453103, \"EndTime\": 1709883145.0453248, \"Dimensions\": {\"Algorithm\": \"Linear Learner\", \"Host\": \"algo-1\", \"Operation\": \"training\", \"epoch\": 19, \"model\": 12}, \"Metrics\": {\"train_absolute_loss_objective\": {\"sum\": 0.21365221738815307, \"count\": 1, \"min\": 0.21365221738815307, \"max\": 0.21365221738815307}}}\u001b[0m\n",
      "\u001b[34m#metrics {\"StartTime\": 1709883145.0453634, \"EndTime\": 1709883145.0453775, \"Dimensions\": {\"Algorithm\": \"Linear Learner\", \"Host\": \"algo-1\", \"Operation\": \"training\", \"epoch\": 19, \"model\": 13}, \"Metrics\": {\"train_absolute_loss_objective\": {\"sum\": 0.1916675877571106, \"count\": 1, \"min\": 0.1916675877571106, \"max\": 0.1916675877571106}}}\u001b[0m\n",
      "\u001b[34m#metrics {\"StartTime\": 1709883145.0454178, \"EndTime\": 1709883145.0454311, \"Dimensions\": {\"Algorithm\": \"Linear Learner\", \"Host\": \"algo-1\", \"Operation\": \"training\", \"epoch\": 19, \"model\": 14}, \"Metrics\": {\"train_absolute_loss_objective\": {\"sum\": 0.2137758255004883, \"count\": 1, \"min\": 0.2137758255004883, \"max\": 0.2137758255004883}}}\u001b[0m\n",
      "\u001b[34m#metrics {\"StartTime\": 1709883145.0454743, \"EndTime\": 1709883145.0454886, \"Dimensions\": {\"Algorithm\": \"Linear Learner\", \"Host\": \"algo-1\", \"Operation\": \"training\", \"epoch\": 19, \"model\": 15}, \"Metrics\": {\"train_absolute_loss_objective\": {\"sum\": 0.21412752628326415, \"count\": 1, \"min\": 0.21412752628326415, \"max\": 0.21412752628326415}}}\u001b[0m\n",
      "\u001b[34m#metrics {\"StartTime\": 1709883145.0455282, \"EndTime\": 1709883145.0455425, \"Dimensions\": {\"Algorithm\": \"Linear Learner\", \"Host\": \"algo-1\", \"Operation\": \"training\", \"epoch\": 19, \"model\": 16}, \"Metrics\": {\"train_absolute_loss_objective\": {\"sum\": 0.5273979663848877, \"count\": 1, \"min\": 0.5273979663848877, \"max\": 0.5273979663848877}}}\u001b[0m\n",
      "\u001b[34m#metrics {\"StartTime\": 1709883145.0455804, \"EndTime\": 1709883145.0455947, \"Dimensions\": {\"Algorithm\": \"Linear Learner\", \"Host\": \"algo-1\", \"Operation\": \"training\", \"epoch\": 19, \"model\": 17}, \"Metrics\": {\"train_absolute_loss_objective\": {\"sum\": 0.5601982212066651, \"count\": 1, \"min\": 0.5601982212066651, \"max\": 0.5601982212066651}}}\u001b[0m\n",
      "\u001b[34m#metrics {\"StartTime\": 1709883145.045638, \"EndTime\": 1709883145.0456524, \"Dimensions\": {\"Algorithm\": \"Linear Learner\", \"Host\": \"algo-1\", \"Operation\": \"training\", \"epoch\": 19, \"model\": 18}, \"Metrics\": {\"train_absolute_loss_objective\": {\"sum\": 0.5511033916473389, \"count\": 1, \"min\": 0.5511033916473389, \"max\": 0.5511033916473389}}}\u001b[0m\n",
      "\u001b[34m#metrics {\"StartTime\": 1709883145.0457053, \"EndTime\": 1709883145.0457218, \"Dimensions\": {\"Algorithm\": \"Linear Learner\", \"Host\": \"algo-1\", \"Operation\": \"training\", \"epoch\": 19, \"model\": 19}, \"Metrics\": {\"train_absolute_loss_objective\": {\"sum\": 0.5366598224639892, \"count\": 1, \"min\": 0.5366598224639892, \"max\": 0.5366598224639892}}}\u001b[0m\n",
      "\u001b[34m#metrics {\"StartTime\": 1709883145.04578, \"EndTime\": 1709883145.0457962, \"Dimensions\": {\"Algorithm\": \"Linear Learner\", \"Host\": \"algo-1\", \"Operation\": \"training\", \"epoch\": 19, \"model\": 20}, \"Metrics\": {\"train_absolute_loss_objective\": {\"sum\": 0.3396271181106567, \"count\": 1, \"min\": 0.3396271181106567, \"max\": 0.3396271181106567}}}\u001b[0m\n",
      "\u001b[34m#metrics {\"StartTime\": 1709883145.0458527, \"EndTime\": 1709883145.0458684, \"Dimensions\": {\"Algorithm\": \"Linear Learner\", \"Host\": \"algo-1\", \"Operation\": \"training\", \"epoch\": 19, \"model\": 21}, \"Metrics\": {\"train_absolute_loss_objective\": {\"sum\": 0.2930231761932373, \"count\": 1, \"min\": 0.2930231761932373, \"max\": 0.2930231761932373}}}\u001b[0m\n",
      "\u001b[34m#metrics {\"StartTime\": 1709883145.0459235, \"EndTime\": 1709883145.0459402, \"Dimensions\": {\"Algorithm\": \"Linear Learner\", \"Host\": \"algo-1\", \"Operation\": \"training\", \"epoch\": 19, \"model\": 22}, \"Metrics\": {\"train_absolute_loss_objective\": {\"sum\": 0.2868460726737976, \"count\": 1, \"min\": 0.2868460726737976, \"max\": 0.2868460726737976}}}\u001b[0m\n",
      "\u001b[34m#metrics {\"StartTime\": 1709883145.0459867, \"EndTime\": 1709883145.0460014, \"Dimensions\": {\"Algorithm\": \"Linear Learner\", \"Host\": \"algo-1\", \"Operation\": \"training\", \"epoch\": 19, \"model\": 23}, \"Metrics\": {\"train_absolute_loss_objective\": {\"sum\": 0.3115299081802368, \"count\": 1, \"min\": 0.3115299081802368, \"max\": 0.3115299081802368}}}\u001b[0m\n",
      "\u001b[34m#metrics {\"StartTime\": 1709883145.0460565, \"EndTime\": 1709883145.0460732, \"Dimensions\": {\"Algorithm\": \"Linear Learner\", \"Host\": \"algo-1\", \"Operation\": \"training\", \"epoch\": 19, \"model\": 24}, \"Metrics\": {\"train_absolute_loss_objective\": {\"sum\": 0.8970885181427002, \"count\": 1, \"min\": 0.8970885181427002, \"max\": 0.8970885181427002}}}\u001b[0m\n",
      "\u001b[34m#metrics {\"StartTime\": 1709883145.0461292, \"EndTime\": 1709883145.046145, \"Dimensions\": {\"Algorithm\": \"Linear Learner\", \"Host\": \"algo-1\", \"Operation\": \"training\", \"epoch\": 19, \"model\": 25}, \"Metrics\": {\"train_absolute_loss_objective\": {\"sum\": 0.897308349609375, \"count\": 1, \"min\": 0.897308349609375, \"max\": 0.897308349609375}}}\u001b[0m\n",
      "\u001b[34m#metrics {\"StartTime\": 1709883145.0462, \"EndTime\": 1709883145.0462165, \"Dimensions\": {\"Algorithm\": \"Linear Learner\", \"Host\": \"algo-1\", \"Operation\": \"training\", \"epoch\": 19, \"model\": 26}, \"Metrics\": {\"train_absolute_loss_objective\": {\"sum\": 0.8969433784484864, \"count\": 1, \"min\": 0.8969433784484864, \"max\": 0.8969433784484864}}}\u001b[0m\n",
      "\u001b[34m#metrics {\"StartTime\": 1709883145.04627, \"EndTime\": 1709883145.0462854, \"Dimensions\": {\"Algorithm\": \"Linear Learner\", \"Host\": \"algo-1\", \"Operation\": \"training\", \"epoch\": 19, \"model\": 27}, \"Metrics\": {\"train_absolute_loss_objective\": {\"sum\": 0.8972575950622559, \"count\": 1, \"min\": 0.8972575950622559, \"max\": 0.8972575950622559}}}\u001b[0m\n",
      "\u001b[34m#metrics {\"StartTime\": 1709883145.0463367, \"EndTime\": 1709883145.046351, \"Dimensions\": {\"Algorithm\": \"Linear Learner\", \"Host\": \"algo-1\", \"Operation\": \"training\", \"epoch\": 19, \"model\": 28}, \"Metrics\": {\"train_absolute_loss_objective\": {\"sum\": 0.9322540855407715, \"count\": 1, \"min\": 0.9322540855407715, \"max\": 0.9322540855407715}}}\u001b[0m\n",
      "\u001b[34m#metrics {\"StartTime\": 1709883145.0464056, \"EndTime\": 1709883145.0464218, \"Dimensions\": {\"Algorithm\": \"Linear Learner\", \"Host\": \"algo-1\", \"Operation\": \"training\", \"epoch\": 19, \"model\": 29}, \"Metrics\": {\"train_absolute_loss_objective\": {\"sum\": 0.9354252338409423, \"count\": 1, \"min\": 0.9354252338409423, \"max\": 0.9354252338409423}}}\u001b[0m\n",
      "\u001b[34m#metrics {\"StartTime\": 1709883145.0464694, \"EndTime\": 1709883145.0464835, \"Dimensions\": {\"Algorithm\": \"Linear Learner\", \"Host\": \"algo-1\", \"Operation\": \"training\", \"epoch\": 19, \"model\": 30}, \"Metrics\": {\"train_absolute_loss_objective\": {\"sum\": 0.9318492221832275, \"count\": 1, \"min\": 0.9318492221832275, \"max\": 0.9318492221832275}}}\u001b[0m\n",
      "\u001b[34m#metrics {\"StartTime\": 1709883145.046563, \"EndTime\": 1709883145.0465796, \"Dimensions\": {\"Algorithm\": \"Linear Learner\", \"Host\": \"algo-1\", \"Operation\": \"training\", \"epoch\": 19, \"model\": 31}, \"Metrics\": {\"train_absolute_loss_objective\": {\"sum\": 0.9353505992889404, \"count\": 1, \"min\": 0.9353505992889404, \"max\": 0.9353505992889404}}}\u001b[0m\n",
      "\u001b[34m[03/08/2024 07:32:25 INFO 140046607693632] #quality_metric: host=algo-1, epoch=19, train absolute_loss_objective <loss>=0.5160884284973144\u001b[0m\n",
      "\u001b[34m[03/08/2024 07:32:25 INFO 140046607693632] #early_stopping_criteria_metric: host=algo-1, epoch=19, criteria=absolute_loss_objective, value=0.1758337926864624\u001b[0m\n",
      "\u001b[34m[03/08/2024 07:32:25 INFO 140046607693632] Saving model for epoch: 19\u001b[0m\n",
      "\u001b[34m[03/08/2024 07:32:25 INFO 140046607693632] Saved checkpoint to \"/tmp/tmphxm6_nej/mx-mod-0000.params\"\u001b[0m\n",
      "\u001b[34m[03/08/2024 07:32:25 INFO 140046607693632] Early stop condition met. Stopping training.\u001b[0m\n",
      "\u001b[34m[03/08/2024 07:32:25 INFO 140046607693632] #progress_metric: host=algo-1, completed 100 % epochs\u001b[0m\n",
      "\u001b[34m#metrics {\"StartTime\": 1709883144.9302576, \"EndTime\": 1709883145.0561733, \"Dimensions\": {\"Algorithm\": \"Linear Learner\", \"Host\": \"algo-1\", \"Operation\": \"training\", \"epoch\": 19, \"Meta\": \"training_data_iter\"}, \"Metrics\": {\"Total Records Seen\": {\"sum\": 593.0, \"count\": 1, \"min\": 593, \"max\": 593}, \"Total Batches Seen\": {\"sum\": 127.0, \"count\": 1, \"min\": 127, \"max\": 127}, \"Max Records Seen Between Resets\": {\"sum\": 28.0, \"count\": 1, \"min\": 28, \"max\": 28}, \"Max Batches Seen Between Resets\": {\"sum\": 6.0, \"count\": 1, \"min\": 6, \"max\": 6}, \"Reset Count\": {\"sum\": 22.0, \"count\": 1, \"min\": 22, \"max\": 22}, \"Number of Records Since Last Reset\": {\"sum\": 28.0, \"count\": 1, \"min\": 28, \"max\": 28}, \"Number of Batches Since Last Reset\": {\"sum\": 6.0, \"count\": 1, \"min\": 6, \"max\": 6}}}\u001b[0m\n",
      "\u001b[34m[03/08/2024 07:32:25 INFO 140046607693632] #throughput_metric: host=algo-1, train throughput=222.11139564176372 records/second\u001b[0m\n",
      "\u001b[34m[03/08/2024 07:32:25 WARNING 140046607693632] wait_for_all_workers will not sync workers since the kv store is not running distributed\u001b[0m\n",
      "\u001b[34m[03/08/2024 07:32:25 WARNING 140046607693632] wait_for_all_workers will not sync workers since the kv store is not running distributed\u001b[0m\n",
      "\u001b[34m[2024-03-08 07:32:25.057] [tensorio] [info] epoch_stats={\"data_pipeline\": \"/opt/ml/input/data/train\", \"epoch\": 44, \"duration\": 0, \"num_examples\": 1, \"num_bytes\": 240}\u001b[0m\n",
      "\u001b[34m[2024-03-08 07:32:25.081] [tensorio] [info] epoch_stats={\"data_pipeline\": \"/opt/ml/input/data/train\", \"epoch\": 46, \"duration\": 11, \"num_examples\": 6, \"num_bytes\": 1344}\u001b[0m\n",
      "\u001b[34m[03/08/2024 07:32:25 INFO 140046607693632] #train_score (algo-1) : ('absolute_loss_objective', 5294.995675223215)\u001b[0m\n",
      "\u001b[34m[03/08/2024 07:32:25 INFO 140046607693632] #train_score (algo-1) : ('mse', 40580398.571428575)\u001b[0m\n",
      "\u001b[34m[03/08/2024 07:32:25 INFO 140046607693632] #train_score (algo-1) : ('absolute_loss', 5294.995675223215)\u001b[0m\n",
      "\u001b[34m[03/08/2024 07:32:25 INFO 140046607693632] #train_score (algo-1) : ('rmse', 6370.2746072228765)\u001b[0m\n",
      "\u001b[34m[03/08/2024 07:32:25 INFO 140046607693632] #train_score (algo-1) : ('r2', 0.9600288470875734)\u001b[0m\n",
      "\u001b[34m[03/08/2024 07:32:25 INFO 140046607693632] #train_score (algo-1) : ('mae', 5294.995675223215)\u001b[0m\n",
      "\u001b[34m[03/08/2024 07:32:25 INFO 140046607693632] #quality_metric: host=algo-1, train absolute_loss_objective <loss>=5294.995675223215\u001b[0m\n",
      "\u001b[34m[03/08/2024 07:32:25 INFO 140046607693632] #quality_metric: host=algo-1, train mse <loss>=40580398.571428575\u001b[0m\n",
      "\u001b[34m[03/08/2024 07:32:25 INFO 140046607693632] #quality_metric: host=algo-1, train absolute_loss <loss>=5294.995675223215\u001b[0m\n",
      "\u001b[34m[03/08/2024 07:32:25 INFO 140046607693632] #quality_metric: host=algo-1, train rmse <loss>=6370.2746072228765\u001b[0m\n",
      "\u001b[34m[03/08/2024 07:32:25 INFO 140046607693632] #quality_metric: host=algo-1, train r2 <loss>=0.9600288470875734\u001b[0m\n",
      "\u001b[34m[03/08/2024 07:32:25 INFO 140046607693632] #quality_metric: host=algo-1, train mae <loss>=5294.995675223215\u001b[0m\n",
      "\u001b[34m[03/08/2024 07:32:25 INFO 140046607693632] Best model found for hyperparameters: {\"optimizer\": \"adam\", \"learning_rate\": 0.1, \"wd\": 0.01, \"l1\": 0.0, \"lr_scheduler_step\": 100, \"lr_scheduler_factor\": 0.99, \"lr_scheduler_minimum_lr\": 0.0001}\u001b[0m\n",
      "\u001b[34m[03/08/2024 07:32:25 INFO 140046607693632] Saved checkpoint to \"/tmp/tmpac3ay6g6/mx-mod-0000.params\"\u001b[0m\n",
      "\u001b[34m[03/08/2024 07:32:25 INFO 140046607693632] Test data is not provided.\u001b[0m\n",
      "\u001b[34m#metrics {\"StartTime\": 1709883142.5453084, \"EndTime\": 1709883145.0894167, \"Dimensions\": {\"Algorithm\": \"Linear Learner\", \"Host\": \"algo-1\", \"Operation\": \"training\"}, \"Metrics\": {\"initialize.time\": {\"sum\": 153.5494327545166, \"count\": 1, \"min\": 153.5494327545166, \"max\": 153.5494327545166}, \"epochs\": {\"sum\": 50.0, \"count\": 1, \"min\": 50, \"max\": 50}, \"check_early_stopping.time\": {\"sum\": 12.365341186523438, \"count\": 20, \"min\": 0.1819133758544922, \"max\": 1.332998275756836}, \"update.time\": {\"sum\": 2291.567325592041, \"count\": 20, \"min\": 90.12842178344727, \"max\": 146.5897560119629}, \"finalize.time\": {\"sum\": 26.94845199584961, \"count\": 1, \"min\": 26.94845199584961, \"max\": 26.94845199584961}, \"setuptime\": {\"sum\": 2.0673274993896484, \"count\": 1, \"min\": 2.0673274993896484, \"max\": 2.0673274993896484}, \"totaltime\": {\"sum\": 2650.5351066589355, \"count\": 1, \"min\": 2650.5351066589355, \"max\": 2650.5351066589355}}}\u001b[0m\n",
      "\n",
      "2024-03-08 07:32:44 Uploading - Uploading generated training model\n",
      "2024-03-08 07:32:44 Completed - Training job completed\n",
      "Training seconds: 142\n",
      "Billable seconds: 61\n",
      "Managed Spot Training savings: 57.0%\n"
     ]
    }
   ],
   "source": [
    "linear = sagemaker.estimator.Estimator(container,\n",
    "                                       role, \n",
    "                                       instance_count = 1, \n",
    "                                       instance_type = 'ml.c4.xlarge',\n",
    "                                       output_path = output_location,\n",
    "                                       sagemaker_session = sagemaker_session,\n",
    "                                       use_spot_instances = True,\n",
    "                                       max_run = 300,\n",
    "                                       max_wait = 600)\n",
    "\n",
    "\n",
    "# Tune parameters like the number of features that are passed in, type of predictor like 'regressor' or 'classifier', mini batch size, epochs\n",
    "# Train 32 different versions of the model and get the best out of them (built-in parameters optimization!)\n",
    "\n",
    "linear.set_hyperparameters(feature_dim = 1,\n",
    "                           predictor_type = 'regressor',\n",
    "                           mini_batch_size = 5,\n",
    "                           epochs = 50,\n",
    "                           num_models = 32,\n",
    "                           loss = 'absolute_loss')\n",
    "\n",
    "# Pass in the training data from S3 to train the linear learner model\n",
    "\n",
    "linear.fit({'train': s3_train_data})\n",
    "\n",
    "# The progress can be monitored in cloudwatch logs"
   ]
  },
  {
   "cell_type": "markdown",
   "metadata": {},
   "source": [
    "# TASK #8: DEPLOY AND TEST THE TRAINED LINEAR LEARNER MODEL "
   ]
  },
  {
   "cell_type": "code",
   "execution_count": 47,
   "metadata": {
    "tags": []
   },
   "outputs": [
    {
     "name": "stderr",
     "output_type": "stream",
     "text": [
      "INFO:sagemaker:Creating model with name: linear-learner-2024-03-08-07-40-39-162\n",
      "INFO:sagemaker:Creating endpoint-config with name linear-learner-2024-03-08-07-40-39-162\n",
      "INFO:sagemaker:Creating endpoint with name linear-learner-2024-03-08-07-40-39-162\n"
     ]
    },
    {
     "name": "stdout",
     "output_type": "stream",
     "text": [
      "-------!"
     ]
    }
   ],
   "source": [
    "# Deploying the model to perform inference\n",
    "\n",
    "linear_regressor = linear.deploy(initial_instance_count = 1,\n",
    "                                          instance_type = 'ml.m4.xlarge')"
   ]
  },
  {
   "cell_type": "code",
   "execution_count": 55,
   "metadata": {
    "tags": []
   },
   "outputs": [],
   "source": [
    "# for serializing data for an inference endpoint\n",
    "from sagemaker.serializers import CSVSerializer\n",
    "\n",
    "# for deserializing data returned from an inference endpoint\n",
    "from sagemaker.deserializers import JSONDeserializer\n",
    "\n",
    "from sagemaker.predictor import Predictor\n",
    "\n",
    "predictor = Predictor(endpoint_name='linear-learner-2024-03-08-07-40-39-162',\n",
    "\n",
    "                      sagemaker_session=Session(),\n",
    "\n",
    "                      serializer=CSVSerializer(), # Serialize data to a CSV-formatted string\n",
    "\n",
    "                      deserializer=JSONDeserializer())# Deserialize JSON data from an inference endpoint into a Python object."
   ]
  },
  {
   "cell_type": "code",
   "execution_count": 56,
   "metadata": {
    "tags": []
   },
   "outputs": [],
   "source": [
    "# making prediction on the test data\n",
    "\n",
    "result = predictor.predict(X_test)"
   ]
  },
  {
   "cell_type": "code",
   "execution_count": 57,
   "metadata": {
    "tags": []
   },
   "outputs": [
    {
     "data": {
      "text/plain": [
       "{'predictions': [{'score': 128944.28125},\n",
       "  {'score': 73498.25},\n",
       "  {'score': 135665.0},\n",
       "  {'score': 89459.984375},\n",
       "  {'score': 49135.59375},\n",
       "  {'score': 70137.875},\n",
       "  {'score': 65097.33203125}]}"
      ]
     },
     "execution_count": 57,
     "metadata": {},
     "output_type": "execute_result"
    }
   ],
   "source": [
    "result # results are in Json format"
   ]
  },
  {
   "cell_type": "code",
   "execution_count": 58,
   "metadata": {
    "tags": []
   },
   "outputs": [],
   "source": [
    "# Since the result is in json format, we access the scores by iterating through the scores in the predictions\n",
    "\n",
    "predictions = np.array([r['score'] for r in result['predictions']])"
   ]
  },
  {
   "cell_type": "code",
   "execution_count": 59,
   "metadata": {
    "tags": []
   },
   "outputs": [
    {
     "data": {
      "text/plain": [
       "array([128944.28125   ,  73498.25      , 135665.        ,  89459.984375  ,\n",
       "        49135.59375   ,  70137.875     ,  65097.33203125])"
      ]
     },
     "execution_count": 59,
     "metadata": {},
     "output_type": "execute_result"
    }
   ],
   "source": [
    "predictions"
   ]
  },
  {
   "cell_type": "code",
   "execution_count": 60,
   "metadata": {
    "scrolled": true,
    "tags": []
   },
   "outputs": [
    {
     "data": {
      "text/plain": [
       "(7,)"
      ]
     },
     "execution_count": 60,
     "metadata": {},
     "output_type": "execute_result"
    }
   ],
   "source": [
    "predictions.shape"
   ]
  },
  {
   "cell_type": "code",
   "execution_count": 61,
   "metadata": {
    "tags": []
   },
   "outputs": [
    {
     "data": {
      "text/plain": [
       "Text(0.5, 1.0, 'Salary vs. Years of Experience')"
      ]
     },
     "execution_count": 61,
     "metadata": {},
     "output_type": "execute_result"
    },
    {
     "data": {
      "image/png": "[encoded data removed]",
      "text/plain": [
       "<Figure size 640x480 with 1 Axes>"
      ]
     },
     "metadata": {},
     "output_type": "display_data"
    }
   ],
   "source": [
    "# VISUALIZE TEST SET RESULTS\n",
    "plt.scatter(X_test, y_test, color = 'gray')\n",
    "plt.plot(X_test, predictions, color = 'red')\n",
    "plt.xlabel('Years of Experience (Testing Dataset)')\n",
    "plt.ylabel('salary')\n",
    "plt.title('Salary vs. Years of Experience')"
   ]
  },
  {
   "cell_type": "code",
   "execution_count": 62,
   "metadata": {
    "tags": []
   },
   "outputs": [
    {
     "name": "stderr",
     "output_type": "stream",
     "text": [
      "INFO:sagemaker:Deleting endpoint configuration with name: linear-learner-2024-03-08-07-40-39-162\n",
      "INFO:sagemaker:Deleting endpoint with name: linear-learner-2024-03-08-07-40-39-162\n"
     ]
    }
   ],
   "source": [
    "# Delete the end-point\n",
    "\n",
    "linear_regressor.delete_endpoint()"
   ]
  }
 ],
 "metadata": {
  "colab": {
   "collapsed_sections": [],
   "name": "Graduate_Admission_Prediction.ipynb",
   "provenance": [],
   "toc_visible": true
  },
  "instance_type": "ml.t3.medium",
  "kernelspec": {
   "display_name": "conda_python3",
   "language": "python",
   "name": "conda_python3"
  },
  "language_info": {
   "codemirror_mode": {
    "name": "ipython",
    "version": 3
   },
   "file_extension": ".py",
   "mimetype": "text/x-python",
   "name": "python",
   "nbconvert_exporter": "python",
   "pygments_lexer": "ipython3",
   "version": "3.10.13"
  }
 },
 "nbformat": 4,
 "nbformat_minor": 4
}

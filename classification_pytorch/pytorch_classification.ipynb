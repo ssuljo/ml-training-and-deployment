{
  "nbformat": 4,
  "nbformat_minor": 0,
  "metadata": {
    "colab": {
      "provenance": [],
      "gpuType": "T4"
    },
    "kernelspec": {
      "name": "python3",
      "display_name": "Python 3"
    },
    "language_info": {
      "name": "python"
    },
    "accelerator": "GPU"
  },
  "cells": [
    {
      "cell_type": "code",
      "execution_count": null,
      "metadata": {
        "id": "ZJdhuCrrsk9P"
      },
      "outputs": [],
      "source": [
        "import sklearn\n",
        "import numpy as np\n",
        "import torch\n",
        "from torch import nn\n"
      ]
    },
    {
      "cell_type": "code",
      "source": [
        "torch.manual_seed(42)\n",
        "torch.cuda.manual_seed(42)"
      ],
      "metadata": {
        "id": "dHK6pyqaz26W"
      },
      "execution_count": null,
      "outputs": []
    },
    {
      "cell_type": "code",
      "source": [
        "from sklearn.datasets import make_circles\n",
        "\n",
        "n_samples = 3000\n",
        "\n",
        "X, y = make_circles(n_samples=n_samples, noise=0.03, random_state=42)"
      ],
      "metadata": {
        "id": "6I_9EcL6s2op"
      },
      "execution_count": null,
      "outputs": []
    },
    {
      "cell_type": "code",
      "source": [
        "X.shape, y.shape"
      ],
      "metadata": {
        "colab": {
          "base_uri": "https://localhost:8080/"
        },
        "id": "qlesefN-tC7z",
        "outputId": "1f8b43ee-3cf0-4840-9674-5bbee2faa8d2"
      },
      "execution_count": null,
      "outputs": [
        {
          "output_type": "execute_result",
          "data": {
            "text/plain": [
              "((3000, 2), (3000,))"
            ]
          },
          "metadata": {},
          "execution_count": 139
        }
      ]
    },
    {
      "cell_type": "code",
      "source": [
        "len(X),len(y)"
      ],
      "metadata": {
        "colab": {
          "base_uri": "https://localhost:8080/"
        },
        "id": "iOIhgNittFRH",
        "outputId": "1882e27d-30d2-4d87-9285-a58c45f4a393"
      },
      "execution_count": null,
      "outputs": [
        {
          "output_type": "execute_result",
          "data": {
            "text/plain": [
              "(3000, 3000)"
            ]
          },
          "metadata": {},
          "execution_count": 140
        }
      ]
    },
    {
      "cell_type": "code",
      "source": [
        "print(f'First 5 samples of X: {X[:5]}')\n",
        "print(f'First 5 samples of y: {y[:5]}')"
      ],
      "metadata": {
        "colab": {
          "base_uri": "https://localhost:8080/"
        },
        "id": "kIniLr9VtwIR",
        "outputId": "ee0d3522-be91-4bc2-9437-3d0e8352f044"
      },
      "execution_count": null,
      "outputs": [
        {
          "output_type": "stream",
          "name": "stdout",
          "text": [
            "First 5 samples of X: [[ 0.20461446  0.7444964 ]\n",
            " [ 0.24036431 -0.97227107]\n",
            " [ 0.23168086  0.76518771]\n",
            " [ 0.4850385   0.86762023]\n",
            " [-0.39757169 -0.70306708]]\n",
            "First 5 samples of y: [1 0 1 0 1]\n"
          ]
        }
      ]
    },
    {
      "cell_type": "code",
      "source": [
        "X.dtype, y.dtype"
      ],
      "metadata": {
        "colab": {
          "base_uri": "https://localhost:8080/"
        },
        "id": "7N4pRGFct5s-",
        "outputId": "cd727e4f-3c26-44aa-86bc-b461e7c8bb38"
      },
      "execution_count": null,
      "outputs": [
        {
          "output_type": "execute_result",
          "data": {
            "text/plain": [
              "(dtype('float64'), dtype('int64'))"
            ]
          },
          "metadata": {},
          "execution_count": 142
        }
      ]
    },
    {
      "cell_type": "code",
      "source": [
        "import pandas as pd\n",
        "circles = pd.DataFrame({'X1':X[:,0], 'X2':X[:,1], 'label':y})"
      ],
      "metadata": {
        "id": "zXaIv_d8uCZL"
      },
      "execution_count": null,
      "outputs": []
    },
    {
      "cell_type": "code",
      "source": [
        "circles"
      ],
      "metadata": {
        "colab": {
          "base_uri": "https://localhost:8080/",
          "height": 424
        },
        "id": "er_OMMpGuSmW",
        "outputId": "c0f30914-a25d-4684-b9cf-cb9f7c471c75"
      },
      "execution_count": null,
      "outputs": [
        {
          "output_type": "execute_result",
          "data": {
            "text/plain": [
              "            X1        X2  label\n",
              "0     0.204614  0.744496      1\n",
              "1     0.240364 -0.972271      0\n",
              "2     0.231681  0.765188      1\n",
              "3     0.485038  0.867620      0\n",
              "4    -0.397572 -0.703067      1\n",
              "...        ...       ...    ...\n",
              "2995  0.691894  0.483294      1\n",
              "2996 -0.112814 -1.007035      0\n",
              "2997 -0.004573 -1.009240      0\n",
              "2998  0.686653 -0.770001      0\n",
              "2999 -0.864279 -0.425058      0\n",
              "\n",
              "[3000 rows x 3 columns]"
            ],
            "text/html": [
              "\n",
              "  <div id=\"df-d024d41d-326e-444c-ae6b-b0b8ddc5c281\" class=\"colab-df-container\">\n",
              "    <div>\n",
              "<style scoped>\n",
              "    .dataframe tbody tr th:only-of-type {\n",
              "        vertical-align: middle;\n",
              "    }\n",
              "\n",
              "    .dataframe tbody tr th {\n",
              "        vertical-align: top;\n",
              "    }\n",
              "\n",
              "    .dataframe thead th {\n",
              "        text-align: right;\n",
              "    }\n",
              "</style>\n",
              "<table border=\"1\" class=\"dataframe\">\n",
              "  <thead>\n",
              "    <tr style=\"text-align: right;\">\n",
              "      <th></th>\n",
              "      <th>X1</th>\n",
              "      <th>X2</th>\n",
              "      <th>label</th>\n",
              "    </tr>\n",
              "  </thead>\n",
              "  <tbody>\n",
              "    <tr>\n",
              "      <th>0</th>\n",
              "      <td>0.204614</td>\n",
              "      <td>0.744496</td>\n",
              "      <td>1</td>\n",
              "    </tr>\n",
              "    <tr>\n",
              "      <th>1</th>\n",
              "      <td>0.240364</td>\n",
              "      <td>-0.972271</td>\n",
              "      <td>0</td>\n",
              "    </tr>\n",
              "    <tr>\n",
              "      <th>2</th>\n",
              "      <td>0.231681</td>\n",
              "      <td>0.765188</td>\n",
              "      <td>1</td>\n",
              "    </tr>\n",
              "    <tr>\n",
              "      <th>3</th>\n",
              "      <td>0.485038</td>\n",
              "      <td>0.867620</td>\n",
              "      <td>0</td>\n",
              "    </tr>\n",
              "    <tr>\n",
              "      <th>4</th>\n",
              "      <td>-0.397572</td>\n",
              "      <td>-0.703067</td>\n",
              "      <td>1</td>\n",
              "    </tr>\n",
              "    <tr>\n",
              "      <th>...</th>\n",
              "      <td>...</td>\n",
              "      <td>...</td>\n",
              "      <td>...</td>\n",
              "    </tr>\n",
              "    <tr>\n",
              "      <th>2995</th>\n",
              "      <td>0.691894</td>\n",
              "      <td>0.483294</td>\n",
              "      <td>1</td>\n",
              "    </tr>\n",
              "    <tr>\n",
              "      <th>2996</th>\n",
              "      <td>-0.112814</td>\n",
              "      <td>-1.007035</td>\n",
              "      <td>0</td>\n",
              "    </tr>\n",
              "    <tr>\n",
              "      <th>2997</th>\n",
              "      <td>-0.004573</td>\n",
              "      <td>-1.009240</td>\n",
              "      <td>0</td>\n",
              "    </tr>\n",
              "    <tr>\n",
              "      <th>2998</th>\n",
              "      <td>0.686653</td>\n",
              "      <td>-0.770001</td>\n",
              "      <td>0</td>\n",
              "    </tr>\n",
              "    <tr>\n",
              "      <th>2999</th>\n",
              "      <td>-0.864279</td>\n",
              "      <td>-0.425058</td>\n",
              "      <td>0</td>\n",
              "    </tr>\n",
              "  </tbody>\n",
              "</table>\n",
              "<p>3000 rows × 3 columns</p>\n",
              "</div>\n",
              "    <div class=\"colab-df-buttons\">\n",
              "\n",
              "  <div class=\"colab-df-container\">\n",
              "    <button class=\"colab-df-convert\" onclick=\"convertToInteractive('df-d024d41d-326e-444c-ae6b-b0b8ddc5c281')\"\n",
              "            title=\"Convert this dataframe to an interactive table.\"\n",
              "            style=\"display:none;\">\n",
              "\n",
              "  <svg xmlns=\"http://www.w3.org/2000/svg\" height=\"24px\" viewBox=\"0 -960 960 960\">\n",
              "    <path d=\"M120-120v-720h720v720H120Zm60-500h600v-160H180v160Zm220 220h160v-160H400v160Zm0 220h160v-160H400v160ZM180-400h160v-160H180v160Zm440 0h160v-160H620v160ZM180-180h160v-160H180v160Zm440 0h160v-160H620v160Z\"/>\n",
              "  </svg>\n",
              "    </button>\n",
              "\n",
              "  <style>\n",
              "    .colab-df-container {\n",
              "      display:flex;\n",
              "      gap: 12px;\n",
              "    }\n",
              "\n",
              "    .colab-df-convert {\n",
              "      background-color: #E8F0FE;\n",
              "      border: none;\n",
              "      border-radius: 50%;\n",
              "      cursor: pointer;\n",
              "      display: none;\n",
              "      fill: #1967D2;\n",
              "      height: 32px;\n",
              "      padding: 0 0 0 0;\n",
              "      width: 32px;\n",
              "    }\n",
              "\n",
              "    .colab-df-convert:hover {\n",
              "      background-color: #E2EBFA;\n",
              "      box-shadow: 0px 1px 2px rgba(60, 64, 67, 0.3), 0px 1px 3px 1px rgba(60, 64, 67, 0.15);\n",
              "      fill: #174EA6;\n",
              "    }\n",
              "\n",
              "    .colab-df-buttons div {\n",
              "      margin-bottom: 4px;\n",
              "    }\n",
              "\n",
              "    [theme=dark] .colab-df-convert {\n",
              "      background-color: #3B4455;\n",
              "      fill: #D2E3FC;\n",
              "    }\n",
              "\n",
              "    [theme=dark] .colab-df-convert:hover {\n",
              "      background-color: #434B5C;\n",
              "      box-shadow: 0px 1px 3px 1px rgba(0, 0, 0, 0.15);\n",
              "      filter: drop-shadow(0px 1px 2px rgba(0, 0, 0, 0.3));\n",
              "      fill: #FFFFFF;\n",
              "    }\n",
              "  </style>\n",
              "\n",
              "    <script>\n",
              "      const buttonEl =\n",
              "        document.querySelector('#df-d024d41d-326e-444c-ae6b-b0b8ddc5c281 button.colab-df-convert');\n",
              "      buttonEl.style.display =\n",
              "        google.colab.kernel.accessAllowed ? 'block' : 'none';\n",
              "\n",
              "      async function convertToInteractive(key) {\n",
              "        const element = document.querySelector('#df-d024d41d-326e-444c-ae6b-b0b8ddc5c281');\n",
              "        const dataTable =\n",
              "          await google.colab.kernel.invokeFunction('convertToInteractive',\n",
              "                                                    [key], {});\n",
              "        if (!dataTable) return;\n",
              "\n",
              "        const docLinkHtml = 'Like what you see? Visit the ' +\n",
              "          '<a target=\"_blank\" href=https://colab.research.google.com/notebooks/data_table.ipynb>data table notebook</a>'\n",
              "          + ' to learn more about interactive tables.';\n",
              "        element.innerHTML = '';\n",
              "        dataTable['output_type'] = 'display_data';\n",
              "        await google.colab.output.renderOutput(dataTable, element);\n",
              "        const docLink = document.createElement('div');\n",
              "        docLink.innerHTML = docLinkHtml;\n",
              "        element.appendChild(docLink);\n",
              "      }\n",
              "    </script>\n",
              "  </div>\n",
              "\n",
              "\n",
              "<div id=\"df-d141c087-c624-4f5d-a892-dfb6aaf562e2\">\n",
              "  <button class=\"colab-df-quickchart\" onclick=\"quickchart('df-d141c087-c624-4f5d-a892-dfb6aaf562e2')\"\n",
              "            title=\"Suggest charts\"\n",
              "            style=\"display:none;\">\n",
              "\n",
              "<svg xmlns=\"http://www.w3.org/2000/svg\" height=\"24px\"viewBox=\"0 0 24 24\"\n",
              "     width=\"24px\">\n",
              "    <g>\n",
              "        <path d=\"M19 3H5c-1.1 0-2 .9-2 2v14c0 1.1.9 2 2 2h14c1.1 0 2-.9 2-2V5c0-1.1-.9-2-2-2zM9 17H7v-7h2v7zm4 0h-2V7h2v10zm4 0h-2v-4h2v4z\"/>\n",
              "    </g>\n",
              "</svg>\n",
              "  </button>\n",
              "\n",
              "<style>\n",
              "  .colab-df-quickchart {\n",
              "      --bg-color: #E8F0FE;\n",
              "      --fill-color: #1967D2;\n",
              "      --hover-bg-color: #E2EBFA;\n",
              "      --hover-fill-color: #174EA6;\n",
              "      --disabled-fill-color: #AAA;\n",
              "      --disabled-bg-color: #DDD;\n",
              "  }\n",
              "\n",
              "  [theme=dark] .colab-df-quickchart {\n",
              "      --bg-color: #3B4455;\n",
              "      --fill-color: #D2E3FC;\n",
              "      --hover-bg-color: #434B5C;\n",
              "      --hover-fill-color: #FFFFFF;\n",
              "      --disabled-bg-color: #3B4455;\n",
              "      --disabled-fill-color: #666;\n",
              "  }\n",
              "\n",
              "  .colab-df-quickchart {\n",
              "    background-color: var(--bg-color);\n",
              "    border: none;\n",
              "    border-radius: 50%;\n",
              "    cursor: pointer;\n",
              "    display: none;\n",
              "    fill: var(--fill-color);\n",
              "    height: 32px;\n",
              "    padding: 0;\n",
              "    width: 32px;\n",
              "  }\n",
              "\n",
              "  .colab-df-quickchart:hover {\n",
              "    background-color: var(--hover-bg-color);\n",
              "    box-shadow: 0 1px 2px rgba(60, 64, 67, 0.3), 0 1px 3px 1px rgba(60, 64, 67, 0.15);\n",
              "    fill: var(--button-hover-fill-color);\n",
              "  }\n",
              "\n",
              "  .colab-df-quickchart-complete:disabled,\n",
              "  .colab-df-quickchart-complete:disabled:hover {\n",
              "    background-color: var(--disabled-bg-color);\n",
              "    fill: var(--disabled-fill-color);\n",
              "    box-shadow: none;\n",
              "  }\n",
              "\n",
              "  .colab-df-spinner {\n",
              "    border: 2px solid var(--fill-color);\n",
              "    border-color: transparent;\n",
              "    border-bottom-color: var(--fill-color);\n",
              "    animation:\n",
              "      spin 1s steps(1) infinite;\n",
              "  }\n",
              "\n",
              "  @keyframes spin {\n",
              "    0% {\n",
              "      border-color: transparent;\n",
              "      border-bottom-color: var(--fill-color);\n",
              "      border-left-color: var(--fill-color);\n",
              "    }\n",
              "    20% {\n",
              "      border-color: transparent;\n",
              "      border-left-color: var(--fill-color);\n",
              "      border-top-color: var(--fill-color);\n",
              "    }\n",
              "    30% {\n",
              "      border-color: transparent;\n",
              "      border-left-color: var(--fill-color);\n",
              "      border-top-color: var(--fill-color);\n",
              "      border-right-color: var(--fill-color);\n",
              "    }\n",
              "    40% {\n",
              "      border-color: transparent;\n",
              "      border-right-color: var(--fill-color);\n",
              "      border-top-color: var(--fill-color);\n",
              "    }\n",
              "    60% {\n",
              "      border-color: transparent;\n",
              "      border-right-color: var(--fill-color);\n",
              "    }\n",
              "    80% {\n",
              "      border-color: transparent;\n",
              "      border-right-color: var(--fill-color);\n",
              "      border-bottom-color: var(--fill-color);\n",
              "    }\n",
              "    90% {\n",
              "      border-color: transparent;\n",
              "      border-bottom-color: var(--fill-color);\n",
              "    }\n",
              "  }\n",
              "</style>\n",
              "\n",
              "  <script>\n",
              "    async function quickchart(key) {\n",
              "      const quickchartButtonEl =\n",
              "        document.querySelector('#' + key + ' button');\n",
              "      quickchartButtonEl.disabled = true;  // To prevent multiple clicks.\n",
              "      quickchartButtonEl.classList.add('colab-df-spinner');\n",
              "      try {\n",
              "        const charts = await google.colab.kernel.invokeFunction(\n",
              "            'suggestCharts', [key], {});\n",
              "      } catch (error) {\n",
              "        console.error('Error during call to suggestCharts:', error);\n",
              "      }\n",
              "      quickchartButtonEl.classList.remove('colab-df-spinner');\n",
              "      quickchartButtonEl.classList.add('colab-df-quickchart-complete');\n",
              "    }\n",
              "    (() => {\n",
              "      let quickchartButtonEl =\n",
              "        document.querySelector('#df-d141c087-c624-4f5d-a892-dfb6aaf562e2 button');\n",
              "      quickchartButtonEl.style.display =\n",
              "        google.colab.kernel.accessAllowed ? 'block' : 'none';\n",
              "    })();\n",
              "  </script>\n",
              "</div>\n",
              "\n",
              "  <div id=\"id_2274c13f-5a71-4f65-b382-8fcb5fdff510\">\n",
              "    <style>\n",
              "      .colab-df-generate {\n",
              "        background-color: #E8F0FE;\n",
              "        border: none;\n",
              "        border-radius: 50%;\n",
              "        cursor: pointer;\n",
              "        display: none;\n",
              "        fill: #1967D2;\n",
              "        height: 32px;\n",
              "        padding: 0 0 0 0;\n",
              "        width: 32px;\n",
              "      }\n",
              "\n",
              "      .colab-df-generate:hover {\n",
              "        background-color: #E2EBFA;\n",
              "        box-shadow: 0px 1px 2px rgba(60, 64, 67, 0.3), 0px 1px 3px 1px rgba(60, 64, 67, 0.15);\n",
              "        fill: #174EA6;\n",
              "      }\n",
              "\n",
              "      [theme=dark] .colab-df-generate {\n",
              "        background-color: #3B4455;\n",
              "        fill: #D2E3FC;\n",
              "      }\n",
              "\n",
              "      [theme=dark] .colab-df-generate:hover {\n",
              "        background-color: #434B5C;\n",
              "        box-shadow: 0px 1px 3px 1px rgba(0, 0, 0, 0.15);\n",
              "        filter: drop-shadow(0px 1px 2px rgba(0, 0, 0, 0.3));\n",
              "        fill: #FFFFFF;\n",
              "      }\n",
              "    </style>\n",
              "    <button class=\"colab-df-generate\" onclick=\"generateWithVariable('circles')\"\n",
              "            title=\"Generate code using this dataframe.\"\n",
              "            style=\"display:none;\">\n",
              "\n",
              "  <svg xmlns=\"http://www.w3.org/2000/svg\" height=\"24px\"viewBox=\"0 0 24 24\"\n",
              "       width=\"24px\">\n",
              "    <path d=\"M7,19H8.4L18.45,9,17,7.55,7,17.6ZM5,21V16.75L18.45,3.32a2,2,0,0,1,2.83,0l1.4,1.43a1.91,1.91,0,0,1,.58,1.4,1.91,1.91,0,0,1-.58,1.4L9.25,21ZM18.45,9,17,7.55Zm-12,3A5.31,5.31,0,0,0,4.9,8.1,5.31,5.31,0,0,0,1,6.5,5.31,5.31,0,0,0,4.9,4.9,5.31,5.31,0,0,0,6.5,1,5.31,5.31,0,0,0,8.1,4.9,5.31,5.31,0,0,0,12,6.5,5.46,5.46,0,0,0,6.5,12Z\"/>\n",
              "  </svg>\n",
              "    </button>\n",
              "    <script>\n",
              "      (() => {\n",
              "      const buttonEl =\n",
              "        document.querySelector('#id_2274c13f-5a71-4f65-b382-8fcb5fdff510 button.colab-df-generate');\n",
              "      buttonEl.style.display =\n",
              "        google.colab.kernel.accessAllowed ? 'block' : 'none';\n",
              "\n",
              "      buttonEl.onclick = () => {\n",
              "        google.colab.notebook.generateWithVariable('circles');\n",
              "      }\n",
              "      })();\n",
              "    </script>\n",
              "  </div>\n",
              "\n",
              "    </div>\n",
              "  </div>\n"
            ],
            "application/vnd.google.colaboratory.intrinsic+json": {
              "type": "dataframe",
              "variable_name": "circles",
              "summary": "{\n  \"name\": \"circles\",\n  \"rows\": 3000,\n  \"fields\": [\n    {\n      \"column\": \"X1\",\n      \"properties\": {\n        \"dtype\": \"number\",\n        \"std\": 0.6410423385292756,\n        \"min\": -1.0749137214184163,\n        \"max\": 1.078832944728127,\n        \"num_unique_values\": 3000,\n        \"samples\": [\n          -0.002754973876975611,\n          -0.6940976718090912,\n          0.09745095607757509\n        ],\n        \"semantic_type\": \"\",\n        \"description\": \"\"\n      }\n    },\n    {\n      \"column\": \"X2\",\n      \"properties\": {\n        \"dtype\": \"number\",\n        \"std\": 0.6416674224180913,\n        \"min\": -1.060194587664132,\n        \"max\": 1.073904678595145,\n        \"num_unique_values\": 3000,\n        \"samples\": [\n          -0.795263066849187,\n          0.44797332491962877,\n          -0.792816491997582\n        ],\n        \"semantic_type\": \"\",\n        \"description\": \"\"\n      }\n    },\n    {\n      \"column\": \"label\",\n      \"properties\": {\n        \"dtype\": \"number\",\n        \"std\": 0,\n        \"min\": 0,\n        \"max\": 1,\n        \"num_unique_values\": 2,\n        \"samples\": [\n          0,\n          1\n        ],\n        \"semantic_type\": \"\",\n        \"description\": \"\"\n      }\n    }\n  ]\n}"
            }
          },
          "metadata": {},
          "execution_count": 144
        }
      ]
    },
    {
      "cell_type": "code",
      "source": [
        "import matplotlib.pyplot as plt\n",
        "plt.figure(figsize=(8,8))\n",
        "plt.scatter(X[:,0], X[:,1], c=y, cmap=plt.cm.RdYlBu)"
      ],
      "metadata": {
        "colab": {
          "base_uri": "https://localhost:8080/",
          "height": 694
        },
        "id": "24wQsPFdun4Y",
        "outputId": "e8b46321-14b0-49c1-aa6f-dc04a5544112"
      },
      "execution_count": null,
      "outputs": [
        {
          "output_type": "execute_result",
          "data": {
            "text/plain": [
              "<matplotlib.collections.PathCollection at 0x7f13f34a20b0>"
            ]
          },
          "metadata": {},
          "execution_count": 145
        },
        {
          "output_type": "display_data",
          "data": {
            "text/plain": [
              "<Figure size 800x800 with 1 Axes>"
            ],
            "image/png": "[encoded data removed]"
          },
          "metadata": {}
        }
      ]
    },
    {
      "cell_type": "code",
      "source": [
        "X.shape, y.shape"
      ],
      "metadata": {
        "colab": {
          "base_uri": "https://localhost:8080/"
        },
        "id": "b81R4IsTvHbh",
        "outputId": "06652ab6-0b00-4f07-e5b4-82935c4d803a"
      },
      "execution_count": null,
      "outputs": [
        {
          "output_type": "execute_result",
          "data": {
            "text/plain": [
              "((3000, 2), (3000,))"
            ]
          },
          "metadata": {},
          "execution_count": 146
        }
      ]
    },
    {
      "cell_type": "code",
      "source": [
        "torch.tensor(X).shape, torch.tensor(y).shape"
      ],
      "metadata": {
        "colab": {
          "base_uri": "https://localhost:8080/"
        },
        "id": "Eyh7fXvyxyLz",
        "outputId": "45c8157d-7478-43dc-f09d-b2b29c88f041"
      },
      "execution_count": null,
      "outputs": [
        {
          "output_type": "execute_result",
          "data": {
            "text/plain": [
              "(torch.Size([3000, 2]), torch.Size([3000]))"
            ]
          },
          "metadata": {},
          "execution_count": 147
        }
      ]
    },
    {
      "cell_type": "code",
      "source": [
        "device = 'cuda' if torch.cuda.is_available() else 'cpu'\n",
        "device"
      ],
      "metadata": {
        "colab": {
          "base_uri": "https://localhost:8080/",
          "height": 35
        },
        "id": "hFK8PpwL1HyW",
        "outputId": "ed28085d-3d3a-4803-b74f-6c53a0e10d0c"
      },
      "execution_count": null,
      "outputs": [
        {
          "output_type": "execute_result",
          "data": {
            "text/plain": [
              "'cpu'"
            ],
            "application/vnd.google.colaboratory.intrinsic+json": {
              "type": "string"
            }
          },
          "metadata": {},
          "execution_count": 148
        }
      ]
    },
    {
      "cell_type": "code",
      "source": [
        "X = torch.from_numpy(X).type(torch.float).to(device)\n",
        "y = torch.from_numpy(y).type(torch.float).to(device)"
      ],
      "metadata": {
        "id": "rEj1-Hq10UQk"
      },
      "execution_count": null,
      "outputs": []
    },
    {
      "cell_type": "code",
      "source": [
        "X,y"
      ],
      "metadata": {
        "colab": {
          "base_uri": "https://localhost:8080/"
        },
        "id": "LCdFfUgZu6HL",
        "outputId": "7d8c600d-ceea-4691-a188-f0e5af4c6ff7"
      },
      "execution_count": null,
      "outputs": [
        {
          "output_type": "execute_result",
          "data": {
            "text/plain": [
              "(tensor([[ 0.2046,  0.7445],\n",
              "         [ 0.2404, -0.9723],\n",
              "         [ 0.2317,  0.7652],\n",
              "         ...,\n",
              "         [-0.0046, -1.0092],\n",
              "         [ 0.6867, -0.7700],\n",
              "         [-0.8643, -0.4251]]),\n",
              " tensor([1., 0., 1.,  ..., 0., 0., 0.]))"
            ]
          },
          "metadata": {},
          "execution_count": 150
        }
      ]
    },
    {
      "cell_type": "code",
      "source": [
        "X.dtype, y.dtype"
      ],
      "metadata": {
        "colab": {
          "base_uri": "https://localhost:8080/"
        },
        "id": "lI4LI4yq0d13",
        "outputId": "4e8bd33d-c37e-4895-c671-dd08fa801715"
      },
      "execution_count": null,
      "outputs": [
        {
          "output_type": "execute_result",
          "data": {
            "text/plain": [
              "(torch.float32, torch.float32)"
            ]
          },
          "metadata": {},
          "execution_count": 151
        }
      ]
    },
    {
      "cell_type": "code",
      "source": [
        "from sklearn.model_selection import train_test_split"
      ],
      "metadata": {
        "id": "Lv77-twFzh6F"
      },
      "execution_count": null,
      "outputs": []
    },
    {
      "cell_type": "code",
      "source": [
        "X_train, X_test, y_train, y_test = train_test_split(X, y, test_size=0.2, random_state=42)"
      ],
      "metadata": {
        "id": "MYL56kqFx2Nz"
      },
      "execution_count": null,
      "outputs": []
    },
    {
      "cell_type": "code",
      "source": [
        "X_train.shape, y_train.shape, X_test.shape, y_test.shape"
      ],
      "metadata": {
        "colab": {
          "base_uri": "https://localhost:8080/"
        },
        "id": "HNqtPfl-zHx4",
        "outputId": "33a4d350-125f-4daa-efc7-1956e650b561"
      },
      "execution_count": null,
      "outputs": [
        {
          "output_type": "execute_result",
          "data": {
            "text/plain": [
              "(torch.Size([2400, 2]),\n",
              " torch.Size([2400]),\n",
              " torch.Size([600, 2]),\n",
              " torch.Size([600]))"
            ]
          },
          "metadata": {},
          "execution_count": 154
        }
      ]
    },
    {
      "cell_type": "code",
      "source": [
        "len(X_train), len(y_train), len(X_test), len(y_test)"
      ],
      "metadata": {
        "colab": {
          "base_uri": "https://localhost:8080/"
        },
        "id": "CW0yRLq90rCj",
        "outputId": "d586285b-5907-4c19-92bc-e5f609e6905f"
      },
      "execution_count": null,
      "outputs": [
        {
          "output_type": "execute_result",
          "data": {
            "text/plain": [
              "(2400, 2400, 600, 600)"
            ]
          },
          "metadata": {},
          "execution_count": 155
        }
      ]
    },
    {
      "cell_type": "code",
      "source": [
        "class BinaryClassifier(nn.Module):\n",
        "  def __init__(self):\n",
        "    super().__init__()\n",
        "    self.layer_1 = nn.Linear(in_features = 2, out_features=10)\n",
        "    self.layer_2 = nn.Linear(in_features = 10, out_features=10)\n",
        "    self.layer_3 = nn.ReLU()\n",
        "    self.layer_4 = nn.Linear(in_features=10, out_features=1)\n",
        "\n",
        "  def forward(self, x):\n",
        "    return self.layer_4(self.layer_3(self.layer_2(self.layer_1(x))))\n",
        "\n",
        "model = BinaryClassifier().to(device)\n",
        "model.state_dict()"
      ],
      "metadata": {
        "colab": {
          "base_uri": "https://localhost:8080/"
        },
        "id": "eF0KLPsx0uit",
        "outputId": "997c522b-54c0-4ba0-cd38-a595dc4f4ba9"
      },
      "execution_count": null,
      "outputs": [
        {
          "output_type": "execute_result",
          "data": {
            "text/plain": [
              "OrderedDict([('layer_1.weight',\n",
              "              tensor([[ 0.5406,  0.5869],\n",
              "                      [-0.1657,  0.6496],\n",
              "                      [-0.1549,  0.1427],\n",
              "                      [-0.3443,  0.4153],\n",
              "                      [ 0.6233, -0.5188],\n",
              "                      [ 0.6146,  0.1323],\n",
              "                      [ 0.5224,  0.0958],\n",
              "                      [ 0.3410, -0.0998],\n",
              "                      [ 0.5451,  0.1045],\n",
              "                      [-0.3301,  0.1802]])),\n",
              "             ('layer_1.bias',\n",
              "              tensor([-0.3258, -0.0829, -0.2872,  0.4691, -0.5582, -0.3260, -0.1997, -0.4252,\n",
              "                       0.0667, -0.6984])),\n",
              "             ('layer_2.weight',\n",
              "              tensor([[ 0.2856, -0.2686,  0.2441,  0.0526, -0.1027,  0.1954,  0.0493,  0.2555,\n",
              "                        0.0346, -0.0997],\n",
              "                      [ 0.0850, -0.0858,  0.1331,  0.2823,  0.1828, -0.1382,  0.1825,  0.0566,\n",
              "                        0.1606, -0.1927],\n",
              "                      [-0.3130, -0.1222, -0.2426,  0.2595,  0.0911,  0.1310,  0.1000, -0.0055,\n",
              "                        0.2475, -0.2247],\n",
              "                      [ 0.0199, -0.2158,  0.0975, -0.1089,  0.0969, -0.0659,  0.2623, -0.1874,\n",
              "                       -0.1886, -0.1886],\n",
              "                      [ 0.2844,  0.1054,  0.3043, -0.2610, -0.3137, -0.2474, -0.2127,  0.1281,\n",
              "                        0.1132,  0.2628],\n",
              "                      [-0.1633, -0.2156,  0.1678, -0.1278,  0.1919, -0.0750,  0.1809, -0.2457,\n",
              "                       -0.1596,  0.0964],\n",
              "                      [ 0.0669, -0.0806,  0.1885,  0.2150, -0.2293, -0.1688,  0.2896, -0.1067,\n",
              "                       -0.1121, -0.3060],\n",
              "                      [-0.1811,  0.0790, -0.0417, -0.2295,  0.0074, -0.2160, -0.2683, -0.1741,\n",
              "                       -0.2768, -0.2014],\n",
              "                      [ 0.3161,  0.0597,  0.0974, -0.2949, -0.2077, -0.1053,  0.0494, -0.2783,\n",
              "                       -0.1363, -0.1893],\n",
              "                      [ 0.0009, -0.1177, -0.0219, -0.2143, -0.2171, -0.1845, -0.1082, -0.2496,\n",
              "                        0.2651, -0.0628]])),\n",
              "             ('layer_2.bias',\n",
              "              tensor([ 0.2721,  0.0985, -0.2678,  0.2188, -0.0870, -0.1212, -0.2625, -0.3144,\n",
              "                       0.0905, -0.0691])),\n",
              "             ('layer_4.weight',\n",
              "              tensor([[ 0.1231, -0.2595,  0.2348, -0.2321, -0.0546,  0.0661,  0.1633,  0.2553,\n",
              "                        0.2881, -0.2507]])),\n",
              "             ('layer_4.bias', tensor([0.0796]))])"
            ]
          },
          "metadata": {},
          "execution_count": 156
        }
      ]
    },
    {
      "cell_type": "code",
      "source": [
        "loss_fn = nn.BCEWithLogitsLoss()\n",
        "optimiser = torch.optim.Adam(params=model.parameters(), lr=0.05)"
      ],
      "metadata": {
        "id": "keAuqjQy6bNc"
      },
      "execution_count": null,
      "outputs": []
    },
    {
      "cell_type": "code",
      "source": [
        "def accuracy_fn(y_true, y_pred):\n",
        "  correct = torch.eq(y_true, y_pred).sum().item()\n",
        "  acc = (correct/len(y_pred))*100\n",
        "  return acc"
      ],
      "metadata": {
        "id": "SdJLsWb78QLj"
      },
      "execution_count": null,
      "outputs": []
    },
    {
      "cell_type": "code",
      "source": [
        "model"
      ],
      "metadata": {
        "colab": {
          "base_uri": "https://localhost:8080/"
        },
        "id": "tNf5Tnx3C3I5",
        "outputId": "7dc8d446-4f10-4160-8c26-d142d952a966"
      },
      "execution_count": null,
      "outputs": [
        {
          "output_type": "execute_result",
          "data": {
            "text/plain": [
              "BinaryClassifier(\n",
              "  (layer_1): Linear(in_features=2, out_features=10, bias=True)\n",
              "  (layer_2): Linear(in_features=10, out_features=10, bias=True)\n",
              "  (layer_3): ReLU()\n",
              "  (layer_4): Linear(in_features=10, out_features=1, bias=True)\n",
              ")"
            ]
          },
          "metadata": {},
          "execution_count": 159
        }
      ]
    },
    {
      "cell_type": "code",
      "source": [
        "epochs = 200\n",
        "epoch_count=[]\n",
        "train_acc_values=[]\n",
        "test_acc_values=[]\n",
        "\n",
        "for epoch in range(epochs):\n",
        "  model.train()\n",
        "\n",
        "  y_logits = model.forward(X_train).squeeze()\n",
        "\n",
        "  y_pred = torch.round(torch.sigmoid(y_logits))\n",
        "\n",
        "  loss = loss_fn(y_logits, y_train)\n",
        "\n",
        "  train_acc = accuracy_fn(y_true=y_train, y_pred=y_pred)\n",
        "\n",
        "  optimiser.zero_grad()\n",
        "\n",
        "  loss.backward()\n",
        "\n",
        "  optimiser.step()\n",
        "\n",
        "\n",
        "  if epoch % 10==0:\n",
        "    epoch_count.append(epoch)\n",
        "    train_acc_values.append(train_acc)\n",
        "\n",
        "    model.eval()\n",
        "    with torch.inference_mode():\n",
        "      test_logits = model(X_test).squeeze()\n",
        "      test_probabilities = torch.round(torch.sigmoid(test_logits))\n",
        "      test_loss=loss_fn(test_logits, y_test)\n",
        "      test_acc = accuracy_fn(y_test, test_probabilities)\n",
        "      test_acc_values.append(test_acc)\n",
        "      print(f'Epoch: {epoch} | Train Loss: {loss:.5f} | Test Loss: {test_loss:.5f} | Train Acc: {train_acc:.2f}% | Test Acc: {test_acc:.2f}%')\n"
      ],
      "metadata": {
        "colab": {
          "base_uri": "https://localhost:8080/"
        },
        "id": "VYwsbU259Kk8",
        "outputId": "ea253a72-f6e2-4cb1-8132-6b875f6347ff"
      },
      "execution_count": null,
      "outputs": [
        {
          "output_type": "stream",
          "name": "stdout",
          "text": [
            "Epoch: 0 | Train Loss: 0.69677 | Test Loss: 0.68873 | Train Acc: 51.38% | Test Acc: 54.67%\n",
            "Epoch: 10 | Train Loss: 0.65801 | Test Loss: 0.68044 | Train Acc: 63.58% | Test Acc: 55.50%\n",
            "Epoch: 20 | Train Loss: 0.56922 | Test Loss: 0.57689 | Train Acc: 78.00% | Test Acc: 73.33%\n",
            "Epoch: 30 | Train Loss: 0.36714 | Test Loss: 0.36369 | Train Acc: 89.21% | Test Acc: 88.17%\n",
            "Epoch: 40 | Train Loss: 0.21908 | Test Loss: 0.22449 | Train Acc: 97.00% | Test Acc: 95.50%\n",
            "Epoch: 50 | Train Loss: 0.13318 | Test Loss: 0.13168 | Train Acc: 99.25% | Test Acc: 98.83%\n",
            "Epoch: 60 | Train Loss: 0.08714 | Test Loss: 0.09456 | Train Acc: 99.62% | Test Acc: 98.83%\n",
            "Epoch: 70 | Train Loss: 0.06155 | Test Loss: 0.06687 | Train Acc: 99.50% | Test Acc: 99.00%\n",
            "Epoch: 80 | Train Loss: 0.04549 | Test Loss: 0.05173 | Train Acc: 99.71% | Test Acc: 99.17%\n",
            "Epoch: 90 | Train Loss: 0.03596 | Test Loss: 0.04274 | Train Acc: 99.79% | Test Acc: 99.33%\n",
            "Epoch: 100 | Train Loss: 0.02992 | Test Loss: 0.03734 | Train Acc: 99.79% | Test Acc: 99.17%\n",
            "Epoch: 110 | Train Loss: 0.02581 | Test Loss: 0.03327 | Train Acc: 99.79% | Test Acc: 99.17%\n",
            "Epoch: 120 | Train Loss: 0.02278 | Test Loss: 0.03028 | Train Acc: 99.83% | Test Acc: 99.17%\n",
            "Epoch: 130 | Train Loss: 0.02046 | Test Loss: 0.02797 | Train Acc: 99.88% | Test Acc: 99.17%\n",
            "Epoch: 140 | Train Loss: 0.01862 | Test Loss: 0.02618 | Train Acc: 99.88% | Test Acc: 99.17%\n",
            "Epoch: 150 | Train Loss: 0.01712 | Test Loss: 0.02470 | Train Acc: 99.88% | Test Acc: 99.17%\n",
            "Epoch: 160 | Train Loss: 0.01587 | Test Loss: 0.02352 | Train Acc: 99.92% | Test Acc: 99.17%\n",
            "Epoch: 170 | Train Loss: 0.01481 | Test Loss: 0.02253 | Train Acc: 99.92% | Test Acc: 99.17%\n",
            "Epoch: 180 | Train Loss: 0.01391 | Test Loss: 0.02168 | Train Acc: 99.92% | Test Acc: 99.17%\n",
            "Epoch: 190 | Train Loss: 0.01312 | Test Loss: 0.02091 | Train Acc: 99.92% | Test Acc: 99.17%\n"
          ]
        }
      ]
    },
    {
      "cell_type": "code",
      "source": [
        "plt.plot(epoch_count, train_acc_values, label='train_acc')\n",
        "plt.plot(epoch_count, test_acc_values, label='test_acc')\n",
        "plt.title('Accuracy vs Epochs')\n",
        "plt.legend()"
      ],
      "metadata": {
        "colab": {
          "base_uri": "https://localhost:8080/",
          "height": 470
        },
        "id": "3GjFyjmCEr4e",
        "outputId": "50e28ea9-d5df-48c5-e5ba-78c81200c84b"
      },
      "execution_count": null,
      "outputs": [
        {
          "output_type": "execute_result",
          "data": {
            "text/plain": [
              "<matplotlib.legend.Legend at 0x7f13f3bfc760>"
            ]
          },
          "metadata": {},
          "execution_count": 161
        },
        {
          "output_type": "display_data",
          "data": {
            "text/plain": [
              "<Figure size 640x480 with 1 Axes>"
            ],
            "image/png": "[encoded data removed]"
          },
          "metadata": {}
        }
      ]
    },
    {
      "cell_type": "code",
      "source": [
        "model.eval()\n",
        "with torch.inference_mode():\n",
        "  logits=model(X_test.to(device)).squeeze()\n",
        "  probs = torch.round(torch.sigmoid(logits))\n",
        "\n",
        "probs[:10]==y_test[:10]"
      ],
      "metadata": {
        "colab": {
          "base_uri": "https://localhost:8080/"
        },
        "id": "06rIBoLG4298",
        "outputId": "02aea928-d665-40cb-8717-e18311de2e7e"
      },
      "execution_count": null,
      "outputs": [
        {
          "output_type": "execute_result",
          "data": {
            "text/plain": [
              "tensor([True, True, True, True, True, True, True, True, True, True])"
            ]
          },
          "metadata": {},
          "execution_count": 162
        }
      ]
    },
    {
      "cell_type": "code",
      "source": [
        "NUM_CLASSES = 5\n",
        "NUM_FEATURES = 10\n",
        "RANDOM_SEED=42\n",
        "new_data = sklearn.datasets.make_blobs(n_samples=1000,\n",
        "                                       n_features=NUM_FEATURES,\n",
        "                                       centers=NUM_CLASSES,\n",
        "                                       cluster_std=2.5,\n",
        "                                       random_state=RANDOM_SEED)"
      ],
      "metadata": {
        "id": "T8FzbqlGmaz0"
      },
      "execution_count": null,
      "outputs": []
    },
    {
      "cell_type": "code",
      "source": [
        "new_data"
      ],
      "metadata": {
        "colab": {
          "base_uri": "https://localhost:8080/"
        },
        "id": "of4rdkhKyLra",
        "outputId": "838eb98d-9bd6-4fd9-a967-47bdccd9a201"
      },
      "execution_count": null,
      "outputs": [
        {
          "output_type": "execute_result",
          "data": {
            "text/plain": [
              "(array([[  3.77148503,  -6.27148314,  -3.73818176, ...,  -1.97768081,\n",
              "          -2.66931211,  -9.758105  ],\n",
              "        [ -1.68199704,  11.09810853,  -0.34446027, ...,   8.37107044,\n",
              "           0.2597706 ,   4.02202886],\n",
              "        [ -0.50817381,  10.90001445,   7.61216226, ...,   5.11883629,\n",
              "           1.61463283,   2.29919494],\n",
              "        ...,\n",
              "        [ -2.6328569 ,  10.70133486,   1.83307378, ...,  13.46177327,\n",
              "           0.42795027,   2.83395917],\n",
              "        [  2.73953653, -15.81043075, -10.71809453, ...,  -4.30898195,\n",
              "           0.40223921,  -0.21201206],\n",
              "        [ -8.568178  ,  10.77519097,   7.76078734, ...,  -4.72106551,\n",
              "          -0.95987557,   1.3559104 ]]),\n",
              " array([2, 0, 0, 3, 0, 4, 1, 3, 0, 4, 1, 0, 3, 0, 0, 1, 4, 3, 3, 1, 1, 2,\n",
              "        2, 3, 4, 2, 4, 2, 1, 2, 0, 1, 0, 1, 3, 1, 2, 0, 2, 2, 3, 0, 0, 2,\n",
              "        2, 2, 4, 1, 1, 4, 2, 3, 0, 4, 4, 0, 0, 2, 4, 1, 0, 1, 0, 4, 3, 3,\n",
              "        3, 2, 1, 0, 1, 1, 1, 3, 1, 4, 3, 2, 4, 3, 3, 2, 1, 0, 2, 1, 2, 3,\n",
              "        2, 0, 4, 0, 1, 3, 0, 0, 0, 0, 1, 2, 1, 3, 1, 4, 1, 4, 3, 3, 3, 4,\n",
              "        4, 2, 2, 0, 4, 4, 4, 0, 0, 2, 1, 1, 0, 0, 4, 4, 1, 2, 4, 0, 3, 4,\n",
              "        4, 3, 3, 0, 2, 2, 0, 1, 3, 2, 2, 3, 0, 1, 1, 0, 0, 4, 4, 0, 3, 3,\n",
              "        1, 4, 1, 3, 3, 4, 1, 4, 4, 1, 2, 2, 1, 2, 1, 1, 4, 0, 2, 1, 3, 4,\n",
              "        2, 1, 3, 4, 0, 3, 2, 3, 1, 3, 4, 3, 2, 0, 0, 4, 4, 4, 3, 4, 3, 1,\n",
              "        2, 0, 2, 2, 0, 1, 1, 0, 1, 0, 2, 4, 1, 3, 2, 2, 3, 1, 2, 3, 2, 1,\n",
              "        0, 3, 2, 3, 3, 3, 1, 3, 2, 4, 3, 0, 1, 4, 1, 1, 2, 4, 2, 1, 2, 4,\n",
              "        0, 4, 4, 3, 0, 4, 3, 4, 1, 1, 2, 3, 2, 4, 1, 4, 1, 0, 4, 3, 3, 4,\n",
              "        0, 0, 2, 2, 2, 2, 4, 4, 2, 1, 2, 1, 1, 1, 3, 1, 2, 2, 2, 2, 4, 1,\n",
              "        3, 2, 3, 3, 2, 3, 0, 1, 0, 2, 3, 4, 0, 3, 4, 1, 0, 2, 0, 4, 0, 0,\n",
              "        2, 0, 1, 1, 4, 4, 0, 0, 4, 2, 4, 1, 1, 1, 3, 0, 0, 2, 1, 4, 4, 1,\n",
              "        4, 3, 4, 1, 1, 0, 4, 1, 4, 2, 2, 4, 2, 3, 3, 2, 2, 2, 0, 0, 4, 0,\n",
              "        4, 3, 2, 1, 4, 0, 0, 3, 1, 3, 4, 3, 4, 0, 1, 2, 1, 3, 3, 2, 2, 1,\n",
              "        3, 1, 3, 0, 3, 1, 1, 3, 3, 2, 1, 0, 0, 3, 3, 2, 0, 0, 1, 1, 3, 1,\n",
              "        3, 1, 4, 0, 1, 3, 1, 0, 4, 2, 2, 1, 2, 3, 3, 0, 2, 1, 0, 4, 2, 3,\n",
              "        3, 0, 3, 2, 1, 0, 2, 4, 0, 4, 3, 2, 2, 2, 4, 2, 4, 2, 3, 0, 0, 3,\n",
              "        2, 2, 0, 0, 1, 4, 1, 1, 4, 0, 4, 4, 4, 3, 4, 0, 4, 4, 3, 3, 4, 3,\n",
              "        4, 4, 2, 2, 3, 3, 3, 2, 2, 2, 3, 3, 2, 0, 0, 4, 2, 2, 4, 2, 1, 1,\n",
              "        0, 4, 2, 3, 1, 1, 1, 2, 2, 4, 4, 0, 4, 1, 1, 4, 0, 4, 2, 3, 3, 4,\n",
              "        3, 0, 0, 2, 3, 0, 0, 2, 4, 4, 3, 4, 1, 4, 1, 0, 2, 2, 3, 2, 4, 2,\n",
              "        4, 2, 1, 1, 4, 0, 0, 1, 4, 1, 3, 3, 0, 2, 0, 0, 1, 3, 1, 1, 4, 0,\n",
              "        0, 0, 4, 2, 0, 1, 2, 1, 4, 3, 3, 0, 1, 0, 2, 2, 4, 3, 4, 2, 0, 0,\n",
              "        3, 4, 0, 3, 0, 1, 4, 0, 3, 1, 2, 1, 2, 3, 4, 4, 0, 3, 0, 1, 4, 3,\n",
              "        3, 0, 1, 4, 1, 4, 2, 4, 0, 2, 4, 0, 3, 3, 0, 2, 0, 4, 3, 2, 4, 3,\n",
              "        4, 2, 1, 2, 2, 0, 4, 3, 1, 0, 3, 2, 1, 0, 1, 2, 3, 3, 4, 0, 3, 4,\n",
              "        2, 2, 0, 2, 1, 2, 3, 2, 0, 2, 1, 0, 0, 2, 0, 0, 0, 0, 2, 0, 4, 0,\n",
              "        3, 0, 0, 2, 1, 3, 2, 3, 3, 0, 1, 2, 3, 1, 2, 2, 3, 3, 4, 1, 0, 1,\n",
              "        4, 3, 4, 2, 1, 3, 3, 4, 1, 4, 4, 4, 4, 2, 1, 2, 4, 1, 4, 3, 3, 2,\n",
              "        1, 2, 3, 2, 0, 1, 0, 2, 4, 2, 1, 4, 4, 1, 3, 0, 2, 1, 0, 1, 4, 4,\n",
              "        0, 3, 2, 0, 1, 2, 1, 1, 1, 2, 4, 3, 3, 0, 4, 2, 1, 4, 2, 1, 0, 3,\n",
              "        4, 2, 2, 3, 2, 1, 4, 0, 2, 3, 2, 2, 2, 0, 1, 1, 2, 0, 1, 3, 0, 2,\n",
              "        4, 4, 0, 0, 3, 0, 0, 0, 0, 4, 2, 3, 3, 4, 0, 4, 2, 3, 0, 3, 1, 0,\n",
              "        0, 2, 3, 4, 3, 2, 3, 2, 0, 4, 2, 4, 1, 3, 3, 0, 4, 4, 3, 0, 4, 0,\n",
              "        4, 1, 1, 4, 4, 2, 1, 1, 1, 0, 1, 3, 3, 2, 0, 2, 3, 0, 3, 1, 0, 0,\n",
              "        0, 0, 1, 1, 1, 3, 0, 3, 3, 4, 0, 4, 1, 3, 0, 3, 1, 3, 3, 2, 0, 4,\n",
              "        2, 0, 1, 1, 4, 3, 4, 2, 4, 1, 2, 0, 2, 1, 1, 0, 3, 4, 3, 2, 1, 1,\n",
              "        3, 1, 3, 3, 3, 4, 1, 4, 2, 2, 2, 4, 1, 0, 0, 4, 0, 0, 1, 0, 4, 0,\n",
              "        4, 0, 0, 0, 2, 4, 4, 0, 1, 4, 2, 3, 0, 3, 3, 1, 3, 1, 4, 3, 3, 1,\n",
              "        0, 1, 4, 1, 3, 3, 3, 1, 3, 1, 3, 1, 4, 3, 4, 0, 1, 2, 4, 4, 2, 1,\n",
              "        4, 2, 0, 1, 4, 4, 1, 3, 4, 0, 2, 2, 4, 2, 4, 3, 0, 4, 2, 1, 2, 3,\n",
              "        1, 1, 3, 4, 3, 3, 3, 3, 3, 4, 0, 2, 1, 1, 4, 2, 0, 2, 4, 0, 1, 1,\n",
              "        4, 4, 2, 1, 1, 2, 3, 0, 3, 1]))"
            ]
          },
          "metadata": {},
          "execution_count": 164
        }
      ]
    },
    {
      "cell_type": "code",
      "source": [
        "new_data[0]"
      ],
      "metadata": {
        "colab": {
          "base_uri": "https://localhost:8080/"
        },
        "id": "ajSyvbqByVKk",
        "outputId": "5996be28-aa92-495d-e760-0d26a3e9505c"
      },
      "execution_count": null,
      "outputs": [
        {
          "output_type": "execute_result",
          "data": {
            "text/plain": [
              "array([[  3.77148503,  -6.27148314,  -3.73818176, ...,  -1.97768081,\n",
              "         -2.66931211,  -9.758105  ],\n",
              "       [ -1.68199704,  11.09810853,  -0.34446027, ...,   8.37107044,\n",
              "          0.2597706 ,   4.02202886],\n",
              "       [ -0.50817381,  10.90001445,   7.61216226, ...,   5.11883629,\n",
              "          1.61463283,   2.29919494],\n",
              "       ...,\n",
              "       [ -2.6328569 ,  10.70133486,   1.83307378, ...,  13.46177327,\n",
              "          0.42795027,   2.83395917],\n",
              "       [  2.73953653, -15.81043075, -10.71809453, ...,  -4.30898195,\n",
              "          0.40223921,  -0.21201206],\n",
              "       [ -8.568178  ,  10.77519097,   7.76078734, ...,  -4.72106551,\n",
              "         -0.95987557,   1.3559104 ]])"
            ]
          },
          "metadata": {},
          "execution_count": 165
        }
      ]
    },
    {
      "cell_type": "code",
      "source": [
        "new_data[1]"
      ],
      "metadata": {
        "colab": {
          "base_uri": "https://localhost:8080/"
        },
        "id": "5OFXe-vUycxe",
        "outputId": "76040c1a-e1c4-4ba3-9be5-72ae3aa4713e"
      },
      "execution_count": null,
      "outputs": [
        {
          "output_type": "execute_result",
          "data": {
            "text/plain": [
              "array([2, 0, 0, 3, 0, 4, 1, 3, 0, 4, 1, 0, 3, 0, 0, 1, 4, 3, 3, 1, 1, 2,\n",
              "       2, 3, 4, 2, 4, 2, 1, 2, 0, 1, 0, 1, 3, 1, 2, 0, 2, 2, 3, 0, 0, 2,\n",
              "       2, 2, 4, 1, 1, 4, 2, 3, 0, 4, 4, 0, 0, 2, 4, 1, 0, 1, 0, 4, 3, 3,\n",
              "       3, 2, 1, 0, 1, 1, 1, 3, 1, 4, 3, 2, 4, 3, 3, 2, 1, 0, 2, 1, 2, 3,\n",
              "       2, 0, 4, 0, 1, 3, 0, 0, 0, 0, 1, 2, 1, 3, 1, 4, 1, 4, 3, 3, 3, 4,\n",
              "       4, 2, 2, 0, 4, 4, 4, 0, 0, 2, 1, 1, 0, 0, 4, 4, 1, 2, 4, 0, 3, 4,\n",
              "       4, 3, 3, 0, 2, 2, 0, 1, 3, 2, 2, 3, 0, 1, 1, 0, 0, 4, 4, 0, 3, 3,\n",
              "       1, 4, 1, 3, 3, 4, 1, 4, 4, 1, 2, 2, 1, 2, 1, 1, 4, 0, 2, 1, 3, 4,\n",
              "       2, 1, 3, 4, 0, 3, 2, 3, 1, 3, 4, 3, 2, 0, 0, 4, 4, 4, 3, 4, 3, 1,\n",
              "       2, 0, 2, 2, 0, 1, 1, 0, 1, 0, 2, 4, 1, 3, 2, 2, 3, 1, 2, 3, 2, 1,\n",
              "       0, 3, 2, 3, 3, 3, 1, 3, 2, 4, 3, 0, 1, 4, 1, 1, 2, 4, 2, 1, 2, 4,\n",
              "       0, 4, 4, 3, 0, 4, 3, 4, 1, 1, 2, 3, 2, 4, 1, 4, 1, 0, 4, 3, 3, 4,\n",
              "       0, 0, 2, 2, 2, 2, 4, 4, 2, 1, 2, 1, 1, 1, 3, 1, 2, 2, 2, 2, 4, 1,\n",
              "       3, 2, 3, 3, 2, 3, 0, 1, 0, 2, 3, 4, 0, 3, 4, 1, 0, 2, 0, 4, 0, 0,\n",
              "       2, 0, 1, 1, 4, 4, 0, 0, 4, 2, 4, 1, 1, 1, 3, 0, 0, 2, 1, 4, 4, 1,\n",
              "       4, 3, 4, 1, 1, 0, 4, 1, 4, 2, 2, 4, 2, 3, 3, 2, 2, 2, 0, 0, 4, 0,\n",
              "       4, 3, 2, 1, 4, 0, 0, 3, 1, 3, 4, 3, 4, 0, 1, 2, 1, 3, 3, 2, 2, 1,\n",
              "       3, 1, 3, 0, 3, 1, 1, 3, 3, 2, 1, 0, 0, 3, 3, 2, 0, 0, 1, 1, 3, 1,\n",
              "       3, 1, 4, 0, 1, 3, 1, 0, 4, 2, 2, 1, 2, 3, 3, 0, 2, 1, 0, 4, 2, 3,\n",
              "       3, 0, 3, 2, 1, 0, 2, 4, 0, 4, 3, 2, 2, 2, 4, 2, 4, 2, 3, 0, 0, 3,\n",
              "       2, 2, 0, 0, 1, 4, 1, 1, 4, 0, 4, 4, 4, 3, 4, 0, 4, 4, 3, 3, 4, 3,\n",
              "       4, 4, 2, 2, 3, 3, 3, 2, 2, 2, 3, 3, 2, 0, 0, 4, 2, 2, 4, 2, 1, 1,\n",
              "       0, 4, 2, 3, 1, 1, 1, 2, 2, 4, 4, 0, 4, 1, 1, 4, 0, 4, 2, 3, 3, 4,\n",
              "       3, 0, 0, 2, 3, 0, 0, 2, 4, 4, 3, 4, 1, 4, 1, 0, 2, 2, 3, 2, 4, 2,\n",
              "       4, 2, 1, 1, 4, 0, 0, 1, 4, 1, 3, 3, 0, 2, 0, 0, 1, 3, 1, 1, 4, 0,\n",
              "       0, 0, 4, 2, 0, 1, 2, 1, 4, 3, 3, 0, 1, 0, 2, 2, 4, 3, 4, 2, 0, 0,\n",
              "       3, 4, 0, 3, 0, 1, 4, 0, 3, 1, 2, 1, 2, 3, 4, 4, 0, 3, 0, 1, 4, 3,\n",
              "       3, 0, 1, 4, 1, 4, 2, 4, 0, 2, 4, 0, 3, 3, 0, 2, 0, 4, 3, 2, 4, 3,\n",
              "       4, 2, 1, 2, 2, 0, 4, 3, 1, 0, 3, 2, 1, 0, 1, 2, 3, 3, 4, 0, 3, 4,\n",
              "       2, 2, 0, 2, 1, 2, 3, 2, 0, 2, 1, 0, 0, 2, 0, 0, 0, 0, 2, 0, 4, 0,\n",
              "       3, 0, 0, 2, 1, 3, 2, 3, 3, 0, 1, 2, 3, 1, 2, 2, 3, 3, 4, 1, 0, 1,\n",
              "       4, 3, 4, 2, 1, 3, 3, 4, 1, 4, 4, 4, 4, 2, 1, 2, 4, 1, 4, 3, 3, 2,\n",
              "       1, 2, 3, 2, 0, 1, 0, 2, 4, 2, 1, 4, 4, 1, 3, 0, 2, 1, 0, 1, 4, 4,\n",
              "       0, 3, 2, 0, 1, 2, 1, 1, 1, 2, 4, 3, 3, 0, 4, 2, 1, 4, 2, 1, 0, 3,\n",
              "       4, 2, 2, 3, 2, 1, 4, 0, 2, 3, 2, 2, 2, 0, 1, 1, 2, 0, 1, 3, 0, 2,\n",
              "       4, 4, 0, 0, 3, 0, 0, 0, 0, 4, 2, 3, 3, 4, 0, 4, 2, 3, 0, 3, 1, 0,\n",
              "       0, 2, 3, 4, 3, 2, 3, 2, 0, 4, 2, 4, 1, 3, 3, 0, 4, 4, 3, 0, 4, 0,\n",
              "       4, 1, 1, 4, 4, 2, 1, 1, 1, 0, 1, 3, 3, 2, 0, 2, 3, 0, 3, 1, 0, 0,\n",
              "       0, 0, 1, 1, 1, 3, 0, 3, 3, 4, 0, 4, 1, 3, 0, 3, 1, 3, 3, 2, 0, 4,\n",
              "       2, 0, 1, 1, 4, 3, 4, 2, 4, 1, 2, 0, 2, 1, 1, 0, 3, 4, 3, 2, 1, 1,\n",
              "       3, 1, 3, 3, 3, 4, 1, 4, 2, 2, 2, 4, 1, 0, 0, 4, 0, 0, 1, 0, 4, 0,\n",
              "       4, 0, 0, 0, 2, 4, 4, 0, 1, 4, 2, 3, 0, 3, 3, 1, 3, 1, 4, 3, 3, 1,\n",
              "       0, 1, 4, 1, 3, 3, 3, 1, 3, 1, 3, 1, 4, 3, 4, 0, 1, 2, 4, 4, 2, 1,\n",
              "       4, 2, 0, 1, 4, 4, 1, 3, 4, 0, 2, 2, 4, 2, 4, 3, 0, 4, 2, 1, 2, 3,\n",
              "       1, 1, 3, 4, 3, 3, 3, 3, 3, 4, 0, 2, 1, 1, 4, 2, 0, 2, 4, 0, 1, 1,\n",
              "       4, 4, 2, 1, 1, 2, 3, 0, 3, 1])"
            ]
          },
          "metadata": {},
          "execution_count": 166
        }
      ]
    },
    {
      "cell_type": "code",
      "source": [
        "X = torch.from_numpy(new_data[0]).to(device).type(torch.float)\n",
        "y = torch.from_numpy(new_data[1]).to(device).type(torch.float)\n",
        "X, y"
      ],
      "metadata": {
        "colab": {
          "base_uri": "https://localhost:8080/"
        },
        "id": "6EDsozxiykhL",
        "outputId": "18fd1cac-e33b-45f4-8c29-01baaa1aeff8"
      },
      "execution_count": null,
      "outputs": [
        {
          "output_type": "execute_result",
          "data": {
            "text/plain": [
              "(tensor([[  3.7715,  -6.2715,  -3.7382,  ...,  -1.9777,  -2.6693,  -9.7581],\n",
              "         [ -1.6820,  11.0981,  -0.3445,  ...,   8.3711,   0.2598,   4.0220],\n",
              "         [ -0.5082,  10.9000,   7.6122,  ...,   5.1188,   1.6146,   2.2992],\n",
              "         ...,\n",
              "         [ -2.6329,  10.7013,   1.8331,  ...,  13.4618,   0.4280,   2.8340],\n",
              "         [  2.7395, -15.8104, -10.7181,  ...,  -4.3090,   0.4022,  -0.2120],\n",
              "         [ -8.5682,  10.7752,   7.7608,  ...,  -4.7211,  -0.9599,   1.3559]]),\n",
              " tensor([2., 0., 0., 3., 0., 4., 1., 3., 0., 4., 1., 0., 3., 0., 0., 1., 4., 3.,\n",
              "         3., 1., 1., 2., 2., 3., 4., 2., 4., 2., 1., 2., 0., 1., 0., 1., 3., 1.,\n",
              "         2., 0., 2., 2., 3., 0., 0., 2., 2., 2., 4., 1., 1., 4., 2., 3., 0., 4.,\n",
              "         4., 0., 0., 2., 4., 1., 0., 1., 0., 4., 3., 3., 3., 2., 1., 0., 1., 1.,\n",
              "         1., 3., 1., 4., 3., 2., 4., 3., 3., 2., 1., 0., 2., 1., 2., 3., 2., 0.,\n",
              "         4., 0., 1., 3., 0., 0., 0., 0., 1., 2., 1., 3., 1., 4., 1., 4., 3., 3.,\n",
              "         3., 4., 4., 2., 2., 0., 4., 4., 4., 0., 0., 2., 1., 1., 0., 0., 4., 4.,\n",
              "         1., 2., 4., 0., 3., 4., 4., 3., 3., 0., 2., 2., 0., 1., 3., 2., 2., 3.,\n",
              "         0., 1., 1., 0., 0., 4., 4., 0., 3., 3., 1., 4., 1., 3., 3., 4., 1., 4.,\n",
              "         4., 1., 2., 2., 1., 2., 1., 1., 4., 0., 2., 1., 3., 4., 2., 1., 3., 4.,\n",
              "         0., 3., 2., 3., 1., 3., 4., 3., 2., 0., 0., 4., 4., 4., 3., 4., 3., 1.,\n",
              "         2., 0., 2., 2., 0., 1., 1., 0., 1., 0., 2., 4., 1., 3., 2., 2., 3., 1.,\n",
              "         2., 3., 2., 1., 0., 3., 2., 3., 3., 3., 1., 3., 2., 4., 3., 0., 1., 4.,\n",
              "         1., 1., 2., 4., 2., 1., 2., 4., 0., 4., 4., 3., 0., 4., 3., 4., 1., 1.,\n",
              "         2., 3., 2., 4., 1., 4., 1., 0., 4., 3., 3., 4., 0., 0., 2., 2., 2., 2.,\n",
              "         4., 4., 2., 1., 2., 1., 1., 1., 3., 1., 2., 2., 2., 2., 4., 1., 3., 2.,\n",
              "         3., 3., 2., 3., 0., 1., 0., 2., 3., 4., 0., 3., 4., 1., 0., 2., 0., 4.,\n",
              "         0., 0., 2., 0., 1., 1., 4., 4., 0., 0., 4., 2., 4., 1., 1., 1., 3., 0.,\n",
              "         0., 2., 1., 4., 4., 1., 4., 3., 4., 1., 1., 0., 4., 1., 4., 2., 2., 4.,\n",
              "         2., 3., 3., 2., 2., 2., 0., 0., 4., 0., 4., 3., 2., 1., 4., 0., 0., 3.,\n",
              "         1., 3., 4., 3., 4., 0., 1., 2., 1., 3., 3., 2., 2., 1., 3., 1., 3., 0.,\n",
              "         3., 1., 1., 3., 3., 2., 1., 0., 0., 3., 3., 2., 0., 0., 1., 1., 3., 1.,\n",
              "         3., 1., 4., 0., 1., 3., 1., 0., 4., 2., 2., 1., 2., 3., 3., 0., 2., 1.,\n",
              "         0., 4., 2., 3., 3., 0., 3., 2., 1., 0., 2., 4., 0., 4., 3., 2., 2., 2.,\n",
              "         4., 2., 4., 2., 3., 0., 0., 3., 2., 2., 0., 0., 1., 4., 1., 1., 4., 0.,\n",
              "         4., 4., 4., 3., 4., 0., 4., 4., 3., 3., 4., 3., 4., 4., 2., 2., 3., 3.,\n",
              "         3., 2., 2., 2., 3., 3., 2., 0., 0., 4., 2., 2., 4., 2., 1., 1., 0., 4.,\n",
              "         2., 3., 1., 1., 1., 2., 2., 4., 4., 0., 4., 1., 1., 4., 0., 4., 2., 3.,\n",
              "         3., 4., 3., 0., 0., 2., 3., 0., 0., 2., 4., 4., 3., 4., 1., 4., 1., 0.,\n",
              "         2., 2., 3., 2., 4., 2., 4., 2., 1., 1., 4., 0., 0., 1., 4., 1., 3., 3.,\n",
              "         0., 2., 0., 0., 1., 3., 1., 1., 4., 0., 0., 0., 4., 2., 0., 1., 2., 1.,\n",
              "         4., 3., 3., 0., 1., 0., 2., 2., 4., 3., 4., 2., 0., 0., 3., 4., 0., 3.,\n",
              "         0., 1., 4., 0., 3., 1., 2., 1., 2., 3., 4., 4., 0., 3., 0., 1., 4., 3.,\n",
              "         3., 0., 1., 4., 1., 4., 2., 4., 0., 2., 4., 0., 3., 3., 0., 2., 0., 4.,\n",
              "         3., 2., 4., 3., 4., 2., 1., 2., 2., 0., 4., 3., 1., 0., 3., 2., 1., 0.,\n",
              "         1., 2., 3., 3., 4., 0., 3., 4., 2., 2., 0., 2., 1., 2., 3., 2., 0., 2.,\n",
              "         1., 0., 0., 2., 0., 0., 0., 0., 2., 0., 4., 0., 3., 0., 0., 2., 1., 3.,\n",
              "         2., 3., 3., 0., 1., 2., 3., 1., 2., 2., 3., 3., 4., 1., 0., 1., 4., 3.,\n",
              "         4., 2., 1., 3., 3., 4., 1., 4., 4., 4., 4., 2., 1., 2., 4., 1., 4., 3.,\n",
              "         3., 2., 1., 2., 3., 2., 0., 1., 0., 2., 4., 2., 1., 4., 4., 1., 3., 0.,\n",
              "         2., 1., 0., 1., 4., 4., 0., 3., 2., 0., 1., 2., 1., 1., 1., 2., 4., 3.,\n",
              "         3., 0., 4., 2., 1., 4., 2., 1., 0., 3., 4., 2., 2., 3., 2., 1., 4., 0.,\n",
              "         2., 3., 2., 2., 2., 0., 1., 1., 2., 0., 1., 3., 0., 2., 4., 4., 0., 0.,\n",
              "         3., 0., 0., 0., 0., 4., 2., 3., 3., 4., 0., 4., 2., 3., 0., 3., 1., 0.,\n",
              "         0., 2., 3., 4., 3., 2., 3., 2., 0., 4., 2., 4., 1., 3., 3., 0., 4., 4.,\n",
              "         3., 0., 4., 0., 4., 1., 1., 4., 4., 2., 1., 1., 1., 0., 1., 3., 3., 2.,\n",
              "         0., 2., 3., 0., 3., 1., 0., 0., 0., 0., 1., 1., 1., 3., 0., 3., 3., 4.,\n",
              "         0., 4., 1., 3., 0., 3., 1., 3., 3., 2., 0., 4., 2., 0., 1., 1., 4., 3.,\n",
              "         4., 2., 4., 1., 2., 0., 2., 1., 1., 0., 3., 4., 3., 2., 1., 1., 3., 1.,\n",
              "         3., 3., 3., 4., 1., 4., 2., 2., 2., 4., 1., 0., 0., 4., 0., 0., 1., 0.,\n",
              "         4., 0., 4., 0., 0., 0., 2., 4., 4., 0., 1., 4., 2., 3., 0., 3., 3., 1.,\n",
              "         3., 1., 4., 3., 3., 1., 0., 1., 4., 1., 3., 3., 3., 1., 3., 1., 3., 1.,\n",
              "         4., 3., 4., 0., 1., 2., 4., 4., 2., 1., 4., 2., 0., 1., 4., 4., 1., 3.,\n",
              "         4., 0., 2., 2., 4., 2., 4., 3., 0., 4., 2., 1., 2., 3., 1., 1., 3., 4.,\n",
              "         3., 3., 3., 3., 3., 4., 0., 2., 1., 1., 4., 2., 0., 2., 4., 0., 1., 1.,\n",
              "         4., 4., 2., 1., 1., 2., 3., 0., 3., 1.]))"
            ]
          },
          "metadata": {},
          "execution_count": 167
        }
      ]
    },
    {
      "cell_type": "code",
      "source": [
        "X.shape, y.shape"
      ],
      "metadata": {
        "colab": {
          "base_uri": "https://localhost:8080/"
        },
        "id": "9ZeGogXCy6Gh",
        "outputId": "08faced2-02aa-452b-e292-d18512e39432"
      },
      "execution_count": null,
      "outputs": [
        {
          "output_type": "execute_result",
          "data": {
            "text/plain": [
              "(torch.Size([1000, 10]), torch.Size([1000]))"
            ]
          },
          "metadata": {},
          "execution_count": 168
        }
      ]
    },
    {
      "cell_type": "code",
      "source": [
        "X_train, X_test, y_train, y_test = sklearn.model_selection.train_test_split(X, y, test_size=0.2, random_state=42)\n",
        "X_train.shape, X_test.shape, y_train.shape, y_test.shape"
      ],
      "metadata": {
        "colab": {
          "base_uri": "https://localhost:8080/"
        },
        "id": "o6PxERn-y8Wg",
        "outputId": "3ff36b3e-d266-4bcb-8cf6-793bc073d530"
      },
      "execution_count": null,
      "outputs": [
        {
          "output_type": "execute_result",
          "data": {
            "text/plain": [
              "(torch.Size([800, 10]),\n",
              " torch.Size([200, 10]),\n",
              " torch.Size([800]),\n",
              " torch.Size([200]))"
            ]
          },
          "metadata": {},
          "execution_count": 169
        }
      ]
    },
    {
      "cell_type": "code",
      "source": [
        "class MultiClassifier(nn.Module):\n",
        "  def __init__(self, input_features=10, output_features=5, hidden_units=20):\n",
        "    super().__init__()\n",
        "    self.sequential = nn.Sequential(\n",
        "        nn.Linear(in_features=input_features, out_features=hidden_units),\n",
        "        nn.ReLU(),\n",
        "        nn.Linear(in_features=hidden_units, out_features=hidden_units),\n",
        "        nn.ReLU(),\n",
        "        nn.Linear(in_features=hidden_units, out_features=output_features)\n",
        "    )\n",
        "\n",
        "  def forward(self, x):\n",
        "    return self.sequential(x)\n",
        "\n",
        "multi_class_model = MultiClassifier().to(device)\n",
        "multi_class_model"
      ],
      "metadata": {
        "colab": {
          "base_uri": "https://localhost:8080/"
        },
        "id": "TzIz0eBdzUyc",
        "outputId": "50a7a6a1-abac-47bf-deae-18267c0c8ae5"
      },
      "execution_count": null,
      "outputs": [
        {
          "output_type": "execute_result",
          "data": {
            "text/plain": [
              "MultiClassifier(\n",
              "  (sequential): Sequential(\n",
              "    (0): Linear(in_features=10, out_features=20, bias=True)\n",
              "    (1): ReLU()\n",
              "    (2): Linear(in_features=20, out_features=20, bias=True)\n",
              "    (3): ReLU()\n",
              "    (4): Linear(in_features=20, out_features=5, bias=True)\n",
              "  )\n",
              ")"
            ]
          },
          "metadata": {},
          "execution_count": 189
        }
      ]
    },
    {
      "cell_type": "code",
      "source": [
        "loss_fn = nn.CrossEntropyLoss()\n",
        "optimiser = torch.optim.Adam(params=multi_class_model.parameters(), lr=0.02)"
      ],
      "metadata": {
        "id": "K4r195lk1aHC"
      },
      "execution_count": null,
      "outputs": []
    },
    {
      "cell_type": "code",
      "source": [
        "epochs = 100\n",
        "accuracy_values=[]\n",
        "train_loss_values=[]\n",
        "test_loss_values=[]\n",
        "epoch_count=[]\n",
        "\n",
        "for epoch in range(epochs):\n",
        "  multi_class_model.train()\n",
        "\n",
        "  y_logits = multi_class_model(X_train)\n",
        "  y_preds = torch.softmax(y_logits, dim=1).argmax(dim=1)\n",
        "\n",
        "  loss = loss_fn(y_logits, y_train.type(torch.long))\n",
        "  train_acc = accuracy_fn(y_true=y_train, y_pred=y_preds)\n",
        "\n",
        "  optimiser.zero_grad()\n",
        "  loss.backward()\n",
        "  optimiser.step()\n",
        "\n",
        "  if epoch%10 == 0:\n",
        "    model.eval()\n",
        "    accuracy_values.append(train_acc)\n",
        "    epoch_count.append(epoch)\n",
        "    with torch.inference_mode():\n",
        "      test_logits = multi_class_model(X_test)\n",
        "      test_preds = torch.softmax(test_logits, dim=1).argmax(dim=1)\n",
        "\n",
        "      test_loss = loss_fn(test_logits, y_test.type(torch.long))\n",
        "      test_acc = accuracy_fn(y_test, test_preds)\n",
        "\n",
        "      train_loss_values.append(loss.item())\n",
        "      test_loss_values.append(test_loss.item())\n",
        "\n",
        "      print(f'Epoch: {epoch} | Train Loss: {loss:.5f} | Test Loss: {test_loss:.5f}| Train Acc: {train_acc:.2f}% | Test Acc: {test_acc:.2f}%')"
      ],
      "metadata": {
        "colab": {
          "base_uri": "https://localhost:8080/"
        },
        "id": "IdEsiyCnzfFn",
        "outputId": "52dd3a19-8f70-4638-88ee-b7720c033152"
      },
      "execution_count": null,
      "outputs": [
        {
          "output_type": "stream",
          "name": "stdout",
          "text": [
            "Epoch: 0 | Train Loss: 1.60830 | Test Loss: 1.16133| Train Acc: 40.88% | Test Acc: 58.50%\n",
            "Epoch: 10 | Train Loss: 0.00471 | Test Loss: 0.00436| Train Acc: 99.88% | Test Acc: 100.00%\n",
            "Epoch: 20 | Train Loss: 0.00006 | Test Loss: 0.01154| Train Acc: 100.00% | Test Acc: 99.50%\n",
            "Epoch: 30 | Train Loss: 0.00001 | Test Loss: 0.00882| Train Acc: 100.00% | Test Acc: 99.50%\n",
            "Epoch: 40 | Train Loss: 0.00001 | Test Loss: 0.00687| Train Acc: 100.00% | Test Acc: 99.50%\n",
            "Epoch: 50 | Train Loss: 0.00001 | Test Loss: 0.00578| Train Acc: 100.00% | Test Acc: 99.50%\n",
            "Epoch: 60 | Train Loss: 0.00001 | Test Loss: 0.00509| Train Acc: 100.00% | Test Acc: 99.50%\n",
            "Epoch: 70 | Train Loss: 0.00000 | Test Loss: 0.00459| Train Acc: 100.00% | Test Acc: 99.50%\n",
            "Epoch: 80 | Train Loss: 0.00000 | Test Loss: 0.00420| Train Acc: 100.00% | Test Acc: 99.50%\n",
            "Epoch: 90 | Train Loss: 0.00000 | Test Loss: 0.00388| Train Acc: 100.00% | Test Acc: 99.50%\n"
          ]
        }
      ]
    },
    {
      "cell_type": "code",
      "source": [
        "    model.eval()\n",
        "    with torch.inference_mode():\n",
        "      test_logits = multi_class_model(X_test)\n",
        "      test_probs = torch.softmax(test_logits, dim=1)\n",
        "      print(f'Test Logits: {test_logits[:5]}')\n",
        "      print(f'Test Probs: {test_probs[:5]}')\n",
        "\n",
        "\n",
        "      y_preds = torch.argmax(test_probs, dim=1)\n",
        "      print(f'Test Preds: {y_preds[:5]}')\n",
        "      print(f'Test Labels: {y_test[:5]}')\n",
        "      print(f'Test Classification Report\\n {sklearn.metrics.classification_report(y_test.cpu(), y_preds.cpu())}')\n"
      ],
      "metadata": {
        "colab": {
          "base_uri": "https://localhost:8080/"
        },
        "id": "8PNM0DVvAnaI",
        "outputId": "5e1852d0-d92e-45ee-e497-cf71abd12c11"
      },
      "execution_count": null,
      "outputs": [
        {
          "output_type": "stream",
          "name": "stdout",
          "text": [
            "Test Logits: tensor([[ 22.1277, -17.2828, -22.9705, -18.3301,  -9.4949],\n",
            "        [-24.1815, -31.5277, -13.3829,  23.8838,  -8.2617],\n",
            "        [ -7.7687, -18.6042, -16.6245, -11.0714,  20.1655],\n",
            "        [-22.7473, -28.9293, -13.1352,  24.5130,  -9.1724],\n",
            "        [ 16.9503, -12.6239, -18.1697, -15.3838,  -7.3107]])\n",
            "Test Probs: tensor([[1.0000e+00, 7.6606e-18, 2.5949e-20, 2.6878e-18, 1.8471e-14],\n",
            "        [1.3351e-21, 8.6112e-25, 6.5355e-17, 1.0000e+00, 1.0949e-14],\n",
            "        [7.3846e-13, 1.4539e-17, 1.0528e-16, 2.7163e-14, 1.0000e+00],\n",
            "        [2.9859e-21, 6.1699e-24, 4.4623e-17, 1.0000e+00, 2.3475e-15],\n",
            "        [1.0000e+00, 1.4325e-13, 5.5920e-16, 9.0667e-15, 2.9079e-11]])\n",
            "Test Preds: tensor([0, 3, 4, 3, 0])\n",
            "Test Labels: tensor([0., 3., 4., 3., 0.])\n",
            "Test Classification Report\n",
            "               precision    recall  f1-score   support\n",
            "\n",
            "         0.0       1.00      1.00      1.00        45\n",
            "         1.0       1.00      1.00      1.00        32\n",
            "         2.0       1.00      1.00      1.00        43\n",
            "         3.0       1.00      0.97      0.99        38\n",
            "         4.0       0.98      1.00      0.99        42\n",
            "\n",
            "    accuracy                           0.99       200\n",
            "   macro avg       1.00      0.99      0.99       200\n",
            "weighted avg       1.00      0.99      0.99       200\n",
            "\n"
          ]
        }
      ]
    },
    {
      "cell_type": "code",
      "source": [
        "plt.plot(epoch_count, train_loss_values, label='Train loss')\n",
        "plt.plot(epoch_count, test_loss_values, label='Test loss')\n",
        "plt.legend()\n",
        "plt.show()"
      ],
      "metadata": {
        "colab": {
          "base_uri": "https://localhost:8080/",
          "height": 430
        },
        "id": "VRYhim7Fi_8Z",
        "outputId": "0ad05d03-3e4e-479b-baf0-3c6367174370"
      },
      "execution_count": null,
      "outputs": [
        {
          "output_type": "display_data",
          "data": {
            "text/plain": [
              "<Figure size 640x480 with 1 Axes>"
            ],
            "image/png": "[encoded data removed]"
          },
          "metadata": {}
        }
      ]
    },
    {
      "cell_type": "code",
      "source": [
        "# !pip install torchmetrics\n",
        "import torchmetrics"
      ],
      "metadata": {
        "id": "P6Rb5CRl5Ldf"
      },
      "execution_count": null,
      "outputs": []
    },
    {
      "cell_type": "code",
      "source": [
        "accuracy = torchmetrics.Accuracy(task=\"multiclass\", num_classes=5)\n",
        "accuracy(y_preds, y_test)"
      ],
      "metadata": {
        "colab": {
          "base_uri": "https://localhost:8080/"
        },
        "id": "NZnAJPhK5NQl",
        "outputId": "06c0e8e5-1765-4f8f-c178-ba7892cdd89f"
      },
      "execution_count": null,
      "outputs": [
        {
          "output_type": "execute_result",
          "data": {
            "text/plain": [
              "tensor(0.9950)"
            ]
          },
          "metadata": {},
          "execution_count": 206
        }
      ]
    },
    {
      "cell_type": "code",
      "source": [
        "y_preds.shape, y_test.shape"
      ],
      "metadata": {
        "colab": {
          "base_uri": "https://localhost:8080/"
        },
        "id": "Ie9HEv025i_p",
        "outputId": "3a9e7101-5817-48ab-933a-2f41a19b4a81"
      },
      "execution_count": null,
      "outputs": [
        {
          "output_type": "execute_result",
          "data": {
            "text/plain": [
              "(torch.Size([200]), torch.Size([200]))"
            ]
          },
          "metadata": {},
          "execution_count": 204
        }
      ]
    },
    {
      "cell_type": "code",
      "source": [
        "loss"
      ],
      "metadata": {
        "colab": {
          "base_uri": "https://localhost:8080/"
        },
        "id": "KohRp_tz5sfg",
        "outputId": "525437e9-7689-4221-a981-85eb05d1871d"
      },
      "execution_count": null,
      "outputs": [
        {
          "output_type": "execute_result",
          "data": {
            "text/plain": [
              "tensor(2.6962e-06, grad_fn=<NllLossBackward0>)"
            ]
          },
          "metadata": {},
          "execution_count": 207
        }
      ]
    },
    {
      "cell_type": "code",
      "source": [],
      "metadata": {
        "id": "wnMqM6VR6zXb"
      },
      "execution_count": null,
      "outputs": []
    }
  ]
}